{
 "cells": [
  {
   "cell_type": "code",
   "execution_count": 1,
   "metadata": {
    "collapsed": false
   },
   "outputs": [
    {
     "data": {
      "text/plain": [
       "Fib (generic function with 1 method)"
      ]
     },
     "execution_count": 1,
     "metadata": {},
     "output_type": "execute_result"
    }
   ],
   "source": [
    "#= n - number of months, k - number so rabbits each pair produces.\n",
    "If we start with 1 pair of rabbits and they produce k rabbits pairs\n",
    "once every month, how many rabbits will there be in n months?\n",
    "\n",
    "Test\n",
    "n = 5\n",
    "k = 3\n",
    "ans = 19\n",
    "\n",
    "#This can be expressed as Fₙ = Fₙ-₁ + Fₙ-₂\n",
    "\n",
    "function Fib(n)\n",
    "  if n == 0 ;return 0\n",
    "  elseif  n == 1 ;return 1\n",
    "  else ;return Fib(n-1) + Fib(n-2)\n",
    "  end\n",
    "end\n"
   ]
  },
  {
   "cell_type": "code",
   "execution_count": 184,
   "metadata": {
    "collapsed": false
   },
   "outputs": [
    {
     "name": "stderr",
     "output_type": "stream",
     "text": [
      "WARNING: Method definition Fib(Any, Any) in module Main at In[183]:3 overwritten at In[184]:3.\n"
     ]
    },
    {
     "data": {
      "text/plain": [
       "Fib (generic function with 2 methods)"
      ]
     },
     "execution_count": 184,
     "metadata": {},
     "output_type": "execute_result"
    }
   ],
   "source": [
    "#Using looping technique\n",
    "function Fib(n,k)\n",
    " a,b = 1,1\n",
    " for i in 1:n-1\n",
    "        a,b = b,(k*a)+b\n",
    "    end\n",
    " return a\n",
    "end\n"
   ]
  },
  {
   "cell_type": "code",
   "execution_count": 185,
   "metadata": {
    "collapsed": false
   },
   "outputs": [
    {
     "data": {
      "text/plain": [
       "178956971"
      ]
     },
     "execution_count": 185,
     "metadata": {},
     "output_type": "execute_result"
    }
   ],
   "source": [
    "s = readstring(\"/home/dom/Julia/Rosalind/Files/rosalind_fib.txt\")\n",
    "s = strip(s)\n",
    "s = split(s, \" \")\n",
    "s = map( x -> parse(Int,x),s)\n",
    "\n",
    "Fib(s[1],s[2])"
   ]
  },
  {
   "cell_type": "code",
   "execution_count": 75,
   "metadata": {
    "collapsed": false
   },
   "outputs": [
    {
     "ename": "LoadError",
     "evalue": "syntax: extra token \"a\" after end of expression",
     "output_type": "error",
     "traceback": [
      "syntax: extra token \"a\" after end of expression",
      ""
     ]
    }
   ],
   "source": []
  }
 ],
 "metadata": {
  "anaconda-cloud": {},
  "kernelspec": {
   "display_name": "Julia 0.5.0",
   "language": "julia",
   "name": "julia-0.5"
  },
  "language_info": {
   "file_extension": ".jl",
   "mimetype": "application/julia",
   "name": "julia",
   "version": "0.5.0"
  }
 },
 "nbformat": 4,
 "nbformat_minor": 1
}
