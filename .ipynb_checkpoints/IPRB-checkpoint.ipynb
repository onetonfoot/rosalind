{
 "cells": [
  {
   "cell_type": "code",
   "execution_count": 79,
   "metadata": {
    "collapsed": false
   },
   "outputs": [
    {
     "data": {
      "text/plain": [
       "65"
      ]
     },
     "execution_count": 79,
     "metadata": {},
     "output_type": "execute_result"
    }
   ],
   "source": [
    "# k is homozygous dominant, m are heterozygous, and n are homozygous recessive.\n",
    "#Seems to work with the test data lets make a \n",
    "f = readstring(\"/home/dom/Julia/Rosalind/Files/rosalind_iprb.txt\")\n",
    "f = replace(f,'\\n',\"\")\n",
    "f = split(f,\" \")\n",
    "k,m,n = parse(Int,f[1]),parse(Int,f[2]),parse(Int,f[3])\n",
    "pop_size = sum(k+n+m)\n",
    "\n",
    "#The probability that two randomly selected mating organisms will produce an individual possessing a \n",
    "# dominant allele(and thus displaying the dominant phenotype). Assume that any two organisms can mate."
   ]
  },
  {
   "cell_type": "code",
   "execution_count": 80,
   "metadata": {
    "collapsed": false
   },
   "outputs": [
    {
     "data": {
      "text/plain": [
       "0.14423076923076922"
      ]
     },
     "execution_count": 80,
     "metadata": {},
     "output_type": "execute_result"
    }
   ],
   "source": [
    "#First lets say calculate the chance of the various mating combs that could be recesive\n",
    "nn = (n*(n-1))/(pop_size*(pop_size-1))\n",
    "nm = (n*m)/(pop_size*(pop_size-1))\n",
    "mn = (m*n)/(pop_size*(pop_size-1))\n",
    "mm = (m*(m-1))/(pop_size*(pop_size-1))"
   ]
  },
  {
   "cell_type": "code",
   "execution_count": 52,
   "metadata": {
    "collapsed": false
   },
   "outputs": [
    {
     "name": "stdout",
     "output_type": "stream",
     "text": [
      "2×2 DataFrames.DataFrame\n",
      "│ Row │ A    │ B    │\n",
      "├─────┼──────┼──────┤\n",
      "│ 1   │ \"Aa\" │ \"aa\" │\n",
      "│ 2   │ \"Aa\" │ \"aa\" │\n",
      "2×2 DataFrames.DataFrame\n",
      "│ Row │ A    │ B    │\n",
      "├─────┼──────┼──────┤\n",
      "│ 1   │ \"AA\" │ \"Aa\" │\n",
      "│ 2   │ \"Aa\" │ \"aa\" │"
     ]
    }
   ],
   "source": [
    "#Next lets calculate the probability a given mating comb will produce a recessive pheno type\n",
    "# for nn it's easy that will always be 1, but mm and nm are differnt \n",
    "using DataFrames\n",
    "homoAndhet = DataFrame(A = [\"Aa\",\"Aa\"],B =[\"aa\",\"aa\"]) \n",
    "homoAndhomo = DataFrame(A = [\"AA\",\"Aa\"],B= [\"Aa\",\"aa\"])\n",
    "print(homoAndhet ,\"\\n\", homoAndhomo)"
   ]
  },
  {
   "cell_type": "code",
   "execution_count": 81,
   "metadata": {
    "collapsed": false
   },
   "outputs": [
    {
     "data": {
      "text/plain": [
       "0.669471153846154"
      ]
     },
     "execution_count": 81,
     "metadata": {},
     "output_type": "execute_result"
    }
   ],
   "source": [
    "#As shown buy this rather sloppy punnet square the chance with homo and het is 1/2 and the chance with\n",
    "#homo and homo is 1/4.\n",
    "1 - (nn + (nm * 0.5) + (mn*0.5) + (mm*0.25))"
   ]
  },
  {
   "cell_type": "code",
   "execution_count": 78,
   "metadata": {
    "collapsed": false
   },
   "outputs": [
    {
     "data": {
      "text/plain": [
       "(2,2,2)"
      ]
     },
     "execution_count": 78,
     "metadata": {},
     "output_type": "execute_result"
    }
   ],
   "source": []
  }
 ],
 "metadata": {
  "anaconda-cloud": {},
  "kernelspec": {
   "display_name": "Julia 0.5.0",
   "language": "julia",
   "name": "julia-0.5"
  },
  "language_info": {
   "file_extension": ".jl",
   "mimetype": "application/julia",
   "name": "julia",
   "version": "0.5.0"
  }
 },
 "nbformat": 4,
 "nbformat_minor": 1
}
