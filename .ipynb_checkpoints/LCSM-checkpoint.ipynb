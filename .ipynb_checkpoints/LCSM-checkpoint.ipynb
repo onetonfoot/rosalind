{
 "cells": [
  {
   "cell_type": "code",
   "execution_count": null,
   "metadata": {
    "collapsed": true
   },
   "outputs": [],
   "source": [
    "dp[i, j, k] = 1 + dp[i - 1, j - 1, k - 1] if A[i] = B[j] = C[k]\n",
    "              max(dp[i - 1, j, k], dp[i, j - 1, k], dp[i, j, k - 1]) otherwise"
   ]
  },
  {
   "cell_type": "code",
   "execution_count": 2,
   "metadata": {
    "collapsed": false
   },
   "outputs": [],
   "source": [
    "#lets say we have 3 strigns i , j and k \n",
    "using Bio.Seq\n",
    "reader = open(FASTAReader,\"/home/dom/Julia/Rosalind/Files/Test\")\n",
    "seq_list = []\n",
    "for record in reader\n",
    "    push!(seq_list,sequence(record))\n",
    "end"
   ]
  },
  {
   "cell_type": "code",
   "execution_count": 26,
   "metadata": {
    "collapsed": false
   },
   "outputs": [
    {
     "data": {
      "text/plain": [
       "5-element Array{Char,1}:\n",
       " 'A'\n",
       " 'T'\n",
       " 'A'\n",
       " 'C'\n",
       " 'A'"
      ]
     },
     "execution_count": 26,
     "metadata": {},
     "output_type": "execute_result"
    }
   ],
   "source": [
    "char_array = []\n",
    "for i in 1:length(seq_list)\n",
    "    s = convert(String,seq_list[i])\n",
    "    push!(char_array,collect(s))\n",
    "end\n",
    "\n",
    "char_array[3]"
   ]
  },
  {
   "cell_type": "code",
   "execution_count": 40,
   "metadata": {
    "collapsed": false
   },
   "outputs": [
    {
     "name": "stdout",
     "output_type": "stream",
     "text": [
      "12345234534545523453454553454554555"
     ]
    }
   ],
   "source": [
    "#Created a cube which has sides the length of my strings\n",
    "zeros(Int,length(char_array[1]),length(char_array[2]),length(char_array[3]))\n",
    "\n",
    "# for a list of x strings the number of ways they could possible over lap is (x)(x-1)\n",
    "list = [\"A\",\"B\",\"C\",\"D\",\"E\"]\n",
    "for i in 1:length(char_array[1])\n",
    "    for j in i:length(char_array[2])\n",
    "        for k in j:length(char_array[3])\n",
    "            print(k)\n",
    "        end\n",
    "    end\n",
    "end\n",
    "#Hence this code outpu"
   ]
  },
  {
   "cell_type": "code",
   "execution_count": 44,
   "metadata": {
    "collapsed": false
   },
   "outputs": [
    {
     "ename": "LoadError",
     "evalue": "MethodError: no method matching isless(::Array{Char,1}, ::Array{Char,1})",
     "output_type": "error",
     "traceback": [
      "MethodError: no method matching isless(::Array{Char,1}, ::Array{Char,1})",
      "",
      " in sort!(::Array{Any,1}, ::Int64, ::Int64, ::Base.Sort.InsertionSortAlg, ::Base.Order.ForwardOrdering) at ./sort.jl:222",
      " in sort!(::Array{Any,1}, ::Int64, ::Int64, ::Base.Sort.MergeSortAlg, ::Base.Order.ForwardOrdering, ::Array{Any,1}) at ./sort.jl:311",
      " in sort!(::Array{Any,1}, ::Base.Sort.MergeSortAlg, ::Base.Order.ForwardOrdering) at ./sort.jl:405",
      " in #sort#8(::Array{Any,1}, ::Function, ::Array{Any,1}) at ./sort.jl:417",
      " in sort(::Array{Any,1}) at ./sort.jl:417"
     ]
    }
   ],
   "source": [
    "length(char_array[3])\n"
   ]
  }
 ],
 "metadata": {
  "anaconda-cloud": {},
  "kernelspec": {
   "display_name": "Julia 0.5.0",
   "language": "julia",
   "name": "julia-0.5"
  },
  "language_info": {
   "file_extension": ".jl",
   "mimetype": "application/julia",
   "name": "julia",
   "version": "0.5.0"
  }
 },
 "nbformat": 4,
 "nbformat_minor": 1
}
