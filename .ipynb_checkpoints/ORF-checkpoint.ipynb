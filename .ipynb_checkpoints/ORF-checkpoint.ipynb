{
 "cells": [
  {
   "cell_type": "markdown",
   "metadata": {},
   "source": [
    "Find all the caindiate open reading frame in a protein an return the proteins they would create.\n"
   ]
  },
  {
   "cell_type": "code",
   "execution_count": 1,
   "metadata": {
    "collapsed": true
   },
   "outputs": [],
   "source": [
    "using Bio.Seq"
   ]
  },
  {
   "cell_type": "code",
   "execution_count": 14,
   "metadata": {
    "collapsed": false
   },
   "outputs": [
    {
     "data": {
      "text/plain": [
       "96nt RNA Sequence:\n",
       "CUGAGAUGCUACUCGGAUCAUUCAGGCUUAUUCCAAAAG…CGGGGUCAUCCCCAUGUAACCUGAGUUAGCUACAUGGCU"
      ]
     },
     "execution_count": 14,
     "metadata": {},
     "output_type": "execute_result"
    }
   ],
   "source": [
    "reader = open(FASTAReader,\"/home/dom/Julia/Rosalind/Files/Test\")\n",
    "record  = first(reader)\n",
    "dna_seq = sequence(record)\n",
    "rna_seq = convert(RNASequence,dna_seq)\n",
    "rev_rna_seq = convert(RNASequence,reverse_complement(dna_seq))"
   ]
  },
  {
   "cell_type": "code",
   "execution_count": 15,
   "metadata": {
    "collapsed": false
   },
   "outputs": [
    {
     "data": {
      "text/plain": [
       "32aa Amino Acid Sequence:\n",
       "SHVANSGYMGMTPRLGLESLLE*A*MIRVASQ"
      ]
     },
     "execution_count": 15,
     "metadata": {},
     "output_type": "execute_result"
    }
   ],
   "source": [
    "translate(rna_seq)"
   ]
  },
  {
   "cell_type": "markdown",
   "metadata": {},
   "source": [
    "The start codon is ATG or AUG in RNA. There a 3 stop codons which in RNA are UAG, UGA, and UAA. Note that since the DNA can be read in both direction we should check to see what the reverse complment produces also."
   ]
  },
  {
   "cell_type": "code",
   "execution_count": 16,
   "metadata": {
    "collapsed": false
   },
   "outputs": [
    {
     "data": {
      "text/plain": [
       "32aa Amino Acid Sequence:\n",
       "LRCYSDHSGLFQKRL*SKSRGHPHVT*VSYMA"
      ]
     },
     "execution_count": 16,
     "metadata": {},
     "output_type": "execute_result"
    }
   ],
   "source": [
    "translate(rev_rna_seq)"
   ]
  },
  {
   "cell_type": "code",
   "execution_count": null,
   "metadata": {
    "collapsed": true
   },
   "outputs": [],
   "source": [
    "translate(rna_seq, code=standard_genetic_code, allow_ambiguous_codons=true)"
   ]
  }
 ],
 "metadata": {
  "kernelspec": {
   "display_name": "Julia 0.5.0",
   "language": "julia",
   "name": "julia-0.5"
  },
  "language_info": {
   "file_extension": ".jl",
   "mimetype": "application/julia",
   "name": "julia",
   "version": "0.5.0"
  }
 },
 "nbformat": 4,
 "nbformat_minor": 1
}
