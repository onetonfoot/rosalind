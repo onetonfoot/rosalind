{
 "cells": [
  {
   "cell_type": "code",
   "execution_count": 100,
   "metadata": {
    "collapsed": false
   },
   "outputs": [
    {
     "data": {
      "text/html": [
       "5040"
      ],
      "text/plain": [
       "5040"
      ]
     },
     "execution_count": 100,
     "metadata": {},
     "output_type": "execute_result"
    }
   ],
   "source": [
    "using Combinatorics\n",
    "\n",
    "array = Array(1:7)\n",
    "\n",
    "collect(permutations(array))\n",
    "\n",
    "#For a list of length 7 their are 5040 total permutations or ways to arrange the list\n",
    "7*6*5*4*3*2*1"
   ]
  },
  {
   "cell_type": "code",
   "execution_count": 135,
   "metadata": {
    "collapsed": false
   },
   "outputs": [
    {
     "data": {
      "text/plain": [
       "Int64"
      ]
     },
     "execution_count": 135,
     "metadata": {},
     "output_type": "execute_result"
    }
   ],
   "source": [
    "number = readline(\"/home/dom/Julia/Rosalind/Files/rosalind_perm.txt\")\n",
    "number = strip(number)\n",
    "number = parse(number)\n",
    "typeof(number)"
   ]
  },
  {
   "cell_type": "code",
   "execution_count": 139,
   "metadata": {
    "collapsed": false
   },
   "outputs": [
    {
     "name": "stdout",
     "output_type": "stream",
     "text": [
      "720"
     ]
    }
   ],
   "source": [
    "perms = collect(permutations(Array(1:number)))\n",
    "n = length(perms)\n",
    "n = dec(n)\n",
    "perms = [join(i,\" \") for i in perms]\n",
    "perms = join(perms,\"\\n\")\n",
    "print(n)"
   ]
  },
  {
   "cell_type": "code",
   "execution_count": 137,
   "metadata": {
    "collapsed": false
   },
   "outputs": [
    {
     "data": {
      "text/html": [
       "8643"
      ],
      "text/plain": [
       "8643"
      ]
     },
     "execution_count": 137,
     "metadata": {},
     "output_type": "execute_result"
    }
   ],
   "source": [
    "output = n*\"\\n\"*perms\n",
    "write(\"/home/dom/Julia/Rosalind/Files/output.txt\", output)"
   ]
  }
 ],
 "metadata": {
  "kernelspec": {
   "display_name": "Julia 0.5.0",
   "language": "julia",
   "name": "julia-0.5"
  },
  "language_info": {
   "file_extension": ".jl",
   "mimetype": "application/julia",
   "name": "julia",
   "version": "0.5.0"
  }
 },
 "nbformat": 4,
 "nbformat_minor": 1
}
