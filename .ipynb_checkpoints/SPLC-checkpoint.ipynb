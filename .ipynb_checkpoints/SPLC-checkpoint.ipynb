{
 "cells": [
  {
   "cell_type": "code",
   "execution_count": 1,
   "metadata": {
    "collapsed": true
   },
   "outputs": [],
   "source": [
    "using Bio.Seq"
   ]
  },
  {
   "cell_type": "code",
   "execution_count": 123,
   "metadata": {
    "collapsed": false
   },
   "outputs": [],
   "source": [
    "reader = open(FASTAReader,\"/home/dom/Julia/Rosalind/Files/rosalind_splc.txt\")\n",
    "sequence_list = [convert(String,sequence(record)) for record in reader]\n",
    "close(reader)"
   ]
  },
  {
   "cell_type": "code",
   "execution_count": 115,
   "metadata": {
    "collapsed": false
   },
   "outputs": [
    {
     "name": "stderr",
     "output_type": "stream",
     "text": [
      "WARNING: Method definition remove_introns(Any) in module Main at In[90]:3 overwritten at In[115]:3.\n"
     ]
    },
    {
     "data": {
      "text/plain": [
       "remove_introns (generic function with 1 method)"
      ]
     },
     "execution_count": 115,
     "metadata": {},
     "output_type": "execute_result"
    }
   ],
   "source": [
    "function remove_introns(seq_list)\n",
    "    \n",
    "    unprocessed_dna = seq_list[1]\n",
    "    exon_list = seq_list[2:end]\n",
    "    \n",
    "    str = join(exon_list,\"|\")\n",
    "    re = Regex(\"($str)\")\n",
    "    \n",
    "    unprocessed_dna = replace(unprocessed_dna,re,\"\")\n",
    "    \n",
    "    return unprocessed_dna\n",
    "end\n",
    "    \n",
    "    "
   ]
  },
  {
   "cell_type": "code",
   "execution_count": 124,
   "metadata": {
    "collapsed": false
   },
   "outputs": [
    {
     "data": {
      "text/plain": [
       "180aa Amino Acid Sequence:\n",
       "MHTNIGAPYCSVSLRYVDSVLCTCKLDDIGSLTTLVWYR…PIRDRRILLVSRPRPNASVMSWKSKSCAASPTAARTGLY"
      ]
     },
     "execution_count": 124,
     "metadata": {},
     "output_type": "execute_result"
    }
   ],
   "source": [
    "processed_dna = remove_introns(sequence_list)\n",
    "processed_dna = DNASequence(processed_dna)\n",
    "rna = convert(RNASequence,processed_dna)\n",
    "protein = translate(rna)\n",
    "protein[1:end-1]"
   ]
  },
  {
   "cell_type": "code",
   "execution_count": 125,
   "metadata": {
    "collapsed": false
   },
   "outputs": [
    {
     "data": {
      "text/plain": [
       "\"MHTNIGAPYCSVSLRYVDSVLCTCKLDDIGSLTTLVWYRASLLSNVRGNLGYKRFWSRCHIPPPTRLEAGQSDLYAYCFSLTRIWHVTTNRIPTWKFALNLPTCSTYSAEVCETASARLVDTKGQLVGGKLVSQVHCILFLPIRDRRILLVSRPRPNASVMSWKSKSCAASPTAARTGLY\""
      ]
     },
     "execution_count": 125,
     "metadata": {},
     "output_type": "execute_result"
    }
   ],
   "source": [
    "convert(String,protein[1:end-1])"
   ]
  }
 ],
 "metadata": {
  "kernelspec": {
   "display_name": "Julia 0.5.0",
   "language": "julia",
   "name": "julia-0.5"
  },
  "language_info": {
   "file_extension": ".jl",
   "mimetype": "application/julia",
   "name": "julia",
   "version": "0.5.0"
  }
 },
 "nbformat": 4,
 "nbformat_minor": 1
}
