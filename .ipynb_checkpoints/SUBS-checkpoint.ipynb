{
 "cells": [
  {
   "cell_type": "code",
   "execution_count": 2,
   "metadata": {
    "collapsed": false
   },
   "outputs": [
    {
     "data": {
      "text/plain": [
       "\"ATAT\""
      ]
     },
     "execution_count": 2,
     "metadata": {},
     "output_type": "execute_result"
    }
   ],
   "source": [
    "str = \"GATATATGCATATACTT\"\n",
    "sub = \"ATAT\""
   ]
  },
  {
   "cell_type": "code",
   "execution_count": 113,
   "metadata": {
    "collapsed": false,
    "scrolled": true
   },
   "outputs": [
    {
     "data": {
      "text/plain": [
       "\"CCCACTGCC\""
      ]
     },
     "execution_count": 113,
     "metadata": {},
     "output_type": "execute_result"
    }
   ],
   "source": [
    "#Read lines returns and array with a \\n\n",
    "readlines(\"/home/dom/Julia/Rosalind/Files/Test\")\n",
    "# I don't want that so I'll use readstring instead\n",
    "f = readstring(\"/home/dom/Julia/Rosalind/Files/rosalind_subs.txt\")\n",
    "#The 1:2 is needed to remove the 3rd element of the array which is just a empty \"\"\n",
    "strNsub = split(f,'\\n')[1:2]"
   ]
  },
  {
   "cell_type": "code",
   "execution_count": 106,
   "metadata": {
    "collapsed": false
   },
   "outputs": [
    {
     "name": "stderr",
     "output_type": "stream",
     "text": [
      "WARNING: Method definition substring_index(Any, Any) in module Main at In[91]:2 overwritten at In[106]:3.\n"
     ]
    },
    {
     "data": {
      "text/plain": [
       "substring_index (generic function with 1 method)"
      ]
     },
     "execution_count": 106,
     "metadata": {},
     "output_type": "execute_result"
    }
   ],
   "source": [
    "#Using a sliding windwo to seach the string, if i matches i appends the start location\n",
    "function substring_index(str,sub)\n",
    "    start_location = []\n",
    "    for i in 1:length(str)-length(sub)\n",
    "        if str[i:i+length(sub)-1] == sub\n",
    "            append!(start_location,i)\n",
    "        end\n",
    "    end\n",
    "    return start_location\n",
    "end "
   ]
  },
  {
   "cell_type": "code",
   "execution_count": 109,
   "metadata": {
    "collapsed": false
   },
   "outputs": [
    {
     "name": "stdout",
     "output_type": "stream",
     "text": [
      "46 53 70 96 103 145 179 264 280 299 323 339 363 396 412 458 500 529 539 576 584 599 644 668 676 693 700 707 734 788 795 811 837 873 889 896 "
     ]
    }
   ],
   "source": [
    "location = substring_index(strNsub[1],strNsub[2])\n",
    "#Print it in the right format\n",
    "for i in location\n",
    "    print(i,\" \")\n",
    "end"
   ]
  }
 ],
 "metadata": {
  "anaconda-cloud": {},
  "kernelspec": {
   "display_name": "Julia 0.5.0",
   "language": "julia",
   "name": "julia-0.5"
  },
  "language_info": {
   "file_extension": ".jl",
   "mimetype": "application/julia",
   "name": "julia",
   "version": "0.5.0"
  }
 },
 "nbformat": 4,
 "nbformat_minor": 1
}
