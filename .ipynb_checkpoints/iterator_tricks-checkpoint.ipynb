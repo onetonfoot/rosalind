{
 "cells": [
  {
   "cell_type": "code",
   "execution_count": 3,
   "metadata": {
    "collapsed": true,
    "slideshow": {
     "slide_type": "-"
    }
   },
   "outputs": [],
   "source": [
    "using Distributions\n",
    "using DataFrames\n",
    "using Gadfly"
   ]
  },
  {
   "cell_type": "markdown",
   "metadata": {
    "slideshow": {
     "slide_type": "slide"
    }
   },
   "source": [
    "# Tricked Out Iterators in Julia"
   ]
  },
  {
   "cell_type": "markdown",
   "metadata": {},
   "source": [
    "## Introduction"
   ]
  },
  {
   "cell_type": "markdown",
   "metadata": {},
   "source": [
    "I want to spend some time messing about with iterators in Julia. I think they\n",
    "not only provide a familiar and useful entry point into Julia's type system and dispatch\n",
    "model, they're also interesting in their own right. **[1]** Clever application of iterators can\n",
    "help to simplify complicated loops, better express their intent, and improve\n",
    "memory usage.\n",
    "\n",
    "A word of warning about the code here. Much of the it isn't idiomatic Julia and I wouldn't\n",
    "necessarily recommend using this style in a serious project. I also can't speak\n",
    "to its performance vis-a-vis more obvious Julian alternatives. In some cases,\n",
    "the style of the code examples below may help reduce memory usage, but\n",
    "performance is not my main concern. (This may be the first blogpost about Julia\n",
    "unconcerned with speed). Instead, I'm just interested in different ways of\n",
    "expressing iteration problems."
   ]
  },
  {
   "cell_type": "markdown",
   "metadata": {},
   "source": [
    "## The Iterator Protocol"
   ]
  },
  {
   "cell_type": "markdown",
   "metadata": {},
   "source": [
    "What do I mean by iterators? **[2]** I mean any `I` in Julia that works on\n",
    "the right hand side of the statement `for i = I ...`. That is, anything you can for-loop\n",
    "over. This includes not only data collections like Arrays, Dicts, and Sets, but\n",
    "also more abstract types like Ranges, as well as what I'll call \"higher order\"\n",
    "iterators such as those that result from `zip` or `enumerate` functions.\n",
    "\n",
    "As an equivalent definition, an iterator in Julia is any type that implements\n",
    "the **iterator protocol**. The iterator protocol is comprised of three methods:\n",
    "`start`, `next`, and `done`. So any type in Julia for which these three methods\n",
    "are defined is an iterator. It might be a dumb iterator or a broken iterator,\n",
    "but it's an iterator. \n",
    "\n",
    "Since the `for` statement works on iterators, and iterators are just a\n",
    "collection of methods, we can define any for loop using calls to those methods. "
   ]
  },
  {
   "cell_type": "markdown",
   "metadata": {},
   "source": [
    "For example, this simple loop"
   ]
  },
  {
   "cell_type": "code",
   "execution_count": 5,
   "metadata": {
    "collapsed": false
   },
   "outputs": [
    {
     "name": "stdout",
     "output_type": "stream",
     "text": [
      "100\n",
      "64\n",
      "36\n",
      "16\n",
      "4\n"
     ]
    }
   ],
   "source": [
    "arr = (10:-2:1) # 1D array [10, 9, ..., 1]\n",
    "for i = arr\n",
    "    println(i^2)\n",
    "end"
   ]
  },
  {
   "cell_type": "markdown",
   "metadata": {},
   "source": [
    "is equivalent to this"
   ]
  },
  {
   "cell_type": "code",
   "execution_count": 6,
   "metadata": {
    "collapsed": false
   },
   "outputs": [
    {
     "name": "stdout",
     "output_type": "stream",
     "text": [
      "100\n",
      "64\n",
      "36\n",
      "16\n",
      "4\n"
     ]
    }
   ],
   "source": [
    "state = start(arr)\n",
    "while !done(arr, state)\n",
    "    i, state = next(arr, state)\n",
    "    println(i^2)\n",
    "end"
   ]
  },
  {
   "cell_type": "markdown",
   "metadata": {},
   "source": [
    "In this example, the `start` method provides the initial state of the iterator;\n",
    "the `next` method returns the value of the array at a given state, as well as what the\n",
    "next state is. Finally, the `done` method returns `true` when we've gone past\n",
    "the end of the iterator, informing the loop that it should stop.\n",
    "\n",
    "If you know Python, the idea of the iterator protocol is probably familiar. In\n",
    "Python, any object can be an iterator if it has the methods `__iter__` and\n",
    "`__next__`. But notice the lack of side effects in the Julia implementation\n",
    "--calling `start` or `next` on the array has no affect on the array itself. `start` is\n",
    "basically a constant, always returning the value of the initial state whenever\n",
    "you pass it the same type of iterator. And `next` doesn't really increment\n",
    "anything; it's just a mapping from *current state &rightarrow; (value, next\n",
    "state)*. In general, the iterator itself has no internal state being incremented or\n",
    "changed as you pass through a loop."
   ]
  },
  {
   "cell_type": "markdown",
   "metadata": {},
   "source": [
    "### An iterator's state"
   ]
  },
  {
   "cell_type": "markdown",
   "metadata": {},
   "source": [
    "More concretely, what's the *state* of an iterator? How the state is\n",
    "defined, and an iterator's sequence of states depends on the type of\n",
    "the iterator itself. It's best to look at some examples."
   ]
  },
  {
   "cell_type": "markdown",
   "metadata": {},
   "source": [
    "#### Arrays"
   ]
  },
  {
   "cell_type": "markdown",
   "metadata": {},
   "source": [
    "Arrays are very intuitive iterators. They have states that are just integer\n",
    "values from 1 to the length of the array. So `start` returns 1."
   ]
  },
  {
   "cell_type": "code",
   "execution_count": 5,
   "metadata": {
    "collapsed": false
   },
   "outputs": [
    {
     "data": {
      "text/plain": [
       "1"
      ]
     },
     "execution_count": 5,
     "metadata": {},
     "output_type": "execute_result"
    }
   ],
   "source": [
    "arr = [\"one\", \"two\", \"three\", \"four\", \"five\", \"six\"] # 6 items\n",
    "# The initial state\n",
    "start(arr) # 1"
   ]
  },
  {
   "cell_type": "markdown",
   "metadata": {},
   "source": [
    "The `next` mapping is $i \\rightarrow i+1$, and the value of the iterator at any state\n",
    "`i` is just `a[i]`. "
   ]
  },
  {
   "cell_type": "code",
   "execution_count": 6,
   "metadata": {
    "collapsed": false
   },
   "outputs": [
    {
     "name": "stdout",
     "output_type": "stream",
     "text": [
      "next(arr, 1) = (\"one\",2)\n",
      "next(arr, 2) = (\"two\",3)\n",
      "next(arr, 3) = (\"three\",4)\n",
      "next(arr, 4) = (\"four\",5)\n"
     ]
    }
   ],
   "source": [
    "# The value and the next state in states 1, 2, ...\n",
    "for i = 1:4\n",
    "    println(\"next(arr, $i) = \", next(arr, i))\n",
    "end"
   ]
  },
  {
   "cell_type": "markdown",
   "metadata": {},
   "source": [
    "If this were a multidimensional array, say 3&times;2 instead of 6&times;1, we'd\n",
    "get the same result; iteration would just proceed along the rows of the matrix.\n",
    "\n",
    "The `done` method returns true when the state is `i = length(a) + 1`. You might think it'd be `length(a)`, but recall the for-equivalent while loop\n",
    "above. Having `done` return true at the last index of the array would prevent\n",
    "the loop from executing on the last element. So in our 6-element array, `done`\n",
    "is true when the state hits 7."
   ]
  },
  {
   "cell_type": "code",
   "execution_count": 7,
   "metadata": {
    "collapsed": false
   },
   "outputs": [
    {
     "name": "stdout",
     "output_type": "stream",
     "text": [
      "false\n",
      "(\"six\",7)\n"
     ]
    }
   ],
   "source": [
    "println(done(arr, 6))  # not yet\n",
    "println(next(arr, 6)) "
   ]
  },
  {
   "cell_type": "code",
   "execution_count": 8,
   "metadata": {
    "collapsed": false
   },
   "outputs": [
    {
     "name": "stdout",
     "output_type": "stream",
     "text": [
      "true\n"
     ]
    },
    {
     "ename": "LoadError",
     "evalue": "BoundsError()\nwhile loading In[8], in expression starting on line 2",
     "output_type": "error",
     "traceback": [
      "BoundsError()\nwhile loading In[8], in expression starting on line 2",
      " in next at abstractarray.jl:236"
     ]
    }
   ],
   "source": [
    "println(done(arr, 7)) # true\n",
    "println(next(arr, 7)) # BoundsError!"
   ]
  },
  {
   "cell_type": "markdown",
   "metadata": {},
   "source": [
    "#### Ranges"
   ]
  },
  {
   "cell_type": "markdown",
   "metadata": {},
   "source": [
    "Ranges have states that looks similar to arrays, except they start at zero."
   ]
  },
  {
   "cell_type": "code",
   "execution_count": 9,
   "metadata": {
    "collapsed": false
   },
   "outputs": [
    {
     "data": {
      "text/plain": [
       "0"
      ]
     },
     "execution_count": 9,
     "metadata": {},
     "output_type": "execute_result"
    }
   ],
   "source": [
    "rng = 11:20  # length 10 range\n",
    "start(rng) # 0"
   ]
  },
  {
   "cell_type": "markdown",
   "metadata": {},
   "source": [
    "But the relationship between the current and next state is the same: *i* &rightarrow; *i+1*."
   ]
  },
  {
   "cell_type": "code",
   "execution_count": 10,
   "metadata": {
    "collapsed": false
   },
   "outputs": [
    {
     "name": "stdout",
     "output_type": "stream",
     "text": [
      "next(rng, 0) = (11,1)\n",
      "next(rng, 1) = (12,2)\n",
      "next(rng, 9) = (20,10)\n",
      "next(rng, 10) = (21,11)\n"
     ]
    }
   ],
   "source": [
    "for i = [0, 1, 9, 10]\n",
    "    println(\"next(rng, $i) = \", next(rng, i))\n",
    "end"
   ]
  },
  {
   "cell_type": "markdown",
   "metadata": {},
   "source": [
    "Since we start at zero, the done state is one less than the equivalent array."
   ]
  },
  {
   "cell_type": "code",
   "execution_count": 11,
   "metadata": {
    "collapsed": false
   },
   "outputs": [
    {
     "data": {
      "text/plain": [
       "true"
      ]
     },
     "execution_count": 11,
     "metadata": {},
     "output_type": "execute_result"
    }
   ],
   "source": [
    "done(rng, 10)"
   ]
  },
  {
   "cell_type": "markdown",
   "metadata": {},
   "source": [
    "#### Unordered collections: Dicts, Sets, etc."
   ]
  },
  {
   "cell_type": "markdown",
   "metadata": {},
   "source": [
    "Arrays and ranges have a natural order, so the evolution of state is\n",
    "straightforward. But what about collections such as dictionaries and sets that have no inherent\n",
    "order? Like in many languages, such things can be iterated over, but the order\n",
    "of iteration is not easily predictable.\n",
    "\n",
    "For example, here's a dictionary:"
   ]
  },
  {
   "cell_type": "code",
   "execution_count": 12,
   "metadata": {
    "collapsed": false
   },
   "outputs": [
    {
     "data": {
      "text/plain": [
       "{:one=>1,:three=>3,:five=>\"five!\"}"
      ]
     },
     "execution_count": 12,
     "metadata": {},
     "output_type": "execute_result"
    }
   ],
   "source": [
    "dictit = {:one => 1, :three => 3, :five => \"five!\"}"
   ]
  },
  {
   "cell_type": "markdown",
   "metadata": {},
   "source": [
    "The starting state isn't 0 or 1, as would be natural for an ordered collection."
   ]
  },
  {
   "cell_type": "code",
   "execution_count": 13,
   "metadata": {
    "collapsed": false
   },
   "outputs": [
    {
     "data": {
      "text/plain": [
       "3"
      ]
     },
     "execution_count": 13,
     "metadata": {},
     "output_type": "execute_result"
    }
   ],
   "source": [
    "s0 = start(dictit)"
   ]
  },
  {
   "cell_type": "markdown",
   "metadata": {},
   "source": [
    "And while `next` maps state *i* to state *j*, the relationship between *i* and *j*\n",
    "is not obvious. Here, while the first state is 3, the second is 11, and the rest\n",
    "are similarly weird.\n"
   ]
  },
  {
   "cell_type": "code",
   "execution_count": 14,
   "metadata": {
    "collapsed": false
   },
   "outputs": [
    {
     "data": {
      "text/plain": [
       "((:one,1),11)"
      ]
     },
     "execution_count": 14,
     "metadata": {},
     "output_type": "execute_result"
    }
   ],
   "source": [
    "_, s1 = next(dictit, s0)"
   ]
  },
  {
   "cell_type": "code",
   "execution_count": 15,
   "metadata": {
    "collapsed": false
   },
   "outputs": [
    {
     "data": {
      "text/plain": [
       "((:three,3),13)"
      ]
     },
     "execution_count": 15,
     "metadata": {},
     "output_type": "execute_result"
    }
   ],
   "source": [
    "_, s2 = next(dictit, s1)"
   ]
  },
  {
   "cell_type": "code",
   "execution_count": 16,
   "metadata": {
    "collapsed": false
   },
   "outputs": [
    {
     "data": {
      "text/plain": [
       "((:five,\"five!\"),17)"
      ]
     },
     "execution_count": 16,
     "metadata": {},
     "output_type": "execute_result"
    }
   ],
   "source": [
    "_, s3 = next(dictit, s2)"
   ]
  },
  {
   "cell_type": "code",
   "execution_count": 17,
   "metadata": {
    "collapsed": false
   },
   "outputs": [
    {
     "data": {
      "text/plain": [
       "true"
      ]
     },
     "execution_count": 17,
     "metadata": {},
     "output_type": "execute_result"
    }
   ],
   "source": [
    "done(dictit, s3)"
   ]
  },
  {
   "cell_type": "markdown",
   "metadata": {},
   "source": [
    "The states, you probably and correctly suspect, are tied to the internal\n",
    "implementation of the dictionary, e.g. how the keys are hashed. So the state\n",
    "doesn't follow a predictable 1, 2, 3, ... order, and what order of elements we\n",
    "get when iterating is essentially unpredictable.\n",
    "\n",
    "But because for loops handle the iterator's states for us, we rarely if ever have to worry about\n",
    "the representation of an iterator's state. The for loop implicitly calls the `start`,\n",
    "`done`, and `next` methods, which do all this bookkeeping for us."
   ]
  },
  {
   "cell_type": "markdown",
   "metadata": {},
   "source": [
    "## Iterators and delayed evaluation"
   ]
  },
  {
   "cell_type": "markdown",
   "metadata": {},
   "source": [
    "While many iterators are collections of data in memory, like Arrays, Dicts, or\n",
    "Sets, iterators can also represent abstract collections that aren't held in memory.\n",
    "\n",
    "Range is a good example. When we iterate over the range `1:10`, we get the\n",
    "sequence 1, 2, 3, ..., 10. But in memory, this range is comprised of only two\n",
    "integers, 1 and 10. The values in between are only evaluated when we're looping over it.\n",
    "\n",
    "From [https://github.com/JuliaLang/julia/blob/master/base/range.jl](), here's how a\n",
    "Range's iterator protocol is defined:\n",
    "\n",
    "~~~~~~~~~~~~~~~~~~~~~~~~~~~~~~~~~~~~~~~~{.julia}\n",
    "start(r::Ranges) = 0\n",
    "next{T}(r::Range{T}, i) = (oftype(T, r.start + i*step(r)), i+1)\n",
    "next{T}(r::Range1{T}, i) = (oftype(T, r.start + i), i+1)\n",
    "done(r::Ranges, i) = (length(r) <= i)\n",
    "~~~~~~~~~~~~~~~~~~~~~~~~~~~~~~~~~~~~~~~~"
   ]
  },
  {
   "cell_type": "markdown",
   "metadata": {},
   "source": [
    "### Application: Iterating over Fibonacci numbers"
   ]
  },
  {
   "cell_type": "markdown",
   "metadata": {},
   "source": [
    "Here's another example of an iterator which computes values on demand, using the\n",
    "`next` method to do the work. `fibit(n)` is an iterator over the first `n`\n",
    "Fibonacci numbers. When the iterator is constructed, it doesn't calculate all of\n",
    "these numbers. Instead it waits for its `next` method to be called, providing\n",
    "the next Fibonacci number depending on the current one.\n"
   ]
  },
  {
   "cell_type": "code",
   "execution_count": 18,
   "metadata": {
    "collapsed": false
   },
   "outputs": [],
   "source": [
    "# Iterator produces the first n Fibonacci numbers\n",
    "type FibIt{T<:Integer}\n",
    "    last2::(T, T)\n",
    "    n::Integer\n",
    "end"
   ]
  },
  {
   "cell_type": "code",
   "execution_count": 19,
   "metadata": {
    "collapsed": false
   },
   "outputs": [
    {
     "data": {
      "text/plain": [
       "done (generic function with 66 methods)"
      ]
     },
     "execution_count": 19,
     "metadata": {},
     "output_type": "execute_result"
    }
   ],
   "source": [
    "fibit(n::Integer) = FibIt((0, 1), n)\n",
    "# Specify types, e.g. BigInt to prevent overflow.\n",
    "fibit(n::Integer, T::Type) = FibIt{T}((0, 1), n) \n",
    "\n",
    "Base.start(fi::FibIt) = 1\n",
    "\n",
    "function Base.next(fi::FibIt, state)\n",
    "    if state == 1\n",
    "        return (1, 2)\n",
    "    else\n",
    "        fi.last2 = fi.last2[2], sum(fi.last2)\n",
    "        (fi.last2[2], state + 1)\n",
    "    end\n",
    "end\n",
    "\n",
    "Base.done(fi::FibIt, state) = state > fi.n"
   ]
  },
  {
   "cell_type": "markdown",
   "metadata": {},
   "source": [
    "### Tasks/Coroutines"
   ]
  },
  {
   "cell_type": "markdown",
   "metadata": {},
   "source": [
    "This talk of iterators with delayed evaluation may remind Pythonistas of\n",
    "generators. And Julia has a type that is basically equivalent to Python's\n",
    "generators, called Tasks. A Task is constructed by calling the `Task()` \n",
    "constructor (or\n",
    "`@task` macro) on a function with a `produce` statement, which issimilar to Python's\n",
    "`yield`.\n",
    "\n",
    "Instead of using the `Fibit` type above, we could get an equivalent iterator by\n",
    "defining a Task that produces sequential Fibonacci numbers."
   ]
  },
  {
   "cell_type": "code",
   "execution_count": 20,
   "metadata": {
    "collapsed": false
   },
   "outputs": [
    {
     "data": {
      "text/plain": [
       "fibtask (generic function with 2 methods)"
      ]
     },
     "execution_count": 20,
     "metadata": {},
     "output_type": "execute_result"
    }
   ],
   "source": [
    "function fibtask(n::Integer, T::Type)\n",
    "    a, b = (zero(T), one(T))\n",
    "    produce(1)\n",
    "    function _it()\n",
    "        for i = 1:n\n",
    "            produce(b)\n",
    "            a, b = (b, a+b)\n",
    "        end\n",
    "    end\n",
    "    Task(_it)\n",
    "end\n",
    "\n",
    "fibtask(n::Integer) = fibtask(n, Int)"
   ]
  },
  {
   "cell_type": "code",
   "execution_count": 21,
   "metadata": {
    "collapsed": false
   },
   "outputs": [
    {
     "name": "stdout",
     "output_type": "stream",
     "text": [
      "1 1 2 3 5 8 13 21 34 55 "
     ]
    }
   ],
   "source": [
    "# We get iteration for free.\n",
    "for i in fibtask(10)\n",
    "    print(i, \" \")\n",
    "end"
   ]
  },
  {
   "cell_type": "markdown",
   "metadata": {},
   "source": [
    "Whether you create an iterator using a type with the iterator protocol, or by\n",
    "constructing a Task, is up to you. There are pros and cons to each approach. By\n",
    "defining your iterator as a specific type, you can dispatch lots of other\n",
    "functions on it. Here, on the other hand, `fibtask` is just a `Task` type, so\n",
    "defining methods for it means defining methods for all Tasks, which may be\n",
    "undesirable or infeasible. On the other hand Tasks give you iterators with less\n",
    "code. Below I'll show an example of an iterator that's hard to define with the\n",
    "iterator protocol methods, but easy to define as a Task. And of course, Tasks\n",
    "are coroutines, and can be used in those contexts."
   ]
  },
  {
   "cell_type": "markdown",
   "metadata": {},
   "source": [
    "## Realizing iterators without `for` loops"
   ]
  },
  {
   "cell_type": "markdown",
   "metadata": {},
   "source": [
    "So far, we've talked about iterators in the context of for loops. We saw that\n",
    "`for i = I` was a construct for calling `I`'s `start`, `done` and `next`\n",
    "methods, letting us realize and operate on the values in the iterator.\n",
    "\n",
    "But there are functions which can take iterators as inputs and implicitly iterate over them\n",
    "to some desired result. This obviates the need for explicit for loops, and can\n",
    "make for cleaner more functional code. Some examples follow."
   ]
  },
  {
   "cell_type": "markdown",
   "metadata": {},
   "source": [
    "### `collect` and `reduce`"
   ]
  },
  {
   "cell_type": "markdown",
   "metadata": {},
   "source": [
    "The `collect` function takes an iterator input, realizes all its values, and\n",
    "*collects* them into an array."
   ]
  },
  {
   "cell_type": "code",
   "execution_count": 22,
   "metadata": {
    "collapsed": false
   },
   "outputs": [
    {
     "data": {
      "text/plain": [
       "10-element Array{Any,1}:\n",
       "  1\n",
       "  1\n",
       "  2\n",
       "  3\n",
       "  5\n",
       "  8\n",
       " 13\n",
       " 21\n",
       " 34\n",
       " 55"
      ]
     },
     "execution_count": 22,
     "metadata": {},
     "output_type": "execute_result"
    }
   ],
   "source": [
    "collect(fibit(10))"
   ]
  },
  {
   "cell_type": "markdown",
   "metadata": {},
   "source": [
    "The `reduce` function similarly realizes the values of an iterator, but then successively\n",
    "applies an operator to them to give a scalar result.\n"
   ]
  },
  {
   "cell_type": "code",
   "execution_count": 23,
   "metadata": {
    "collapsed": false
   },
   "outputs": [
    {
     "data": {
      "text/plain": [
       "143"
      ]
     },
     "execution_count": 23,
     "metadata": {},
     "output_type": "execute_result"
    }
   ],
   "source": [
    "reduce(+, fibit(10))"
   ]
  },
  {
   "cell_type": "markdown",
   "metadata": {},
   "source": [
    "That reduce operation is equivalent to the `sum` function called with an\n",
    "iterator argument."
   ]
  },
  {
   "cell_type": "code",
   "execution_count": 24,
   "metadata": {
    "collapsed": false
   },
   "outputs": [
    {
     "data": {
      "text/plain": [
       "143"
      ]
     },
     "execution_count": 24,
     "metadata": {},
     "output_type": "execute_result"
    }
   ],
   "source": [
    "sum(fibit(10))"
   ]
  },
  {
   "cell_type": "markdown",
   "metadata": {},
   "source": [
    "In this next line of code, I compute the sum of the reciprocals of the first\n",
    "10,000 Fibonacci numbers (which should be close to [this](http://en.wikipedia.org/wiki/Reciprocal_Fibonacci_constant)), using `collect` to first put them into an array."
   ]
  },
  {
   "cell_type": "code",
   "execution_count": 25,
   "metadata": {
    "collapsed": false
   },
   "outputs": [
    {
     "data": {
      "text/plain": [
       "3.359885666243177553172011302918927179688905133731968486495553815325130318996609e+00 with 256 bits of precision"
      ]
     },
     "execution_count": 25,
     "metadata": {},
     "output_type": "execute_result"
    }
   ],
   "source": [
    "sum(1 ./ collect(BigInt, fibit(10_000, BigInt)))"
   ]
  },
  {
   "cell_type": "markdown",
   "metadata": {},
   "source": [
    "### Comprehensions"
   ]
  },
  {
   "cell_type": "markdown",
   "metadata": {},
   "source": [
    "The `collect` function may remind you of an array comprehension, and it is\n",
    "similar, but here we see array comprehension don't work on our iterator:\n"
   ]
  },
  {
   "cell_type": "code",
   "execution_count": 26,
   "metadata": {
    "collapsed": false
   },
   "outputs": [
    {
     "ename": "LoadError",
     "evalue": "no method length(FibIt{Int64})\nwhile loading In[26], in expression starting on line 1",
     "output_type": "error",
     "traceback": [
      "no method length(FibIt{Int64})\nwhile loading In[26], in expression starting on line 1",
      " in anonymous at no file"
     ]
    }
   ],
   "source": [
    "[f for f = fibit(10)]"
   ]
  },
  {
   "cell_type": "markdown",
   "metadata": {},
   "source": [
    "What's going on is that the array comprehension wants to allocate an array,\n",
    "then fill it in with the values of the iterator. Since it doesn't know the\n",
    "iterator's length (how many values it will produce), it doesn't know how large\n",
    "an array to allocate. **[3]** We can fix this for our Fibonacci iterator by\n",
    "giving it a `length` method.\n"
   ]
  },
  {
   "cell_type": "code",
   "execution_count": 27,
   "metadata": {
    "collapsed": false
   },
   "outputs": [
    {
     "data": {
      "text/plain": [
       "10-element Array{Int64,1}:\n",
       "  1\n",
       "  1\n",
       "  2\n",
       "  3\n",
       "  5\n",
       "  8\n",
       " 13\n",
       " 21\n",
       " 34\n",
       " 55"
      ]
     },
     "execution_count": 27,
     "metadata": {},
     "output_type": "execute_result"
    }
   ],
   "source": [
    "Base.length(it::FibIt) = it.n\n",
    "[f for f = fibit(10)]"
   ]
  },
  {
   "cell_type": "markdown",
   "metadata": {},
   "source": [
    "Now we can redefine our sum-of-reciprocals using a comprehension instead of `collect`."
   ]
  },
  {
   "cell_type": "code",
   "execution_count": 28,
   "metadata": {
    "collapsed": false
   },
   "outputs": [
    {
     "data": {
      "text/plain": [
       "3.359885666243177553172011302918927179688905133731968486495553815325130318996712e+00 with 256 bits of precision"
      ]
     },
     "execution_count": 28,
     "metadata": {},
     "output_type": "execute_result"
    }
   ],
   "source": [
    "sum([1/f for f = fibit(10_000, BigInt)])"
   ]
  },
  {
   "cell_type": "markdown",
   "metadata": {},
   "source": [
    "What if we tried this with our Fibonacci task?\n"
   ]
  },
  {
   "cell_type": "code",
   "execution_count": 29,
   "metadata": {
    "collapsed": false
   },
   "outputs": [
    {
     "ename": "LoadError",
     "evalue": "no method length(Task)\nwhile loading In[29], in expression starting on line 1",
     "output_type": "error",
     "traceback": [
      "no method length(Task)\nwhile loading In[29], in expression starting on line 1",
      " in anonymous at no file"
     ]
    }
   ],
   "source": [
    "[f for f = fibtask(10)]"
   ]
  },
  {
   "cell_type": "markdown",
   "metadata": {},
   "source": [
    "We get the same issue; Tasks don't have a length method. The advantage of using\n",
    "the `FibIt` type is that we can easily define a length method for it. We can\n",
    "only give our Fibonacci task a method if we give all Tasks a length method,\n",
    "which wouldn't make sense.\n"
   ]
  },
  {
   "cell_type": "markdown",
   "metadata": {},
   "source": [
    "## The Iterator Package"
   ]
  },
  {
   "cell_type": "markdown",
   "metadata": {},
   "source": [
    "When we calculated the sum of the reciprocals of Fibonacci number above, we had\n",
    "to realize the values of the Fibonacci iterator before taking the\n",
    "reciprocal, and then sum a collection of all those values. Alternatively, we could have called sum on an\n",
    "iterator that produced $1/x$ for each Fibonacci number $x$.\n",
    "\n",
    "One way to do this would be to create a new iterator type, called\n",
    "`ReciprocalFibIt`, and given it its own `start`, `next`, and `done` methods. But that\n",
    "feels a little excessive. Wouldn't it be nicer to be able to construct that iterator from\n",
    "the Fibonacci iterator we already have? Essentially saying, \"hey, I want another\n",
    "iterator that gives one over the values of that other iterator.\"\n",
    "\n",
    "That would be an example of what I'll call a *higher-order iterator*, which is\n",
    "an iterator constructed from one or more other iterators. `zip` and `enumerable`\n",
    "are common examples.\n",
    "\n",
    "It turns out Julia has a neat little package of useful higher-order iterators;\n",
    "called, obviously, Iterators. In the rest of (this already very long) post, I'll\n",
    "explore some of things in the package. Pythonistas will notice similarities with\n",
    "the itertools module in the Standard Library."
   ]
  },
  {
   "cell_type": "code",
   "execution_count": 30,
   "metadata": {
    "collapsed": false
   },
   "outputs": [],
   "source": [
    "using Iterators"
   ]
  },
  {
   "cell_type": "markdown",
   "metadata": {},
   "source": [
    "### IMap"
   ]
  },
  {
   "cell_type": "markdown",
   "metadata": {},
   "source": [
    "The `Imap` iterator provides us with our wish above: a new iterator that is the\n",
    "result of applying a function to the values of an existing iterator. In the case of our\n",
    "reciprocal Fibonacci numbers, that function is `x -> 1/x`. \n"
   ]
  },
  {
   "cell_type": "code",
   "execution_count": 31,
   "metadata": {
    "collapsed": false
   },
   "outputs": [
    {
     "data": {
      "text/plain": [
       "3.359885666243177553172011302918927179688905133731968486495553815325130318996609e+00 with 256 bits of precision"
      ]
     },
     "execution_count": 31,
     "metadata": {},
     "output_type": "execute_result"
    }
   ],
   "source": [
    "recipricalfib = imap(x -> 1/x, fibit(10_000, BigInt)) # A new iterator, composed from a FibIt\n",
    "psi = sum(recipricalfib) # No collect needed"
   ]
  },
  {
   "cell_type": "markdown",
   "metadata": {},
   "source": [
    "So `reciprocalfib` is itself an iterator, whose values are only realized when\n",
    "it's passed to the `sum` function. We didn't have to allocate any arrays before\n",
    "calling sum as with the `collect` and comprehension examples above."
   ]
  },
  {
   "cell_type": "markdown",
   "metadata": {},
   "source": [
    "### An IFilter iterator"
   ]
  },
  {
   "cell_type": "markdown",
   "metadata": {},
   "source": [
    "\n",
    "Since we have a map-like iterator, why not a filter? How would it work? Given an\n",
    "iterator that produces values *v1*, *v2*, *v3*, ..., the filter iterator would\n",
    "only produce the values that met some predicate, skipping any that didn't.\n",
    "\n",
    "This isn't implemented in the Iterators package. It's a neat idea, but it turns\n",
    "out to be tricky to define in terms of the iterator protocol. It's easy with a\n",
    "Task, though."
   ]
  },
  {
   "cell_type": "code",
   "execution_count": 32,
   "metadata": {
    "collapsed": false
   },
   "outputs": [
    {
     "data": {
      "text/plain": [
       "ifilter (generic function with 1 method)"
      ]
     },
     "execution_count": 32,
     "metadata": {},
     "output_type": "execute_result"
    }
   ],
   "source": [
    "function ifilter(f::Function, itr)\n",
    "    function _it()\n",
    "        for i = itr\n",
    "            if f(i)\n",
    "                produce(i)\n",
    "            end\n",
    "        end\n",
    "    end\n",
    "    Task(_it)\n",
    "end"
   ]
  },
  {
   "cell_type": "markdown",
   "metadata": {},
   "source": [
    "#### Application: A list of primes whose digits sum to a prime"
   ]
  },
  {
   "cell_type": "markdown",
   "metadata": {},
   "source": [
    "Here's an example of it in action. We'll begin with a Range iterator from 1 to\n",
    "1,000. I want to list all of numbers in that range that are (1) prime and\n",
    "(2) have digits that sum to a prime. \n",
    "\n",
    "So `ifilter` takes the predicate test and the original iterator, then produces only\n",
    "those values from the original iterator that pass the test. Turns out there are\n",
    "89 such primes between 1 and 1,000.\n"
   ]
  },
  {
   "cell_type": "code",
   "execution_count": 33,
   "metadata": {
    "collapsed": false
   },
   "outputs": [
    {
     "data": {
      "text/plain": [
       "funnyprimetest (generic function with 1 method)"
      ]
     },
     "execution_count": 33,
     "metadata": {},
     "output_type": "execute_result"
    }
   ],
   "source": [
    "function funnyprimetest(n::Integer)\n",
    "    sumdigits = sum([parseint(string(c)) for c in string(n)])\n",
    "    isprime(n) & isprime(sumdigits)\n",
    "end"
   ]
  },
  {
   "cell_type": "code",
   "execution_count": 34,
   "metadata": {
    "collapsed": false
   },
   "outputs": [
    {
     "data": {
      "text/plain": [
       "89-element Array{Any,1}:\n",
       "   2\n",
       "   3\n",
       "   5\n",
       "   7\n",
       "  11\n",
       "  23\n",
       "  29\n",
       "  41\n",
       "  43\n",
       "  47\n",
       "  61\n",
       "  67\n",
       "  83\n",
       "   ⋮\n",
       " 829\n",
       " 863\n",
       " 881\n",
       " 883\n",
       " 887\n",
       " 911\n",
       " 919\n",
       " 937\n",
       " 953\n",
       " 971\n",
       " 977\n",
       " 991"
      ]
     },
     "execution_count": 34,
     "metadata": {},
     "output_type": "execute_result"
    }
   ],
   "source": [
    "collect(ifilter(funnyprimetest, 1:1000))"
   ]
  },
  {
   "cell_type": "markdown",
   "metadata": {},
   "source": [
    "### Repeat and RepeatForever"
   ]
  },
  {
   "cell_type": "markdown",
   "metadata": {},
   "source": [
    "Another surprisingly useful iterator is `Repeat`, which simply produces an object\n",
    "some number of times. Here the iterator is just the string \"echo!\" five times.\n"
   ]
  },
  {
   "cell_type": "code",
   "execution_count": 35,
   "metadata": {
    "collapsed": false
   },
   "outputs": [
    {
     "name": "stdout",
     "output_type": "stream",
     "text": [
      "echo!\n",
      "echo!\n",
      "echo!\n",
      "echo!\n",
      "echo!\n"
     ]
    }
   ],
   "source": [
    "for i = repeated(\"echo!\", 5)\n",
    "    println(i)\n",
    "end"
   ]
  },
  {
   "cell_type": "markdown",
   "metadata": {},
   "source": [
    "#### Extension: Repeat for impure functions"
   ]
  },
  {
   "cell_type": "markdown",
   "metadata": {},
   "source": [
    "One thing about the `Repeat` iterator though, is that the object or value it\n",
    "repeats is fixed at its construction. If you pass it a called function, it will\n",
    "call that function once in the constructor, and then repeatedly return the\n",
    "result of that first call. For pure functions, that's fine. The first call of\n",
    "`sqrt(100)` is the same as the second, third, or ten-thousandth call of\n",
    "`sqrt(100)`.\n",
    "\n",
    "If the function is impure, though, we'll get undesired results."
   ]
  },
  {
   "cell_type": "code",
   "execution_count": 36,
   "metadata": {
    "collapsed": false
   },
   "outputs": [
    {
     "name": "stdout",
     "output_type": "stream",
     "text": [
      "0.4979715948949144\n",
      "0.4979715948949144\n",
      "0.4979715948949144\n",
      "0.4979715948949144\n",
      "0.4979715948949144\n",
      "0.4979715948949144\n",
      "0.4979715948949144\n",
      "0.4979715948949144\n",
      "0.4979715948949144\n",
      "0.4979715948949144\n"
     ]
    }
   ],
   "source": [
    "for i = repeated(rand(), 10) println(i) end"
   ]
  },
  {
   "cell_type": "markdown",
   "metadata": {},
   "source": [
    "Here, the `rand` function was called once in the constructor, and that result was repeated again\n",
    "and again. I'd prefer if I could get 10 separate calls to `rand`. Here's one way\n",
    "to get this to work.\n",
    "\n"
   ]
  },
  {
   "cell_type": "code",
   "execution_count": 37,
   "metadata": {
    "collapsed": false
   },
   "outputs": [
    {
     "data": {
      "text/plain": [
       "next (generic function with 83 methods)"
      ]
     },
     "execution_count": 37,
     "metadata": {},
     "output_type": "execute_result"
    }
   ],
   "source": [
    "Base.next(it::Iterators.Repeat{Function}, state) = it.x(), state - 1\n",
    "Base.next(it::Iterators.RepeatForever{Function}, state) = it.x(), nothing"
   ]
  },
  {
   "cell_type": "code",
   "execution_count": 38,
   "metadata": {
    "collapsed": false
   },
   "outputs": [
    {
     "name": "stdout",
     "output_type": "stream",
     "text": [
      "0.5280218720629153\n",
      "0.6287778752009863\n",
      "0.9808561208985482\n",
      "0.11424183057106774\n",
      "0.18147790869456637\n",
      "0.018127429914700066\n",
      "0.4489191298265862\n",
      "0.9477518177718107\n",
      "0.6721105940596026\n",
      "0.03983884464617704\n"
     ]
    }
   ],
   "source": [
    "for i = repeated(rand, 10) println(i) end # Note the function isn't called; the next function does this."
   ]
  },
  {
   "cell_type": "markdown",
   "metadata": {},
   "source": [
    "What I've done is create new `next` methods for the `Repeat` and `RepeatForever`\n",
    "iterators. When the object of the iterators is a function, the `next` methods\n",
    "call the function. By passing the iterator an uncalled function object, I avoid the call\n",
    "in the constructor, and defer it to the `next` method."
   ]
  },
  {
   "cell_type": "markdown",
   "metadata": {},
   "source": [
    "### Take and Drop"
   ]
  },
  {
   "cell_type": "markdown",
   "metadata": {},
   "source": [
    "The `Take` iterator only iterates over some specified first values of its input\n",
    "iterator. It works well in combination with infinite iterators, like `RepeatForever`"
   ]
  },
  {
   "cell_type": "code",
   "execution_count": 39,
   "metadata": {
    "collapsed": false
   },
   "outputs": [
    {
     "data": {
      "text/plain": [
       "RepeatForever{Function}(rand)"
      ]
     },
     "execution_count": 39,
     "metadata": {},
     "output_type": "execute_result"
    }
   ],
   "source": [
    "randsforever = repeated(rand)"
   ]
  },
  {
   "cell_type": "code",
   "execution_count": 40,
   "metadata": {
    "collapsed": false
   },
   "outputs": [
    {
     "data": {
      "text/plain": [
       "10-element Array{Any,1}:\n",
       " 0.0964744\n",
       " 0.500893 \n",
       " 0.168912 \n",
       " 0.465092 \n",
       " 0.201898 \n",
       " 0.504639 \n",
       " 0.845752 \n",
       " 0.727477 \n",
       " 0.733524 \n",
       " 0.0383152"
      ]
     },
     "execution_count": 40,
     "metadata": {},
     "output_type": "execute_result"
    }
   ],
   "source": [
    "[r for r = take(randsforever, 10)]"
   ]
  },
  {
   "cell_type": "code",
   "execution_count": 41,
   "metadata": {
    "collapsed": false
   },
   "outputs": [
    {
     "data": {
      "text/plain": [
       "20-element Array{Any,1}:\n",
       " 0.156504 \n",
       " 0.557105 \n",
       " 0.183943 \n",
       " 0.481632 \n",
       " 0.351313 \n",
       " 0.269933 \n",
       " 0.719834 \n",
       " 0.473762 \n",
       " 0.541162 \n",
       " 0.291951 \n",
       " 0.303935 \n",
       " 0.0499518\n",
       " 0.402561 \n",
       " 0.231805 \n",
       " 0.866897 \n",
       " 0.265337 \n",
       " 0.21437  \n",
       " 0.140006 \n",
       " 0.319362 \n",
       " 0.836157 "
      ]
     },
     "execution_count": 41,
     "metadata": {},
     "output_type": "execute_result"
    }
   ],
   "source": [
    "[r for r = take(randsforever, 20)]"
   ]
  },
  {
   "cell_type": "markdown",
   "metadata": {},
   "source": [
    "The `Drop` iterator, on the other hand, *ignores* some specified first values of its\n",
    "input iterator. So, how many values should be printed in this for loop?\n",
    "    \n",
    "    "
   ]
  },
  {
   "cell_type": "code",
   "execution_count": 42,
   "metadata": {
    "collapsed": false
   },
   "outputs": [
    {
     "name": "stdout",
     "output_type": "stream",
     "text": [
      "0.9240435159977587\n",
      "0.672714940852619\n"
     ]
    }
   ],
   "source": [
    "for i = drop(take(randsforever, 10_000), 9998)\n",
    "    println(i)\n",
    "end"
   ]
  },
  {
   "cell_type": "markdown",
   "metadata": {},
   "source": [
    "Answer: just the last two, since we take 10,000 random numbers, but drop the first 9,998."
   ]
  },
  {
   "cell_type": "markdown",
   "metadata": {},
   "source": [
    "### Extension: TakeWhile, TakeUntil"
   ]
  },
  {
   "cell_type": "markdown",
   "metadata": {},
   "source": [
    "In some cases you may not want to take a fixed number of values from an\n",
    "iterator, but instead you want to take values until some condition is met.\n",
    "\n",
    "To accomplish this, I'll create a `TakeWhile` iterator, which takes values from\n",
    "its input iterator so long as they pass some test.\n"
   ]
  },
  {
   "cell_type": "code",
   "execution_count": 43,
   "metadata": {
    "collapsed": false
   },
   "outputs": [],
   "source": [
    "immutable TakeWhile{I}\n",
    "    xs::I\n",
    "    cond::Function\n",
    "end"
   ]
  },
  {
   "cell_type": "code",
   "execution_count": 44,
   "metadata": {
    "collapsed": false
   },
   "outputs": [
    {
     "data": {
      "text/plain": [
       "done (generic function with 67 methods)"
      ]
     },
     "execution_count": 44,
     "metadata": {},
     "output_type": "execute_result"
    }
   ],
   "source": [
    "takewhile(xs, cond) = TakeWhile(xs, cond)\n",
    "\n",
    "Base.start(it::TakeWhile) = start(it.xs)\n",
    "Base.next(it::TakeWhile, state) = next(it.xs, state)\n",
    "\n",
    "function Base.done(it::TakeWhile, state)\n",
    "    i, _ = next(it, state)\n",
    "    !it.cond(i) || done(it.xs, state)\n",
    "end"
   ]
  },
  {
   "cell_type": "code",
   "execution_count": 45,
   "metadata": {
    "collapsed": false
   },
   "outputs": [
    {
     "data": {
      "text/plain": [
       "4-element Array{Any,1}:\n",
       " 1\n",
       " 2\n",
       " 3\n",
       " 4"
      ]
     },
     "execution_count": 45,
     "metadata": {},
     "output_type": "execute_result"
    }
   ],
   "source": [
    "tw = takewhile(1:10, x -> x^2 < 25)\n",
    "collect(tw) "
   ]
  },
  {
   "cell_type": "markdown",
   "metadata": {},
   "source": [
    "Let's also create a `TakeUntil` iterator, which takes values until it finds one that\n",
    "passes the test. So the last value produced by this iterator will pass the test\n",
    "and all values before that will have failed.\n"
   ]
  },
  {
   "cell_type": "code",
   "execution_count": 46,
   "metadata": {
    "collapsed": false
   },
   "outputs": [],
   "source": [
    "immutable TakeUntil{I}\n",
    "    xs::I\n",
    "    cond::Function\n",
    "end"
   ]
  },
  {
   "cell_type": "code",
   "execution_count": 47,
   "metadata": {
    "collapsed": false
   },
   "outputs": [
    {
     "data": {
      "text/plain": [
       "done (generic function with 68 methods)"
      ]
     },
     "execution_count": 47,
     "metadata": {},
     "output_type": "execute_result"
    }
   ],
   "source": [
    "takeuntil(xs, cond) = TakeUntil(xs, cond)\n",
    "Base.start(it::TakeUntil) = start(it.xs), false\n",
    "\n",
    "function Base.next(it::TakeUntil, state)\n",
    "    i, s = next(it.xs, state[1])\n",
    "    i, (s, it.cond(i))\n",
    "end\n",
    "\n",
    "function Base.done(it::TakeUntil, state)\n",
    "    s, iscond = state\n",
    "    iscond || done(it.xs, s)\n",
    "end"
   ]
  },
  {
   "cell_type": "code",
   "execution_count": 48,
   "metadata": {
    "collapsed": false
   },
   "outputs": [
    {
     "data": {
      "text/plain": [
       "5-element Array{Any,1}:\n",
       " 1\n",
       " 2\n",
       " 3\n",
       " 4\n",
       " 5"
      ]
     },
     "execution_count": 48,
     "metadata": {},
     "output_type": "execute_result"
    }
   ],
   "source": [
    "collect(takeuntil(1:10, x -> x*x >= 25))  # x <= sqrt(25) -> 1:5"
   ]
  },
  {
   "cell_type": "markdown",
   "metadata": {},
   "source": [
    "#### Application: How long does it take to get a prime number from a Poisson process"
   ]
  },
  {
   "cell_type": "markdown",
   "metadata": {},
   "source": [
    "As an application of the `TakeUntil` iterator, an experiment. How many draws do\n",
    "we have to make from a Poisson process until we draw a prime number? For this\n",
    "example, I'll use a Poisson with mean 5,000.\n",
    "\n",
    "In the code, we make a `Repeat` iterator that repeatedly draws from the\n",
    "Poisson. We pass this into `takeuntil` and this creates an iterator that draws\n",
    "from the Poisson until we find a prime number. While this is happening, we keep track of the\n",
    "number of steps we took through this iterator."
   ]
  },
  {
   "cell_type": "code",
   "execution_count": 49,
   "metadata": {
    "collapsed": false
   },
   "outputs": [
    {
     "data": {
      "text/plain": [
       "(anonymous function)"
      ]
     },
     "execution_count": 49,
     "metadata": {},
     "output_type": "execute_result"
    }
   ],
   "source": [
    "# Draw random integers from a distibrution d until you get a prime number.\n",
    "# Return the number of draws.\n",
    "function primetime(d, dparams)\n",
    "    randgen = () -> rand(d(dparams...))\n",
    "    tu = takeuntil(repeated(randgen), isprime)\n",
    "    time = 0\n",
    "    for i = tu\n",
    "        time += 1\n",
    "    end\n",
    "    time\n",
    "end\n",
    "\n",
    "primetime_poiss5k = () -> primetime(Poisson, 5000)"
   ]
  },
  {
   "cell_type": "markdown",
   "metadata": {},
   "source": [
    "What's the average wait for a prime? Repeating the experiment 10,000 times, we\n",
    "find the average number of draws is between 7 and 8."
   ]
  },
  {
   "cell_type": "code",
   "execution_count": 50,
   "metadata": {
    "collapsed": false
   },
   "outputs": [
    {
     "data": {
      "text/plain": [
       "7.5997"
      ]
     },
     "execution_count": 50,
     "metadata": {},
     "output_type": "execute_result"
    }
   ],
   "source": [
    "mean(repeated(primetime_poiss5k, 10_000))"
   ]
  },
  {
   "cell_type": "markdown",
   "metadata": {},
   "source": [
    "To see the distribution of waiting times, I'll collect each repetition of the\n",
    "experiment in an array that we can plot."
   ]
  },
  {
   "cell_type": "code",
   "execution_count": 51,
   "metadata": {
    "collapsed": false
   },
   "outputs": [
    {
     "data": {
      "text/plain": [
       "10000-element Array{Int64,1}:\n",
       "  8\n",
       " 12\n",
       "  1\n",
       "  1\n",
       "  1\n",
       "  9\n",
       "  4\n",
       " 18\n",
       "  1\n",
       "  4\n",
       "  1\n",
       " 12\n",
       "  3\n",
       "  ⋮\n",
       " 21\n",
       "  9\n",
       " 19\n",
       "  2\n",
       "  2\n",
       "  2\n",
       "  9\n",
       " 10\n",
       "  6\n",
       "  2\n",
       " 10\n",
       "  5"
      ]
     },
     "execution_count": 51,
     "metadata": {},
     "output_type": "execute_result"
    }
   ],
   "source": [
    "times = [t::Int for t = repeated(primetime_poiss5k, 10_000)]"
   ]
  },
  {
   "cell_type": "code",
   "execution_count": 52,
   "metadata": {
    "collapsed": false
   },
   "outputs": [
    {
     "data": {
      "text/html": [
       "<div id=\"gadflyplot-hBdMVYn1UqHbGk1dbScj\"></div>\n",
       "<script>\n",
       "function draw_with_data(data, parent_id) {\n",
       "  var g = d3.select(parent_id)\n",
       "            .append(\"svg\")\n",
       "              .attr(\"width\", \"227.51mm\")\n",
       "              .attr(\"height\", \"132.28mm\")\n",
       "              .attr(\"viewBox\", \"0 0 227.51 132.28\")\n",
       "              .attr(\"stroke-width\", \"0.5\")\n",
       "              .attr(\"style\", \"stroke:black;fill:black\");\n",
       "  g.append(\"defs\");\n",
       "  var ctx = {\n",
       "      \"scale\": 1.0,\n",
       "      \"tx\": 0.0,\n",
       "      \"ty\": 0.0\n",
       "  };\n",
       "(function (g) {\n",
       "  g.attr(\"class\", \"plotroot\");\n",
       "  (function (g) {\n",
       "    g.attr(\"stroke\", \"none\")\n",
       "     .attr(\"fill\", \"#4C404B\")\n",
       "     .attr(\"font-family\", \"'PT Sans','Helvetica Neue','Helvetica',sans-serif\")\n",
       "     .style(\"font-size\", \"3.18px\")\n",
       "     .attr(\"class\", \"guide ylabels\");\n",
       "    g.append(\"svg:text\")\n",
       "       .attr(\"x\", 19.05)\n",
       "       .attr(\"y\", 17.02)\n",
       "       .attr(\"text-anchor\", \"end\")\n",
       "       .style(\"dominant-baseline\", \"central\")\n",
       "    .call(function(text) {\n",
       "  text.text(\"1500\");\n",
       "})\n",
       ";\n",
       "    g.append(\"svg:text\")\n",
       "       .attr(\"x\", 19.05)\n",
       "       .attr(\"y\", 78.31)\n",
       "       .attr(\"text-anchor\", \"end\")\n",
       "       .style(\"dominant-baseline\", \"central\")\n",
       "    .call(function(text) {\n",
       "  text.text(\"500\");\n",
       "})\n",
       ";\n",
       "    (function (g) {\n",
       "      g.attr(\"visibility\", \"hidden\");\n",
       "      g.append(\"svg:text\")\n",
       "         .attr(\"x\", 19.05)\n",
       "         .attr(\"y\", 231.54)\n",
       "         .attr(\"text-anchor\", \"end\")\n",
       "         .style(\"dominant-baseline\", \"central\")\n",
       "      .call(function(text) {\n",
       "  text.text(\"-2000\");\n",
       "})\n",
       ";\n",
       "    }(g.append(\"g\")));\n",
       "    (function (g) {\n",
       "      g.attr(\"visibility\", \"hidden\");\n",
       "      g.append(\"svg:text\")\n",
       "         .attr(\"x\", 19.05)\n",
       "         .attr(\"y\", 200.9)\n",
       "         .attr(\"text-anchor\", \"end\")\n",
       "         .style(\"dominant-baseline\", \"central\")\n",
       "      .call(function(text) {\n",
       "  text.text(\"-1500\");\n",
       "})\n",
       ";\n",
       "    }(g.append(\"g\")));\n",
       "    (function (g) {\n",
       "      g.attr(\"visibility\", \"hidden\");\n",
       "      g.append(\"svg:text\")\n",
       "         .attr(\"x\", 19.05)\n",
       "         .attr(\"y\", 170.25)\n",
       "         .attr(\"text-anchor\", \"end\")\n",
       "         .style(\"dominant-baseline\", \"central\")\n",
       "      .call(function(text) {\n",
       "  text.text(\"-1000\");\n",
       "})\n",
       ";\n",
       "    }(g.append(\"g\")));\n",
       "    (function (g) {\n",
       "      g.attr(\"visibility\", \"hidden\");\n",
       "      g.append(\"svg:text\")\n",
       "         .attr(\"x\", 19.05)\n",
       "         .attr(\"y\", 139.6)\n",
       "         .attr(\"text-anchor\", \"end\")\n",
       "         .style(\"dominant-baseline\", \"central\")\n",
       "      .call(function(text) {\n",
       "  text.text(\"-500\");\n",
       "})\n",
       ";\n",
       "    }(g.append(\"g\")));\n",
       "    (function (g) {\n",
       "      g.attr(\"visibility\", \"hidden\");\n",
       "      g.append(\"svg:text\")\n",
       "         .attr(\"x\", 19.05)\n",
       "         .attr(\"y\", -74.92)\n",
       "         .attr(\"text-anchor\", \"end\")\n",
       "         .style(\"dominant-baseline\", \"central\")\n",
       "      .call(function(text) {\n",
       "  text.text(\"3000\");\n",
       "})\n",
       ";\n",
       "    }(g.append(\"g\")));\n",
       "    g.append(\"svg:text\")\n",
       "       .attr(\"x\", 19.05)\n",
       "       .attr(\"y\", 47.66)\n",
       "       .attr(\"text-anchor\", \"end\")\n",
       "       .style(\"dominant-baseline\", \"central\")\n",
       "    .call(function(text) {\n",
       "  text.text(\"1000\");\n",
       "})\n",
       ";\n",
       "    g.append(\"svg:text\")\n",
       "       .attr(\"x\", 19.05)\n",
       "       .attr(\"y\", 108.96)\n",
       "       .attr(\"text-anchor\", \"end\")\n",
       "       .style(\"dominant-baseline\", \"central\")\n",
       "    .call(function(text) {\n",
       "  text.text(\"0\");\n",
       "})\n",
       ";\n",
       "    (function (g) {\n",
       "      g.attr(\"visibility\", \"hidden\");\n",
       "      g.append(\"svg:text\")\n",
       "         .attr(\"x\", 19.05)\n",
       "         .attr(\"y\", -105.57)\n",
       "         .attr(\"text-anchor\", \"end\")\n",
       "         .style(\"dominant-baseline\", \"central\")\n",
       "      .call(function(text) {\n",
       "  text.text(\"3500\");\n",
       "})\n",
       ";\n",
       "    }(g.append(\"g\")));\n",
       "    (function (g) {\n",
       "      g.attr(\"visibility\", \"hidden\");\n",
       "      g.append(\"svg:text\")\n",
       "         .attr(\"x\", 19.05)\n",
       "         .attr(\"y\", -44.28)\n",
       "         .attr(\"text-anchor\", \"end\")\n",
       "         .style(\"dominant-baseline\", \"central\")\n",
       "      .call(function(text) {\n",
       "  text.text(\"2500\");\n",
       "})\n",
       ";\n",
       "    }(g.append(\"g\")));\n",
       "    (function (g) {\n",
       "      g.attr(\"visibility\", \"hidden\");\n",
       "      g.append(\"svg:text\")\n",
       "         .attr(\"x\", 19.05)\n",
       "         .attr(\"y\", -13.63)\n",
       "         .attr(\"text-anchor\", \"end\")\n",
       "         .style(\"dominant-baseline\", \"central\")\n",
       "      .call(function(text) {\n",
       "  text.text(\"2000\");\n",
       "})\n",
       ";\n",
       "    }(g.append(\"g\")));\n",
       "  }(g.append(\"g\")));\n",
       "  (function (g) {\n",
       "    g.attr(\"stroke\", \"none\")\n",
       "     .attr(\"fill\", \"#4C404B\")\n",
       "     .attr(\"font-family\", \"'PT Sans','Helvetica Neue','Helvetica',sans-serif\")\n",
       "     .style(\"font-size\", \"3.18px\")\n",
       "     .attr(\"class\", \"guide xlabels\");\n",
       "    (function (g) {\n",
       "      g.attr(\"visibility\", \"hidden\");\n",
       "      g.append(\"svg:text\")\n",
       "         .attr(\"x\", 320.43)\n",
       "         .attr(\"y\", 117.02)\n",
       "         .attr(\"text-anchor\", \"middle\")\n",
       "      .call(function(text) {\n",
       "  text.text(\"\");\n",
       "})\n",
       ";\n",
       "    }(g.append(\"g\")));\n",
       "    (function (g) {\n",
       "      g.attr(\"visibility\", \"hidden\");\n",
       "      g.append(\"svg:text\")\n",
       "         .attr(\"x\", -177.43)\n",
       "         .attr(\"y\", 117.02)\n",
       "         .attr(\"text-anchor\", \"middle\")\n",
       "      .call(function(text) {\n",
       "  text.text(\"\");\n",
       "})\n",
       ";\n",
       "    }(g.append(\"g\")));\n",
       "    (function (g) {\n",
       "      g.attr(\"visibility\", \"hidden\");\n",
       "      g.append(\"svg:text\")\n",
       "         .attr(\"x\", 287.24)\n",
       "         .attr(\"y\", 117.02)\n",
       "         .attr(\"text-anchor\", \"middle\")\n",
       "      .call(function(text) {\n",
       "  text.text(\"\");\n",
       "})\n",
       ";\n",
       "    }(g.append(\"g\")));\n",
       "    (function (g) {\n",
       "      g.attr(\"visibility\", \"hidden\");\n",
       "      g.append(\"svg:text\")\n",
       "         .attr(\"x\", -77.86)\n",
       "         .attr(\"y\", 117.02)\n",
       "         .attr(\"text-anchor\", \"middle\")\n",
       "      .call(function(text) {\n",
       "  text.text(\"\");\n",
       "})\n",
       ";\n",
       "    }(g.append(\"g\")));\n",
       "    g.append(\"svg:text\")\n",
       "       .attr(\"x\", 220.85)\n",
       "       .attr(\"y\", 117.02)\n",
       "       .attr(\"text-anchor\", \"middle\")\n",
       "    .call(function(text) {\n",
       "  text.text(\"\");\n",
       "})\n",
       ";\n",
       "    (function (g) {\n",
       "      g.attr(\"visibility\", \"hidden\");\n",
       "      g.append(\"svg:text\")\n",
       "         .attr(\"x\", 420)\n",
       "         .attr(\"y\", 117.02)\n",
       "         .attr(\"text-anchor\", \"middle\")\n",
       "      .call(function(text) {\n",
       "  text.text(\"\");\n",
       "})\n",
       ";\n",
       "    }(g.append(\"g\")));\n",
       "    (function (g) {\n",
       "      g.attr(\"visibility\", \"hidden\");\n",
       "      g.append(\"svg:text\")\n",
       "         .attr(\"x\", 386.81)\n",
       "         .attr(\"y\", 117.02)\n",
       "         .attr(\"text-anchor\", \"middle\")\n",
       "      .call(function(text) {\n",
       "  text.text(\"\");\n",
       "})\n",
       ";\n",
       "    }(g.append(\"g\")));\n",
       "    g.append(\"svg:text\")\n",
       "       .attr(\"x\", 54.9)\n",
       "       .attr(\"y\", 117.02)\n",
       "       .attr(\"text-anchor\", \"middle\")\n",
       "    .call(function(text) {\n",
       "  text.text(\"10\");\n",
       "})\n",
       ";\n",
       "    (function (g) {\n",
       "      g.attr(\"visibility\", \"hidden\");\n",
       "      g.append(\"svg:text\")\n",
       "         .attr(\"x\", -44.67)\n",
       "         .attr(\"y\", 117.02)\n",
       "         .attr(\"text-anchor\", \"middle\")\n",
       "      .call(function(text) {\n",
       "  text.text(\"\");\n",
       "})\n",
       ";\n",
       "    }(g.append(\"g\")));\n",
       "    (function (g) {\n",
       "      g.attr(\"visibility\", \"hidden\");\n",
       "      g.append(\"svg:text\")\n",
       "         .attr(\"x\", 453.19)\n",
       "         .attr(\"y\", 117.02)\n",
       "         .attr(\"text-anchor\", \"middle\")\n",
       "      .call(function(text) {\n",
       "  text.text(\"\");\n",
       "})\n",
       ";\n",
       "    }(g.append(\"g\")));\n",
       "    (function (g) {\n",
       "      g.attr(\"visibility\", \"hidden\");\n",
       "      g.append(\"svg:text\")\n",
       "         .attr(\"x\", -11.48)\n",
       "         .attr(\"y\", 117.02)\n",
       "         .attr(\"text-anchor\", \"middle\")\n",
       "      .call(function(text) {\n",
       "  text.text(\"\");\n",
       "})\n",
       ";\n",
       "    }(g.append(\"g\")));\n",
       "    (function (g) {\n",
       "      g.attr(\"visibility\", \"hidden\");\n",
       "      g.append(\"svg:text\")\n",
       "         .attr(\"x\", -144.24)\n",
       "         .attr(\"y\", 117.02)\n",
       "         .attr(\"text-anchor\", \"middle\")\n",
       "      .call(function(text) {\n",
       "  text.text(\"\");\n",
       "})\n",
       ";\n",
       "    }(g.append(\"g\")));\n",
       "    (function (g) {\n",
       "      g.attr(\"visibility\", \"hidden\");\n",
       "      g.append(\"svg:text\")\n",
       "         .attr(\"x\", -210.63)\n",
       "         .attr(\"y\", 117.02)\n",
       "         .attr(\"text-anchor\", \"middle\")\n",
       "      .call(function(text) {\n",
       "  text.text(\"\");\n",
       "})\n",
       ";\n",
       "    }(g.append(\"g\")));\n",
       "    (function (g) {\n",
       "      g.attr(\"visibility\", \"hidden\");\n",
       "      g.append(\"svg:text\")\n",
       "         .attr(\"x\", 254.04)\n",
       "         .attr(\"y\", 117.02)\n",
       "         .attr(\"text-anchor\", \"middle\")\n",
       "      .call(function(text) {\n",
       "  text.text(\"\");\n",
       "})\n",
       ";\n",
       "    }(g.append(\"g\")));\n",
       "    g.append(\"svg:text\")\n",
       "       .attr(\"x\", 88.09)\n",
       "       .attr(\"y\", 117.02)\n",
       "       .attr(\"text-anchor\", \"middle\")\n",
       "    .call(function(text) {\n",
       "  text.text(\"20\");\n",
       "})\n",
       ";\n",
       "    g.append(\"svg:text\")\n",
       "       .attr(\"x\", 21.71)\n",
       "       .attr(\"y\", 117.02)\n",
       "       .attr(\"text-anchor\", \"middle\")\n",
       "    .call(function(text) {\n",
       "  text.text(\"\");\n",
       "})\n",
       ";\n",
       "    g.append(\"svg:text\")\n",
       "       .attr(\"x\", 187.66)\n",
       "       .attr(\"y\", 117.02)\n",
       "       .attr(\"text-anchor\", \"middle\")\n",
       "    .call(function(text) {\n",
       "  text.text(\"50\");\n",
       "})\n",
       ";\n",
       "    (function (g) {\n",
       "      g.attr(\"visibility\", \"hidden\");\n",
       "      g.append(\"svg:text\")\n",
       "         .attr(\"x\", -111.05)\n",
       "         .attr(\"y\", 117.02)\n",
       "         .attr(\"text-anchor\", \"middle\")\n",
       "      .call(function(text) {\n",
       "  text.text(\"\");\n",
       "})\n",
       ";\n",
       "    }(g.append(\"g\")));\n",
       "    g.append(\"svg:text\")\n",
       "       .attr(\"x\", 154.47)\n",
       "       .attr(\"y\", 117.02)\n",
       "       .attr(\"text-anchor\", \"middle\")\n",
       "    .call(function(text) {\n",
       "  text.text(\"40\");\n",
       "})\n",
       ";\n",
       "    g.append(\"svg:text\")\n",
       "       .attr(\"x\", 121.28)\n",
       "       .attr(\"y\", 117.02)\n",
       "       .attr(\"text-anchor\", \"middle\")\n",
       "    .call(function(text) {\n",
       "  text.text(\"30\");\n",
       "})\n",
       ";\n",
       "    (function (g) {\n",
       "      g.attr(\"visibility\", \"hidden\");\n",
       "      g.append(\"svg:text\")\n",
       "         .attr(\"x\", 353.62)\n",
       "         .attr(\"y\", 117.02)\n",
       "         .attr(\"text-anchor\", \"middle\")\n",
       "      .call(function(text) {\n",
       "  text.text(\"\");\n",
       "})\n",
       ";\n",
       "    }(g.append(\"g\")));\n",
       "  }(g.append(\"g\")));\n",
       "  (function (g) {\n",
       "    g.attr(\"stroke\", \"none\")\n",
       "     .attr(\"fill\", \"#362A35\")\n",
       "     .attr(\"font-family\", \"'PT Sans','Helvetica Neue','Helvetica',sans-serif\")\n",
       "     .style(\"font-size\", \"3.88px\");\n",
       "    g.append(\"svg:text\")\n",
       "       .attr(\"x\", 121.28)\n",
       "       .attr(\"y\", 125.28)\n",
       "       .attr(\"text-anchor\", \"middle\")\n",
       "    .call(function(text) {\n",
       "  text.text(\"Time\");\n",
       "})\n",
       ";\n",
       "  }(g.append(\"g\")));\n",
       "  (function (g) {\n",
       "    g.attr(\"stroke\", \"none\")\n",
       "     .attr(\"fill\", \"#362A35\")\n",
       "     .attr(\"font-family\", \"'PT Sans','Helvetica Neue','Helvetica',sans-serif\")\n",
       "     .style(\"font-size\", \"3.88px\");\n",
       "    g.append(\"svg:text\")\n",
       "       .attr(\"x\", 121.28)\n",
       "       .attr(\"y\", 12.26)\n",
       "       .attr(\"text-anchor\", \"middle\")\n",
       "    .call(function(text) {\n",
       "  text.text(\"Distribution of waiting times until a prime number\\nfrom a Poisson(5000) process (N=10,000)\");\n",
       "})\n",
       ";\n",
       "  }(g.append(\"g\")));\n",
       "  (function (g) {\n",
       "    g.on(\"mouseover\", guide_background_mouseover(\"#C6C6C9\"))\n",
       "     .on(\"mouseout\", guide_background_mouseout(\"#F0F0F3\"))\n",
       "     .call(zoom_behavior(ctx))\n",
       ";\n",
       "    (function (g) {\n",
       "      d3.select(\"defs\")\n",
       "  .append(\"svg:clipPath\")\n",
       "    .attr(\"id\", parent_id + \"_clippath0\")\n",
       "    .append(\"svg:path\")\n",
       "      .attr(\"d\", \" M20.05,14.26 L 222.51 14.26 222.51 111.72 20.05 111.72 z\");g.attr(\"clip-path\", \"url(#\" + parent_id + \"_clippath0)\");\n",
       "      (function (g) {\n",
       "        g.attr(\"class\", \"guide background\")\n",
       "         .attr(\"stroke\", \"#F1F1F5\")\n",
       "         .attr(\"fill\", \"#FAFAFA\");\n",
       "        g.append(\"svg:path\")\n",
       "           .attr(\"d\", \"M20.05,14.26 L 222.51 14.26 222.51 111.72 20.05 111.72 z\");\n",
       "      }(g.append(\"g\")));\n",
       "      (function (g) {\n",
       "        g.attr(\"stroke\", \"#F0F0F3\")\n",
       "         .attr(\"stroke-width\", 0.2)\n",
       "         .attr(\"class\", \"guide ygridlines xfixed\");\n",
       "        g.append(\"svg:path\")\n",
       "           .attr(\"d\", \"M20.05,78.31 L 222.51 78.31\");\n",
       "        g.append(\"svg:path\")\n",
       "           .attr(\"d\", \"M20.05,200.9 L 222.51 200.9\");\n",
       "        g.append(\"svg:path\")\n",
       "           .attr(\"d\", \"M20.05,139.6 L 222.51 139.6\");\n",
       "        g.append(\"svg:path\")\n",
       "           .attr(\"d\", \"M20.05,47.66 L 222.51 47.66\");\n",
       "        g.append(\"svg:path\")\n",
       "           .attr(\"d\", \"M20.05,-105.57 L 222.51 -105.57\");\n",
       "        g.append(\"svg:path\")\n",
       "           .attr(\"d\", \"M20.05,-13.63 L 222.51 -13.63\");\n",
       "        g.append(\"svg:path\")\n",
       "           .attr(\"d\", \"M20.05,-44.28 L 222.51 -44.28\");\n",
       "        g.append(\"svg:path\")\n",
       "           .attr(\"d\", \"M20.05,108.96 L 222.51 108.96\");\n",
       "        g.append(\"svg:path\")\n",
       "           .attr(\"d\", \"M20.05,-74.92 L 222.51 -74.92\");\n",
       "        g.append(\"svg:path\")\n",
       "           .attr(\"d\", \"M20.05,170.25 L 222.51 170.25\");\n",
       "        g.append(\"svg:path\")\n",
       "           .attr(\"d\", \"M20.05,231.54 L 222.51 231.54\");\n",
       "        g.append(\"svg:path\")\n",
       "           .attr(\"d\", \"M20.05,17.02 L 222.51 17.02\");\n",
       "      }(g.append(\"g\")));\n",
       "      (function (g) {\n",
       "        g.attr(\"stroke\", \"#F0F0F3\")\n",
       "         .attr(\"stroke-width\", 0.2)\n",
       "         .attr(\"class\", \"guide xgridlines yfixed\");\n",
       "        g.append(\"svg:path\")\n",
       "           .attr(\"d\", \"M-177.43,14.26 L -177.43 111.72\");\n",
       "        g.append(\"svg:path\")\n",
       "           .attr(\"d\", \"M-77.86,14.26 L -77.86 111.72\");\n",
       "        g.append(\"svg:path\")\n",
       "           .attr(\"d\", \"M420,14.26 L 420 111.72\");\n",
       "        g.append(\"svg:path\")\n",
       "           .attr(\"d\", \"M54.9,14.26 L 54.9 111.72\");\n",
       "        g.append(\"svg:path\")\n",
       "           .attr(\"d\", \"M453.19,14.26 L 453.19 111.72\");\n",
       "        g.append(\"svg:path\")\n",
       "           .attr(\"d\", \"M-144.24,14.26 L -144.24 111.72\");\n",
       "        g.append(\"svg:path\")\n",
       "           .attr(\"d\", \"M254.04,14.26 L 254.04 111.72\");\n",
       "        g.append(\"svg:path\")\n",
       "           .attr(\"d\", \"M21.71,14.26 L 21.71 111.72\");\n",
       "        g.append(\"svg:path\")\n",
       "           .attr(\"d\", \"M-111.05,14.26 L -111.05 111.72\");\n",
       "        g.append(\"svg:path\")\n",
       "           .attr(\"d\", \"M121.28,14.26 L 121.28 111.72\");\n",
       "        g.append(\"svg:path\")\n",
       "           .attr(\"d\", \"M353.62,14.26 L 353.62 111.72\");\n",
       "        g.append(\"svg:path\")\n",
       "           .attr(\"d\", \"M154.47,14.26 L 154.47 111.72\");\n",
       "        g.append(\"svg:path\")\n",
       "           .attr(\"d\", \"M187.66,14.26 L 187.66 111.72\");\n",
       "        g.append(\"svg:path\")\n",
       "           .attr(\"d\", \"M88.09,14.26 L 88.09 111.72\");\n",
       "        g.append(\"svg:path\")\n",
       "           .attr(\"d\", \"M-210.63,14.26 L -210.63 111.72\");\n",
       "        g.append(\"svg:path\")\n",
       "           .attr(\"d\", \"M-11.48,14.26 L -11.48 111.72\");\n",
       "        g.append(\"svg:path\")\n",
       "           .attr(\"d\", \"M-44.67,14.26 L -44.67 111.72\");\n",
       "        g.append(\"svg:path\")\n",
       "           .attr(\"d\", \"M386.81,14.26 L 386.81 111.72\");\n",
       "        g.append(\"svg:path\")\n",
       "           .attr(\"d\", \"M220.85,14.26 L 220.85 111.72\");\n",
       "        g.append(\"svg:path\")\n",
       "           .attr(\"d\", \"M287.24,14.26 L 287.24 111.72\");\n",
       "        g.append(\"svg:path\")\n",
       "           .attr(\"d\", \"M320.43,14.26 L 320.43 111.72\");\n",
       "      }(g.append(\"g\")));\n",
       "    }(g.append(\"g\")));\n",
       "    (function (g) {\n",
       "      d3.select(\"defs\")\n",
       "  .append(\"svg:clipPath\")\n",
       "    .attr(\"id\", parent_id + \"_clippath1\")\n",
       "    .append(\"svg:path\")\n",
       "      .attr(\"d\", \" M20.05,14.26 L 222.51 14.26 222.51 111.72 20.05 111.72 z\");g.attr(\"clip-path\", \"url(#\" + parent_id + \"_clippath1)\");\n",
       "      (function (g) {\n",
       "        g.attr(\"class\", \"plotpanel\");\n",
       "        (function (g) {\n",
       "          g.attr(\"shape-rendering\", \"crispEdges\")\n",
       "           .attr(\"fill\", \"#00BFFF\")\n",
       "           .attr(\"stroke\", \"none\");\n",
       "          (function (g) {\n",
       "            g.attr(\"id\", \"id56\")\n",
       "             .attr(\"class\", \"geometry\");\n",
       "            g.append(\"svg:path\")\n",
       "               .attr(\"d\", \"M207.64,108.96 L 210.9 108.96 210.9 108.9 207.64 108.9 z\");\n",
       "          }(g.append(\"g\")));\n",
       "          (function (g) {\n",
       "            g.attr(\"id\", \"id54\")\n",
       "             .attr(\"class\", \"geometry\");\n",
       "            g.append(\"svg:path\")\n",
       "               .attr(\"d\", \"M201.11,108.96 L 204.37 108.96 204.37 108.9 201.11 108.9 z\");\n",
       "          }(g.append(\"g\")));\n",
       "          (function (g) {\n",
       "            g.attr(\"id\", \"id52\")\n",
       "             .attr(\"class\", \"geometry\");\n",
       "            g.append(\"svg:path\")\n",
       "               .attr(\"d\", \"M194.59,108.96 L 197.85 108.96 197.85 108.9 194.59 108.9 z\");\n",
       "          }(g.append(\"g\")));\n",
       "          (function (g) {\n",
       "            g.attr(\"id\", \"id50\")\n",
       "             .attr(\"class\", \"geometry\");\n",
       "            g.append(\"svg:path\")\n",
       "               .attr(\"d\", \"M188.07,108.96 L 191.33 108.96 191.33 108.9 188.07 108.9 z\");\n",
       "          }(g.append(\"g\")));\n",
       "          (function (g) {\n",
       "            g.attr(\"id\", \"id48\")\n",
       "             .attr(\"class\", \"geometry\");\n",
       "            g.append(\"svg:path\")\n",
       "               .attr(\"d\", \"M181.55,108.96 L 184.81 108.96 184.81 108.83 181.55 108.83 z\");\n",
       "          }(g.append(\"g\")));\n",
       "          (function (g) {\n",
       "            g.attr(\"id\", \"id46\")\n",
       "             .attr(\"class\", \"geometry\");\n",
       "            g.append(\"svg:path\")\n",
       "               .attr(\"d\", \"M175.03,108.96 L 178.29 108.96 178.29 108.9 175.03 108.9 z\");\n",
       "          }(g.append(\"g\")));\n",
       "          (function (g) {\n",
       "            g.attr(\"id\", \"id44\")\n",
       "             .attr(\"class\", \"geometry\");\n",
       "            g.append(\"svg:path\")\n",
       "               .attr(\"d\", \"M168.51,108.96 L 171.77 108.96 171.77 108.83 168.51 108.83 z\");\n",
       "          }(g.append(\"g\")));\n",
       "          (function (g) {\n",
       "            g.attr(\"id\", \"id42\")\n",
       "             .attr(\"class\", \"geometry\");\n",
       "            g.append(\"svg:path\")\n",
       "               .attr(\"d\", \"M161.98,108.96 L 165.24 108.96 165.24 108.59 161.98 108.59 z\");\n",
       "          }(g.append(\"g\")));\n",
       "          (function (g) {\n",
       "            g.attr(\"id\", \"id40\")\n",
       "             .attr(\"class\", \"geometry\");\n",
       "            g.append(\"svg:path\")\n",
       "               .attr(\"d\", \"M155.46,108.96 L 158.72 108.96 158.72 108.53 155.46 108.53 z\");\n",
       "          }(g.append(\"g\")));\n",
       "          (function (g) {\n",
       "            g.attr(\"id\", \"id38\")\n",
       "             .attr(\"class\", \"geometry\");\n",
       "            g.append(\"svg:path\")\n",
       "               .attr(\"d\", \"M148.94,108.96 L 152.2 108.96 152.2 108.83 148.94 108.83 z\");\n",
       "          }(g.append(\"g\")));\n",
       "          (function (g) {\n",
       "            g.attr(\"id\", \"id36\")\n",
       "             .attr(\"class\", \"geometry\");\n",
       "            g.append(\"svg:path\")\n",
       "               .attr(\"d\", \"M142.42,108.96 L 145.68 108.96 145.68 108.59 142.42 108.59 z\");\n",
       "          }(g.append(\"g\")));\n",
       "          (function (g) {\n",
       "            g.attr(\"id\", \"id34\")\n",
       "             .attr(\"class\", \"geometry\");\n",
       "            g.append(\"svg:path\")\n",
       "               .attr(\"d\", \"M135.9,108.96 L 139.16 108.96 139.16 107.98 135.9 107.98 z\");\n",
       "          }(g.append(\"g\")));\n",
       "          (function (g) {\n",
       "            g.attr(\"id\", \"id32\")\n",
       "             .attr(\"class\", \"geometry\");\n",
       "            g.append(\"svg:path\")\n",
       "               .attr(\"d\", \"M129.38,108.96 L 132.64 108.96 132.64 108.1 129.38 108.1 z\");\n",
       "          }(g.append(\"g\")));\n",
       "          (function (g) {\n",
       "            g.attr(\"id\", \"id30\")\n",
       "             .attr(\"class\", \"geometry\");\n",
       "            g.append(\"svg:path\")\n",
       "               .attr(\"d\", \"M122.85,108.96 L 126.11 108.96 126.11 107.61 122.85 107.61 z\");\n",
       "          }(g.append(\"g\")));\n",
       "          (function (g) {\n",
       "            g.attr(\"id\", \"id28\")\n",
       "             .attr(\"class\", \"geometry\");\n",
       "            g.append(\"svg:path\")\n",
       "               .attr(\"d\", \"M116.33,108.96 L 119.59 108.96 119.59 106.69 116.33 106.69 z\");\n",
       "          }(g.append(\"g\")));\n",
       "          (function (g) {\n",
       "            g.attr(\"id\", \"id26\")\n",
       "             .attr(\"class\", \"geometry\");\n",
       "            g.append(\"svg:path\")\n",
       "               .attr(\"d\", \"M109.81,108.96 L 113.07 108.96 113.07 106.87 109.81 106.87 z\");\n",
       "          }(g.append(\"g\")));\n",
       "          (function (g) {\n",
       "            g.attr(\"id\", \"id24\")\n",
       "             .attr(\"class\", \"geometry\");\n",
       "            g.append(\"svg:path\")\n",
       "               .attr(\"d\", \"M103.29,108.96 L 106.55 108.96 106.55 105.16 103.29 105.16 z\");\n",
       "          }(g.append(\"g\")));\n",
       "          (function (g) {\n",
       "            g.attr(\"id\", \"id22\")\n",
       "             .attr(\"class\", \"geometry\");\n",
       "            g.append(\"svg:path\")\n",
       "               .attr(\"d\", \"M96.77,108.96 L 100.03 108.96 100.03 105.1 96.77 105.1 z\");\n",
       "          }(g.append(\"g\")));\n",
       "          (function (g) {\n",
       "            g.attr(\"id\", \"id20\")\n",
       "             .attr(\"class\", \"geometry\");\n",
       "            g.append(\"svg:path\")\n",
       "               .attr(\"d\", \"M90.25,108.96 L 93.51 108.96 93.51 103.69 90.25 103.69 z\");\n",
       "          }(g.append(\"g\")));\n",
       "          (function (g) {\n",
       "            g.attr(\"id\", \"id18\")\n",
       "             .attr(\"class\", \"geometry\");\n",
       "            g.append(\"svg:path\")\n",
       "               .attr(\"d\", \"M83.72,108.96 L 86.98 108.96 86.98 103.07 83.72 103.07 z\");\n",
       "          }(g.append(\"g\")));\n",
       "          (function (g) {\n",
       "            g.attr(\"id\", \"id16\")\n",
       "             .attr(\"class\", \"geometry\");\n",
       "            g.append(\"svg:path\")\n",
       "               .attr(\"d\", \"M77.2,108.96 L 80.46 108.96 80.46 99.52 77.2 99.52 z\");\n",
       "          }(g.append(\"g\")));\n",
       "          (function (g) {\n",
       "            g.attr(\"id\", \"id14\")\n",
       "             .attr(\"class\", \"geometry\");\n",
       "            g.append(\"svg:path\")\n",
       "               .attr(\"d\", \"M70.68,108.96 L 73.94 108.96 73.94 96.88 70.68 96.88 z\");\n",
       "          }(g.append(\"g\")));\n",
       "          (function (g) {\n",
       "            g.attr(\"id\", \"id12\")\n",
       "             .attr(\"class\", \"geometry\");\n",
       "            g.append(\"svg:path\")\n",
       "               .attr(\"d\", \"M64.16,108.96 L 67.42 108.96 67.42 96.39 64.16 96.39 z\");\n",
       "          }(g.append(\"g\")));\n",
       "          (function (g) {\n",
       "            g.attr(\"id\", \"id10\")\n",
       "             .attr(\"class\", \"geometry\");\n",
       "            g.append(\"svg:path\")\n",
       "               .attr(\"d\", \"M57.64,108.96 L 60.9 108.96 60.9 87.5 57.64 87.5 z\");\n",
       "          }(g.append(\"g\")));\n",
       "          (function (g) {\n",
       "            g.attr(\"id\", \"id8\")\n",
       "             .attr(\"class\", \"geometry\");\n",
       "            g.append(\"svg:path\")\n",
       "               .attr(\"d\", \"M51.12,108.96 L 54.38 108.96 54.38 83.09 51.12 83.09 z\");\n",
       "          }(g.append(\"g\")));\n",
       "          (function (g) {\n",
       "            g.attr(\"id\", \"id6\")\n",
       "             .attr(\"class\", \"geometry\");\n",
       "            g.append(\"svg:path\")\n",
       "               .attr(\"d\", \"M44.59,108.96 L 47.85 108.96 47.85 75.18 44.59 75.18 z\");\n",
       "          }(g.append(\"g\")));\n",
       "          (function (g) {\n",
       "            g.attr(\"id\", \"id4\")\n",
       "             .attr(\"class\", \"geometry\");\n",
       "            g.append(\"svg:path\")\n",
       "               .attr(\"d\", \"M38.07,108.96 L 41.33 108.96 41.33 60.6 38.07 60.6 z\");\n",
       "          }(g.append(\"g\")));\n",
       "          (function (g) {\n",
       "            g.attr(\"id\", \"id2\")\n",
       "             .attr(\"class\", \"geometry\");\n",
       "            g.append(\"svg:path\")\n",
       "               .attr(\"d\", \"M31.55,108.96 L 34.81 108.96 34.81 49.81 31.55 49.81 z\");\n",
       "          }(g.append(\"g\")));\n",
       "          (function (g) {\n",
       "            g.attr(\"id\", \"id0\")\n",
       "             .attr(\"class\", \"geometry\");\n",
       "            g.append(\"svg:path\")\n",
       "               .attr(\"d\", \"M25.03,108.96 L 28.29 108.96 28.29 28.66 25.03 28.66 z\");\n",
       "          }(g.append(\"g\")));\n",
       "          (function (g) {\n",
       "            g.attr(\"id\", \"id1\")\n",
       "             .attr(\"class\", \"geometry\");\n",
       "            g.append(\"svg:path\")\n",
       "               .attr(\"d\", \"M28.29,108.96 L 31.55 108.96 31.55 41.23 28.29 41.23 z\");\n",
       "          }(g.append(\"g\")));\n",
       "          (function (g) {\n",
       "            g.attr(\"id\", \"id3\")\n",
       "             .attr(\"class\", \"geometry\");\n",
       "            g.append(\"svg:path\")\n",
       "               .attr(\"d\", \"M34.81,108.96 L 38.07 108.96 38.07 56.37 34.81 56.37 z\");\n",
       "          }(g.append(\"g\")));\n",
       "          (function (g) {\n",
       "            g.attr(\"id\", \"id5\")\n",
       "             .attr(\"class\", \"geometry\");\n",
       "            g.append(\"svg:path\")\n",
       "               .attr(\"d\", \"M41.33,108.96 L 44.59 108.96 44.59 68.75 41.33 68.75 z\");\n",
       "          }(g.append(\"g\")));\n",
       "          (function (g) {\n",
       "            g.attr(\"id\", \"id7\")\n",
       "             .attr(\"class\", \"geometry\");\n",
       "            g.append(\"svg:path\")\n",
       "               .attr(\"d\", \"M47.85,108.96 L 51.12 108.96 51.12 79.78 47.85 79.78 z\");\n",
       "          }(g.append(\"g\")));\n",
       "          (function (g) {\n",
       "            g.attr(\"id\", \"id9\")\n",
       "             .attr(\"class\", \"geometry\");\n",
       "            g.append(\"svg:path\")\n",
       "               .attr(\"d\", \"M54.38,108.96 L 57.64 108.96 57.64 87.01 54.38 87.01 z\");\n",
       "          }(g.append(\"g\")));\n",
       "          (function (g) {\n",
       "            g.attr(\"id\", \"id11\")\n",
       "             .attr(\"class\", \"geometry\");\n",
       "            g.append(\"svg:path\")\n",
       "               .attr(\"d\", \"M60.9,108.96 L 64.16 108.96 64.16 91.98 60.9 91.98 z\");\n",
       "          }(g.append(\"g\")));\n",
       "          (function (g) {\n",
       "            g.attr(\"id\", \"id13\")\n",
       "             .attr(\"class\", \"geometry\");\n",
       "            g.append(\"svg:path\")\n",
       "               .attr(\"d\", \"M67.42,108.96 L 70.68 108.96 70.68 96.88 67.42 96.88 z\");\n",
       "          }(g.append(\"g\")));\n",
       "          (function (g) {\n",
       "            g.attr(\"id\", \"id15\")\n",
       "             .attr(\"class\", \"geometry\");\n",
       "            g.append(\"svg:path\")\n",
       "               .attr(\"d\", \"M73.94,108.96 L 77.2 108.96 77.2 99.09 73.94 99.09 z\");\n",
       "          }(g.append(\"g\")));\n",
       "          (function (g) {\n",
       "            g.attr(\"id\", \"id17\")\n",
       "             .attr(\"class\", \"geometry\");\n",
       "            g.append(\"svg:path\")\n",
       "               .attr(\"d\", \"M80.46,108.96 L 83.72 108.96 83.72 102.89 80.46 102.89 z\");\n",
       "          }(g.append(\"g\")));\n",
       "          (function (g) {\n",
       "            g.attr(\"id\", \"id19\")\n",
       "             .attr(\"class\", \"geometry\");\n",
       "            g.append(\"svg:path\")\n",
       "               .attr(\"d\", \"M86.98,108.96 L 90.25 108.96 90.25 102.52 86.98 102.52 z\");\n",
       "          }(g.append(\"g\")));\n",
       "          (function (g) {\n",
       "            g.attr(\"id\", \"id21\")\n",
       "             .attr(\"class\", \"geometry\");\n",
       "            g.append(\"svg:path\")\n",
       "               .attr(\"d\", \"M93.51,108.96 L 96.77 108.96 96.77 103.62 93.51 103.62 z\");\n",
       "          }(g.append(\"g\")));\n",
       "          (function (g) {\n",
       "            g.attr(\"id\", \"id23\")\n",
       "             .attr(\"class\", \"geometry\");\n",
       "            g.append(\"svg:path\")\n",
       "               .attr(\"d\", \"M100.03,108.96 L 103.29 108.96 103.29 105.95 100.03 105.95 z\");\n",
       "          }(g.append(\"g\")));\n",
       "          (function (g) {\n",
       "            g.attr(\"id\", \"id25\")\n",
       "             .attr(\"class\", \"geometry\");\n",
       "            g.append(\"svg:path\")\n",
       "               .attr(\"d\", \"M106.55,108.96 L 109.81 108.96 109.81 106.63 106.55 106.63 z\");\n",
       "          }(g.append(\"g\")));\n",
       "          (function (g) {\n",
       "            g.attr(\"id\", \"id27\")\n",
       "             .attr(\"class\", \"geometry\");\n",
       "            g.append(\"svg:path\")\n",
       "               .attr(\"d\", \"M113.07,108.96 L 116.33 108.96 116.33 106.93 113.07 106.93 z\");\n",
       "          }(g.append(\"g\")));\n",
       "          (function (g) {\n",
       "            g.attr(\"id\", \"id29\")\n",
       "             .attr(\"class\", \"geometry\");\n",
       "            g.append(\"svg:path\")\n",
       "               .attr(\"d\", \"M119.59,108.96 L 122.85 108.96 122.85 107.42 119.59 107.42 z\");\n",
       "          }(g.append(\"g\")));\n",
       "          (function (g) {\n",
       "            g.attr(\"id\", \"id31\")\n",
       "             .attr(\"class\", \"geometry\");\n",
       "            g.append(\"svg:path\")\n",
       "               .attr(\"d\", \"M126.11,108.96 L 129.38 108.96 129.38 107.91 126.11 107.91 z\");\n",
       "          }(g.append(\"g\")));\n",
       "          (function (g) {\n",
       "            g.attr(\"id\", \"id33\")\n",
       "             .attr(\"class\", \"geometry\");\n",
       "            g.append(\"svg:path\")\n",
       "               .attr(\"d\", \"M132.64,108.96 L 135.9 108.96 135.9 108.16 132.64 108.16 z\");\n",
       "          }(g.append(\"g\")));\n",
       "          (function (g) {\n",
       "            g.attr(\"id\", \"id35\")\n",
       "             .attr(\"class\", \"geometry\");\n",
       "            g.append(\"svg:path\")\n",
       "               .attr(\"d\", \"M139.16,108.96 L 142.42 108.96 142.42 108.53 139.16 108.53 z\");\n",
       "          }(g.append(\"g\")));\n",
       "          (function (g) {\n",
       "            g.attr(\"id\", \"id37\")\n",
       "             .attr(\"class\", \"geometry\");\n",
       "            g.append(\"svg:path\")\n",
       "               .attr(\"d\", \"M145.68,108.96 L 148.94 108.96 148.94 108.34 145.68 108.34 z\");\n",
       "          }(g.append(\"g\")));\n",
       "          (function (g) {\n",
       "            g.attr(\"id\", \"id39\")\n",
       "             .attr(\"class\", \"geometry\");\n",
       "            g.append(\"svg:path\")\n",
       "               .attr(\"d\", \"M152.2,108.96 L 155.46 108.96 155.46 108.65 152.2 108.65 z\");\n",
       "          }(g.append(\"g\")));\n",
       "          (function (g) {\n",
       "            g.attr(\"id\", \"id41\")\n",
       "             .attr(\"class\", \"geometry\");\n",
       "            g.append(\"svg:path\")\n",
       "               .attr(\"d\", \"M158.72,108.96 L 161.98 108.96 161.98 108.71 158.72 108.71 z\");\n",
       "          }(g.append(\"g\")));\n",
       "          (function (g) {\n",
       "            g.attr(\"id\", \"id43\")\n",
       "             .attr(\"class\", \"geometry\");\n",
       "            g.append(\"svg:path\")\n",
       "               .attr(\"d\", \"M165.24,108.96 L 168.51 108.96 168.51 108.71 165.24 108.71 z\");\n",
       "          }(g.append(\"g\")));\n",
       "          (function (g) {\n",
       "            g.attr(\"id\", \"id45\")\n",
       "             .attr(\"class\", \"geometry\");\n",
       "            g.append(\"svg:path\")\n",
       "               .attr(\"d\", \"M171.77,108.96 L 175.03 108.96 175.03 108.83 171.77 108.83 z\");\n",
       "          }(g.append(\"g\")));\n",
       "          (function (g) {\n",
       "            g.attr(\"id\", \"id47\")\n",
       "             .attr(\"class\", \"geometry\");\n",
       "            g.append(\"svg:path\")\n",
       "               .attr(\"d\", \"M178.29,108.96 L 181.55 108.96 181.55 108.71 178.29 108.71 z\");\n",
       "          }(g.append(\"g\")));\n",
       "          (function (g) {\n",
       "            g.attr(\"id\", \"id49\")\n",
       "             .attr(\"class\", \"geometry\");\n",
       "            g.append(\"svg:path\")\n",
       "               .attr(\"d\", \"M184.81,108.96 L 188.07 108.96 188.07 108.71 184.81 108.71 z\");\n",
       "          }(g.append(\"g\")));\n",
       "          (function (g) {\n",
       "            g.attr(\"id\", \"id51\")\n",
       "             .attr(\"class\", \"geometry\");\n",
       "            g.append(\"svg:path\")\n",
       "               .attr(\"d\", \"M191.33,108.96 L 194.59 108.96 194.59 108.9 191.33 108.9 z\");\n",
       "          }(g.append(\"g\")));\n",
       "          (function (g) {\n",
       "            g.attr(\"id\", \"id53\")\n",
       "             .attr(\"class\", \"geometry\");\n",
       "            g.append(\"svg:path\")\n",
       "               .attr(\"d\", \"M197.85,108.96 L 201.11 108.96 201.11 108.9 197.85 108.9 z\");\n",
       "          }(g.append(\"g\")));\n",
       "          (function (g) {\n",
       "            g.attr(\"id\", \"id55\")\n",
       "             .attr(\"class\", \"geometry\");\n",
       "            g.append(\"svg:path\")\n",
       "               .attr(\"d\", \"M204.37,108.96 L 207.64 108.96 207.64 108.9 204.37 108.9 z\");\n",
       "          }(g.append(\"g\")));\n",
       "        }(g.append(\"g\")));\n",
       "      }(g.append(\"g\")));\n",
       "    }(g.append(\"g\")));\n",
       "    (function (g) {\n",
       "      d3.select(\"defs\")\n",
       "  .append(\"svg:clipPath\")\n",
       "    .attr(\"id\", parent_id + \"_clippath2\")\n",
       "    .append(\"svg:path\")\n",
       "      .attr(\"d\", \" M20.05,14.26 L 222.51 14.26 222.51 111.72 20.05 111.72 z\");g.attr(\"clip-path\", \"url(#\" + parent_id + \"_clippath2)\");\n",
       "      (function (g) {\n",
       "        g.attr(\"stroke\", \"none\")\n",
       "         .attr(\"class\", \"guide zoomslider\")\n",
       "         .attr(\"opacity\", 0.00);\n",
       "        (function (g) {\n",
       "          g.attr(\"stroke\", \"#6A6A6A\")\n",
       "           .attr(\"stroke-opacity\", 0.00)\n",
       "           .attr(\"stroke-width\", 0.3)\n",
       "           .attr(\"fill\", \"#EAEAEA\")\n",
       "           .on(\"click\", zoomin_behavior(ctx))\n",
       ".on(\"dblclick\", function() { d3.event.stopPropagation(); })\n",
       ".on(\"mouseover\", zoomslider_button_mouseover(\"#cd5c5c\"))\n",
       ".on(\"mouseout\", zoomslider_button_mouseover(\"#6a6a6a\"))\n",
       ";\n",
       "          g.append(\"svg:path\")\n",
       "             .attr(\"d\", \"M215.51,17.26 L 219.51 17.26 219.51 21.26 215.51 21.26 z\");\n",
       "          (function (g) {\n",
       "            g.attr(\"fill\", \"#6A6A6A\")\n",
       "             .attr(\"class\", \"button_logo\");\n",
       "            g.append(\"svg:path\")\n",
       "               .attr(\"d\", \"M216.31,18.86 L 217.11 18.86 217.11 18.06 217.91 18.06 217.91 18.86 218.71 18.86 218.71 19.66 217.91 19.66 217.91 20.46 217.11 20.46 217.11 19.66 216.31 19.66 z\");\n",
       "          }(g.append(\"g\")));\n",
       "        }(g.append(\"g\")));\n",
       "        (function (g) {\n",
       "          g.attr(\"fill\", \"#EAEAEA\")\n",
       "           .on(\"click\", zoomslider_track_behavior(ctx, 189.51, 206.51));\n",
       "          g.append(\"svg:path\")\n",
       "             .attr(\"d\", \"M196.01,17.26 L 215.01 17.26 215.01 21.26 196.01 21.26 z\");\n",
       "        }(g.append(\"g\")));\n",
       "        (function (g) {\n",
       "          g.attr(\"fill\", \"#6A6A6A\")\n",
       "           .attr(\"class\", \"zoomslider_thumb\")\n",
       "           .call(zoomslider_behavior(ctx, 189.51, 206.51))\n",
       ".on(\"mouseover\", zoomslider_thumb_mouseover(\"#cd5c5c\"))\n",
       ".on(\"mouseout\", zoomslider_thumb_mouseover(\"#6a6a6a\"))\n",
       ";\n",
       "          g.append(\"svg:path\")\n",
       "             .attr(\"d\", \"M204.51,17.26 L 206.51 17.26 206.51 21.26 204.51 21.26 z\");\n",
       "        }(g.append(\"g\")));\n",
       "        (function (g) {\n",
       "          g.attr(\"stroke\", \"#6A6A6A\")\n",
       "           .attr(\"stroke-opacity\", 0.00)\n",
       "           .attr(\"stroke-width\", 0.3)\n",
       "           .attr(\"fill\", \"#EAEAEA\")\n",
       "           .on(\"click\", zoomout_behavior(ctx))\n",
       ".on(\"dblclick\", function() { d3.event.stopPropagation(); })\n",
       ".on(\"mouseover\", zoomslider_button_mouseover(\"#cd5c5c\"))\n",
       ".on(\"mouseout\", zoomslider_button_mouseover(\"#6a6a6a\"))\n",
       ";\n",
       "          g.append(\"svg:path\")\n",
       "             .attr(\"d\", \"M191.51,17.26 L 195.51 17.26 195.51 21.26 191.51 21.26 z\");\n",
       "          (function (g) {\n",
       "            g.attr(\"fill\", \"#6A6A6A\")\n",
       "             .attr(\"class\", \"button_logo\");\n",
       "            g.append(\"svg:path\")\n",
       "               .attr(\"d\", \"M192.31,18.86 L 194.71 18.86 194.71 19.66 192.31 19.66 z\");\n",
       "          }(g.append(\"g\")));\n",
       "        }(g.append(\"g\")));\n",
       "      }(g.append(\"g\")));\n",
       "    }(g.append(\"g\")));\n",
       "  }(g.append(\"g\")));\n",
       "}(g.append(\"g\")));\n",
       "    d3.select(parent_id)\n",
       "      .selectAll(\"path\")\n",
       "      .each(function() {\n",
       "          var sw = parseFloat(window.getComputedStyle(this).getPropertyValue(\"stroke-width\"));\n",
       "          d3.select(this)\n",
       "            .attr(\"vector-effect\", \"non-scaling-stroke\")\n",
       "            .style(\"stroke-width\", sw + \"mm\");\n",
       "      });\n",
       "}\n",
       "\n",
       "var data = [\n",
       "];\n",
       "\n",
       "var draw = function(parent_id) {\n",
       "    draw_with_data(data, parent_id);\n",
       "};\n",
       "\n",
       "draw(\"#gadflyplot-hBdMVYn1UqHbGk1dbScj\");\n",
       "</script>\n"
      ],
      "text/plain": [
       "D3(227.51322751322755,132.2751322751323,IOBuffer([0x66,0x75,0x6e,0x63,0x74,0x69,0x6f,0x6e,0x20,0x64  …  0x74,0x5f,0x69,0x64,0x29,0x3b,0x0a,0x7d,0x3b,0x0a],true,true,true,false,31771,9223372036854775807,31772),0,[],[],0,3,Dict{Uint64,(Any,Int64)}(),true,false,nothing,true)"
      ]
     },
     "metadata": {},
     "output_type": "display_data"
    },
    {
     "data": {
      "text/html": [],
      "text/plain": [
       "Plot(...)"
      ]
     },
     "execution_count": 52,
     "metadata": {},
     "output_type": "execute_result"
    }
   ],
   "source": [
    "set_default_plot_size(860px, 500px)\n",
    "p = plot(x=times, Geom.histogram, Scale.x_discrete,\n",
    "         Guide.title(\"Distribution of waiting times until a prime number\\nfrom a Poisson(5000) process (N=10,000)\"),\n",
    "         Guide.xlabel(\"Time\"))"
   ]
  },
  {
   "cell_type": "markdown",
   "metadata": {},
   "source": [
    "### Partition"
   ]
  },
  {
   "cell_type": "markdown",
   "metadata": {},
   "source": [
    "The `Partition` iterator split its input iterator into pieces, producing an\n",
    "iterator over iterators. For example we could use it to partition the Range\n",
    "iterator `1:100` into two iterators, `1:50` and `51:100`. We can also make\n",
    "overlapping partitions, for example, `1:50`, `2:51`, `3:52`, etc. "
   ]
  },
  {
   "cell_type": "markdown",
   "metadata": {},
   "source": [
    "#### Application: Moving Averages"
   ]
  },
  {
   "cell_type": "markdown",
   "metadata": {},
   "source": [
    "One useful application of overlapping partitions is computing moving\n",
    "averages. The following code imports Google's historical stock price from Yahoo\n",
    "Finance and computes its 60-day moving average. \n",
    "\n",
    "First, we download the data, creating a 2-D array containing dates, volumes, and prices."
   ]
  },
  {
   "cell_type": "code",
   "execution_count": 53,
   "metadata": {
    "collapsed": false
   },
   "outputs": [
    {
     "name": "stderr",
     "output_type": "stream",
     "text": [
      "  % Total    % Received % Xferd  Average Speed   Time    Time     Time  Current\n",
      "                                 Dload  Upload   Total   Spent    Left  Speed\n",
      "\r",
      "  0     0    0     0    0     0      0      0 --:--:-- --:--:-- --:--:--     0\r",
      "  0     0    0     0    0     0      0      0 --:--:-- --:--:-- --:--:--     0\r",
      "100 13972    0 13972    0     0  16234      0 --:--:-- --:--:-- --:--:-- 16227\n"
     ]
    },
    {
     "data": {
      "text/plain": [
       "253-element Array{Array{String,1},1}:\n",
       " [\"2013-01-07\",\"735.45\",\"739.38\",\"730.58\",\"734.75\",\"1655700\",\"734.75\"]     \n",
       " [\"2013-01-08\",\"735.54\",\"736.30\",\"724.43\",\"733.30\",\"1676100\",\"733.30\"]     \n",
       " [\"2013-01-09\",\"732.27\",\"738.35\",\"728.60\",\"738.12\",\"2024700\",\"738.12\"]     \n",
       " [\"2013-01-10\",\"742.83\",\"745.00\",\"733.50\",\"741.48\",\"1835700\",\"741.48\"]     \n",
       " [\"2013-01-11\",\"742.00\",\"742.43\",\"736.30\",\"739.99\",\"1285200\",\"739.99\"]     \n",
       " [\"2013-01-14\",\"737.00\",\"742.20\",\"722.35\",\"723.25\",\"2863900\",\"723.25\"]     \n",
       " [\"2013-01-15\",\"719.33\",\"735.00\",\"712.10\",\"724.93\",\"3927700\",\"724.93\"]     \n",
       " [\"2013-01-16\",\"722.40\",\"724.34\",\"713.67\",\"715.19\",\"2023400\",\"715.19\"]     \n",
       " [\"2013-01-17\",\"717.71\",\"719.64\",\"711.02\",\"711.32\",\"2211500\",\"711.32\"]     \n",
       " [\"2013-01-18\",\"710.36\",\"712.77\",\"701.33\",\"704.51\",\"3226800\",\"704.51\"]     \n",
       " [\"2013-01-22\",\"704.66\",\"705.34\",\"695.52\",\"702.87\",\"3792400\",\"702.87\"]     \n",
       " [\"2013-01-23\",\"735.99\",\"749.00\",\"735.79\",\"741.50\",\"5909100\",\"741.50\"]     \n",
       " [\"2013-01-24\",\"741.24\",\"756.83\",\"740.51\",\"754.21\",\"3382700\",\"754.21\"]     \n",
       " ⋮                                                                         \n",
       " [\"2013-12-19\",\"1080.77\",\"1091.99\",\"1079.08\",\"1086.22\",\"1665700\",\"1086.22\"]\n",
       " [\"2013-12-20\",\"1088.30\",\"1101.17\",\"1088.00\",\"1100.62\",\"3261600\",\"1100.62\"]\n",
       " [\"2013-12-23\",\"1107.84\",\"1115.80\",\"1105.12\",\"1115.10\",\"1721600\",\"1115.10\"]\n",
       " [\"2013-12-24\",\"1114.97\",\"1115.24\",\"1108.10\",\"1111.84\",\"734200\",\"1111.84\"] \n",
       " [\"2013-12-26\",\"1114.01\",\"1119.00\",\"1108.69\",\"1117.46\",\"1337800\",\"1117.46\"]\n",
       " [\"2013-12-27\",\"1120.00\",\"1120.28\",\"1112.94\",\"1118.40\",\"1569700\",\"1118.40\"]\n",
       " [\"2013-12-30\",\"1120.34\",\"1120.50\",\"1109.02\",\"1109.46\",\"1236100\",\"1109.46\"]\n",
       " [\"2013-12-31\",\"1112.24\",\"1121.00\",\"1106.26\",\"1120.71\",\"1357900\",\"1120.71\"]\n",
       " [\"2014-01-02\",\"1115.46\",\"1117.75\",\"1108.26\",\"1113.12\",\"1821400\",\"1113.12\"]\n",
       " [\"2014-01-03\",\"1115.00\",\"1116.93\",\"1104.93\",\"1105.00\",\"1666700\",\"1105.00\"]\n",
       " [\"2014-01-06\",\"1113.01\",\"1118.86\",\"1106.44\",\"1117.32\",\"1769300\",\"1117.32\"]\n",
       " [\"2014-01-07\",\"1125.00\",\"1139.69\",\"1121.16\",\"1138.86\",\"2552600\",\"1138.86\"]"
      ]
     },
     "execution_count": 53,
     "metadata": {},
     "output_type": "execute_result"
    }
   ],
   "source": [
    "const googdata =\n",
    "    \"http://ichart.finance.yahoo.com/table.csv?s=GOOG&d=0&e=7&f=2014&g=d&a=0&b=7&c=2013&ignore=.csv\" |>\n",
    "        download |>\n",
    "        open |>\n",
    "        readall |>\n",
    "        s -> split(s, \"\\n\") |> \n",
    "        a -> map(l -> split(l, \",\"), a) |>\n",
    "        a -> filter(l -> contains(l[1], \"201\"), a) |>\n",
    "        reverse  # Dates start at most recent, so reverse for chron order."
   ]
  },
  {
   "cell_type": "markdown",
   "metadata": {},
   "source": [
    "We then create iterators over the dates and closing prices in the Array. These\n",
    "iteratively extract and parse values from the relevant columns.\n"
   ]
  },
  {
   "cell_type": "code",
   "execution_count": 54,
   "metadata": {
    "collapsed": false
   },
   "outputs": [
    {
     "data": {
      "text/plain": [
       "IMap((anonymous function),{[[\"2013-01-07\",\"735.45\",\"739.38\",\"730.58\",\"734.75\",\"1655700\",\"734.75\"],[\"2013-01-08\",\"735.54\",\"736.30\",\"724.43\",\"733.30\",\"1676100\",\"733.30\"],[\"2013-01-09\",\"732.27\",\"738.35\",\"728.60\",\"738.12\",\"2024700\",\"738.12\"],[\"2013-01-10\",\"742.83\",\"745.00\",\"733.50\",\"741.48\",\"1835700\",\"741.48\"],[\"2013-01-11\",\"742.00\",\"742.43\",\"736.30\",\"739.99\",\"1285200\",\"739.99\"],[\"2013-01-14\",\"737.00\",\"742.20\",\"722.35\",\"723.25\",\"2863900\",\"723.25\"],[\"2013-01-15\",\"719.33\",\"735.00\",\"712.10\",\"724.93\",\"3927700\",\"724.93\"],[\"2013-01-16\",\"722.40\",\"724.34\",\"713.67\",\"715.19\",\"2023400\",\"715.19\"],[\"2013-01-17\",\"717.71\",\"719.64\",\"711.02\",\"711.32\",\"2211500\",\"711.32\"],[\"2013-01-18\",\"710.36\",\"712.77\",\"701.33\",\"704.51\",\"3226800\",\"704.51\"]  …  [\"2013-12-23\",\"1107.84\",\"1115.80\",\"1105.12\",\"1115.10\",\"1721600\",\"1115.10\"],[\"2013-12-24\",\"1114.97\",\"1115.24\",\"1108.10\",\"1111.84\",\"734200\",\"1111.84\"],[\"2013-12-26\",\"1114.01\",\"1119.00\",\"1108.69\",\"1117.46\",\"1337800\",\"1117.46\"],[\"2013-12-27\",\"1120.00\",\"1120.28\",\"1112.94\",\"1118.40\",\"1569700\",\"1118.40\"],[\"2013-12-30\",\"1120.34\",\"1120.50\",\"1109.02\",\"1109.46\",\"1236100\",\"1109.46\"],[\"2013-12-31\",\"1112.24\",\"1121.00\",\"1106.26\",\"1120.71\",\"1357900\",\"1120.71\"],[\"2014-01-02\",\"1115.46\",\"1117.75\",\"1108.26\",\"1113.12\",\"1821400\",\"1113.12\"],[\"2014-01-03\",\"1115.00\",\"1116.93\",\"1104.93\",\"1105.00\",\"1666700\",\"1105.00\"],[\"2014-01-06\",\"1113.01\",\"1118.86\",\"1106.44\",\"1117.32\",\"1769300\",\"1117.32\"],[\"2014-01-07\",\"1125.00\",\"1139.69\",\"1121.16\",\"1138.86\",\"2552600\",\"1138.86\"]]})"
      ]
     },
     "execution_count": 54,
     "metadata": {},
     "output_type": "execute_result"
    }
   ],
   "source": [
    "dates = imap(r -> date(r[1]), googdata)\n",
    "close = imap(r -> parsefloat(r[7]), googdata)"
   ]
  },
  {
   "cell_type": "markdown",
   "metadata": {},
   "source": [
    "Now we can make 60-day sub-period partitions and compute the average of\n",
    "each. Since I'm using `imap` nothing has been calculated yet. These are all just\n",
    "iterators promising to do work when called."
   ]
  },
  {
   "cell_type": "code",
   "execution_count": 55,
   "metadata": {
    "collapsed": false
   },
   "outputs": [
    {
     "data": {
      "text/plain": [
       "IMap(mean,{Partition{IMap}(IMap((anonymous function),{[[\"2013-01-07\",\"735.45\",\"739.38\",\"730.58\",\"734.75\",\"1655700\",\"734.75\"],[\"2013-01-08\",\"735.54\",\"736.30\",\"724.43\",\"733.30\",\"1676100\",\"733.30\"],[\"2013-01-09\",\"732.27\",\"738.35\",\"728.60\",\"738.12\",\"2024700\",\"738.12\"],[\"2013-01-10\",\"742.83\",\"745.00\",\"733.50\",\"741.48\",\"1835700\",\"741.48\"],[\"2013-01-11\",\"742.00\",\"742.43\",\"736.30\",\"739.99\",\"1285200\",\"739.99\"],[\"2013-01-14\",\"737.00\",\"742.20\",\"722.35\",\"723.25\",\"2863900\",\"723.25\"],[\"2013-01-15\",\"719.33\",\"735.00\",\"712.10\",\"724.93\",\"3927700\",\"724.93\"],[\"2013-01-16\",\"722.40\",\"724.34\",\"713.67\",\"715.19\",\"2023400\",\"715.19\"],[\"2013-01-17\",\"717.71\",\"719.64\",\"711.02\",\"711.32\",\"2211500\",\"711.32\"],[\"2013-01-18\",\"710.36\",\"712.77\",\"701.33\",\"704.51\",\"3226800\",\"704.51\"]  …  [\"2013-12-23\",\"1107.84\",\"1115.80\",\"1105.12\",\"1115.10\",\"1721600\",\"1115.10\"],[\"2013-12-24\",\"1114.97\",\"1115.24\",\"1108.10\",\"1111.84\",\"734200\",\"1111.84\"],[\"2013-12-26\",\"1114.01\",\"1119.00\",\"1108.69\",\"1117.46\",\"1337800\",\"1117.46\"],[\"2013-12-27\",\"1120.00\",\"1120.28\",\"1112.94\",\"1118.40\",\"1569700\",\"1118.40\"],[\"2013-12-30\",\"1120.34\",\"1120.50\",\"1109.02\",\"1109.46\",\"1236100\",\"1109.46\"],[\"2013-12-31\",\"1112.24\",\"1121.00\",\"1106.26\",\"1120.71\",\"1357900\",\"1120.71\"],[\"2014-01-02\",\"1115.46\",\"1117.75\",\"1108.26\",\"1113.12\",\"1821400\",\"1113.12\"],[\"2014-01-03\",\"1115.00\",\"1116.93\",\"1104.93\",\"1105.00\",\"1666700\",\"1105.00\"],[\"2014-01-06\",\"1113.01\",\"1118.86\",\"1106.44\",\"1117.32\",\"1769300\",\"1117.32\"],[\"2014-01-07\",\"1125.00\",\"1139.69\",\"1121.16\",\"1138.86\",\"2552600\",\"1138.86\"]]}),60,1)})"
      ]
     },
     "execution_count": 55,
     "metadata": {},
     "output_type": "execute_result"
    }
   ],
   "source": [
    "ma60 = imap(mean, partition(close, 60, 1))\n",
    "# NB: The julian way to do this would b [mean(price[i-59:i]) for i = 60:length(price)]"
   ]
  },
  {
   "cell_type": "markdown",
   "metadata": {},
   "source": [
    "\n",
    "With all these useful iterators defined, I can just collect them into arrays for\n",
    "plotting.\n"
   ]
  },
  {
   "cell_type": "code",
   "execution_count": 56,
   "metadata": {
    "collapsed": false
   },
   "outputs": [
    {
     "data": {
      "text/html": [
       "<div id=\"gadflyplot-zXTczQTlpHKBn1QFlAu2\"></div>\n",
       "<script>\n",
       "function draw_with_data(data, parent_id) {\n",
       "  var g = d3.select(parent_id)\n",
       "            .append(\"svg\")\n",
       "              .attr(\"width\", \"227.51mm\")\n",
       "              .attr(\"height\", \"132.28mm\")\n",
       "              .attr(\"viewBox\", \"0 0 227.51 132.28\")\n",
       "              .attr(\"stroke-width\", \"0.5\")\n",
       "              .attr(\"style\", \"stroke:black;fill:black\");\n",
       "  g.append(\"defs\");\n",
       "  var ctx = {\n",
       "      \"scale\": 1.0,\n",
       "      \"tx\": 0.0,\n",
       "      \"ty\": 0.0\n",
       "  };\n",
       "(function (g) {\n",
       "  g.attr(\"class\", \"plotroot xscalable yscalable\");\n",
       "  (function (g) {\n",
       "    g.attr(\"stroke\", \"none\")\n",
       "     .attr(\"fill\", \"#4C404B\")\n",
       "     .attr(\"font-family\", \"'PT Sans','Helvetica Neue','Helvetica',sans-serif\")\n",
       "     .style(\"font-size\", \"3.18px\")\n",
       "     .attr(\"class\", \"guide ylabels\");\n",
       "    (function (g) {\n",
       "      g.attr(\"visibility\", \"hidden\");\n",
       "      g.append(\"svg:text\")\n",
       "         .attr(\"x\", 23.7)\n",
       "         .attr(\"y\", -43.13)\n",
       "         .attr(\"text-anchor\", \"end\")\n",
       "         .style(\"dominant-baseline\", \"central\")\n",
       "      .call(function(text) {\n",
       "  text.text(\"1500\");\n",
       "})\n",
       ";\n",
       "    }(g.append(\"g\")));\n",
       "    (function (g) {\n",
       "      g.attr(\"visibility\", \"hidden\");\n",
       "      g.append(\"svg:text\")\n",
       "         .attr(\"x\", 23.7)\n",
       "         .attr(\"y\", 158.22)\n",
       "         .attr(\"text-anchor\", \"end\")\n",
       "         .style(\"dominant-baseline\", \"central\")\n",
       "      .call(function(text) {\n",
       "  text.text(\"500\");\n",
       "})\n",
       ";\n",
       "    }(g.append(\"g\")));\n",
       "    (function (g) {\n",
       "      g.attr(\"visibility\", \"hidden\");\n",
       "      g.append(\"svg:text\")\n",
       "         .attr(\"x\", 23.7)\n",
       "         .attr(\"y\", -22.99)\n",
       "         .attr(\"text-anchor\", \"end\")\n",
       "         .style(\"dominant-baseline\", \"central\")\n",
       "      .call(function(text) {\n",
       "  text.text(\"1400\");\n",
       "})\n",
       ";\n",
       "    }(g.append(\"g\")));\n",
       "    g.append(\"svg:text\")\n",
       "       .attr(\"x\", 23.7)\n",
       "       .attr(\"y\", 17.28)\n",
       "       .attr(\"text-anchor\", \"end\")\n",
       "       .style(\"dominant-baseline\", \"central\")\n",
       "    .call(function(text) {\n",
       "  text.text(\"1200\");\n",
       "})\n",
       ";\n",
       "    (function (g) {\n",
       "      g.attr(\"visibility\", \"hidden\");\n",
       "      g.append(\"svg:text\")\n",
       "         .attr(\"x\", 23.7)\n",
       "         .attr(\"y\", 218.63)\n",
       "         .attr(\"text-anchor\", \"end\")\n",
       "         .style(\"dominant-baseline\", \"central\")\n",
       "      .call(function(text) {\n",
       "  text.text(\"200\");\n",
       "})\n",
       ";\n",
       "    }(g.append(\"g\")));\n",
       "    g.append(\"svg:text\")\n",
       "       .attr(\"x\", 23.7)\n",
       "       .attr(\"y\", 117.95)\n",
       "       .attr(\"text-anchor\", \"end\")\n",
       "       .style(\"dominant-baseline\", \"central\")\n",
       "    .call(function(text) {\n",
       "  text.text(\"700\");\n",
       "})\n",
       ";\n",
       "    (function (g) {\n",
       "      g.attr(\"visibility\", \"hidden\");\n",
       "      g.append(\"svg:text\")\n",
       "         .attr(\"x\", 23.7)\n",
       "         .attr(\"y\", -2.86)\n",
       "         .attr(\"text-anchor\", \"end\")\n",
       "         .style(\"dominant-baseline\", \"central\")\n",
       "      .call(function(text) {\n",
       "  text.text(\"1300\");\n",
       "})\n",
       ";\n",
       "    }(g.append(\"g\")));\n",
       "    (function (g) {\n",
       "      g.attr(\"visibility\", \"hidden\");\n",
       "      g.append(\"svg:text\")\n",
       "         .attr(\"x\", 23.7)\n",
       "         .attr(\"y\", 178.36)\n",
       "         .attr(\"text-anchor\", \"end\")\n",
       "         .style(\"dominant-baseline\", \"central\")\n",
       "      .call(function(text) {\n",
       "  text.text(\"400\");\n",
       "})\n",
       ";\n",
       "    }(g.append(\"g\")));\n",
       "    (function (g) {\n",
       "      g.attr(\"visibility\", \"hidden\");\n",
       "      g.append(\"svg:text\")\n",
       "         .attr(\"x\", 23.7)\n",
       "         .attr(\"y\", 198.49)\n",
       "         .attr(\"text-anchor\", \"end\")\n",
       "         .style(\"dominant-baseline\", \"central\")\n",
       "      .call(function(text) {\n",
       "  text.text(\"300\");\n",
       "})\n",
       ";\n",
       "    }(g.append(\"g\")));\n",
       "    (function (g) {\n",
       "      g.attr(\"visibility\", \"hidden\");\n",
       "      g.append(\"svg:text\")\n",
       "         .attr(\"x\", 23.7)\n",
       "         .attr(\"y\", -83.4)\n",
       "         .attr(\"text-anchor\", \"end\")\n",
       "         .style(\"dominant-baseline\", \"central\")\n",
       "      .call(function(text) {\n",
       "  text.text(\"1700\");\n",
       "})\n",
       ";\n",
       "    }(g.append(\"g\")));\n",
       "    (function (g) {\n",
       "      g.attr(\"visibility\", \"hidden\");\n",
       "      g.append(\"svg:text\")\n",
       "         .attr(\"x\", 23.7)\n",
       "         .attr(\"y\", 138.09)\n",
       "         .attr(\"text-anchor\", \"end\")\n",
       "         .style(\"dominant-baseline\", \"central\")\n",
       "      .call(function(text) {\n",
       "  text.text(\"600\");\n",
       "})\n",
       ";\n",
       "    }(g.append(\"g\")));\n",
       "    g.append(\"svg:text\")\n",
       "       .attr(\"x\", 23.7)\n",
       "       .attr(\"y\", 77.68)\n",
       "       .attr(\"text-anchor\", \"end\")\n",
       "       .style(\"dominant-baseline\", \"central\")\n",
       "    .call(function(text) {\n",
       "  text.text(\"900\");\n",
       "})\n",
       ";\n",
       "    (function (g) {\n",
       "      g.attr(\"visibility\", \"hidden\");\n",
       "      g.append(\"svg:text\")\n",
       "         .attr(\"x\", 23.7)\n",
       "         .attr(\"y\", -103.53)\n",
       "         .attr(\"text-anchor\", \"end\")\n",
       "         .style(\"dominant-baseline\", \"central\")\n",
       "      .call(function(text) {\n",
       "  text.text(\"1800\");\n",
       "})\n",
       ";\n",
       "    }(g.append(\"g\")));\n",
       "    g.append(\"svg:text\")\n",
       "       .attr(\"x\", 23.7)\n",
       "       .attr(\"y\", 97.82)\n",
       "       .attr(\"text-anchor\", \"end\")\n",
       "       .style(\"dominant-baseline\", \"central\")\n",
       "    .call(function(text) {\n",
       "  text.text(\"800\");\n",
       "})\n",
       ";\n",
       "    g.append(\"svg:text\")\n",
       "       .attr(\"x\", 23.7)\n",
       "       .attr(\"y\", 57.55)\n",
       "       .attr(\"text-anchor\", \"end\")\n",
       "       .style(\"dominant-baseline\", \"central\")\n",
       "    .call(function(text) {\n",
       "  text.text(\"1000\");\n",
       "})\n",
       ";\n",
       "    (function (g) {\n",
       "      g.attr(\"visibility\", \"hidden\");\n",
       "      g.append(\"svg:text\")\n",
       "         .attr(\"x\", 23.7)\n",
       "         .attr(\"y\", -63.26)\n",
       "         .attr(\"text-anchor\", \"end\")\n",
       "         .style(\"dominant-baseline\", \"central\")\n",
       "      .call(function(text) {\n",
       "  text.text(\"1600\");\n",
       "})\n",
       ";\n",
       "    }(g.append(\"g\")));\n",
       "    g.append(\"svg:text\")\n",
       "       .attr(\"x\", 23.7)\n",
       "       .attr(\"y\", 37.41)\n",
       "       .attr(\"text-anchor\", \"end\")\n",
       "       .style(\"dominant-baseline\", \"central\")\n",
       "    .call(function(text) {\n",
       "  text.text(\"1100\");\n",
       "})\n",
       ";\n",
       "    (function (g) {\n",
       "      g.attr(\"visibility\", \"hidden\");\n",
       "      g.append(\"svg:text\")\n",
       "         .attr(\"x\", 23.7)\n",
       "         .attr(\"y\", 238.76)\n",
       "         .attr(\"text-anchor\", \"end\")\n",
       "         .style(\"dominant-baseline\", \"central\")\n",
       "      .call(function(text) {\n",
       "  text.text(\"100\");\n",
       "})\n",
       ";\n",
       "    }(g.append(\"g\")));\n",
       "  }(g.append(\"g\")));\n",
       "  (function (g) {\n",
       "    g.attr(\"stroke\", \"none\")\n",
       "     .attr(\"fill\", \"#362A35\")\n",
       "     .attr(\"font-family\", \"'PT Sans','Helvetica Neue','Helvetica',sans-serif\")\n",
       "     .style(\"font-size\", \"3.88px\");\n",
       "    g.append(\"svg:text\")\n",
       "       .attr(\"x\", 8.63)\n",
       "       .attr(\"y\", 67.62)\n",
       "       .attr(\"text-anchor\", \"middle\")\n",
       "       .style(\"dominant-baseline\", \"central\")\n",
       "       .attr(\"transform\", \"rotate(-90, 8.63, 67.62)\")\n",
       "    .call(function(text) {\n",
       "  text.text(\"Price\");\n",
       "})\n",
       ";\n",
       "  }(g.append(\"g\")));\n",
       "  (function (g) {\n",
       "    g.attr(\"stroke\", \"none\")\n",
       "     .attr(\"fill\", \"#4C404B\")\n",
       "     .attr(\"font-family\", \"'PT Sans','Helvetica Neue','Helvetica',sans-serif\")\n",
       "     .style(\"font-size\", \"3.18px\")\n",
       "     .attr(\"class\", \"guide xlabels\");\n",
       "    g.append(\"svg:text\")\n",
       "       .attr(\"x\", 57.41)\n",
       "       .attr(\"y\", 126.28)\n",
       "       .attr(\"text-anchor\", \"middle\")\n",
       "    .call(function(text) {\n",
       "  text.text(\"Mar\");\n",
       "})\n",
       ";\n",
       "    g.append(\"svg:text\")\n",
       "       .attr(\"x\", 213.82)\n",
       "       .attr(\"y\", 126.28)\n",
       "       .attr(\"text-anchor\", \"middle\")\n",
       "    .call(function(text) {\n",
       "  text.text(\"Jan 2014\");\n",
       "})\n",
       ";\n",
       "    g.append(\"svg:text\")\n",
       "       .attr(\"x\", 73.26)\n",
       "       .attr(\"y\", 126.28)\n",
       "       .attr(\"text-anchor\", \"middle\")\n",
       "    .call(function(text) {\n",
       "  text.text(\"Apr\");\n",
       "})\n",
       ";\n",
       "    g.append(\"svg:text\")\n",
       "       .attr(\"x\", 197.98)\n",
       "       .attr(\"y\", 126.28)\n",
       "       .attr(\"text-anchor\", \"middle\")\n",
       "    .call(function(text) {\n",
       "  text.text(\"Dec\");\n",
       "})\n",
       ";\n",
       "    g.append(\"svg:text\")\n",
       "       .attr(\"x\", 104.44)\n",
       "       .attr(\"y\", 126.28)\n",
       "       .attr(\"text-anchor\", \"middle\")\n",
       "    .call(function(text) {\n",
       "  text.text(\"June\");\n",
       "})\n",
       ";\n",
       "    g.append(\"svg:text\")\n",
       "       .attr(\"x\", 151.46)\n",
       "       .attr(\"y\", 126.28)\n",
       "       .attr(\"text-anchor\", \"middle\")\n",
       "    .call(function(text) {\n",
       "  text.text(\"Sept\");\n",
       "})\n",
       ";\n",
       "    g.append(\"svg:text\")\n",
       "       .attr(\"x\", 88.59)\n",
       "       .attr(\"y\", 126.28)\n",
       "       .attr(\"text-anchor\", \"middle\")\n",
       "    .call(function(text) {\n",
       "  text.text(\"May\");\n",
       "})\n",
       ";\n",
       "    g.append(\"svg:text\")\n",
       "       .attr(\"x\", 119.77)\n",
       "       .attr(\"y\", 126.28)\n",
       "       .attr(\"text-anchor\", \"middle\")\n",
       "    .call(function(text) {\n",
       "  text.text(\"July\");\n",
       "})\n",
       ";\n",
       "    (function (g) {\n",
       "      g.attr(\"visibility\", \"hidden\");\n",
       "      g.append(\"svg:text\")\n",
       "         .attr(\"x\", 229.67)\n",
       "         .attr(\"y\", 126.28)\n",
       "         .attr(\"text-anchor\", \"middle\")\n",
       "      .call(function(text) {\n",
       "  text.text(\"Feb\");\n",
       "})\n",
       ";\n",
       "    }(g.append(\"g\")));\n",
       "    g.append(\"svg:text\")\n",
       "       .attr(\"x\", 166.8)\n",
       "       .attr(\"y\", 126.28)\n",
       "       .attr(\"text-anchor\", \"middle\")\n",
       "    .call(function(text) {\n",
       "  text.text(\"Oct\");\n",
       "})\n",
       ";\n",
       "    g.append(\"svg:text\")\n",
       "       .attr(\"x\", 182.64)\n",
       "       .attr(\"y\", 126.28)\n",
       "       .attr(\"text-anchor\", \"middle\")\n",
       "    .call(function(text) {\n",
       "  text.text(\"Nev\");\n",
       "})\n",
       ";\n",
       "    (function (g) {\n",
       "      g.attr(\"visibility\", \"hidden\");\n",
       "      g.append(\"svg:text\")\n",
       "         .attr(\"x\", 27.25)\n",
       "         .attr(\"y\", 126.28)\n",
       "         .attr(\"text-anchor\", \"middle\")\n",
       "      .call(function(text) {\n",
       "  text.text(\"Jan 2013\");\n",
       "})\n",
       ";\n",
       "    }(g.append(\"g\")));\n",
       "    g.append(\"svg:text\")\n",
       "       .attr(\"x\", 43.1)\n",
       "       .attr(\"y\", 126.28)\n",
       "       .attr(\"text-anchor\", \"middle\")\n",
       "    .call(function(text) {\n",
       "  text.text(\"Feb\");\n",
       "})\n",
       ";\n",
       "    g.append(\"svg:text\")\n",
       "       .attr(\"x\", 135.62)\n",
       "       .attr(\"y\", 126.28)\n",
       "       .attr(\"text-anchor\", \"middle\")\n",
       "    .call(function(text) {\n",
       "  text.text(\"Aug\");\n",
       "})\n",
       ";\n",
       "  }(g.append(\"g\")));\n",
       "  (function (g) {\n",
       "    g.attr(\"stroke\", \"none\")\n",
       "     .attr(\"fill\", \"#362A35\")\n",
       "     .attr(\"font-family\", \"'PT Sans','Helvetica Neue','Helvetica',sans-serif\")\n",
       "     .style(\"font-size\", \"3.88px\");\n",
       "    g.append(\"svg:text\")\n",
       "       .attr(\"x\", 123.61)\n",
       "       .attr(\"y\", 12.26)\n",
       "       .attr(\"text-anchor\", \"middle\")\n",
       "    .call(function(text) {\n",
       "  text.text(\"GOOG Daily Stock Price 60-Day Moving Avg.\");\n",
       "})\n",
       ";\n",
       "  }(g.append(\"g\")));\n",
       "  (function (g) {\n",
       "    g.on(\"mouseover\", guide_background_mouseover(\"#C6C6C9\"))\n",
       "     .on(\"mouseout\", guide_background_mouseout(\"#F0F0F3\"))\n",
       "     .call(zoom_behavior(ctx))\n",
       ";\n",
       "    (function (g) {\n",
       "      d3.select(\"defs\")\n",
       "  .append(\"svg:clipPath\")\n",
       "    .attr(\"id\", parent_id + \"_clippath0\")\n",
       "    .append(\"svg:path\")\n",
       "      .attr(\"d\", \" M24.7,14.26 L 222.51 14.26 222.51 120.97 24.7 120.97 z\");g.attr(\"clip-path\", \"url(#\" + parent_id + \"_clippath0)\");\n",
       "      (function (g) {\n",
       "        g.attr(\"class\", \"guide background\")\n",
       "         .attr(\"stroke\", \"#F1F1F5\")\n",
       "         .attr(\"fill\", \"#FAFAFA\");\n",
       "        g.append(\"svg:path\")\n",
       "           .attr(\"d\", \"M24.7,14.26 L 222.51 14.26 222.51 120.97 24.7 120.97 z\");\n",
       "      }(g.append(\"g\")));\n",
       "      (function (g) {\n",
       "        g.attr(\"stroke\", \"#F0F0F3\")\n",
       "         .attr(\"stroke-width\", 0.2)\n",
       "         .attr(\"class\", \"guide ygridlines xfixed\");\n",
       "        g.append(\"svg:path\")\n",
       "           .attr(\"d\", \"M24.7,158.22 L 222.51 158.22\");\n",
       "        g.append(\"svg:path\")\n",
       "           .attr(\"d\", \"M24.7,17.28 L 222.51 17.28\");\n",
       "        g.append(\"svg:path\")\n",
       "           .attr(\"d\", \"M24.7,117.95 L 222.51 117.95\");\n",
       "        g.append(\"svg:path\")\n",
       "           .attr(\"d\", \"M24.7,178.36 L 222.51 178.36\");\n",
       "        g.append(\"svg:path\")\n",
       "           .attr(\"d\", \"M24.7,-83.4 L 222.51 -83.4\");\n",
       "        g.append(\"svg:path\")\n",
       "           .attr(\"d\", \"M24.7,77.68 L 222.51 77.68\");\n",
       "        g.append(\"svg:path\")\n",
       "           .attr(\"d\", \"M24.7,97.82 L 222.51 97.82\");\n",
       "        g.append(\"svg:path\")\n",
       "           .attr(\"d\", \"M24.7,-63.26 L 222.51 -63.26\");\n",
       "        g.append(\"svg:path\")\n",
       "           .attr(\"d\", \"M24.7,238.76 L 222.51 238.76\");\n",
       "        g.append(\"svg:path\")\n",
       "           .attr(\"d\", \"M24.7,37.41 L 222.51 37.41\");\n",
       "        g.append(\"svg:path\")\n",
       "           .attr(\"d\", \"M24.7,57.55 L 222.51 57.55\");\n",
       "        g.append(\"svg:path\")\n",
       "           .attr(\"d\", \"M24.7,-103.53 L 222.51 -103.53\");\n",
       "        g.append(\"svg:path\")\n",
       "           .attr(\"d\", \"M24.7,138.09 L 222.51 138.09\");\n",
       "        g.append(\"svg:path\")\n",
       "           .attr(\"d\", \"M24.7,198.49 L 222.51 198.49\");\n",
       "        g.append(\"svg:path\")\n",
       "           .attr(\"d\", \"M24.7,-2.86 L 222.51 -2.86\");\n",
       "        g.append(\"svg:path\")\n",
       "           .attr(\"d\", \"M24.7,218.63 L 222.51 218.63\");\n",
       "        g.append(\"svg:path\")\n",
       "           .attr(\"d\", \"M24.7,-22.99 L 222.51 -22.99\");\n",
       "        g.append(\"svg:path\")\n",
       "           .attr(\"d\", \"M24.7,-43.13 L 222.51 -43.13\");\n",
       "      }(g.append(\"g\")));\n",
       "      (function (g) {\n",
       "        g.attr(\"stroke\", \"#F0F0F3\")\n",
       "         .attr(\"stroke-width\", 0.2)\n",
       "         .attr(\"class\", \"guide xgridlines yfixed\");\n",
       "        g.append(\"svg:path\")\n",
       "           .attr(\"d\", \"M213.82,14.26 L 213.82 120.97\");\n",
       "        g.append(\"svg:path\")\n",
       "           .attr(\"d\", \"M197.98,14.26 L 197.98 120.97\");\n",
       "        g.append(\"svg:path\")\n",
       "           .attr(\"d\", \"M151.46,14.26 L 151.46 120.97\");\n",
       "        g.append(\"svg:path\")\n",
       "           .attr(\"d\", \"M119.77,14.26 L 119.77 120.97\");\n",
       "        g.append(\"svg:path\")\n",
       "           .attr(\"d\", \"M166.8,14.26 L 166.8 120.97\");\n",
       "        g.append(\"svg:path\")\n",
       "           .attr(\"d\", \"M27.25,14.26 L 27.25 120.97\");\n",
       "        g.append(\"svg:path\")\n",
       "           .attr(\"d\", \"M135.62,14.26 L 135.62 120.97\");\n",
       "        g.append(\"svg:path\")\n",
       "           .attr(\"d\", \"M43.1,14.26 L 43.1 120.97\");\n",
       "        g.append(\"svg:path\")\n",
       "           .attr(\"d\", \"M182.64,14.26 L 182.64 120.97\");\n",
       "        g.append(\"svg:path\")\n",
       "           .attr(\"d\", \"M229.67,14.26 L 229.67 120.97\");\n",
       "        g.append(\"svg:path\")\n",
       "           .attr(\"d\", \"M88.59,14.26 L 88.59 120.97\");\n",
       "        g.append(\"svg:path\")\n",
       "           .attr(\"d\", \"M104.44,14.26 L 104.44 120.97\");\n",
       "        g.append(\"svg:path\")\n",
       "           .attr(\"d\", \"M73.26,14.26 L 73.26 120.97\");\n",
       "        g.append(\"svg:path\")\n",
       "           .attr(\"d\", \"M57.41,14.26 L 57.41 120.97\");\n",
       "      }(g.append(\"g\")));\n",
       "    }(g.append(\"g\")));\n",
       "    (function (g) {\n",
       "      d3.select(\"defs\")\n",
       "  .append(\"svg:clipPath\")\n",
       "    .attr(\"id\", parent_id + \"_clippath1\")\n",
       "    .append(\"svg:path\")\n",
       "      .attr(\"d\", \" M24.7,14.26 L 222.51 14.26 222.51 120.97 24.7 120.97 z\");g.attr(\"clip-path\", \"url(#\" + parent_id + \"_clippath1)\");\n",
       "      (function (g) {\n",
       "        g.attr(\"class\", \"plotpanel\");\n",
       "        (function (g) {\n",
       "          g.attr(\"stroke\", \"#00BFFF\")\n",
       "           .attr(\"class\", \"geometry\")\n",
       "           .attr(\"fill\", \"none\")\n",
       "           .attr(\"stroke-width\", 0.3);\n",
       "          g.append(\"svg:path\")\n",
       "             .attr(\"d\", \"M30.32,110.96 L 30.83 111.25 31.34 110.28 31.85 109.6 32.37 109.9 33.9 113.27 34.41 112.93 34.92 114.89 35.43 115.67 35.94 117.04 37.99 117.38 38.5 109.6 39.01 107.04 39.52 107.15 41.05 107.74 41.57 107.14 42.08 107.11 42.59 106.74 43.1 102.73 44.63 106.07 45.14 104.72 45.66 103.82 46.17 103.06 46.68 100.76 48.21 101.36 48.72 101.7 49.23 101.27 49.74 100.27 50.26 99.25 52.3 96.44 52.81 99.34 53.32 98.72 53.83 97.88 55.37 99.68 55.88 99.81 56.39 97.86 56.9 97.58 57.41 96.57 58.95 93.49 59.46 90.05 59.97 91.5 60.48 91.25 60.99 91.47 62.52 90.81 63.03 92.26 63.55 92.72 64.06 93.48 64.57 94.94 66.1 96.25 66.61 95.54 67.12 94.86 67.63 95.55 68.15 95.74 69.68 95.88 70.19 95.32 70.7 97.28 71.21 98.99 73.26 97.58 73.77 95.19 74.28 96.57 74.79 98.81 75.3 101.23 76.84 102.88 77.35 102.32 77.86 99.8 78.37 99.75 78.88 99.82 80.41 101.46 80.92 99.15 81.44 101.33 81.95 104.68 82.46 97.84 83.99 97.8 84.5 96.23 85.01 95.11 85.52 95.99 86.04 97.53 87.57 93.98 88.08 92.87 88.59 93.7 89.1 91.86 89.61 88.61 91.15 85.42 91.66 86.29 92.17 82.99 92.68 83.43 93.19 81.66 94.73 82.21 95.24 80.28 95.75 74.48 96.26 76.9 96.77 75.83 98.3 75.97 98.81 76.28 99.33 79.81 99.84 81.15 100.35 83.06 102.39 81.45 102.9 84.06 103.42 83.57 103.93 83.48 105.46 84.2 105.97 85.92 106.48 85.8 106.99 84.8 107.5 81.76 109.04 79.65 109.55 81.75 110.06 83.32 110.57 82.31 111.08 82.71 112.62 80.45 113.13 77.56 113.64 77.55 114.15 80.76 114.66 81.52 116.19 83.77 116.71 84.49 117.22 82.99 117.73 82.3 118.24 81.64 119.77 80.12 120.28 81.24 120.79 80.42 121.82 78.99 123.35 76.66 123.86 76.63 124.37 76.48 124.88 73.61 125.39 73.05 126.93 72.71 127.44 73.73 127.95 73.95 128.46 75.53 128.97 78.37 130.51 75.53 131.02 76.92 131.53 77.1 132.04 80.16 132.55 80.63 134.08 81.25 134.6 79.51 135.11 80.15 135.62 76.83 136.13 76.36 137.66 76.68 138.17 78.37 138.68 79.57 139.2 79.16 139.71 79.61 141.24 80.6 141.75 81.46 142.26 83.76 142.77 85.81 143.28 86.36 144.82 84.6 145.33 84.65 145.84 83.86 146.35 82.98 146.86 83.68 148.4 84.45 148.91 87.72 149.42 88.04 149.93 86.66 150.44 88.37 152.49 85.66 153 83.4 153.51 81.8 154.02 81.79 155.55 80.09 156.06 79.96 156.57 78.45 157.09 79.08 157.6 79.88 159.13 80.15 159.64 80.48 160.15 77.01 160.66 78.01 161.18 77.06 162.71 80.4 163.22 80.33 163.73 82.27 164.24 82.08 164.75 82.44 166.29 82.53 166.8 80.3 167.31 80.1 167.82 82.5 168.33 83.25 169.86 84.58 170.38 87.01 170.89 86.57 171.4 84.08 171.91 83.32 173.44 82.49 173.95 81.31 174.47 78.08 174.98 79.94 175.49 55.25 177.02 56.88 177.53 56.14 178.04 51.22 178.55 52.4 179.07 54.49 180.6 54.53 181.11 50.25 181.62 51.42 182.13 51.39 182.64 52.1 184.18 52.29 184.69 53.22 185.2 52.97 185.71 55.95 186.22 54.32 187.75 55.42 188.27 55.18 188.78 51.01 189.29 50.45 189.8 50.79 191.33 51.2 191.84 52.47 192.36 53.06 192.87 50.69 193.38 51.13 194.91 48.3 195.42 45.79 195.93 44.84 196.96 45.55 198.49 46.58 199 46.82 199.51 45.83 200.02 46 200.53 43.48 202.07 41.81 202.58 40.5 203.09 41.99 203.6 43.46 204.11 45.31 205.65 42.85 206.16 43.48 206.67 40.48 207.18 40.19 207.69 37.29 209.22 34.37 209.73 35.03 210.76 33.9 211.27 33.71 212.8 35.51 213.31 33.24 214.33 34.77 214.85 36.41 216.38 33.93 216.89 29.59\");\n",
       "        }(g.append(\"g\")));\n",
       "        (function (g) {\n",
       "          g.attr(\"stroke\", \"#00BFFF\")\n",
       "           .attr(\"class\", \"geometry\")\n",
       "           .attr(\"fill\", \"none\")\n",
       "           .attr(\"stroke-width\", 0.3);\n",
       "          g.append(\"svg:path\")\n",
       "             .attr(\"d\", \"M74.28,101.35 L 74.79 101.15 75.3 100.99 76.84 100.86 77.35 100.74 77.86 100.57 78.37 100.35 78.88 100.13 80.41 99.9 80.92 99.63 81.44 99.37 81.95 99.16 82.46 98.96 83.99 98.81 84.5 98.62 85.01 98.41 85.52 98.23 86.04 98.07 87.57 97.85 88.08 97.69 88.59 97.48 89.1 97.27 89.61 97.02 91.15 96.72 91.66 96.48 92.17 96.18 92.68 95.87 93.19 95.54 94.73 95.24 95.24 94.93 95.75 94.56 96.26 94.19 96.77 93.81 98.3 93.44 98.81 93.05 99.33 92.72 99.84 92.44 100.35 92.2 102.39 91.94 102.9 91.79 103.42 91.68 103.93 91.55 105.46 91.43 105.97 91.34 106.48 91.25 106.99 91.13 107.5 90.95 109.04 90.72 109.55 90.5 110.06 90.28 110.57 90.06 111.08 89.86 112.62 89.61 113.13 89.3 113.64 89 114.15 88.75 114.66 88.49 116.19 88.24 116.71 88.02 117.22 87.82 117.73 87.58 118.24 87.29 119.77 86.94 120.28 86.58 120.79 86.21 121.82 85.87 123.35 85.48 123.86 85.1 124.37 84.68 124.88 84.25 125.39 83.78 126.93 83.25 127.44 82.85 127.95 82.45 128.46 82.11 128.97 81.83 130.51 81.49 131.02 81.14 131.53 80.86 132.04 80.65 132.55 80.43 134.08 80.25 134.6 80.1 135.11 80.02 135.62 79.86 136.13 79.75 137.66 79.63 138.17 79.58 138.68 79.54 139.2 79.52 139.71 79.6 141.24 79.66 141.75 79.76 142.26 79.89 142.77 80.05 143.28 80.16 144.82 80.21 145.33 80.24 145.84 80.28 146.35 80.26 146.86 80.26 148.4 80.28 148.91 80.34 149.42 80.37 149.93 80.39 150.44 80.45 152.49 80.51 153 80.57 153.51 80.58 154.02 80.55 155.55 80.51 156.06 80.47 156.57 80.43 157.09 80.46 157.6 80.5 159.13 80.49 159.64 80.47 160.15 80.36 160.66 80.25 161.18 80.15 162.71 80.12 163.22 80.1 163.73 80.13 164.24 80.15 164.75 80.18 166.29 80.24 166.8 80.3 167.31 80.36 167.82 80.46 168.33 80.62 169.86 80.81 170.38 81.05 170.89 81.26 171.4 81.43 171.91 81.56 173.44 81.63 173.95 81.73 174.47 81.75 174.98 81.79 175.49 81.38 177.02 80.98 177.53 80.57 178.04 80.09 178.55 79.63 179.07 79.26 180.6 78.9 181.11 78.45 181.62 78.01 182.13 77.54 182.64 77.08 184.18 76.63 184.69 76.17 185.2 75.7 185.71 75.23 186.22 74.71 187.75 74.19 188.27 73.7 188.78 73.14 189.29 72.59 189.8 72.05 191.33 71.51 191.84 70.98 192.36 70.4 192.87 69.78 193.38 69.18 194.91 68.52 195.42 67.85 195.93 67.21 196.96 66.6 198.49 66.02 199 65.46 199.51 64.89 200.02 64.35 200.53 63.76 202.07 63.13 202.58 62.46 203.09 61.82 203.6 61.26 204.11 60.72 205.65 60.15 206.16 59.53 206.67 58.87 207.18 58.17 207.69 57.42 209.22 56.62 209.73 55.83 210.76 55.06 211.27 54.28 212.8 53.5 213.31 52.67 214.33 51.84 214.85 50.99 216.38 50.11 216.89 49.21\");\n",
       "        }(g.append(\"g\")));\n",
       "      }(g.append(\"g\")));\n",
       "    }(g.append(\"g\")));\n",
       "    (function (g) {\n",
       "      d3.select(\"defs\")\n",
       "  .append(\"svg:clipPath\")\n",
       "    .attr(\"id\", parent_id + \"_clippath2\")\n",
       "    .append(\"svg:path\")\n",
       "      .attr(\"d\", \" M24.7,14.26 L 222.51 14.26 222.51 120.97 24.7 120.97 z\");g.attr(\"clip-path\", \"url(#\" + parent_id + \"_clippath2)\");\n",
       "      (function (g) {\n",
       "        g.attr(\"stroke\", \"none\")\n",
       "         .attr(\"class\", \"guide zoomslider\")\n",
       "         .attr(\"opacity\", 0.00);\n",
       "        (function (g) {\n",
       "          g.attr(\"stroke\", \"#6A6A6A\")\n",
       "           .attr(\"stroke-opacity\", 0.00)\n",
       "           .attr(\"stroke-width\", 0.3)\n",
       "           .attr(\"fill\", \"#EAEAEA\")\n",
       "           .on(\"click\", zoomin_behavior(ctx))\n",
       ".on(\"dblclick\", function() { d3.event.stopPropagation(); })\n",
       ".on(\"mouseover\", zoomslider_button_mouseover(\"#cd5c5c\"))\n",
       ".on(\"mouseout\", zoomslider_button_mouseover(\"#6a6a6a\"))\n",
       ";\n",
       "          g.append(\"svg:path\")\n",
       "             .attr(\"d\", \"M215.51,17.26 L 219.51 17.26 219.51 21.26 215.51 21.26 z\");\n",
       "          (function (g) {\n",
       "            g.attr(\"fill\", \"#6A6A6A\")\n",
       "             .attr(\"class\", \"button_logo\");\n",
       "            g.append(\"svg:path\")\n",
       "               .attr(\"d\", \"M216.31,18.86 L 217.11 18.86 217.11 18.06 217.91 18.06 217.91 18.86 218.71 18.86 218.71 19.66 217.91 19.66 217.91 20.46 217.11 20.46 217.11 19.66 216.31 19.66 z\");\n",
       "          }(g.append(\"g\")));\n",
       "        }(g.append(\"g\")));\n",
       "        (function (g) {\n",
       "          g.attr(\"fill\", \"#EAEAEA\")\n",
       "           .on(\"click\", zoomslider_track_behavior(ctx, 189.51, 206.51));\n",
       "          g.append(\"svg:path\")\n",
       "             .attr(\"d\", \"M196.01,17.26 L 215.01 17.26 215.01 21.26 196.01 21.26 z\");\n",
       "        }(g.append(\"g\")));\n",
       "        (function (g) {\n",
       "          g.attr(\"fill\", \"#6A6A6A\")\n",
       "           .attr(\"class\", \"zoomslider_thumb\")\n",
       "           .call(zoomslider_behavior(ctx, 189.51, 206.51))\n",
       ".on(\"mouseover\", zoomslider_thumb_mouseover(\"#cd5c5c\"))\n",
       ".on(\"mouseout\", zoomslider_thumb_mouseover(\"#6a6a6a\"))\n",
       ";\n",
       "          g.append(\"svg:path\")\n",
       "             .attr(\"d\", \"M204.51,17.26 L 206.51 17.26 206.51 21.26 204.51 21.26 z\");\n",
       "        }(g.append(\"g\")));\n",
       "        (function (g) {\n",
       "          g.attr(\"stroke\", \"#6A6A6A\")\n",
       "           .attr(\"stroke-opacity\", 0.00)\n",
       "           .attr(\"stroke-width\", 0.3)\n",
       "           .attr(\"fill\", \"#EAEAEA\")\n",
       "           .on(\"click\", zoomout_behavior(ctx))\n",
       ".on(\"dblclick\", function() { d3.event.stopPropagation(); })\n",
       ".on(\"mouseover\", zoomslider_button_mouseover(\"#cd5c5c\"))\n",
       ".on(\"mouseout\", zoomslider_button_mouseover(\"#6a6a6a\"))\n",
       ";\n",
       "          g.append(\"svg:path\")\n",
       "             .attr(\"d\", \"M191.51,17.26 L 195.51 17.26 195.51 21.26 191.51 21.26 z\");\n",
       "          (function (g) {\n",
       "            g.attr(\"fill\", \"#6A6A6A\")\n",
       "             .attr(\"class\", \"button_logo\");\n",
       "            g.append(\"svg:path\")\n",
       "               .attr(\"d\", \"M192.31,18.86 L 194.71 18.86 194.71 19.66 192.31 19.66 z\");\n",
       "          }(g.append(\"g\")));\n",
       "        }(g.append(\"g\")));\n",
       "      }(g.append(\"g\")));\n",
       "    }(g.append(\"g\")));\n",
       "  }(g.append(\"g\")));\n",
       "}(g.append(\"g\")));\n",
       "    d3.select(parent_id)\n",
       "      .selectAll(\"path\")\n",
       "      .each(function() {\n",
       "          var sw = parseFloat(window.getComputedStyle(this).getPropertyValue(\"stroke-width\"));\n",
       "          d3.select(this)\n",
       "            .attr(\"vector-effect\", \"non-scaling-stroke\")\n",
       "            .style(\"stroke-width\", sw + \"mm\");\n",
       "      });\n",
       "}\n",
       "\n",
       "var data = [\n",
       "];\n",
       "\n",
       "var draw = function(parent_id) {\n",
       "    draw_with_data(data, parent_id);\n",
       "};\n",
       "\n",
       "draw(\"#gadflyplot-zXTczQTlpHKBn1QFlAu2\");\n",
       "</script>\n"
      ],
      "text/plain": [
       "D3(227.51322751322755,132.2751322751323,IOBuffer([0x66,0x75,0x6e,0x63,0x74,0x69,0x6f,0x6e,0x20,0x64  …  0x74,0x5f,0x69,0x64,0x29,0x3b,0x0a,0x7d,0x3b,0x0a],true,true,true,false,22842,9223372036854775807,22843),0,[],[],0,3,Dict{Uint64,(Any,Int64)}(),true,false,nothing,true)"
      ]
     },
     "metadata": {},
     "output_type": "display_data"
    },
    {
     "data": {
      "text/html": [],
      "text/plain": [
       "Plot(...)"
      ]
     },
     "execution_count": 56,
     "metadata": {},
     "output_type": "execute_result"
    }
   ],
   "source": [
    "plot(layer(x=collect(dates), y=collect(close), Geom.line),\n",
    "     layer(x=collect(dates)[60:end], y = collect(ma60), Geom.line),\n",
    "     Guide.ylabel(\"Price\"), Guide.title(\"GOOG Daily Stock Price 60-Day Moving Avg.\"))"
   ]
  },
  {
   "cell_type": "markdown",
   "metadata": {},
   "source": [
    "### Groupby"
   ]
  },
  {
   "cell_type": "markdown",
   "metadata": {},
   "source": [
    "While the `Partition` iterator makes partitions of specified lengths, the\n",
    "`Groupby` iterator splits an iterator based on some condition. One caveat is\n",
    "that the input iterator has to be sorted in some way on the groupby condition,\n",
    "so that values with the same condition are adjacent in the iterator. \n"
   ]
  },
  {
   "cell_type": "markdown",
   "metadata": {},
   "source": [
    "#### Application: Benford's law in labor force figures"
   ]
  },
  {
   "cell_type": "markdown",
   "metadata": {},
   "source": [
    "In this example, I'm going to look at [Benford's Law](http://en.wikipedia.org/wiki/Benford%27s_law) using the `Groupby`\n",
    "iterator. Benford's Law posits that the leading digits of numbers in many\n",
    "data sources follows a regular distribution. I'll use the `Groupby` iterator to\n",
    "group the data by first digit and check this.\n",
    "\n",
    "\n",
    "The data I'll examine is the size\n",
    "of the labor force population in each U.S. county in 2012.\n"
   ]
  },
  {
   "cell_type": "code",
   "execution_count": 57,
   "metadata": {
    "collapsed": false
   },
   "outputs": [
    {
     "name": "stderr",
     "output_type": "stream",
     "text": [
      "  % Total    % Received % Xferd  Average Speed   Time    Time     Time  Current\n",
      "                                 Dload  Upload   Total   Spent    Left  Speed\n",
      "\r",
      "  0     0    0     0    0     0      0      0 --:--:-- --:--:-- --:--:--     0\r",
      "  5  399k    5 21448    0     0  63939      0  0:00:06 --:--:--  0:00:06 63833\r",
      "100  399k  100  399k    0     0   515k      0 --:--:-- --:--:-- --:--:--  514k\n"
     ]
    },
    {
     "data": {
      "text/plain": [
       "3220-element Array{ASCIIString,1}:\n",
       " \"1000\"  \n",
       " \"10016\" \n",
       " \"1002\"  \n",
       " \"100207\"\n",
       " \"10022\" \n",
       " \"10028\" \n",
       " \"10030\" \n",
       " \"100354\"\n",
       " \"100367\"\n",
       " \"100447\"\n",
       " \"10055\" \n",
       " \"10070\" \n",
       " \"10084\" \n",
       " ⋮       \n",
       " \"9927\"  \n",
       " \"99322\" \n",
       " \"9936\"  \n",
       " \"9956\"  \n",
       " \"9958\"  \n",
       " \"9963\"  \n",
       " \"9968\"  \n",
       " \"99683\" \n",
       " \"997\"   \n",
       " \"9975\"  \n",
       " \"9994\"  \n",
       " \"9998\"  "
      ]
     },
     "execution_count": 57,
     "metadata": {},
     "output_type": "execute_result"
    }
   ],
   "source": [
    "const lfdata = \"http://www.bls.gov/lau/laucnty12.txt\" |>\n",
    "                   download |>\n",
    "                   open |>\n",
    "                   readall |>\n",
    "                   s -> split(s, \"\\r\\n\") |>\n",
    "                   a -> filter(x -> length(x) == 125, a) |>  # Rows with data\n",
    "                   a -> map(x -> strip(x[79:92]), a) |>      # Column w/ LF data\n",
    "                   a -> map(x -> replace(x, \",\", \"\"), a) |>  # 1,000 -> 1000\n",
    "                   x -> x[2:end] |>                          # Remove header\n",
    "                   sort"
   ]
  },
  {
   "cell_type": "markdown",
   "metadata": {},
   "source": [
    "\n",
    "The analysis is simple with a `Groupby` iterator. It splits up the data by\n",
    "leading digit, and then I just calculate the frequency of each leading digit in\n",
    "the data by taking the length of each leading-digit group as a share of\n",
    "the total length of the data."
   ]
  },
  {
   "cell_type": "code",
   "execution_count": 58,
   "metadata": {
    "collapsed": false
   },
   "outputs": [
    {
     "data": {
      "text/plain": [
       "IMap((anonymous function),{GroupBy{Array{ASCIIString,1}}([\"1000\",\"10016\",\"1002\",\"100207\",\"10022\",\"10028\",\"10030\",\"100354\",\"100367\",\"100447\"  …  \"9936\",\"9956\",\"9958\",\"9963\",\"9968\",\"99683\",\"997\",\"9975\",\"9994\",\"9998\"],(anonymous function))})"
      ]
     },
     "execution_count": 58,
     "metadata": {},
     "output_type": "execute_result"
    }
   ],
   "source": [
    "dgroups = Iterators.groupby(lfdata, s -> s[1]) # Groups by first digit\n",
    "# Extract the digit from the group members\n",
    "digits = imap(i -> parseint(string(i[1][1])), dgroups)\n",
    "# Compute the frequency\n",
    "frequency = imap(x -> length(x) / length(lfdata), dgroups)"
   ]
  },
  {
   "cell_type": "markdown",
   "metadata": {},
   "source": [
    "Benford's Law posits that the frequency of digit *d* in data should be\n",
    "log<sub>10</sub>(*d+1*) - log<sub>10</sub>(*d*). This function prints out a\n",
    "table of the observed frequencies next to the expected frequencies per Benford's Law."
   ]
  },
  {
   "cell_type": "code",
   "execution_count": 59,
   "metadata": {
    "collapsed": false
   },
   "outputs": [
    {
     "name": "stdout",
     "output_type": "stream",
     "text": [
      "\n",
      "Digit Frequency Compared to Benford's Law\n",
      "=========================================\n",
      "\n",
      "Digit  Observed  Expected  Difference\n",
      "    1     30.09     30.10       -0.01\n",
      "    2     16.46     17.61       -1.15\n",
      "    3     12.02     12.49       -0.48\n",
      "    4      9.72      9.69        0.03\n",
      "    5      8.29      7.92        0.37\n",
      "    6      6.30      6.69       -0.39\n",
      "    7      6.02      5.80        0.23\n",
      "    8      5.84      5.12        0.72\n",
      "    9      5.25      4.58        0.67\n"
     ]
    }
   ],
   "source": [
    "benfordcheck = function(obs_freqs, digits)\n",
    "    pred_freqs = map(d -> log10(d+1) - log10(d), digits)\n",
    "    println(\"\")\n",
    "    println(\"Digit Frequency Compared to Benford's Law\")\n",
    "    println(\"=========================================\")\n",
    "    println(\"\")\n",
    "    println(\"Digit  Observed  Expected  Difference\");\n",
    "    for (d, o, e) in zip(digits, obs_freqs, pred_freqs)\n",
    "        @printf( \"%5d %9.2f %9.2f %11.2f\\n\", d, 100*o, 100*e, 100*(o-e))\n",
    "    end\n",
    "end\n",
    "\n",
    "benfordcheck(frequency, digits)"
   ]
  },
  {
   "cell_type": "markdown",
   "metadata": {},
   "source": [
    "\n",
    "We can see the labor force data follows Benford's Law quite closely.\n",
    "\n",
    "To plot the comparison, I can collect the values from our iterators into a\n",
    "DataFrame."
   ]
  },
  {
   "cell_type": "code",
   "execution_count": 60,
   "metadata": {
    "collapsed": false
   },
   "outputs": [
    {
     "data": {
      "text/plain": [
       "18x3 DataFrame:\n",
       "           variable     value digits\n",
       "[1,]     \"observed\"  0.300932      1\n",
       "[2,]     \"observed\"  0.164596      2\n",
       "[3,]     \"observed\"  0.120186      3\n",
       "[4,]     \"observed\"  0.097205      4\n",
       "[5,]     \"observed\" 0.0829193      5\n",
       "[6,]     \"observed\" 0.0630435      6\n",
       "[7,]     \"observed\" 0.0602484      7\n",
       "[8,]     \"observed\" 0.0583851      8\n",
       "[9,]     \"observed\" 0.0524845      9\n",
       "[10,]    \"expected\"   0.30103      1\n",
       "[11,]    \"expected\"  0.176091      2\n",
       "[12,]    \"expected\"  0.124939      3\n",
       "[13,]    \"expected\"   0.09691      4\n",
       "[14,]    \"expected\" 0.0791812      5\n",
       "[15,]    \"expected\" 0.0669468      6\n",
       "[16,]    \"expected\" 0.0579919      7\n",
       "[17,]    \"expected\" 0.0511525      8\n",
       "[18,]    \"expected\" 0.0457575      9\n"
      ]
     },
     "execution_count": 60,
     "metadata": {},
     "output_type": "execute_result"
    }
   ],
   "source": [
    "benford_df = DataFrame(# Extract the digit\n",
    "                       digits = collect(digits),\n",
    "                       observed = collect(frequency),\n",
    "                       expected = map(d -> log10(d+1) - log10(d), digits))\n",
    "\n",
    "benford_df = stack(benford_df, [2, 3])"
   ]
  },
  {
   "cell_type": "code",
   "execution_count": 61,
   "metadata": {
    "collapsed": false
   },
   "outputs": [
    {
     "data": {
      "text/html": [
       "<div id=\"gadflyplot-anWJr9vu0msmFSpLyCv0\"></div>\n",
       "<script>\n",
       "function draw_with_data(data, parent_id) {\n",
       "  var g = d3.select(parent_id)\n",
       "            .append(\"svg\")\n",
       "              .attr(\"width\", \"211.64mm\")\n",
       "              .attr(\"height\", \"132.28mm\")\n",
       "              .attr(\"viewBox\", \"0 0 211.64 132.28\")\n",
       "              .attr(\"stroke-width\", \"0.5\")\n",
       "              .attr(\"style\", \"stroke:black;fill:black\");\n",
       "  g.append(\"defs\");\n",
       "  var ctx = {\n",
       "      \"scale\": 1.0,\n",
       "      \"tx\": 0.0,\n",
       "      \"ty\": 0.0\n",
       "  };\n",
       "(function (g) {\n",
       "  g.attr(\"class\", \"plotroot yscalable\");\n",
       "  (function (g) {\n",
       "    g.attr(\"stroke\", \"none\")\n",
       "     .attr(\"fill\", \"#4C404B\")\n",
       "     .attr(\"font-family\", \"'PT Sans','Helvetica Neue','Helvetica',sans-serif\")\n",
       "     .style(\"font-size\", \"3.18px\")\n",
       "     .attr(\"class\", \"guide ylabels\");\n",
       "    (function (g) {\n",
       "      g.attr(\"visibility\", \"hidden\");\n",
       "      g.append(\"svg:text\")\n",
       "         .attr(\"x\", 23.7)\n",
       "         .attr(\"y\", 200.9)\n",
       "         .attr(\"text-anchor\", \"end\")\n",
       "         .style(\"dominant-baseline\", \"central\")\n",
       "      .call(function(text) {\n",
       "  text.text(\"-0.4\");\n",
       "})\n",
       ";\n",
       "    }(g.append(\"g\")));\n",
       "    g.append(\"svg:text\")\n",
       "       .attr(\"x\", 23.7)\n",
       "       .attr(\"y\", 17.02)\n",
       "       .attr(\"text-anchor\", \"end\")\n",
       "       .style(\"dominant-baseline\", \"central\")\n",
       "    .call(function(text) {\n",
       "  text.text(\"0.4\");\n",
       "})\n",
       ";\n",
       "    g.append(\"svg:text\")\n",
       "       .attr(\"x\", 23.7)\n",
       "       .attr(\"y\", 85.97)\n",
       "       .attr(\"text-anchor\", \"end\")\n",
       "       .style(\"dominant-baseline\", \"central\")\n",
       "    .call(function(text) {\n",
       "  text.text(\"0.1\");\n",
       "})\n",
       ";\n",
       "    (function (g) {\n",
       "      g.attr(\"visibility\", \"hidden\");\n",
       "      g.append(\"svg:text\")\n",
       "         .attr(\"x\", 23.7)\n",
       "         .attr(\"y\", -5.97)\n",
       "         .attr(\"text-anchor\", \"end\")\n",
       "         .style(\"dominant-baseline\", \"central\")\n",
       "      .call(function(text) {\n",
       "  text.text(\"0.5\");\n",
       "})\n",
       ";\n",
       "    }(g.append(\"g\")));\n",
       "    (function (g) {\n",
       "      g.attr(\"visibility\", \"hidden\");\n",
       "      g.append(\"svg:text\")\n",
       "         .attr(\"x\", 23.7)\n",
       "         .attr(\"y\", 177.91)\n",
       "         .attr(\"text-anchor\", \"end\")\n",
       "         .style(\"dominant-baseline\", \"central\")\n",
       "      .call(function(text) {\n",
       "  text.text(\"-0.3\");\n",
       "})\n",
       ";\n",
       "    }(g.append(\"g\")));\n",
       "    (function (g) {\n",
       "      g.attr(\"visibility\", \"hidden\");\n",
       "      g.append(\"svg:text\")\n",
       "         .attr(\"x\", 23.7)\n",
       "         .attr(\"y\", -74.92)\n",
       "         .attr(\"text-anchor\", \"end\")\n",
       "         .style(\"dominant-baseline\", \"central\")\n",
       "      .call(function(text) {\n",
       "  text.text(\"0.8\");\n",
       "})\n",
       ";\n",
       "    }(g.append(\"g\")));\n",
       "    (function (g) {\n",
       "      g.attr(\"visibility\", \"hidden\");\n",
       "      g.append(\"svg:text\")\n",
       "         .attr(\"x\", 23.7)\n",
       "         .attr(\"y\", 223.88)\n",
       "         .attr(\"text-anchor\", \"end\")\n",
       "         .style(\"dominant-baseline\", \"central\")\n",
       "      .call(function(text) {\n",
       "  text.text(\"-0.5\");\n",
       "})\n",
       ";\n",
       "    }(g.append(\"g\")));\n",
       "    (function (g) {\n",
       "      g.attr(\"visibility\", \"hidden\");\n",
       "      g.append(\"svg:text\")\n",
       "         .attr(\"x\", 23.7)\n",
       "         .attr(\"y\", -97.91)\n",
       "         .attr(\"text-anchor\", \"end\")\n",
       "         .style(\"dominant-baseline\", \"central\")\n",
       "      .call(function(text) {\n",
       "  text.text(\"0.9\");\n",
       "})\n",
       ";\n",
       "    }(g.append(\"g\")));\n",
       "    (function (g) {\n",
       "      g.attr(\"visibility\", \"hidden\");\n",
       "      g.append(\"svg:text\")\n",
       "         .attr(\"x\", 23.7)\n",
       "         .attr(\"y\", 131.94)\n",
       "         .attr(\"text-anchor\", \"end\")\n",
       "         .style(\"dominant-baseline\", \"central\")\n",
       "      .call(function(text) {\n",
       "  text.text(\"-0.1\");\n",
       "})\n",
       ";\n",
       "    }(g.append(\"g\")));\n",
       "    g.append(\"svg:text\")\n",
       "       .attr(\"x\", 23.7)\n",
       "       .attr(\"y\", 62.99)\n",
       "       .attr(\"text-anchor\", \"end\")\n",
       "       .style(\"dominant-baseline\", \"central\")\n",
       "    .call(function(text) {\n",
       "  text.text(\"0.2\");\n",
       "})\n",
       ";\n",
       "    (function (g) {\n",
       "      g.attr(\"visibility\", \"hidden\");\n",
       "      g.append(\"svg:text\")\n",
       "         .attr(\"x\", 23.7)\n",
       "         .attr(\"y\", -28.95)\n",
       "         .attr(\"text-anchor\", \"end\")\n",
       "         .style(\"dominant-baseline\", \"central\")\n",
       "      .call(function(text) {\n",
       "  text.text(\"0.6\");\n",
       "})\n",
       ";\n",
       "    }(g.append(\"g\")));\n",
       "    g.append(\"svg:text\")\n",
       "       .attr(\"x\", 23.7)\n",
       "       .attr(\"y\", 108.96)\n",
       "       .attr(\"text-anchor\", \"end\")\n",
       "       .style(\"dominant-baseline\", \"central\")\n",
       "    .call(function(text) {\n",
       "  text.text(\"0.0\");\n",
       "})\n",
       ";\n",
       "    (function (g) {\n",
       "      g.attr(\"visibility\", \"hidden\");\n",
       "      g.append(\"svg:text\")\n",
       "         .attr(\"x\", 23.7)\n",
       "         .attr(\"y\", -51.94)\n",
       "         .attr(\"text-anchor\", \"end\")\n",
       "         .style(\"dominant-baseline\", \"central\")\n",
       "      .call(function(text) {\n",
       "  text.text(\"0.7\");\n",
       "})\n",
       ";\n",
       "    }(g.append(\"g\")));\n",
       "    g.append(\"svg:text\")\n",
       "       .attr(\"x\", 23.7)\n",
       "       .attr(\"y\", 40)\n",
       "       .attr(\"text-anchor\", \"end\")\n",
       "       .style(\"dominant-baseline\", \"central\")\n",
       "    .call(function(text) {\n",
       "  text.text(\"0.3\");\n",
       "})\n",
       ";\n",
       "    (function (g) {\n",
       "      g.attr(\"visibility\", \"hidden\");\n",
       "      g.append(\"svg:text\")\n",
       "         .attr(\"x\", 23.7)\n",
       "         .attr(\"y\", 154.93)\n",
       "         .attr(\"text-anchor\", \"end\")\n",
       "         .style(\"dominant-baseline\", \"central\")\n",
       "      .call(function(text) {\n",
       "  text.text(\"-0.2\");\n",
       "})\n",
       ";\n",
       "    }(g.append(\"g\")));\n",
       "  }(g.append(\"g\")));\n",
       "  (function (g) {\n",
       "    g.attr(\"stroke\", \"none\")\n",
       "     .attr(\"fill\", \"#362A35\")\n",
       "     .attr(\"font-family\", \"'PT Sans','Helvetica Neue','Helvetica',sans-serif\")\n",
       "     .style(\"font-size\", \"3.88px\");\n",
       "    g.append(\"svg:text\")\n",
       "       .attr(\"x\", 8.63)\n",
       "       .attr(\"y\", 62.99)\n",
       "       .attr(\"text-anchor\", \"middle\")\n",
       "       .style(\"dominant-baseline\", \"central\")\n",
       "       .attr(\"transform\", \"rotate(-90, 8.63, 62.99)\")\n",
       "    .call(function(text) {\n",
       "  text.text(\"Digit Frequency\");\n",
       "})\n",
       ";\n",
       "  }(g.append(\"g\")));\n",
       "  (function (g) {\n",
       "    g.attr(\"stroke\", \"none\")\n",
       "     .attr(\"fill\", \"#4C404B\")\n",
       "     .attr(\"font-family\", \"'PT Sans','Helvetica Neue','Helvetica',sans-serif\")\n",
       "     .style(\"font-size\", \"3.18px\")\n",
       "     .attr(\"class\", \"guide xlabels\");\n",
       "    g.append(\"svg:text\")\n",
       "       .attr(\"x\", 50.27)\n",
       "       .attr(\"y\", 117.02)\n",
       "       .attr(\"text-anchor\", \"middle\")\n",
       "    .call(function(text) {\n",
       "  text.text(\"2\");\n",
       "})\n",
       ";\n",
       "    g.append(\"svg:text\")\n",
       "       .attr(\"x\", 169.6)\n",
       "       .attr(\"y\", 117.02)\n",
       "       .attr(\"text-anchor\", \"middle\")\n",
       "    .call(function(text) {\n",
       "  text.text(\"9\");\n",
       "})\n",
       ";\n",
       "    g.append(\"svg:text\")\n",
       "       .attr(\"x\", 101.41)\n",
       "       .attr(\"y\", 117.02)\n",
       "       .attr(\"text-anchor\", \"middle\")\n",
       "    .call(function(text) {\n",
       "  text.text(\"5\");\n",
       "})\n",
       ";\n",
       "    g.append(\"svg:text\")\n",
       "       .attr(\"x\", 84.36)\n",
       "       .attr(\"y\", 117.02)\n",
       "       .attr(\"text-anchor\", \"middle\")\n",
       "    .call(function(text) {\n",
       "  text.text(\"4\");\n",
       "})\n",
       ";\n",
       "    g.append(\"svg:text\")\n",
       "       .attr(\"x\", 152.55)\n",
       "       .attr(\"y\", 117.02)\n",
       "       .attr(\"text-anchor\", \"middle\")\n",
       "    .call(function(text) {\n",
       "  text.text(\"8\");\n",
       "})\n",
       ";\n",
       "    g.append(\"svg:text\")\n",
       "       .attr(\"x\", 67.32)\n",
       "       .attr(\"y\", 117.02)\n",
       "       .attr(\"text-anchor\", \"middle\")\n",
       "    .call(function(text) {\n",
       "  text.text(\"3\");\n",
       "})\n",
       ";\n",
       "    g.append(\"svg:text\")\n",
       "       .attr(\"x\", 33.22)\n",
       "       .attr(\"y\", 117.02)\n",
       "       .attr(\"text-anchor\", \"middle\")\n",
       "    .call(function(text) {\n",
       "  text.text(\"1\");\n",
       "})\n",
       ";\n",
       "    g.append(\"svg:text\")\n",
       "       .attr(\"x\", 135.5)\n",
       "       .attr(\"y\", 117.02)\n",
       "       .attr(\"text-anchor\", \"middle\")\n",
       "    .call(function(text) {\n",
       "  text.text(\"7\");\n",
       "})\n",
       ";\n",
       "    g.append(\"svg:text\")\n",
       "       .attr(\"x\", 118.46)\n",
       "       .attr(\"y\", 117.02)\n",
       "       .attr(\"text-anchor\", \"middle\")\n",
       "    .call(function(text) {\n",
       "  text.text(\"6\");\n",
       "})\n",
       ";\n",
       "  }(g.append(\"g\")));\n",
       "  (function (g) {\n",
       "    g.attr(\"stroke\", \"none\")\n",
       "     .attr(\"fill\", \"#362A35\")\n",
       "     .attr(\"font-family\", \"'PT Sans','Helvetica Neue','Helvetica',sans-serif\")\n",
       "     .style(\"font-size\", \"3.88px\");\n",
       "    g.append(\"svg:text\")\n",
       "       .attr(\"x\", 101.41)\n",
       "       .attr(\"y\", 125.28)\n",
       "       .attr(\"text-anchor\", \"middle\")\n",
       "    .call(function(text) {\n",
       "  text.text(\"Leading Digit\");\n",
       "})\n",
       ";\n",
       "  }(g.append(\"g\")));\n",
       "  (function (g) {\n",
       "    g.attr(\"stroke\", \"none\")\n",
       "     .attr(\"font-family\", \"'PT Sans','Helvetica Neue','Helvetica',sans-serif\")\n",
       "     .style(\"font-size\", \"3.88px\")\n",
       "     .attr(\"fill\", \"#362A35\");\n",
       "    g.append(\"svg:text\")\n",
       "       .attr(\"x\", 194.38)\n",
       "       .attr(\"y\", 61.31)\n",
       "       .attr(\"text-anchor\", \"middle\")\n",
       "    .call(function(text) {\n",
       "  text.text(\"variable\");\n",
       "})\n",
       ";\n",
       "  }(g.append(\"g\")));\n",
       "  (function (g) {\n",
       "    g.attr(\"font-family\", \"'PT Sans','Helvetica Neue','Helvetica',sans-serif\")\n",
       "     .style(\"font-size\", \"3.18px\");\n",
       "    (function (g) {\n",
       "      g.attr(\"class\", \"guide color_expected\")\n",
       "       .on(\"click\", guide_toggle_color(\"color_expected\"));\n",
       "      (function (g) {\n",
       "        g.attr(\"fill\", \"#00BFFF\")\n",
       "         .attr(\"stroke\", \"#0096DD\")\n",
       "         .attr(\"stroke-width\", 0.3);\n",
       "        g.append(\"svg:path\")\n",
       "           .attr(\"d\", \"M180.12,63.31 L 184.42 63.31 184.42 67.62 180.12 67.62 z\");\n",
       "      }(g.append(\"g\")));\n",
       "      (function (g) {\n",
       "        g.attr(\"stroke\", \"none\")\n",
       "         .attr(\"fill\", \"#4C404B\");\n",
       "        g.append(\"svg:text\")\n",
       "           .attr(\"x\", 185.42)\n",
       "           .attr(\"y\", 65.46)\n",
       "           .style(\"dominant-baseline\", \"central\")\n",
       "        .call(function(text) {\n",
       "  text.text(\"expected\");\n",
       "})\n",
       ";\n",
       "      }(g.append(\"g\")));\n",
       "    }(g.append(\"g\")));\n",
       "    (function (g) {\n",
       "      g.attr(\"class\", \"guide color_observed\")\n",
       "       .on(\"click\", guide_toggle_color(\"color_observed\"));\n",
       "      (function (g) {\n",
       "        g.attr(\"fill\", \"#D4CA3A\")\n",
       "         .attr(\"stroke\", \"#A8A200\")\n",
       "         .attr(\"stroke-width\", 0.3);\n",
       "        g.append(\"svg:path\")\n",
       "           .attr(\"d\", \"M180.12,68.62 L 184.42 68.62 184.42 72.92 180.12 72.92 z\");\n",
       "      }(g.append(\"g\")));\n",
       "      (function (g) {\n",
       "        g.attr(\"stroke\", \"none\")\n",
       "         .attr(\"fill\", \"#4C404B\");\n",
       "        g.append(\"svg:text\")\n",
       "           .attr(\"x\", 185.42)\n",
       "           .attr(\"y\", 70.77)\n",
       "           .style(\"dominant-baseline\", \"central\")\n",
       "        .call(function(text) {\n",
       "  text.text(\"observed\");\n",
       "})\n",
       ";\n",
       "      }(g.append(\"g\")));\n",
       "    }(g.append(\"g\")));\n",
       "  }(g.append(\"g\")));\n",
       "  (function (g) {\n",
       "    g.attr(\"stroke\", \"none\")\n",
       "     .attr(\"fill\", \"#362A35\")\n",
       "     .attr(\"font-family\", \"'PT Sans','Helvetica Neue','Helvetica',sans-serif\")\n",
       "     .style(\"font-size\", \"3.88px\");\n",
       "    g.append(\"svg:text\")\n",
       "       .attr(\"x\", 101.41)\n",
       "       .attr(\"y\", 12.26)\n",
       "       .attr(\"text-anchor\", \"middle\")\n",
       "    .call(function(text) {\n",
       "  text.text(\"Benford's Law in 2012 U.S. County Labor Force Data\");\n",
       "})\n",
       ";\n",
       "  }(g.append(\"g\")));\n",
       "  (function (g) {\n",
       "    g.on(\"mouseover\", guide_background_mouseover(\"#C6C6C9\"))\n",
       "     .on(\"mouseout\", guide_background_mouseout(\"#F0F0F3\"))\n",
       "     .call(zoom_behavior(ctx))\n",
       ";\n",
       "    (function (g) {\n",
       "      d3.select(\"defs\")\n",
       "  .append(\"svg:clipPath\")\n",
       "    .attr(\"id\", parent_id + \"_clippath0\")\n",
       "    .append(\"svg:path\")\n",
       "      .attr(\"d\", \" M24.7,14.26 L 178.12 14.26 178.12 111.72 24.7 111.72 z\");g.attr(\"clip-path\", \"url(#\" + parent_id + \"_clippath0)\");\n",
       "      (function (g) {\n",
       "        g.attr(\"class\", \"guide background\")\n",
       "         .attr(\"stroke\", \"#F1F1F5\")\n",
       "         .attr(\"fill\", \"#FAFAFA\");\n",
       "        g.append(\"svg:path\")\n",
       "           .attr(\"d\", \"M24.7,14.26 L 178.12 14.26 178.12 111.72 24.7 111.72 z\");\n",
       "      }(g.append(\"g\")));\n",
       "      (function (g) {\n",
       "        g.attr(\"stroke\", \"#F0F0F3\")\n",
       "         .attr(\"stroke-width\", 0.2)\n",
       "         .attr(\"class\", \"guide ygridlines xfixed\");\n",
       "        g.append(\"svg:path\")\n",
       "           .attr(\"d\", \"M24.7,17.02 L 178.12 17.02\");\n",
       "        g.append(\"svg:path\")\n",
       "           .attr(\"d\", \"M24.7,-5.97 L 178.12 -5.97\");\n",
       "        g.append(\"svg:path\")\n",
       "           .attr(\"d\", \"M24.7,-74.92 L 178.12 -74.92\");\n",
       "        g.append(\"svg:path\")\n",
       "           .attr(\"d\", \"M24.7,-97.91 L 178.12 -97.91\");\n",
       "        g.append(\"svg:path\")\n",
       "           .attr(\"d\", \"M24.7,62.99 L 178.12 62.99\");\n",
       "        g.append(\"svg:path\")\n",
       "           .attr(\"d\", \"M24.7,108.96 L 178.12 108.96\");\n",
       "        g.append(\"svg:path\")\n",
       "           .attr(\"d\", \"M24.7,40 L 178.12 40\");\n",
       "        g.append(\"svg:path\")\n",
       "           .attr(\"d\", \"M24.7,154.93 L 178.12 154.93\");\n",
       "        g.append(\"svg:path\")\n",
       "           .attr(\"d\", \"M24.7,-51.94 L 178.12 -51.94\");\n",
       "        g.append(\"svg:path\")\n",
       "           .attr(\"d\", \"M24.7,-28.95 L 178.12 -28.95\");\n",
       "        g.append(\"svg:path\")\n",
       "           .attr(\"d\", \"M24.7,131.94 L 178.12 131.94\");\n",
       "        g.append(\"svg:path\")\n",
       "           .attr(\"d\", \"M24.7,223.88 L 178.12 223.88\");\n",
       "        g.append(\"svg:path\")\n",
       "           .attr(\"d\", \"M24.7,177.91 L 178.12 177.91\");\n",
       "        g.append(\"svg:path\")\n",
       "           .attr(\"d\", \"M24.7,85.97 L 178.12 85.97\");\n",
       "        g.append(\"svg:path\")\n",
       "           .attr(\"d\", \"M24.7,200.9 L 178.12 200.9\");\n",
       "      }(g.append(\"g\")));\n",
       "      (function (g) {\n",
       "        g.attr(\"stroke\", \"#F0F0F3\")\n",
       "         .attr(\"stroke-width\", 0.2)\n",
       "         .attr(\"class\", \"guide xgridlines yfixed\");\n",
       "        g.append(\"svg:path\")\n",
       "           .attr(\"d\", \"M92.89,14.26 L 92.89 111.72\");\n",
       "        g.append(\"svg:path\")\n",
       "           .attr(\"d\", \"M161.07,14.26 L 161.07 111.72\");\n",
       "        g.append(\"svg:path\")\n",
       "           .attr(\"d\", \"M144.03,14.26 L 144.03 111.72\");\n",
       "        g.append(\"svg:path\")\n",
       "           .attr(\"d\", \"M75.84,14.26 L 75.84 111.72\");\n",
       "        g.append(\"svg:path\")\n",
       "           .attr(\"d\", \"M126.98,14.26 L 126.98 111.72\");\n",
       "        g.append(\"svg:path\")\n",
       "           .attr(\"d\", \"M41.74,14.26 L 41.74 111.72\");\n",
       "        g.append(\"svg:path\")\n",
       "           .attr(\"d\", \"M58.79,14.26 L 58.79 111.72\");\n",
       "        g.append(\"svg:path\")\n",
       "           .attr(\"d\", \"M109.93,14.26 L 109.93 111.72\");\n",
       "      }(g.append(\"g\")));\n",
       "    }(g.append(\"g\")));\n",
       "    (function (g) {\n",
       "      d3.select(\"defs\")\n",
       "  .append(\"svg:clipPath\")\n",
       "    .attr(\"id\", parent_id + \"_clippath1\")\n",
       "    .append(\"svg:path\")\n",
       "      .attr(\"d\", \" M24.7,14.26 L 178.12 14.26 178.12 111.72 24.7 111.72 z\");g.attr(\"clip-path\", \"url(#\" + parent_id + \"_clippath1)\");\n",
       "      (function (g) {\n",
       "        g.attr(\"class\", \"plotpanel\");\n",
       "        (function (g) {\n",
       "          g.attr(\"fill\", \"none\")\n",
       "           .attr(\"stroke-width\", 0.3);\n",
       "          (function (g) {\n",
       "            g.attr(\"stroke\", \"#00BFFF\")\n",
       "             .attr(\"class\", \"geometry color_expected\");\n",
       "            g.append(\"svg:path\")\n",
       "               .attr(\"d\", \"M33.22,39.76 L 50.27 68.48 67.32 80.24 84.36 86.68 101.41 90.76 118.46 93.57 135.5 95.63 152.55 97.2 169.6 98.44\");\n",
       "          }(g.append(\"g\")));\n",
       "          (function (g) {\n",
       "            g.attr(\"stroke\", \"#D4CA3A\")\n",
       "             .attr(\"class\", \"geometry color_observed\");\n",
       "            g.append(\"svg:path\")\n",
       "               .attr(\"d\", \"M33.22,39.79 L 50.27 71.12 67.32 81.33 84.36 86.61 101.41 89.9 118.46 94.47 135.5 95.11 152.55 95.54 169.6 96.89\");\n",
       "          }(g.append(\"g\")));\n",
       "        }(g.append(\"g\")));\n",
       "        (function (g) {\n",
       "          g.attr(\"stroke-width\", 0.3);\n",
       "          (function (g) {\n",
       "            g.attr(\"stroke-width\", 0.3);\n",
       "g.selectAll(\"form0\")\n",
       "                  .data(d3.zip(data[0],data[1],data[2],data[3],data[4]))\n",
       "                  .enter()\n",
       "                  .append(\"circle\")\n",
       ".attr(\"cx\", function(d) { return d[0]; })\n",
       ".attr(\"cy\", function(d) { return d[1]; })\n",
       ".attr(\"r\", 0.6)\n",
       ".attr(\"class\", function(d) { return d[2]; })\n",
       ".on(\"mouseout\", geom_point_mouseover(0.30), false)\n",
       ".on(\"mouseover\", geom_point_mouseover(3.00), false)\n",
       ".attr(\"stroke\", function(d) { return d[3]; })\n",
       ".attr(\"fill\", function(d, i) { return d[4]; })\n",
       ";\n",
       "          }(g.append(\"g\")));\n",
       "        }(g.append(\"g\")));\n",
       "      }(g.append(\"g\")));\n",
       "    }(g.append(\"g\")));\n",
       "    (function (g) {\n",
       "      d3.select(\"defs\")\n",
       "  .append(\"svg:clipPath\")\n",
       "    .attr(\"id\", parent_id + \"_clippath2\")\n",
       "    .append(\"svg:path\")\n",
       "      .attr(\"d\", \" M24.7,14.26 L 178.12 14.26 178.12 111.72 24.7 111.72 z\");g.attr(\"clip-path\", \"url(#\" + parent_id + \"_clippath2)\");\n",
       "      (function (g) {\n",
       "        g.attr(\"stroke\", \"none\")\n",
       "         .attr(\"class\", \"guide zoomslider\")\n",
       "         .attr(\"opacity\", 0.00);\n",
       "        (function (g) {\n",
       "          g.attr(\"stroke\", \"#6A6A6A\")\n",
       "           .attr(\"stroke-opacity\", 0.00)\n",
       "           .attr(\"stroke-width\", 0.3)\n",
       "           .attr(\"fill\", \"#EAEAEA\")\n",
       "           .on(\"click\", zoomin_behavior(ctx))\n",
       ".on(\"dblclick\", function() { d3.event.stopPropagation(); })\n",
       ".on(\"mouseover\", zoomslider_button_mouseover(\"#cd5c5c\"))\n",
       ".on(\"mouseout\", zoomslider_button_mouseover(\"#6a6a6a\"))\n",
       ";\n",
       "          g.append(\"svg:path\")\n",
       "             .attr(\"d\", \"M171.12,17.26 L 175.12 17.26 175.12 21.26 171.12 21.26 z\");\n",
       "          (function (g) {\n",
       "            g.attr(\"fill\", \"#6A6A6A\")\n",
       "             .attr(\"class\", \"button_logo\");\n",
       "            g.append(\"svg:path\")\n",
       "               .attr(\"d\", \"M171.92,18.86 L 172.72 18.86 172.72 18.06 173.52 18.06 173.52 18.86 174.32 18.86 174.32 19.66 173.52 19.66 173.52 20.46 172.72 20.46 172.72 19.66 171.92 19.66 z\");\n",
       "          }(g.append(\"g\")));\n",
       "        }(g.append(\"g\")));\n",
       "        (function (g) {\n",
       "          g.attr(\"fill\", \"#EAEAEA\")\n",
       "           .on(\"click\", zoomslider_track_behavior(ctx, 145.12, 162.12));\n",
       "          g.append(\"svg:path\")\n",
       "             .attr(\"d\", \"M151.62,17.26 L 170.62 17.26 170.62 21.26 151.62 21.26 z\");\n",
       "        }(g.append(\"g\")));\n",
       "        (function (g) {\n",
       "          g.attr(\"fill\", \"#6A6A6A\")\n",
       "           .attr(\"class\", \"zoomslider_thumb\")\n",
       "           .call(zoomslider_behavior(ctx, 145.12, 162.12))\n",
       ".on(\"mouseover\", zoomslider_thumb_mouseover(\"#cd5c5c\"))\n",
       ".on(\"mouseout\", zoomslider_thumb_mouseover(\"#6a6a6a\"))\n",
       ";\n",
       "          g.append(\"svg:path\")\n",
       "             .attr(\"d\", \"M160.12,17.26 L 162.12 17.26 162.12 21.26 160.12 21.26 z\");\n",
       "        }(g.append(\"g\")));\n",
       "        (function (g) {\n",
       "          g.attr(\"stroke\", \"#6A6A6A\")\n",
       "           .attr(\"stroke-opacity\", 0.00)\n",
       "           .attr(\"stroke-width\", 0.3)\n",
       "           .attr(\"fill\", \"#EAEAEA\")\n",
       "           .on(\"click\", zoomout_behavior(ctx))\n",
       ".on(\"dblclick\", function() { d3.event.stopPropagation(); })\n",
       ".on(\"mouseover\", zoomslider_button_mouseover(\"#cd5c5c\"))\n",
       ".on(\"mouseout\", zoomslider_button_mouseover(\"#6a6a6a\"))\n",
       ";\n",
       "          g.append(\"svg:path\")\n",
       "             .attr(\"d\", \"M147.12,17.26 L 151.12 17.26 151.12 21.26 147.12 21.26 z\");\n",
       "          (function (g) {\n",
       "            g.attr(\"fill\", \"#6A6A6A\")\n",
       "             .attr(\"class\", \"button_logo\");\n",
       "            g.append(\"svg:path\")\n",
       "               .attr(\"d\", \"M147.92,18.86 L 150.32 18.86 150.32 19.66 147.92 19.66 z\");\n",
       "          }(g.append(\"g\")));\n",
       "        }(g.append(\"g\")));\n",
       "      }(g.append(\"g\")));\n",
       "    }(g.append(\"g\")));\n",
       "  }(g.append(\"g\")));\n",
       "}(g.append(\"g\")));\n",
       "    d3.select(parent_id)\n",
       "      .selectAll(\"path\")\n",
       "      .each(function() {\n",
       "          var sw = parseFloat(window.getComputedStyle(this).getPropertyValue(\"stroke-width\"));\n",
       "          d3.select(this)\n",
       "            .attr(\"vector-effect\", \"non-scaling-stroke\")\n",
       "            .style(\"stroke-width\", sw + \"mm\");\n",
       "      });\n",
       "}\n",
       "\n",
       "var data = [\n",
       "  [33.22145620223398,50.26836860670195,67.31528101116992,84.36219341563788,101.40910582010585,118.45601822457382,135.50293062904177,152.54984303350975,169.59675543797772,33.22145620223398,50.26836860670195,67.31528101116992,84.36219341563788,101.40910582010585,118.45601822457382,135.50293062904177,152.54984303350975,169.59675543797772],\n",
       "  [39.78724585936828,71.12417386591864,81.33187478832569,86.61418155936153,89.89777766027566,94.46625919198235,95.10870190737859,95.53699705097608,96.89326500570151,39.764647148932525,68.48203153554337,80.23952716375354,86.68197769066876,90.756965395239,93.56907633237824,95.62736238173969,97.19941592215422,98.43947331887894],\n",
       "  [\"geometry color_observed\",\"geometry color_observed\",\"geometry color_observed\",\"geometry color_observed\",\"geometry color_observed\",\"geometry color_observed\",\"geometry color_observed\",\"geometry color_observed\",\"geometry color_observed\",\"geometry color_expected\",\"geometry color_expected\",\"geometry color_expected\",\"geometry color_expected\",\"geometry color_expected\",\"geometry color_expected\",\"geometry color_expected\",\"geometry color_expected\",\"geometry color_expected\"],\n",
       "  [\"#A8A200\",\"#A8A200\",\"#A8A200\",\"#A8A200\",\"#A8A200\",\"#A8A200\",\"#A8A200\",\"#A8A200\",\"#A8A200\",\"#0096DD\",\"#0096DD\",\"#0096DD\",\"#0096DD\",\"#0096DD\",\"#0096DD\",\"#0096DD\",\"#0096DD\",\"#0096DD\"],\n",
       "  [\"#D4CA3A\",\"#D4CA3A\",\"#D4CA3A\",\"#D4CA3A\",\"#D4CA3A\",\"#D4CA3A\",\"#D4CA3A\",\"#D4CA3A\",\"#D4CA3A\",\"#00BFFF\",\"#00BFFF\",\"#00BFFF\",\"#00BFFF\",\"#00BFFF\",\"#00BFFF\",\"#00BFFF\",\"#00BFFF\",\"#00BFFF\"]];\n",
       "\n",
       "var draw = function(parent_id) {\n",
       "    draw_with_data(data, parent_id);\n",
       "};\n",
       "\n",
       "draw(\"#gadflyplot-anWJr9vu0msmFSpLyCv0\");\n",
       "</script>\n"
      ],
      "text/plain": [
       "D3(211.64021164021167,132.2751322751323,IOBuffer([0x66,0x75,0x6e,0x63,0x74,0x69,0x6f,0x6e,0x20,0x64  …  0x74,0x5f,0x69,0x64,0x29,0x3b,0x0a,0x7d,0x3b,0x0a],true,true,true,false,19441,9223372036854775807,19442),0,[],[],1,3,[0x1d340b4167b77fc2=>([LCHab(80.0,70.0,100.43478260869566),LCHab(80.0,70.0,100.43478260869566),LCHab(80.0,70.0,100.43478260869566),LCHab(80.0,70.0,100.43478260869566),LCHab(80.0,70.0,100.43478260869566),LCHab(80.0,70.0,100.43478260869566),LCHab(80.0,70.0,100.43478260869566),LCHab(80.0,70.0,100.43478260869566),LCHab(80.0,70.0,100.43478260869566),LCHab(70.0,60.0,240.0),LCHab(70.0,60.0,240.0),LCHab(70.0,60.0,240.0),LCHab(70.0,60.0,240.0),LCHab(70.0,60.0,240.0),LCHab(70.0,60.0,240.0),LCHab(70.0,60.0,240.0),LCHab(70.0,60.0,240.0),LCHab(70.0,60.0,240.0)],4),0xb5638a047634ed0a=>([\"geometry color_observed\",\"geometry color_observed\",\"geometry color_observed\",\"geometry color_observed\",\"geometry color_observed\",\"geometry color_observed\",\"geometry color_observed\",\"geometry color_observed\",\"geometry color_observed\",\"geometry color_expected\",\"geometry color_expected\",\"geometry color_expected\",\"geometry color_expected\",\"geometry color_expected\",\"geometry color_expected\",\"geometry color_expected\",\"geometry color_expected\",\"geometry color_expected\"],2),0xf8d163e37d1094db=>({LCHab(65.0,70.0,100.43478260869566),LCHab(65.0,70.0,100.43478260869566),LCHab(65.0,70.0,100.43478260869566),LCHab(65.0,70.0,100.43478260869566),LCHab(65.0,70.0,100.43478260869566),LCHab(65.0,70.0,100.43478260869566),LCHab(65.0,70.0,100.43478260869566),LCHab(65.0,70.0,100.43478260869566),LCHab(65.0,70.0,100.43478260869566),LCHab(55.0,60.0,240.0),LCHab(55.0,60.0,240.0),LCHab(55.0,60.0,240.0),LCHab(55.0,60.0,240.0),LCHab(55.0,60.0,240.0),LCHab(55.0,60.0,240.0),LCHab(55.0,60.0,240.0),LCHab(55.0,60.0,240.0),LCHab(55.0,60.0,240.0)},3),0x895434d79e16e41d=>([33.22145620223398,50.26836860670195,67.31528101116992,84.36219341563788,101.40910582010585,118.45601822457382,135.50293062904177,152.54984303350975,169.59675543797772,33.22145620223398,50.26836860670195,67.31528101116992,84.36219341563788,101.40910582010585,118.45601822457382,135.50293062904177,152.54984303350975,169.59675543797772],0),0x66a9d3d558c21a09=>([39.78724585936828,71.12417386591864,81.33187478832569,86.61418155936153,89.89777766027566,94.46625919198235,95.10870190737859,95.53699705097608,96.89326500570151,39.764647148932525,68.48203153554337,80.23952716375354,86.68197769066876,90.756965395239,93.56907633237824,95.62736238173969,97.19941592215422,98.43947331887894],1)],true,false,nothing,true)"
      ]
     },
     "metadata": {},
     "output_type": "display_data"
    },
    {
     "data": {
      "text/html": [],
      "text/plain": [
       "Plot(...)"
      ]
     },
     "execution_count": 61,
     "metadata": {},
     "output_type": "execute_result"
    }
   ],
   "source": [
    "set_default_plot_size(800px, 500px)\n",
    "plot(benford_df, x=\"digits\", y=\"value\", color=\"variable\",\n",
    "Geom.line, Geom.point,\n",
    "Scale.x_discrete,\n",
    "         Guide.title(\"Benford's Law in 2012 U.S. County Labor Force Data\"),\n",
    "         Guide.xlabel(\"Leading Digit\"),\n",
    "         Guide.ylabel(\"Digit Frequency\"))"
   ]
  },
  {
   "cell_type": "markdown",
   "metadata": {},
   "source": [
    "### Iterate"
   ]
  },
  {
   "cell_type": "markdown",
   "metadata": {},
   "source": [
    "Though its name might be a little confusing, the `Iterate` iterator is one of my\n",
    "favorites. It recursively applies a function to a starting value, that is\n",
    "`f(...f(f(f(x)))...)`. I come across applications for it all over the place.\n",
    "\n"
   ]
  },
  {
   "cell_type": "markdown",
   "metadata": {},
   "source": [
    "#### Application: Autoregressive time series processes"
   ]
  },
  {
   "cell_type": "markdown",
   "metadata": {},
   "source": [
    "One application is producing autoregressive time series processes. An AR(1)\n",
    "process has the form $x_{t+1} = \\varphi x_t + \\varepsilon_{t+1}$, where\n",
    "$\\varepsilon$ is some random noise. If\n",
    "We define the function $f(x) = \\varphi x + \\varepsilon$, then $x_{t+2}$ as a function\n",
    "of $x_t$ is $f(f(x_t))$. Subsequent values can be similarly\n",
    "produced by iteratively applying the function.\n",
    "\n",
    "First the code for the AR(1) function itself, along with a helper function for\n",
    "plotting a realization of the process."
   ]
  },
  {
   "cell_type": "code",
   "execution_count": 62,
   "metadata": {
    "collapsed": false
   },
   "outputs": [
    {
     "data": {
      "text/plain": [
       "ar (generic function with 1 method)"
      ]
     },
     "execution_count": 62,
     "metadata": {},
     "output_type": "execute_result"
    }
   ],
   "source": [
    "function ar(phi::Float64, sigma::Float64)\n",
    "    x -> phi * x + sigma * randn()\n",
    "end"
   ]
  },
  {
   "cell_type": "code",
   "execution_count": 63,
   "metadata": {
    "collapsed": false
   },
   "outputs": [
    {
     "data": {
      "text/plain": [
       "plotar (generic function with 1 method)"
      ]
     },
     "execution_count": 63,
     "metadata": {},
     "output_type": "execute_result"
    }
   ],
   "source": [
    "plotar(arseq, title) = plot(x=1:length(arseq), y=arseq, Geom.line,\n",
    "                            Guide.xlabel(\"Time\"), Guide.ylabel(\"\"), Guide.title(title))"
   ]
  },
  {
   "cell_type": "markdown",
   "metadata": {},
   "source": [
    "Defining a coefficient and a standard deviation for the random variable, I pass\n",
    "them through a process that creates an iterator that recursively applies the\n",
    "function, starting with a randomly-drawn initial value. Then I collect 250 values of\n",
    "that iterator and plot them."
   ]
  },
  {
   "cell_type": "code",
   "execution_count": 64,
   "metadata": {
    "collapsed": false
   },
   "outputs": [
    {
     "data": {
      "text/plain": [
       "0.15"
      ]
     },
     "execution_count": 64,
     "metadata": {},
     "output_type": "execute_result"
    }
   ],
   "source": [
    "const ar1coef = 0.9\n",
    "const ar1sigma = 0.15                                           "
   ]
  },
  {
   "cell_type": "code",
   "execution_count": 65,
   "metadata": {
    "collapsed": false
   },
   "outputs": [
    {
     "data": {
      "text/html": [
       "<div id=\"gadflyplot-e7BPR6Qcs5Xp1aSDSv8r\"></div>\n",
       "<script>\n",
       "function draw_with_data(data, parent_id) {\n",
       "  var g = d3.select(parent_id)\n",
       "            .append(\"svg\")\n",
       "              .attr(\"width\", \"211.64mm\")\n",
       "              .attr(\"height\", \"132.28mm\")\n",
       "              .attr(\"viewBox\", \"0 0 211.64 132.28\")\n",
       "              .attr(\"stroke-width\", \"0.5\")\n",
       "              .attr(\"style\", \"stroke:black;fill:black\");\n",
       "  g.append(\"defs\");\n",
       "  var ctx = {\n",
       "      \"scale\": 1.0,\n",
       "      \"tx\": 0.0,\n",
       "      \"ty\": 0.0\n",
       "  };\n",
       "(function (g) {\n",
       "  g.attr(\"class\", \"plotroot xscalable yscalable\");\n",
       "  (function (g) {\n",
       "    g.attr(\"stroke\", \"none\")\n",
       "     .attr(\"fill\", \"#4C404B\")\n",
       "     .attr(\"font-family\", \"'PT Sans','Helvetica Neue','Helvetica',sans-serif\")\n",
       "     .style(\"font-size\", \"3.18px\")\n",
       "     .attr(\"class\", \"guide ylabels\");\n",
       "    (function (g) {\n",
       "      g.attr(\"visibility\", \"hidden\");\n",
       "      g.append(\"svg:text\")\n",
       "         .attr(\"x\", 16.44)\n",
       "         .attr(\"y\", -38.15)\n",
       "         .attr(\"text-anchor\", \"end\")\n",
       "         .style(\"dominant-baseline\", \"central\")\n",
       "      .call(function(text) {\n",
       "  text.text(\"2.5\");\n",
       "})\n",
       ";\n",
       "    }(g.append(\"g\")));\n",
       "    g.append(\"svg:text\")\n",
       "       .attr(\"x\", 16.44)\n",
       "       .attr(\"y\", 108.96)\n",
       "       .attr(\"text-anchor\", \"end\")\n",
       "       .style(\"dominant-baseline\", \"central\")\n",
       "    .call(function(text) {\n",
       "  text.text(\"-1.5\");\n",
       "})\n",
       ";\n",
       "    (function (g) {\n",
       "      g.attr(\"visibility\", \"hidden\");\n",
       "      g.append(\"svg:text\")\n",
       "         .attr(\"x\", 16.44)\n",
       "         .attr(\"y\", 145.73)\n",
       "         .attr(\"text-anchor\", \"end\")\n",
       "         .style(\"dominant-baseline\", \"central\")\n",
       "      .call(function(text) {\n",
       "  text.text(\"-2.5\");\n",
       "})\n",
       ";\n",
       "    }(g.append(\"g\")));\n",
       "    (function (g) {\n",
       "      g.attr(\"visibility\", \"hidden\");\n",
       "      g.append(\"svg:text\")\n",
       "         .attr(\"x\", 16.44)\n",
       "         .attr(\"y\", -74.92)\n",
       "         .attr(\"text-anchor\", \"end\")\n",
       "         .style(\"dominant-baseline\", \"central\")\n",
       "      .call(function(text) {\n",
       "  text.text(\"3.5\");\n",
       "})\n",
       ";\n",
       "    }(g.append(\"g\")));\n",
       "    g.append(\"svg:text\")\n",
       "       .attr(\"x\", 16.44)\n",
       "       .attr(\"y\", 17.02)\n",
       "       .attr(\"text-anchor\", \"end\")\n",
       "       .style(\"dominant-baseline\", \"central\")\n",
       "    .call(function(text) {\n",
       "  text.text(\"1.0\");\n",
       "})\n",
       ";\n",
       "    (function (g) {\n",
       "      g.attr(\"visibility\", \"hidden\");\n",
       "      g.append(\"svg:text\")\n",
       "         .attr(\"x\", 16.44)\n",
       "         .attr(\"y\", 219.29)\n",
       "         .attr(\"text-anchor\", \"end\")\n",
       "         .style(\"dominant-baseline\", \"central\")\n",
       "      .call(function(text) {\n",
       "  text.text(\"-4.5\");\n",
       "})\n",
       ";\n",
       "    }(g.append(\"g\")));\n",
       "    (function (g) {\n",
       "      g.attr(\"visibility\", \"hidden\");\n",
       "      g.append(\"svg:text\")\n",
       "         .attr(\"x\", 16.44)\n",
       "         .attr(\"y\", -19.76)\n",
       "         .attr(\"text-anchor\", \"end\")\n",
       "         .style(\"dominant-baseline\", \"central\")\n",
       "      .call(function(text) {\n",
       "  text.text(\"2.0\");\n",
       "})\n",
       ";\n",
       "    }(g.append(\"g\")));\n",
       "    (function (g) {\n",
       "      g.attr(\"visibility\", \"hidden\");\n",
       "      g.append(\"svg:text\")\n",
       "         .attr(\"x\", 16.44)\n",
       "         .attr(\"y\", 182.51)\n",
       "         .attr(\"text-anchor\", \"end\")\n",
       "         .style(\"dominant-baseline\", \"central\")\n",
       "      .call(function(text) {\n",
       "  text.text(\"-3.5\");\n",
       "})\n",
       ";\n",
       "    }(g.append(\"g\")));\n",
       "    (function (g) {\n",
       "      g.attr(\"visibility\", \"hidden\");\n",
       "      g.append(\"svg:text\")\n",
       "         .attr(\"x\", 16.44)\n",
       "         .attr(\"y\", -1.37)\n",
       "         .attr(\"text-anchor\", \"end\")\n",
       "         .style(\"dominant-baseline\", \"central\")\n",
       "      .call(function(text) {\n",
       "  text.text(\"1.5\");\n",
       "})\n",
       ";\n",
       "    }(g.append(\"g\")));\n",
       "    (function (g) {\n",
       "      g.attr(\"visibility\", \"hidden\");\n",
       "      g.append(\"svg:text\")\n",
       "         .attr(\"x\", 16.44)\n",
       "         .attr(\"y\", 200.9)\n",
       "         .attr(\"text-anchor\", \"end\")\n",
       "         .style(\"dominant-baseline\", \"central\")\n",
       "      .call(function(text) {\n",
       "  text.text(\"-4.0\");\n",
       "})\n",
       ";\n",
       "    }(g.append(\"g\")));\n",
       "    g.append(\"svg:text\")\n",
       "       .attr(\"x\", 16.44)\n",
       "       .attr(\"y\", 35.4)\n",
       "       .attr(\"text-anchor\", \"end\")\n",
       "       .style(\"dominant-baseline\", \"central\")\n",
       "    .call(function(text) {\n",
       "  text.text(\"0.5\");\n",
       "})\n",
       ";\n",
       "    (function (g) {\n",
       "      g.attr(\"visibility\", \"hidden\");\n",
       "      g.append(\"svg:text\")\n",
       "         .attr(\"x\", 16.44)\n",
       "         .attr(\"y\", 127.35)\n",
       "         .attr(\"text-anchor\", \"end\")\n",
       "         .style(\"dominant-baseline\", \"central\")\n",
       "      .call(function(text) {\n",
       "  text.text(\"-2.0\");\n",
       "})\n",
       ";\n",
       "    }(g.append(\"g\")));\n",
       "    (function (g) {\n",
       "      g.attr(\"visibility\", \"hidden\");\n",
       "      g.append(\"svg:text\")\n",
       "         .attr(\"x\", 16.44)\n",
       "         .attr(\"y\", -56.54)\n",
       "         .attr(\"text-anchor\", \"end\")\n",
       "         .style(\"dominant-baseline\", \"central\")\n",
       "      .call(function(text) {\n",
       "  text.text(\"3.0\");\n",
       "})\n",
       ";\n",
       "    }(g.append(\"g\")));\n",
       "    g.append(\"svg:text\")\n",
       "       .attr(\"x\", 16.44)\n",
       "       .attr(\"y\", 72.18)\n",
       "       .attr(\"text-anchor\", \"end\")\n",
       "       .style(\"dominant-baseline\", \"central\")\n",
       "    .call(function(text) {\n",
       "  text.text(\"-0.5\");\n",
       "})\n",
       ";\n",
       "    (function (g) {\n",
       "      g.attr(\"visibility\", \"hidden\");\n",
       "      g.append(\"svg:text\")\n",
       "         .attr(\"x\", 16.44)\n",
       "         .attr(\"y\", 164.12)\n",
       "         .attr(\"text-anchor\", \"end\")\n",
       "         .style(\"dominant-baseline\", \"central\")\n",
       "      .call(function(text) {\n",
       "  text.text(\"-3.0\");\n",
       "})\n",
       ";\n",
       "    }(g.append(\"g\")));\n",
       "    (function (g) {\n",
       "      g.attr(\"visibility\", \"hidden\");\n",
       "      g.append(\"svg:text\")\n",
       "         .attr(\"x\", 16.44)\n",
       "         .attr(\"y\", -93.31)\n",
       "         .attr(\"text-anchor\", \"end\")\n",
       "         .style(\"dominant-baseline\", \"central\")\n",
       "      .call(function(text) {\n",
       "  text.text(\"4.0\");\n",
       "})\n",
       ";\n",
       "    }(g.append(\"g\")));\n",
       "    g.append(\"svg:text\")\n",
       "       .attr(\"x\", 16.44)\n",
       "       .attr(\"y\", 53.79)\n",
       "       .attr(\"text-anchor\", \"end\")\n",
       "       .style(\"dominant-baseline\", \"central\")\n",
       "    .call(function(text) {\n",
       "  text.text(\"0.0\");\n",
       "})\n",
       ";\n",
       "    g.append(\"svg:text\")\n",
       "       .attr(\"x\", 16.44)\n",
       "       .attr(\"y\", 90.57)\n",
       "       .attr(\"text-anchor\", \"end\")\n",
       "       .style(\"dominant-baseline\", \"central\")\n",
       "    .call(function(text) {\n",
       "  text.text(\"-1.0\");\n",
       "})\n",
       ";\n",
       "  }(g.append(\"g\")));\n",
       "  (function (g) {\n",
       "    g.attr(\"stroke\", \"none\")\n",
       "     .attr(\"fill\", \"#4C404B\")\n",
       "     .attr(\"font-family\", \"'PT Sans','Helvetica Neue','Helvetica',sans-serif\")\n",
       "     .style(\"font-size\", \"3.18px\")\n",
       "     .attr(\"class\", \"guide xlabels\");\n",
       "    (function (g) {\n",
       "      g.attr(\"visibility\", \"hidden\");\n",
       "      g.append(\"svg:text\")\n",
       "         .attr(\"x\", 415.47)\n",
       "         .attr(\"y\", 117.02)\n",
       "         .attr(\"text-anchor\", \"middle\")\n",
       "      .call(function(text) {\n",
       "  text.text(\"550\");\n",
       "})\n",
       ";\n",
       "    }(g.append(\"g\")));\n",
       "    (function (g) {\n",
       "      g.attr(\"visibility\", \"hidden\");\n",
       "      g.append(\"svg:text\")\n",
       "         .attr(\"x\", -48.6)\n",
       "         .attr(\"y\", 117.02)\n",
       "         .attr(\"text-anchor\", \"middle\")\n",
       "      .call(function(text) {\n",
       "  text.text(\"-100\");\n",
       "})\n",
       ";\n",
       "    }(g.append(\"g\")));\n",
       "    (function (g) {\n",
       "      g.attr(\"visibility\", \"hidden\");\n",
       "      g.append(\"svg:text\")\n",
       "         .attr(\"x\", 379.78)\n",
       "         .attr(\"y\", 117.02)\n",
       "         .attr(\"text-anchor\", \"middle\")\n",
       "      .call(function(text) {\n",
       "  text.text(\"500\");\n",
       "})\n",
       ";\n",
       "    }(g.append(\"g\")));\n",
       "    g.append(\"svg:text\")\n",
       "       .attr(\"x\", 165.59)\n",
       "       .attr(\"y\", 117.02)\n",
       "       .attr(\"text-anchor\", \"middle\")\n",
       "    .call(function(text) {\n",
       "  text.text(\"200\");\n",
       "})\n",
       ";\n",
       "    (function (g) {\n",
       "      g.attr(\"visibility\", \"hidden\");\n",
       "      g.append(\"svg:text\")\n",
       "         .attr(\"x\", -155.7)\n",
       "         .attr(\"y\", 117.02)\n",
       "         .attr(\"text-anchor\", \"middle\")\n",
       "      .call(function(text) {\n",
       "  text.text(\"-250\");\n",
       "})\n",
       ";\n",
       "    }(g.append(\"g\")));\n",
       "    (function (g) {\n",
       "      g.attr(\"visibility\", \"hidden\");\n",
       "      g.append(\"svg:text\")\n",
       "         .attr(\"x\", 272.68)\n",
       "         .attr(\"y\", 117.02)\n",
       "         .attr(\"text-anchor\", \"middle\")\n",
       "      .call(function(text) {\n",
       "  text.text(\"350\");\n",
       "})\n",
       ";\n",
       "    }(g.append(\"g\")));\n",
       "    (function (g) {\n",
       "      g.attr(\"visibility\", \"hidden\");\n",
       "      g.append(\"svg:text\")\n",
       "         .attr(\"x\", 308.38)\n",
       "         .attr(\"y\", 117.02)\n",
       "         .attr(\"text-anchor\", \"middle\")\n",
       "      .call(function(text) {\n",
       "  text.text(\"400\");\n",
       "})\n",
       ";\n",
       "    }(g.append(\"g\")));\n",
       "    (function (g) {\n",
       "      g.attr(\"visibility\", \"hidden\");\n",
       "      g.append(\"svg:text\")\n",
       "         .attr(\"x\", 236.98)\n",
       "         .attr(\"y\", 117.02)\n",
       "         .attr(\"text-anchor\", \"middle\")\n",
       "      .call(function(text) {\n",
       "  text.text(\"300\");\n",
       "})\n",
       ";\n",
       "    }(g.append(\"g\")));\n",
       "    (function (g) {\n",
       "      g.attr(\"visibility\", \"hidden\");\n",
       "      g.append(\"svg:text\")\n",
       "         .attr(\"x\", 344.08)\n",
       "         .attr(\"y\", 117.02)\n",
       "         .attr(\"text-anchor\", \"middle\")\n",
       "      .call(function(text) {\n",
       "  text.text(\"450\");\n",
       "})\n",
       ";\n",
       "    }(g.append(\"g\")));\n",
       "    (function (g) {\n",
       "      g.attr(\"visibility\", \"hidden\");\n",
       "      g.append(\"svg:text\")\n",
       "         .attr(\"x\", -12.9)\n",
       "         .attr(\"y\", 117.02)\n",
       "         .attr(\"text-anchor\", \"middle\")\n",
       "      .call(function(text) {\n",
       "  text.text(\"-50\");\n",
       "})\n",
       ";\n",
       "    }(g.append(\"g\")));\n",
       "    g.append(\"svg:text\")\n",
       "       .attr(\"x\", 129.89)\n",
       "       .attr(\"y\", 117.02)\n",
       "       .attr(\"text-anchor\", \"middle\")\n",
       "    .call(function(text) {\n",
       "  text.text(\"150\");\n",
       "})\n",
       ";\n",
       "    g.append(\"svg:text\")\n",
       "       .attr(\"x\", 201.29)\n",
       "       .attr(\"y\", 117.02)\n",
       "       .attr(\"text-anchor\", \"middle\")\n",
       "    .call(function(text) {\n",
       "  text.text(\"250\");\n",
       "})\n",
       ";\n",
       "    g.append(\"svg:text\")\n",
       "       .attr(\"x\", 22.79)\n",
       "       .attr(\"y\", 117.02)\n",
       "       .attr(\"text-anchor\", \"middle\")\n",
       "    .call(function(text) {\n",
       "  text.text(\"0\");\n",
       "})\n",
       ";\n",
       "    (function (g) {\n",
       "      g.attr(\"visibility\", \"hidden\");\n",
       "      g.append(\"svg:text\")\n",
       "         .attr(\"x\", -191.39)\n",
       "         .attr(\"y\", 117.02)\n",
       "         .attr(\"text-anchor\", \"middle\")\n",
       "      .call(function(text) {\n",
       "  text.text(\"-300\");\n",
       "})\n",
       ";\n",
       "    }(g.append(\"g\")));\n",
       "    g.append(\"svg:text\")\n",
       "       .attr(\"x\", 58.49)\n",
       "       .attr(\"y\", 117.02)\n",
       "       .attr(\"text-anchor\", \"middle\")\n",
       "    .call(function(text) {\n",
       "  text.text(\"50\");\n",
       "})\n",
       ";\n",
       "    (function (g) {\n",
       "      g.attr(\"visibility\", \"hidden\");\n",
       "      g.append(\"svg:text\")\n",
       "         .attr(\"x\", -84.3)\n",
       "         .attr(\"y\", 117.02)\n",
       "         .attr(\"text-anchor\", \"middle\")\n",
       "      .call(function(text) {\n",
       "  text.text(\"-150\");\n",
       "})\n",
       ";\n",
       "    }(g.append(\"g\")));\n",
       "    g.append(\"svg:text\")\n",
       "       .attr(\"x\", 94.19)\n",
       "       .attr(\"y\", 117.02)\n",
       "       .attr(\"text-anchor\", \"middle\")\n",
       "    .call(function(text) {\n",
       "  text.text(\"100\");\n",
       "})\n",
       ";\n",
       "    (function (g) {\n",
       "      g.attr(\"visibility\", \"hidden\");\n",
       "      g.append(\"svg:text\")\n",
       "         .attr(\"x\", -120)\n",
       "         .attr(\"y\", 117.02)\n",
       "         .attr(\"text-anchor\", \"middle\")\n",
       "      .call(function(text) {\n",
       "  text.text(\"-200\");\n",
       "})\n",
       ";\n",
       "    }(g.append(\"g\")));\n",
       "  }(g.append(\"g\")));\n",
       "  (function (g) {\n",
       "    g.attr(\"stroke\", \"none\")\n",
       "     .attr(\"fill\", \"#362A35\")\n",
       "     .attr(\"font-family\", \"'PT Sans','Helvetica Neue','Helvetica',sans-serif\")\n",
       "     .style(\"font-size\", \"3.88px\");\n",
       "    g.append(\"svg:text\")\n",
       "       .attr(\"x\", 112.04)\n",
       "       .attr(\"y\", 125.28)\n",
       "       .attr(\"text-anchor\", \"middle\")\n",
       "    .call(function(text) {\n",
       "  text.text(\"Time\");\n",
       "})\n",
       ";\n",
       "  }(g.append(\"g\")));\n",
       "  (function (g) {\n",
       "    g.attr(\"stroke\", \"none\")\n",
       "     .attr(\"fill\", \"#362A35\")\n",
       "     .attr(\"font-family\", \"'PT Sans','Helvetica Neue','Helvetica',sans-serif\")\n",
       "     .style(\"font-size\", \"3.88px\");\n",
       "    g.append(\"svg:text\")\n",
       "       .attr(\"x\", 112.04)\n",
       "       .attr(\"y\", 12.26)\n",
       "       .attr(\"text-anchor\", \"middle\")\n",
       "    .call(function(text) {\n",
       "  text.text(\"AR(1) Time Series\");\n",
       "})\n",
       ";\n",
       "  }(g.append(\"g\")));\n",
       "  (function (g) {\n",
       "    g.on(\"mouseover\", guide_background_mouseover(\"#C6C6C9\"))\n",
       "     .on(\"mouseout\", guide_background_mouseout(\"#F0F0F3\"))\n",
       "     .call(zoom_behavior(ctx))\n",
       ";\n",
       "    (function (g) {\n",
       "      d3.select(\"defs\")\n",
       "  .append(\"svg:clipPath\")\n",
       "    .attr(\"id\", parent_id + \"_clippath0\")\n",
       "    .append(\"svg:path\")\n",
       "      .attr(\"d\", \" M17.44,14.26 L 206.64 14.26 206.64 111.72 17.44 111.72 z\");g.attr(\"clip-path\", \"url(#\" + parent_id + \"_clippath0)\");\n",
       "      (function (g) {\n",
       "        g.attr(\"class\", \"guide background\")\n",
       "         .attr(\"stroke\", \"#F1F1F5\")\n",
       "         .attr(\"fill\", \"#FAFAFA\");\n",
       "        g.append(\"svg:path\")\n",
       "           .attr(\"d\", \"M17.44,14.26 L 206.64 14.26 206.64 111.72 17.44 111.72 z\");\n",
       "      }(g.append(\"g\")));\n",
       "      (function (g) {\n",
       "        g.attr(\"stroke\", \"#F0F0F3\")\n",
       "         .attr(\"stroke-width\", 0.2)\n",
       "         .attr(\"class\", \"guide ygridlines xfixed\");\n",
       "        g.append(\"svg:path\")\n",
       "           .attr(\"d\", \"M17.44,108.96 L 206.64 108.96\");\n",
       "        g.append(\"svg:path\")\n",
       "           .attr(\"d\", \"M17.44,-74.92 L 206.64 -74.92\");\n",
       "        g.append(\"svg:path\")\n",
       "           .attr(\"d\", \"M17.44,219.29 L 206.64 219.29\");\n",
       "        g.append(\"svg:path\")\n",
       "           .attr(\"d\", \"M17.44,182.51 L 206.64 182.51\");\n",
       "        g.append(\"svg:path\")\n",
       "           .attr(\"d\", \"M17.44,200.9 L 206.64 200.9\");\n",
       "        g.append(\"svg:path\")\n",
       "           .attr(\"d\", \"M17.44,127.35 L 206.64 127.35\");\n",
       "        g.append(\"svg:path\")\n",
       "           .attr(\"d\", \"M17.44,72.18 L 206.64 72.18\");\n",
       "        g.append(\"svg:path\")\n",
       "           .attr(\"d\", \"M17.44,-93.31 L 206.64 -93.31\");\n",
       "        g.append(\"svg:path\")\n",
       "           .attr(\"d\", \"M17.44,90.57 L 206.64 90.57\");\n",
       "        g.append(\"svg:path\")\n",
       "           .attr(\"d\", \"M17.44,53.79 L 206.64 53.79\");\n",
       "        g.append(\"svg:path\")\n",
       "           .attr(\"d\", \"M17.44,164.12 L 206.64 164.12\");\n",
       "        g.append(\"svg:path\")\n",
       "           .attr(\"d\", \"M17.44,-56.54 L 206.64 -56.54\");\n",
       "        g.append(\"svg:path\")\n",
       "           .attr(\"d\", \"M17.44,35.4 L 206.64 35.4\");\n",
       "        g.append(\"svg:path\")\n",
       "           .attr(\"d\", \"M17.44,-1.37 L 206.64 -1.37\");\n",
       "        g.append(\"svg:path\")\n",
       "           .attr(\"d\", \"M17.44,-19.76 L 206.64 -19.76\");\n",
       "        g.append(\"svg:path\")\n",
       "           .attr(\"d\", \"M17.44,17.02 L 206.64 17.02\");\n",
       "        g.append(\"svg:path\")\n",
       "           .attr(\"d\", \"M17.44,145.73 L 206.64 145.73\");\n",
       "        g.append(\"svg:path\")\n",
       "           .attr(\"d\", \"M17.44,-38.15 L 206.64 -38.15\");\n",
       "      }(g.append(\"g\")));\n",
       "      (function (g) {\n",
       "        g.attr(\"stroke\", \"#F0F0F3\")\n",
       "         .attr(\"stroke-width\", 0.2)\n",
       "         .attr(\"class\", \"guide xgridlines yfixed\");\n",
       "        g.append(\"svg:path\")\n",
       "           .attr(\"d\", \"M-48.6,14.26 L -48.6 111.72\");\n",
       "        g.append(\"svg:path\")\n",
       "           .attr(\"d\", \"M165.59,14.26 L 165.59 111.72\");\n",
       "        g.append(\"svg:path\")\n",
       "           .attr(\"d\", \"M272.68,14.26 L 272.68 111.72\");\n",
       "        g.append(\"svg:path\")\n",
       "           .attr(\"d\", \"M236.98,14.26 L 236.98 111.72\");\n",
       "        g.append(\"svg:path\")\n",
       "           .attr(\"d\", \"M-12.9,14.26 L -12.9 111.72\");\n",
       "        g.append(\"svg:path\")\n",
       "           .attr(\"d\", \"M201.29,14.26 L 201.29 111.72\");\n",
       "        g.append(\"svg:path\")\n",
       "           .attr(\"d\", \"M-191.39,14.26 L -191.39 111.72\");\n",
       "        g.append(\"svg:path\")\n",
       "           .attr(\"d\", \"M-84.3,14.26 L -84.3 111.72\");\n",
       "        g.append(\"svg:path\")\n",
       "           .attr(\"d\", \"M-120,14.26 L -120 111.72\");\n",
       "        g.append(\"svg:path\")\n",
       "           .attr(\"d\", \"M94.19,14.26 L 94.19 111.72\");\n",
       "        g.append(\"svg:path\")\n",
       "           .attr(\"d\", \"M58.49,14.26 L 58.49 111.72\");\n",
       "        g.append(\"svg:path\")\n",
       "           .attr(\"d\", \"M22.79,14.26 L 22.79 111.72\");\n",
       "        g.append(\"svg:path\")\n",
       "           .attr(\"d\", \"M129.89,14.26 L 129.89 111.72\");\n",
       "        g.append(\"svg:path\")\n",
       "           .attr(\"d\", \"M344.08,14.26 L 344.08 111.72\");\n",
       "        g.append(\"svg:path\")\n",
       "           .attr(\"d\", \"M308.38,14.26 L 308.38 111.72\");\n",
       "        g.append(\"svg:path\")\n",
       "           .attr(\"d\", \"M-155.7,14.26 L -155.7 111.72\");\n",
       "        g.append(\"svg:path\")\n",
       "           .attr(\"d\", \"M379.78,14.26 L 379.78 111.72\");\n",
       "        g.append(\"svg:path\")\n",
       "           .attr(\"d\", \"M415.47,14.26 L 415.47 111.72\");\n",
       "      }(g.append(\"g\")));\n",
       "    }(g.append(\"g\")));\n",
       "    (function (g) {\n",
       "      d3.select(\"defs\")\n",
       "  .append(\"svg:clipPath\")\n",
       "    .attr(\"id\", parent_id + \"_clippath1\")\n",
       "    .append(\"svg:path\")\n",
       "      .attr(\"d\", \" M17.44,14.26 L 206.64 14.26 206.64 111.72 17.44 111.72 z\");g.attr(\"clip-path\", \"url(#\" + parent_id + \"_clippath1)\");\n",
       "      (function (g) {\n",
       "        g.attr(\"class\", \"plotpanel\");\n",
       "        (function (g) {\n",
       "          g.attr(\"stroke\", \"#00BFFF\")\n",
       "           .attr(\"class\", \"geometry\")\n",
       "           .attr(\"fill\", \"none\")\n",
       "           .attr(\"stroke-width\", 0.3);\n",
       "          g.append(\"svg:path\")\n",
       "             .attr(\"d\", \"M23.51,51.49 L 24.22 49.38 24.94 48.87 25.65 59.21 26.36 49.52 27.08 49.9 27.79 48.32 28.51 50.72 29.22 58.43 29.93 54.7 30.65 48.35 31.36 48.79 32.08 43.11 32.79 42.38 33.5 54.75 34.22 50.16 34.93 61.8 35.65 65.89 36.36 63.91 37.07 70.2 37.79 73.98 38.5 69.47 39.22 75.09 39.93 70.68 40.64 70.53 41.36 69.29 42.07 56.58 42.79 57.29 43.5 54.28 44.21 57.17 44.93 65.15 45.64 66.1 46.36 62.06 47.07 61.68 47.78 62.41 48.5 57.01 49.21 52.41 49.93 44.4 50.64 53.45 51.35 57.84 52.07 47.06 52.78 55.46 53.5 57.42 54.21 54.08 54.92 49.91 55.64 60.14 56.35 53.12 57.06 52.71 57.78 34.61 58.49 46.12 59.21 48.8 59.92 46.97 60.63 53.27 61.35 49.12 62.06 56.48 62.78 52.09 63.49 47.51 64.2 55.25 64.92 47.19 65.63 42.46 66.35 40.29 67.06 40.19 67.77 39.17 68.49 43.99 69.2 42.88 69.92 43.85 70.63 49.05 71.34 57.62 72.06 59.17 72.77 55.07 73.49 49.61 74.2 52.3 74.91 46.76 75.63 48.4 76.34 50.91 77.06 54.94 77.77 66.82 78.48 73.4 79.2 70.24 79.91 64.47 80.63 72.07 81.34 75.64 82.05 79.93 82.77 81.98 83.48 78.11 84.2 69.36 84.91 65.58 85.62 60.42 86.34 68.37 87.05 72.98 87.77 78.22 88.48 82.61 89.19 74.91 89.91 78.83 90.62 76.19 91.34 79.89 92.05 81.62 92.76 90.74 93.48 76.96 94.19 68.23 94.9 68.28 95.62 69.95 96.33 67.23 97.05 74.52 97.76 68.4 98.47 70.6 99.19 60.17 99.9 60.06 100.62 68.23 101.33 76.78 102.04 69.83 102.76 68.3 103.47 58.75 104.19 56.57 104.9 59.75 105.61 57.87 106.33 60.55 107.04 59.76 107.76 64.43 108.47 67.37 109.18 71.55 109.9 80.74 110.61 87.4 111.33 80.81 112.04 78.2 112.75 76.96 113.47 74.32 114.18 74.66 114.9 76.67 115.61 75.11 116.32 67.33 117.04 58.23 117.75 50.78 118.47 54.81 119.18 53.8 119.89 49.45 120.61 55.14 121.32 49.46 122.04 60.28 122.75 60.1 123.46 40.15 124.18 44.97 124.89 44.45 125.61 47.55 126.32 47.09 127.03 58.44 127.75 63.57 128.46 64.96 129.18 66.69 129.89 64.82 130.6 49.99 131.32 45.31 132.03 53.33 132.75 46.01 133.46 41.89 134.17 42.42 134.89 56.55 135.6 59.06 136.31 56.87 137.03 62.75 137.74 56.05 138.46 54.55 139.17 54.17 139.88 44.15 140.6 54.25 141.31 60.53 142.03 64.85 142.74 67.16 143.45 77.88 144.17 92.82 144.88 95.64 145.6 94.77 146.31 94.05 147.02 93.45 147.74 81.27 148.45 86.82 149.17 86.77 149.88 89.96 150.59 91.11 151.31 96.15 152.02 97.28 152.74 89.08 153.45 84 154.16 88.47 154.88 85.01 155.59 87.66 156.31 87.08 157.02 80.88 157.73 72.28 158.45 62.12 159.16 62.13 159.88 64.41 160.59 52.29 161.3 62.44 162.02 69.37 162.73 70.51 163.45 65.85 164.16 67.26 164.87 65.33 165.59 53.81 166.3 58.4 167.02 63.9 167.73 53.61 168.44 54.17 169.16 58.04 169.87 63.46 170.59 68.23 171.3 58.25 172.01 58.07 172.73 61.38 173.44 59.92 174.15 60.54 174.87 67.19 175.58 60.24 176.3 58.65 177.01 61.36 177.72 51.53 178.44 56.79 179.15 57.99 179.87 54.1 180.58 53.84 181.29 49.48 182.01 40.96 182.72 43.68 183.44 43.58 184.15 40.61 184.86 48.18 185.58 50.3 186.29 53.12 187.01 52.76 187.72 50.12 188.43 47.99 189.15 59.49 189.86 59.17 190.58 52.39 191.29 51.4 192 46.82 192.72 45.04 193.43 48 194.15 54.71 194.86 53.19 195.57 52.46 196.29 49.78 197 53.14 197.72 53.9 198.43 61.15 199.14 60.33 199.86 66.23 200.57 66.03 201.29 66.55\");\n",
       "        }(g.append(\"g\")));\n",
       "      }(g.append(\"g\")));\n",
       "    }(g.append(\"g\")));\n",
       "    (function (g) {\n",
       "      d3.select(\"defs\")\n",
       "  .append(\"svg:clipPath\")\n",
       "    .attr(\"id\", parent_id + \"_clippath2\")\n",
       "    .append(\"svg:path\")\n",
       "      .attr(\"d\", \" M17.44,14.26 L 206.64 14.26 206.64 111.72 17.44 111.72 z\");g.attr(\"clip-path\", \"url(#\" + parent_id + \"_clippath2)\");\n",
       "      (function (g) {\n",
       "        g.attr(\"stroke\", \"none\")\n",
       "         .attr(\"class\", \"guide zoomslider\")\n",
       "         .attr(\"opacity\", 0.00);\n",
       "        (function (g) {\n",
       "          g.attr(\"stroke\", \"#6A6A6A\")\n",
       "           .attr(\"stroke-opacity\", 0.00)\n",
       "           .attr(\"stroke-width\", 0.3)\n",
       "           .attr(\"fill\", \"#EAEAEA\")\n",
       "           .on(\"click\", zoomin_behavior(ctx))\n",
       ".on(\"dblclick\", function() { d3.event.stopPropagation(); })\n",
       ".on(\"mouseover\", zoomslider_button_mouseover(\"#cd5c5c\"))\n",
       ".on(\"mouseout\", zoomslider_button_mouseover(\"#6a6a6a\"))\n",
       ";\n",
       "          g.append(\"svg:path\")\n",
       "             .attr(\"d\", \"M199.64,17.26 L 203.64 17.26 203.64 21.26 199.64 21.26 z\");\n",
       "          (function (g) {\n",
       "            g.attr(\"fill\", \"#6A6A6A\")\n",
       "             .attr(\"class\", \"button_logo\");\n",
       "            g.append(\"svg:path\")\n",
       "               .attr(\"d\", \"M200.44,18.86 L 201.24 18.86 201.24 18.06 202.04 18.06 202.04 18.86 202.84 18.86 202.84 19.66 202.04 19.66 202.04 20.46 201.24 20.46 201.24 19.66 200.44 19.66 z\");\n",
       "          }(g.append(\"g\")));\n",
       "        }(g.append(\"g\")));\n",
       "        (function (g) {\n",
       "          g.attr(\"fill\", \"#EAEAEA\")\n",
       "           .on(\"click\", zoomslider_track_behavior(ctx, 173.64, 190.64));\n",
       "          g.append(\"svg:path\")\n",
       "             .attr(\"d\", \"M180.14,17.26 L 199.14 17.26 199.14 21.26 180.14 21.26 z\");\n",
       "        }(g.append(\"g\")));\n",
       "        (function (g) {\n",
       "          g.attr(\"fill\", \"#6A6A6A\")\n",
       "           .attr(\"class\", \"zoomslider_thumb\")\n",
       "           .call(zoomslider_behavior(ctx, 173.64, 190.64))\n",
       ".on(\"mouseover\", zoomslider_thumb_mouseover(\"#cd5c5c\"))\n",
       ".on(\"mouseout\", zoomslider_thumb_mouseover(\"#6a6a6a\"))\n",
       ";\n",
       "          g.append(\"svg:path\")\n",
       "             .attr(\"d\", \"M188.64,17.26 L 190.64 17.26 190.64 21.26 188.64 21.26 z\");\n",
       "        }(g.append(\"g\")));\n",
       "        (function (g) {\n",
       "          g.attr(\"stroke\", \"#6A6A6A\")\n",
       "           .attr(\"stroke-opacity\", 0.00)\n",
       "           .attr(\"stroke-width\", 0.3)\n",
       "           .attr(\"fill\", \"#EAEAEA\")\n",
       "           .on(\"click\", zoomout_behavior(ctx))\n",
       ".on(\"dblclick\", function() { d3.event.stopPropagation(); })\n",
       ".on(\"mouseover\", zoomslider_button_mouseover(\"#cd5c5c\"))\n",
       ".on(\"mouseout\", zoomslider_button_mouseover(\"#6a6a6a\"))\n",
       ";\n",
       "          g.append(\"svg:path\")\n",
       "             .attr(\"d\", \"M175.64,17.26 L 179.64 17.26 179.64 21.26 175.64 21.26 z\");\n",
       "          (function (g) {\n",
       "            g.attr(\"fill\", \"#6A6A6A\")\n",
       "             .attr(\"class\", \"button_logo\");\n",
       "            g.append(\"svg:path\")\n",
       "               .attr(\"d\", \"M176.44,18.86 L 178.84 18.86 178.84 19.66 176.44 19.66 z\");\n",
       "          }(g.append(\"g\")));\n",
       "        }(g.append(\"g\")));\n",
       "      }(g.append(\"g\")));\n",
       "    }(g.append(\"g\")));\n",
       "  }(g.append(\"g\")));\n",
       "}(g.append(\"g\")));\n",
       "    d3.select(parent_id)\n",
       "      .selectAll(\"path\")\n",
       "      .each(function() {\n",
       "          var sw = parseFloat(window.getComputedStyle(this).getPropertyValue(\"stroke-width\"));\n",
       "          d3.select(this)\n",
       "            .attr(\"vector-effect\", \"non-scaling-stroke\")\n",
       "            .style(\"stroke-width\", sw + \"mm\");\n",
       "      });\n",
       "}\n",
       "\n",
       "var data = [\n",
       "];\n",
       "\n",
       "var draw = function(parent_id) {\n",
       "    draw_with_data(data, parent_id);\n",
       "};\n",
       "\n",
       "draw(\"#gadflyplot-e7BPR6Qcs5Xp1aSDSv8r\");\n",
       "</script>\n"
      ],
      "text/plain": [
       "D3(211.64021164021167,132.2751322751323,IOBuffer([0x66,0x75,0x6e,0x63,0x74,0x69,0x6f,0x6e,0x20,0x64  …  0x74,0x5f,0x69,0x64,0x29,0x3b,0x0a,0x7d,0x3b,0x0a],true,true,true,false,21871,9223372036854775807,21872),0,[],[],0,3,Dict{Uint64,(Any,Int64)}(),true,false,nothing,true)"
      ]
     },
     "metadata": {},
     "output_type": "display_data"
    },
    {
     "data": {
      "text/html": [],
      "text/plain": [
       "Plot(...)"
      ]
     },
     "execution_count": 65,
     "metadata": {},
     "output_type": "execute_result"
    }
   ],
   "source": [
    "(ar1coef, ar1sigma) |>\n",
    "    x -> apply(ar, x) |>\n",
    "    f -> iterate(f, ar1sigma*rand()) |>\n",
    "    i -> collect(take(i, 250)) |>\n",
    "    s -> plotar(s, \"AR(1) Time Series\")"
   ]
  },
  {
   "cell_type": "markdown",
   "metadata": {},
   "source": [
    "This idea can be extended an AR($p$) process, where the current value of $x$\n",
    "depends on several past values. Whereas the coefficient was a scalar in the"
   ]
  },
  {
   "cell_type": "code",
   "execution_count": 66,
   "metadata": {
    "collapsed": false
   },
   "outputs": [
    {
     "data": {
      "text/plain": [
       "ar (generic function with 2 methods)"
      ]
     },
     "execution_count": 66,
     "metadata": {},
     "output_type": "execute_result"
    }
   ],
   "source": [
    "function ar(coeffs::AbstractVector{Float64}, sigma::Float64)\n",
    "    p = length(coeffs)\n",
    "    Phi = [coeffs', eye(p)[1:(end-1),:]]\n",
    "    Sigma = [sigma, zeros(p-1)]\n",
    "    x -> Phi * x + Sigma .* randn(p)                                           \n",
    "end                                   "
   ]
  },
  {
   "cell_type": "code",
   "execution_count": 67,
   "metadata": {
    "collapsed": false
   },
   "outputs": [
    {
     "data": {
      "text/plain": [
       "0.15"
      ]
     },
     "execution_count": 67,
     "metadata": {},
     "output_type": "execute_result"
    }
   ],
   "source": [
    "const ar3coeffs = [.9, -.1, -.25]\n",
    "const ar3sigma = 0.15"
   ]
  },
  {
   "cell_type": "code",
   "execution_count": 68,
   "metadata": {
    "collapsed": false
   },
   "outputs": [
    {
     "data": {
      "text/html": [
       "<div id=\"gadflyplot-YETBZqQJHMD1jDsPp9sk\"></div>\n",
       "<script>\n",
       "function draw_with_data(data, parent_id) {\n",
       "  var g = d3.select(parent_id)\n",
       "            .append(\"svg\")\n",
       "              .attr(\"width\", \"211.64mm\")\n",
       "              .attr(\"height\", \"132.28mm\")\n",
       "              .attr(\"viewBox\", \"0 0 211.64 132.28\")\n",
       "              .attr(\"stroke-width\", \"0.5\")\n",
       "              .attr(\"style\", \"stroke:black;fill:black\");\n",
       "  g.append(\"defs\");\n",
       "  var ctx = {\n",
       "      \"scale\": 1.0,\n",
       "      \"tx\": 0.0,\n",
       "      \"ty\": 0.0\n",
       "  };\n",
       "(function (g) {\n",
       "  g.attr(\"class\", \"plotroot xscalable yscalable\");\n",
       "  (function (g) {\n",
       "    g.attr(\"stroke\", \"none\")\n",
       "     .attr(\"fill\", \"#4C404B\")\n",
       "     .attr(\"font-family\", \"'PT Sans','Helvetica Neue','Helvetica',sans-serif\")\n",
       "     .style(\"font-size\", \"3.18px\")\n",
       "     .attr(\"class\", \"guide ylabels\");\n",
       "    (function (g) {\n",
       "      g.attr(\"visibility\", \"hidden\");\n",
       "      g.append(\"svg:text\")\n",
       "         .attr(\"x\", 16.44)\n",
       "         .attr(\"y\", -51.94)\n",
       "         .attr(\"text-anchor\", \"end\")\n",
       "         .style(\"dominant-baseline\", \"central\")\n",
       "      .call(function(text) {\n",
       "  text.text(\"2.5\");\n",
       "})\n",
       ";\n",
       "    }(g.append(\"g\")));\n",
       "    (function (g) {\n",
       "      g.attr(\"visibility\", \"hidden\");\n",
       "      g.append(\"svg:text\")\n",
       "         .attr(\"x\", 16.44)\n",
       "         .attr(\"y\", 131.94)\n",
       "         .attr(\"text-anchor\", \"end\")\n",
       "         .style(\"dominant-baseline\", \"central\")\n",
       "      .call(function(text) {\n",
       "  text.text(\"-1.5\");\n",
       "})\n",
       ";\n",
       "    }(g.append(\"g\")));\n",
       "    (function (g) {\n",
       "      g.attr(\"visibility\", \"hidden\");\n",
       "      g.append(\"svg:text\")\n",
       "         .attr(\"x\", 16.44)\n",
       "         .attr(\"y\", 177.91)\n",
       "         .attr(\"text-anchor\", \"end\")\n",
       "         .style(\"dominant-baseline\", \"central\")\n",
       "      .call(function(text) {\n",
       "  text.text(\"-2.5\");\n",
       "})\n",
       ";\n",
       "    }(g.append(\"g\")));\n",
       "    (function (g) {\n",
       "      g.attr(\"visibility\", \"hidden\");\n",
       "      g.append(\"svg:text\")\n",
       "         .attr(\"x\", 16.44)\n",
       "         .attr(\"y\", -97.91)\n",
       "         .attr(\"text-anchor\", \"end\")\n",
       "         .style(\"dominant-baseline\", \"central\")\n",
       "      .call(function(text) {\n",
       "  text.text(\"3.5\");\n",
       "})\n",
       ";\n",
       "    }(g.append(\"g\")));\n",
       "    g.append(\"svg:text\")\n",
       "       .attr(\"x\", 16.44)\n",
       "       .attr(\"y\", 17.02)\n",
       "       .attr(\"text-anchor\", \"end\")\n",
       "       .style(\"dominant-baseline\", \"central\")\n",
       "    .call(function(text) {\n",
       "  text.text(\"1.0\");\n",
       "})\n",
       ";\n",
       "    (function (g) {\n",
       "      g.attr(\"visibility\", \"hidden\");\n",
       "      g.append(\"svg:text\")\n",
       "         .attr(\"x\", 16.44)\n",
       "         .attr(\"y\", -28.95)\n",
       "         .attr(\"text-anchor\", \"end\")\n",
       "         .style(\"dominant-baseline\", \"central\")\n",
       "      .call(function(text) {\n",
       "  text.text(\"2.0\");\n",
       "})\n",
       ";\n",
       "    }(g.append(\"g\")));\n",
       "    (function (g) {\n",
       "      g.attr(\"visibility\", \"hidden\");\n",
       "      g.append(\"svg:text\")\n",
       "         .attr(\"x\", 16.44)\n",
       "         .attr(\"y\", 223.88)\n",
       "         .attr(\"text-anchor\", \"end\")\n",
       "         .style(\"dominant-baseline\", \"central\")\n",
       "      .call(function(text) {\n",
       "  text.text(\"-3.5\");\n",
       "})\n",
       ";\n",
       "    }(g.append(\"g\")));\n",
       "    (function (g) {\n",
       "      g.attr(\"visibility\", \"hidden\");\n",
       "      g.append(\"svg:text\")\n",
       "         .attr(\"x\", 16.44)\n",
       "         .attr(\"y\", -5.97)\n",
       "         .attr(\"text-anchor\", \"end\")\n",
       "         .style(\"dominant-baseline\", \"central\")\n",
       "      .call(function(text) {\n",
       "  text.text(\"1.5\");\n",
       "})\n",
       ";\n",
       "    }(g.append(\"g\")));\n",
       "    g.append(\"svg:text\")\n",
       "       .attr(\"x\", 16.44)\n",
       "       .attr(\"y\", 40)\n",
       "       .attr(\"text-anchor\", \"end\")\n",
       "       .style(\"dominant-baseline\", \"central\")\n",
       "    .call(function(text) {\n",
       "  text.text(\"0.5\");\n",
       "})\n",
       ";\n",
       "    (function (g) {\n",
       "      g.attr(\"visibility\", \"hidden\");\n",
       "      g.append(\"svg:text\")\n",
       "         .attr(\"x\", 16.44)\n",
       "         .attr(\"y\", 154.93)\n",
       "         .attr(\"text-anchor\", \"end\")\n",
       "         .style(\"dominant-baseline\", \"central\")\n",
       "      .call(function(text) {\n",
       "  text.text(\"-2.0\");\n",
       "})\n",
       ";\n",
       "    }(g.append(\"g\")));\n",
       "    (function (g) {\n",
       "      g.attr(\"visibility\", \"hidden\");\n",
       "      g.append(\"svg:text\")\n",
       "         .attr(\"x\", 16.44)\n",
       "         .attr(\"y\", -74.92)\n",
       "         .attr(\"text-anchor\", \"end\")\n",
       "         .style(\"dominant-baseline\", \"central\")\n",
       "      .call(function(text) {\n",
       "  text.text(\"3.0\");\n",
       "})\n",
       ";\n",
       "    }(g.append(\"g\")));\n",
       "    g.append(\"svg:text\")\n",
       "       .attr(\"x\", 16.44)\n",
       "       .attr(\"y\", 85.97)\n",
       "       .attr(\"text-anchor\", \"end\")\n",
       "       .style(\"dominant-baseline\", \"central\")\n",
       "    .call(function(text) {\n",
       "  text.text(\"-0.5\");\n",
       "})\n",
       ";\n",
       "    (function (g) {\n",
       "      g.attr(\"visibility\", \"hidden\");\n",
       "      g.append(\"svg:text\")\n",
       "         .attr(\"x\", 16.44)\n",
       "         .attr(\"y\", 200.9)\n",
       "         .attr(\"text-anchor\", \"end\")\n",
       "         .style(\"dominant-baseline\", \"central\")\n",
       "      .call(function(text) {\n",
       "  text.text(\"-3.0\");\n",
       "})\n",
       ";\n",
       "    }(g.append(\"g\")));\n",
       "    g.append(\"svg:text\")\n",
       "       .attr(\"x\", 16.44)\n",
       "       .attr(\"y\", 62.99)\n",
       "       .attr(\"text-anchor\", \"end\")\n",
       "       .style(\"dominant-baseline\", \"central\")\n",
       "    .call(function(text) {\n",
       "  text.text(\"0.0\");\n",
       "})\n",
       ";\n",
       "    g.append(\"svg:text\")\n",
       "       .attr(\"x\", 16.44)\n",
       "       .attr(\"y\", 108.96)\n",
       "       .attr(\"text-anchor\", \"end\")\n",
       "       .style(\"dominant-baseline\", \"central\")\n",
       "    .call(function(text) {\n",
       "  text.text(\"-1.0\");\n",
       "})\n",
       ";\n",
       "  }(g.append(\"g\")));\n",
       "  (function (g) {\n",
       "    g.attr(\"stroke\", \"none\")\n",
       "     .attr(\"fill\", \"#4C404B\")\n",
       "     .attr(\"font-family\", \"'PT Sans','Helvetica Neue','Helvetica',sans-serif\")\n",
       "     .style(\"font-size\", \"3.18px\")\n",
       "     .attr(\"class\", \"guide xlabels\");\n",
       "    (function (g) {\n",
       "      g.attr(\"visibility\", \"hidden\");\n",
       "      g.append(\"svg:text\")\n",
       "         .attr(\"x\", 415.47)\n",
       "         .attr(\"y\", 117.02)\n",
       "         .attr(\"text-anchor\", \"middle\")\n",
       "      .call(function(text) {\n",
       "  text.text(\"550\");\n",
       "})\n",
       ";\n",
       "    }(g.append(\"g\")));\n",
       "    (function (g) {\n",
       "      g.attr(\"visibility\", \"hidden\");\n",
       "      g.append(\"svg:text\")\n",
       "         .attr(\"x\", -48.6)\n",
       "         .attr(\"y\", 117.02)\n",
       "         .attr(\"text-anchor\", \"middle\")\n",
       "      .call(function(text) {\n",
       "  text.text(\"-100\");\n",
       "})\n",
       ";\n",
       "    }(g.append(\"g\")));\n",
       "    (function (g) {\n",
       "      g.attr(\"visibility\", \"hidden\");\n",
       "      g.append(\"svg:text\")\n",
       "         .attr(\"x\", 379.78)\n",
       "         .attr(\"y\", 117.02)\n",
       "         .attr(\"text-anchor\", \"middle\")\n",
       "      .call(function(text) {\n",
       "  text.text(\"500\");\n",
       "})\n",
       ";\n",
       "    }(g.append(\"g\")));\n",
       "    g.append(\"svg:text\")\n",
       "       .attr(\"x\", 165.59)\n",
       "       .attr(\"y\", 117.02)\n",
       "       .attr(\"text-anchor\", \"middle\")\n",
       "    .call(function(text) {\n",
       "  text.text(\"200\");\n",
       "})\n",
       ";\n",
       "    (function (g) {\n",
       "      g.attr(\"visibility\", \"hidden\");\n",
       "      g.append(\"svg:text\")\n",
       "         .attr(\"x\", -155.7)\n",
       "         .attr(\"y\", 117.02)\n",
       "         .attr(\"text-anchor\", \"middle\")\n",
       "      .call(function(text) {\n",
       "  text.text(\"-250\");\n",
       "})\n",
       ";\n",
       "    }(g.append(\"g\")));\n",
       "    (function (g) {\n",
       "      g.attr(\"visibility\", \"hidden\");\n",
       "      g.append(\"svg:text\")\n",
       "         .attr(\"x\", 272.68)\n",
       "         .attr(\"y\", 117.02)\n",
       "         .attr(\"text-anchor\", \"middle\")\n",
       "      .call(function(text) {\n",
       "  text.text(\"350\");\n",
       "})\n",
       ";\n",
       "    }(g.append(\"g\")));\n",
       "    (function (g) {\n",
       "      g.attr(\"visibility\", \"hidden\");\n",
       "      g.append(\"svg:text\")\n",
       "         .attr(\"x\", 308.38)\n",
       "         .attr(\"y\", 117.02)\n",
       "         .attr(\"text-anchor\", \"middle\")\n",
       "      .call(function(text) {\n",
       "  text.text(\"400\");\n",
       "})\n",
       ";\n",
       "    }(g.append(\"g\")));\n",
       "    (function (g) {\n",
       "      g.attr(\"visibility\", \"hidden\");\n",
       "      g.append(\"svg:text\")\n",
       "         .attr(\"x\", 236.98)\n",
       "         .attr(\"y\", 117.02)\n",
       "         .attr(\"text-anchor\", \"middle\")\n",
       "      .call(function(text) {\n",
       "  text.text(\"300\");\n",
       "})\n",
       ";\n",
       "    }(g.append(\"g\")));\n",
       "    (function (g) {\n",
       "      g.attr(\"visibility\", \"hidden\");\n",
       "      g.append(\"svg:text\")\n",
       "         .attr(\"x\", 344.08)\n",
       "         .attr(\"y\", 117.02)\n",
       "         .attr(\"text-anchor\", \"middle\")\n",
       "      .call(function(text) {\n",
       "  text.text(\"450\");\n",
       "})\n",
       ";\n",
       "    }(g.append(\"g\")));\n",
       "    (function (g) {\n",
       "      g.attr(\"visibility\", \"hidden\");\n",
       "      g.append(\"svg:text\")\n",
       "         .attr(\"x\", -12.9)\n",
       "         .attr(\"y\", 117.02)\n",
       "         .attr(\"text-anchor\", \"middle\")\n",
       "      .call(function(text) {\n",
       "  text.text(\"-50\");\n",
       "})\n",
       ";\n",
       "    }(g.append(\"g\")));\n",
       "    g.append(\"svg:text\")\n",
       "       .attr(\"x\", 129.89)\n",
       "       .attr(\"y\", 117.02)\n",
       "       .attr(\"text-anchor\", \"middle\")\n",
       "    .call(function(text) {\n",
       "  text.text(\"150\");\n",
       "})\n",
       ";\n",
       "    g.append(\"svg:text\")\n",
       "       .attr(\"x\", 201.29)\n",
       "       .attr(\"y\", 117.02)\n",
       "       .attr(\"text-anchor\", \"middle\")\n",
       "    .call(function(text) {\n",
       "  text.text(\"250\");\n",
       "})\n",
       ";\n",
       "    g.append(\"svg:text\")\n",
       "       .attr(\"x\", 22.79)\n",
       "       .attr(\"y\", 117.02)\n",
       "       .attr(\"text-anchor\", \"middle\")\n",
       "    .call(function(text) {\n",
       "  text.text(\"0\");\n",
       "})\n",
       ";\n",
       "    (function (g) {\n",
       "      g.attr(\"visibility\", \"hidden\");\n",
       "      g.append(\"svg:text\")\n",
       "         .attr(\"x\", -191.39)\n",
       "         .attr(\"y\", 117.02)\n",
       "         .attr(\"text-anchor\", \"middle\")\n",
       "      .call(function(text) {\n",
       "  text.text(\"-300\");\n",
       "})\n",
       ";\n",
       "    }(g.append(\"g\")));\n",
       "    g.append(\"svg:text\")\n",
       "       .attr(\"x\", 58.49)\n",
       "       .attr(\"y\", 117.02)\n",
       "       .attr(\"text-anchor\", \"middle\")\n",
       "    .call(function(text) {\n",
       "  text.text(\"50\");\n",
       "})\n",
       ";\n",
       "    (function (g) {\n",
       "      g.attr(\"visibility\", \"hidden\");\n",
       "      g.append(\"svg:text\")\n",
       "         .attr(\"x\", -84.3)\n",
       "         .attr(\"y\", 117.02)\n",
       "         .attr(\"text-anchor\", \"middle\")\n",
       "      .call(function(text) {\n",
       "  text.text(\"-150\");\n",
       "})\n",
       ";\n",
       "    }(g.append(\"g\")));\n",
       "    g.append(\"svg:text\")\n",
       "       .attr(\"x\", 94.19)\n",
       "       .attr(\"y\", 117.02)\n",
       "       .attr(\"text-anchor\", \"middle\")\n",
       "    .call(function(text) {\n",
       "  text.text(\"100\");\n",
       "})\n",
       ";\n",
       "    (function (g) {\n",
       "      g.attr(\"visibility\", \"hidden\");\n",
       "      g.append(\"svg:text\")\n",
       "         .attr(\"x\", -120)\n",
       "         .attr(\"y\", 117.02)\n",
       "         .attr(\"text-anchor\", \"middle\")\n",
       "      .call(function(text) {\n",
       "  text.text(\"-200\");\n",
       "})\n",
       ";\n",
       "    }(g.append(\"g\")));\n",
       "  }(g.append(\"g\")));\n",
       "  (function (g) {\n",
       "    g.attr(\"stroke\", \"none\")\n",
       "     .attr(\"fill\", \"#362A35\")\n",
       "     .attr(\"font-family\", \"'PT Sans','Helvetica Neue','Helvetica',sans-serif\")\n",
       "     .style(\"font-size\", \"3.88px\");\n",
       "    g.append(\"svg:text\")\n",
       "       .attr(\"x\", 112.04)\n",
       "       .attr(\"y\", 125.28)\n",
       "       .attr(\"text-anchor\", \"middle\")\n",
       "    .call(function(text) {\n",
       "  text.text(\"Time\");\n",
       "})\n",
       ";\n",
       "  }(g.append(\"g\")));\n",
       "  (function (g) {\n",
       "    g.attr(\"stroke\", \"none\")\n",
       "     .attr(\"fill\", \"#362A35\")\n",
       "     .attr(\"font-family\", \"'PT Sans','Helvetica Neue','Helvetica',sans-serif\")\n",
       "     .style(\"font-size\", \"3.88px\");\n",
       "    g.append(\"svg:text\")\n",
       "       .attr(\"x\", 112.04)\n",
       "       .attr(\"y\", 12.26)\n",
       "       .attr(\"text-anchor\", \"middle\")\n",
       "    .call(function(text) {\n",
       "  text.text(\"AR(3) Time Series\");\n",
       "})\n",
       ";\n",
       "  }(g.append(\"g\")));\n",
       "  (function (g) {\n",
       "    g.on(\"mouseover\", guide_background_mouseover(\"#C6C6C9\"))\n",
       "     .on(\"mouseout\", guide_background_mouseout(\"#F0F0F3\"))\n",
       "     .call(zoom_behavior(ctx))\n",
       ";\n",
       "    (function (g) {\n",
       "      d3.select(\"defs\")\n",
       "  .append(\"svg:clipPath\")\n",
       "    .attr(\"id\", parent_id + \"_clippath0\")\n",
       "    .append(\"svg:path\")\n",
       "      .attr(\"d\", \" M17.44,14.26 L 206.64 14.26 206.64 111.72 17.44 111.72 z\");g.attr(\"clip-path\", \"url(#\" + parent_id + \"_clippath0)\");\n",
       "      (function (g) {\n",
       "        g.attr(\"class\", \"guide background\")\n",
       "         .attr(\"stroke\", \"#F1F1F5\")\n",
       "         .attr(\"fill\", \"#FAFAFA\");\n",
       "        g.append(\"svg:path\")\n",
       "           .attr(\"d\", \"M17.44,14.26 L 206.64 14.26 206.64 111.72 17.44 111.72 z\");\n",
       "      }(g.append(\"g\")));\n",
       "      (function (g) {\n",
       "        g.attr(\"stroke\", \"#F0F0F3\")\n",
       "         .attr(\"stroke-width\", 0.2)\n",
       "         .attr(\"class\", \"guide ygridlines xfixed\");\n",
       "        g.append(\"svg:path\")\n",
       "           .attr(\"d\", \"M17.44,131.94 L 206.64 131.94\");\n",
       "        g.append(\"svg:path\")\n",
       "           .attr(\"d\", \"M17.44,-97.91 L 206.64 -97.91\");\n",
       "        g.append(\"svg:path\")\n",
       "           .attr(\"d\", \"M17.44,-28.95 L 206.64 -28.95\");\n",
       "        g.append(\"svg:path\")\n",
       "           .attr(\"d\", \"M17.44,-5.97 L 206.64 -5.97\");\n",
       "        g.append(\"svg:path\")\n",
       "           .attr(\"d\", \"M17.44,154.93 L 206.64 154.93\");\n",
       "        g.append(\"svg:path\")\n",
       "           .attr(\"d\", \"M17.44,85.97 L 206.64 85.97\");\n",
       "        g.append(\"svg:path\")\n",
       "           .attr(\"d\", \"M17.44,62.99 L 206.64 62.99\");\n",
       "        g.append(\"svg:path\")\n",
       "           .attr(\"d\", \"M17.44,108.96 L 206.64 108.96\");\n",
       "        g.append(\"svg:path\")\n",
       "           .attr(\"d\", \"M17.44,200.9 L 206.64 200.9\");\n",
       "        g.append(\"svg:path\")\n",
       "           .attr(\"d\", \"M17.44,-74.92 L 206.64 -74.92\");\n",
       "        g.append(\"svg:path\")\n",
       "           .attr(\"d\", \"M17.44,40 L 206.64 40\");\n",
       "        g.append(\"svg:path\")\n",
       "           .attr(\"d\", \"M17.44,223.88 L 206.64 223.88\");\n",
       "        g.append(\"svg:path\")\n",
       "           .attr(\"d\", \"M17.44,17.02 L 206.64 17.02\");\n",
       "        g.append(\"svg:path\")\n",
       "           .attr(\"d\", \"M17.44,177.91 L 206.64 177.91\");\n",
       "        g.append(\"svg:path\")\n",
       "           .attr(\"d\", \"M17.44,-51.94 L 206.64 -51.94\");\n",
       "      }(g.append(\"g\")));\n",
       "      (function (g) {\n",
       "        g.attr(\"stroke\", \"#F0F0F3\")\n",
       "         .attr(\"stroke-width\", 0.2)\n",
       "         .attr(\"class\", \"guide xgridlines yfixed\");\n",
       "        g.append(\"svg:path\")\n",
       "           .attr(\"d\", \"M-48.6,14.26 L -48.6 111.72\");\n",
       "        g.append(\"svg:path\")\n",
       "           .attr(\"d\", \"M165.59,14.26 L 165.59 111.72\");\n",
       "        g.append(\"svg:path\")\n",
       "           .attr(\"d\", \"M272.68,14.26 L 272.68 111.72\");\n",
       "        g.append(\"svg:path\")\n",
       "           .attr(\"d\", \"M236.98,14.26 L 236.98 111.72\");\n",
       "        g.append(\"svg:path\")\n",
       "           .attr(\"d\", \"M-12.9,14.26 L -12.9 111.72\");\n",
       "        g.append(\"svg:path\")\n",
       "           .attr(\"d\", \"M201.29,14.26 L 201.29 111.72\");\n",
       "        g.append(\"svg:path\")\n",
       "           .attr(\"d\", \"M-191.39,14.26 L -191.39 111.72\");\n",
       "        g.append(\"svg:path\")\n",
       "           .attr(\"d\", \"M-84.3,14.26 L -84.3 111.72\");\n",
       "        g.append(\"svg:path\")\n",
       "           .attr(\"d\", \"M-120,14.26 L -120 111.72\");\n",
       "        g.append(\"svg:path\")\n",
       "           .attr(\"d\", \"M94.19,14.26 L 94.19 111.72\");\n",
       "        g.append(\"svg:path\")\n",
       "           .attr(\"d\", \"M58.49,14.26 L 58.49 111.72\");\n",
       "        g.append(\"svg:path\")\n",
       "           .attr(\"d\", \"M22.79,14.26 L 22.79 111.72\");\n",
       "        g.append(\"svg:path\")\n",
       "           .attr(\"d\", \"M129.89,14.26 L 129.89 111.72\");\n",
       "        g.append(\"svg:path\")\n",
       "           .attr(\"d\", \"M344.08,14.26 L 344.08 111.72\");\n",
       "        g.append(\"svg:path\")\n",
       "           .attr(\"d\", \"M308.38,14.26 L 308.38 111.72\");\n",
       "        g.append(\"svg:path\")\n",
       "           .attr(\"d\", \"M-155.7,14.26 L -155.7 111.72\");\n",
       "        g.append(\"svg:path\")\n",
       "           .attr(\"d\", \"M379.78,14.26 L 379.78 111.72\");\n",
       "        g.append(\"svg:path\")\n",
       "           .attr(\"d\", \"M415.47,14.26 L 415.47 111.72\");\n",
       "      }(g.append(\"g\")));\n",
       "    }(g.append(\"g\")));\n",
       "    (function (g) {\n",
       "      d3.select(\"defs\")\n",
       "  .append(\"svg:clipPath\")\n",
       "    .attr(\"id\", parent_id + \"_clippath1\")\n",
       "    .append(\"svg:path\")\n",
       "      .attr(\"d\", \" M17.44,14.26 L 206.64 14.26 206.64 111.72 17.44 111.72 z\");g.attr(\"clip-path\", \"url(#\" + parent_id + \"_clippath1)\");\n",
       "      (function (g) {\n",
       "        g.attr(\"class\", \"plotpanel\");\n",
       "        (function (g) {\n",
       "          g.attr(\"stroke\", \"#00BFFF\")\n",
       "           .attr(\"class\", \"geometry\")\n",
       "           .attr(\"fill\", \"none\")\n",
       "           .attr(\"stroke-width\", 0.3);\n",
       "          g.append(\"svg:path\")\n",
       "             .attr(\"d\", \"M23.51,57.46 L 24.22 52.18 24.94 47.21 25.65 58.17 26.36 71.67 27.08 79.46 27.79 80.53 28.51 69.81 29.22 52.34 29.93 46.55 30.65 47.36 31.36 61.06 32.08 60.92 32.79 74.46 33.5 73.53 34.22 66.57 34.93 63.53 35.65 68.12 36.36 72.27 37.07 80.64 37.79 77.98 38.5 74.57 39.22 75.01 39.93 74.94 40.64 57.89 41.36 49.84 42.07 45.49 42.79 51.45 43.5 47.62 44.21 59.11 44.93 56.72 45.64 54.88 46.36 64.92 47.07 69.7 47.78 74.57 48.5 72.78 49.21 62.61 49.93 48.35 50.64 44.99 51.35 43.61 52.07 50.87 52.78 70.81 53.5 69.18 54.21 73.45 54.92 67.58 55.64 53.17 56.35 56.58 57.06 67.48 57.78 70.8 58.49 87.47 59.21 77.14 59.92 80.65 60.63 62.85 61.35 58.45 62.06 61 62.78 74.52 63.49 67.5 64.2 65.17 64.92 66.67 65.63 68.27 66.35 62.92 67.06 51.78 67.77 53.08 68.49 60.72 69.2 60.62 69.92 68.69 70.63 60.14 71.34 62.86 72.06 68.79 72.77 69.08 73.49 68.7 74.2 60.4 74.91 51.56 75.63 61.44 76.34 71.71 77.06 83.48 77.77 79.11 78.48 65.05 79.2 57.15 79.91 50.78 80.63 45.15 81.34 59.53 82.05 62.83 82.77 70.52 83.48 68.77 84.2 57.42 84.91 58.29 85.62 58.93 86.34 67.76 87.05 66.67 87.77 61.61 88.48 57.09 89.19 53.16 89.91 73.68 90.62 76.7 91.34 68.27 92.05 62.94 92.76 67.05 93.48 68.53 94.19 78.99 94.9 78.02 95.62 72.46 96.33 68.47 97.05 59.65 97.76 45.53 98.47 37.2 99.19 38.45 99.9 61.08 100.62 82.29 101.33 89.32 102.04 91.63 102.76 86.48 103.47 72.15 104.19 57.46 104.9 54.02 105.61 59.2 106.33 64.75 107.04 65.77 107.76 79.15 108.47 74.05 109.18 79.93 109.9 69.44 110.61 52.69 111.33 45.08 112.04 39.19 112.75 46.62 113.47 51.01 114.18 48.08 114.9 52.07 115.61 70.34 116.32 68.27 117.04 76.43 117.75 63.15 118.47 65.91 119.18 61.46 119.89 62.73 120.61 66.92 121.32 74.13 122.04 70.9 122.75 61.83 123.46 63.63 124.18 60.83 124.89 66.01 125.61 58.52 126.32 63.56 127.03 61.9 127.75 52.03 128.46 59.29 129.18 66.69 129.89 71.93 130.6 64.19 131.32 60.8 132.03 61.49 132.75 49.69 133.46 56.64 134.17 63.85 134.89 75.22 135.6 75.82 136.31 78.97 137.03 86.37 137.74 79.53 138.46 64.8 139.17 51.82 139.88 46.34 140.6 55.12 141.31 59.77 142.03 71.48 142.74 75.78 143.45 79.48 144.17 61.79 144.88 61.98 145.6 62.84 146.31 53.1 147.02 73.72 147.74 74.81 148.45 78.28 149.17 71.71 149.88 58.96 150.59 50.4 151.31 45.25 152.02 39.41 152.74 58.85 153.45 55.36 154.16 55.74 154.88 56.65 155.59 64.52 156.31 62.67 157.02 60.22 157.73 58.66 158.45 62.26 159.16 55.19 159.88 61.45 160.59 64.31 161.3 57.87 162.02 57.59 162.73 63.06 163.45 65.51 164.16 66.83 164.87 67.49 165.59 63.53 166.3 57.97 167.02 52.62 167.73 61.35 168.44 63.55 169.16 67.1 169.87 57.58 170.59 60.11 171.3 56.79 172.01 62.81 172.73 65.98 173.44 73.56 174.15 70.53 174.87 69.96 175.58 68.79 176.3 75.65 177.01 60.36 177.72 54.2 178.44 50.25 179.15 54.93 179.87 54.23 180.58 62.14 181.29 75.64 182.01 88.68 182.72 87.58 183.44 78.23 184.15 77.69 184.86 65.3 185.58 71.05 186.29 62.61 187.01 51.88 187.72 38.46 188.43 44.09 189.15 65.95 189.86 68.06 190.58 77.21 191.29 67.67 192 71.98 192.72 64.85 193.43 58.85 194.15 63.83 194.86 54.37 195.57 39.94 196.29 49.58 197 42.12 197.72 45.02 198.43 50.67 199.14 62 199.86 60.76 200.57 73.82 201.29 77.76\");\n",
       "        }(g.append(\"g\")));\n",
       "      }(g.append(\"g\")));\n",
       "    }(g.append(\"g\")));\n",
       "    (function (g) {\n",
       "      d3.select(\"defs\")\n",
       "  .append(\"svg:clipPath\")\n",
       "    .attr(\"id\", parent_id + \"_clippath2\")\n",
       "    .append(\"svg:path\")\n",
       "      .attr(\"d\", \" M17.44,14.26 L 206.64 14.26 206.64 111.72 17.44 111.72 z\");g.attr(\"clip-path\", \"url(#\" + parent_id + \"_clippath2)\");\n",
       "      (function (g) {\n",
       "        g.attr(\"stroke\", \"none\")\n",
       "         .attr(\"class\", \"guide zoomslider\")\n",
       "         .attr(\"opacity\", 0.00);\n",
       "        (function (g) {\n",
       "          g.attr(\"stroke\", \"#6A6A6A\")\n",
       "           .attr(\"stroke-opacity\", 0.00)\n",
       "           .attr(\"stroke-width\", 0.3)\n",
       "           .attr(\"fill\", \"#EAEAEA\")\n",
       "           .on(\"click\", zoomin_behavior(ctx))\n",
       ".on(\"dblclick\", function() { d3.event.stopPropagation(); })\n",
       ".on(\"mouseover\", zoomslider_button_mouseover(\"#cd5c5c\"))\n",
       ".on(\"mouseout\", zoomslider_button_mouseover(\"#6a6a6a\"))\n",
       ";\n",
       "          g.append(\"svg:path\")\n",
       "             .attr(\"d\", \"M199.64,17.26 L 203.64 17.26 203.64 21.26 199.64 21.26 z\");\n",
       "          (function (g) {\n",
       "            g.attr(\"fill\", \"#6A6A6A\")\n",
       "             .attr(\"class\", \"button_logo\");\n",
       "            g.append(\"svg:path\")\n",
       "               .attr(\"d\", \"M200.44,18.86 L 201.24 18.86 201.24 18.06 202.04 18.06 202.04 18.86 202.84 18.86 202.84 19.66 202.04 19.66 202.04 20.46 201.24 20.46 201.24 19.66 200.44 19.66 z\");\n",
       "          }(g.append(\"g\")));\n",
       "        }(g.append(\"g\")));\n",
       "        (function (g) {\n",
       "          g.attr(\"fill\", \"#EAEAEA\")\n",
       "           .on(\"click\", zoomslider_track_behavior(ctx, 173.64, 190.64));\n",
       "          g.append(\"svg:path\")\n",
       "             .attr(\"d\", \"M180.14,17.26 L 199.14 17.26 199.14 21.26 180.14 21.26 z\");\n",
       "        }(g.append(\"g\")));\n",
       "        (function (g) {\n",
       "          g.attr(\"fill\", \"#6A6A6A\")\n",
       "           .attr(\"class\", \"zoomslider_thumb\")\n",
       "           .call(zoomslider_behavior(ctx, 173.64, 190.64))\n",
       ".on(\"mouseover\", zoomslider_thumb_mouseover(\"#cd5c5c\"))\n",
       ".on(\"mouseout\", zoomslider_thumb_mouseover(\"#6a6a6a\"))\n",
       ";\n",
       "          g.append(\"svg:path\")\n",
       "             .attr(\"d\", \"M188.64,17.26 L 190.64 17.26 190.64 21.26 188.64 21.26 z\");\n",
       "        }(g.append(\"g\")));\n",
       "        (function (g) {\n",
       "          g.attr(\"stroke\", \"#6A6A6A\")\n",
       "           .attr(\"stroke-opacity\", 0.00)\n",
       "           .attr(\"stroke-width\", 0.3)\n",
       "           .attr(\"fill\", \"#EAEAEA\")\n",
       "           .on(\"click\", zoomout_behavior(ctx))\n",
       ".on(\"dblclick\", function() { d3.event.stopPropagation(); })\n",
       ".on(\"mouseover\", zoomslider_button_mouseover(\"#cd5c5c\"))\n",
       ".on(\"mouseout\", zoomslider_button_mouseover(\"#6a6a6a\"))\n",
       ";\n",
       "          g.append(\"svg:path\")\n",
       "             .attr(\"d\", \"M175.64,17.26 L 179.64 17.26 179.64 21.26 175.64 21.26 z\");\n",
       "          (function (g) {\n",
       "            g.attr(\"fill\", \"#6A6A6A\")\n",
       "             .attr(\"class\", \"button_logo\");\n",
       "            g.append(\"svg:path\")\n",
       "               .attr(\"d\", \"M176.44,18.86 L 178.84 18.86 178.84 19.66 176.44 19.66 z\");\n",
       "          }(g.append(\"g\")));\n",
       "        }(g.append(\"g\")));\n",
       "      }(g.append(\"g\")));\n",
       "    }(g.append(\"g\")));\n",
       "  }(g.append(\"g\")));\n",
       "}(g.append(\"g\")));\n",
       "    d3.select(parent_id)\n",
       "      .selectAll(\"path\")\n",
       "      .each(function() {\n",
       "          var sw = parseFloat(window.getComputedStyle(this).getPropertyValue(\"stroke-width\"));\n",
       "          d3.select(this)\n",
       "            .attr(\"vector-effect\", \"non-scaling-stroke\")\n",
       "            .style(\"stroke-width\", sw + \"mm\");\n",
       "      });\n",
       "}\n",
       "\n",
       "var data = [\n",
       "];\n",
       "\n",
       "var draw = function(parent_id) {\n",
       "    draw_with_data(data, parent_id);\n",
       "};\n",
       "\n",
       "draw(\"#gadflyplot-YETBZqQJHMD1jDsPp9sk\");\n",
       "</script>\n"
      ],
      "text/plain": [
       "D3(211.64021164021167,132.2751322751323,IOBuffer([0x66,0x75,0x6e,0x63,0x74,0x69,0x6f,0x6e,0x20,0x64  …  0x74,0x5f,0x69,0x64,0x29,0x3b,0x0a,0x7d,0x3b,0x0a],true,true,true,false,20804,9223372036854775807,20805),0,[],[],0,3,Dict{Uint64,(Any,Int64)}(),true,false,nothing,true)"
      ]
     },
     "metadata": {},
     "output_type": "display_data"
    },
    {
     "data": {
      "text/html": [],
      "text/plain": [
       "Plot(...)"
      ]
     },
     "execution_count": 68,
     "metadata": {},
     "output_type": "execute_result"
    }
   ],
   "source": [
    "(ar3coeffs, ar3sigma) |>\n",
    "    x -> apply(ar, x) |>\n",
    "    f -> iterate(f, ar3sigma*rand(3)) |>\n",
    "    i -> map(first, take(i, 250)) |>\n",
    "    s -> plotar(s, \"AR(3) Time Series\")"
   ]
  },
  {
   "cell_type": "markdown",
   "metadata": {},
   "source": [
    "## Conclusion"
   ]
  },
  {
   "cell_type": "markdown",
   "metadata": {},
   "source": [
    "Most iteration you'll see in the wild uses simple collections or ranges as the\n",
    "iterator, performing extensive work inside the loop. Sometimes our problem can be\n",
    "better expressed using more complicated iterators whose structure represents the\n",
    "logic of our iteration. One thing to notice in all the examples was that once\n",
    "the iterators were defined, there was very little to do after iterating over\n",
    "them. Typically I was just collecting the iteration values into an array, or\n",
    "reducing them with an operation to a scalar result. We were also able to build\n",
    "the problems in such a way that calculation of values in the iterators was\n",
    "delayed until absolutely necessary.\n",
    "\n",
    "There are tradeoffs to this sort of style, and much of the stuff in this\n",
    "post was more cute than practical. But it was a fun exploration of how to create types\n",
    "that interact with protocols in Julia. Julia's type system and dispatch design\n",
    "are very powerful and interesting, and gives programmers a lot of flexibility in"
   ]
  },
  {
   "cell_type": "markdown",
   "metadata": {},
   "source": [
    "### Footnotes"
   ]
  },
  {
   "cell_type": "markdown",
   "metadata": {},
   "source": [
    "1. While we'll see lots of examples of extending Julia's base functions dispatched on newly-defined types, we won't see much *multiple dispatch*, which is an important design feature of Julia. In fact, pretty much everything here could be implemented in a single-dispatch OO language.\n",
    "2. Pythonistas may be thinking about the distinction between *iterators* and *iterables*. (See,e.g. [this Stack Overflow thread](http://stackoverflow.com/questions/9884132/understanding-pythons-iterator-iterable-and-iteration-protocols-what-exact).) That distinction doesn't really apply to Julia. So I won't use the term iterable here, and I'll define an iterator in the two ways discussed above: (1) it is valid in a `for i = I` statement, and (2) it implements the iterator protocol.\n",
    "3. This limitation seems to come from the idea that only iterators with known lengths can be counted on to produce multidimensional arrays. This may be changed in future versions of Julia. See, e.g. [Issue #550](https://github.com/JuliaLang/julia/issues/550).  The `collect` function uses the `push!` function to dynamically allocate the array, but `collect` can only give a 1-D Array output, whereas comprehensions can be multidimensional."
   ]
  }
 ],
 "metadata": {
  "kernelspec": {
   "display_name": "Julia 0.5.1",
   "language": "julia",
   "name": "julia-0.5"
  },
  "language": "Julia",
  "language_info": {
   "file_extension": ".jl",
   "mimetype": "application/julia",
   "name": "julia",
   "version": "0.5.1"
  }
 },
 "nbformat": 4,
 "nbformat_minor": 2
}
