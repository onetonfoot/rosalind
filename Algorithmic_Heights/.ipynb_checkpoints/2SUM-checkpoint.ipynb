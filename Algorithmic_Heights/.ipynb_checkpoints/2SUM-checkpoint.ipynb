{
 "cells": [
  {
   "cell_type": "code",
   "execution_count": 40,
   "metadata": {},
   "outputs": [
    {
     "data": {
      "text/plain": [
       "15-element Array{Array{Int64,2},1}:\n",
       " [-7125 3801 … -1679 -4780] \n",
       " [3528 -9449 … -7916 -9939] \n",
       " [-5311 1618 … -7630 7380]  \n",
       " [6048 6398 … 4508 -5158]   \n",
       " [5386 5797 … 6197 1901]    \n",
       " [-8064 -9442 … -9821 -2168]\n",
       " [-5908 6753 … -540 -4500]  \n",
       " [-5648 3444 … 8680 -902]   \n",
       " [245 847 … -5438 -7573]    \n",
       " [-6600 2667 … 8057 2107]   \n",
       " [-2438 6925 … -1888 -114]  \n",
       " [21 -6530 … -2162 6027]    \n",
       " [3492 -5421 … -1391 7031]  \n",
       " [7539 -9813 … 1834 -3338]  \n",
       " [-238 -2373 … -3858 -382]  "
      ]
     },
     "execution_count": 40,
     "metadata": {},
     "output_type": "execute_result"
    }
   ],
   "source": [
    "str_list= readlines(\"data/rosalind_2sum.txt\")\n",
    "arrays = [readdlm(IOBuffer(i),Int) for i in drop(str_list,1)]"
   ]
  },
  {
   "cell_type": "code",
   "execution_count": 56,
   "metadata": {},
   "outputs": [
    {
     "ename": "LoadError",
     "evalue": "syntax: missing comma or ) in argument list",
     "output_type": "error",
     "traceback": [
      "syntax: missing comma or ) in argument list",
      ""
     ]
    }
   ],
   "source": [
    "function _2SUM(l)\n",
    "    \n",
    "    #Dic to store location, has a O(n) lookup\n",
    "    l_dic = Dict()\n",
    "    matching = []\n",
    "    \n",
    "    for (a,b) in enumerate(l)\n",
    "        l_dic[b]=a\n",
    "    end\n",
    "    \n",
    "    \n",
    "    for i in l\n",
    "        if haskey(l_dic,-i) && i != 0 \n",
    "            push!(matching,(l _dic[i],l_dic[-i]) )\n",
    "        end\n",
    "    end\n",
    "    \n",
    "    if !isempty(matching) #if it's not empty\n",
    "        return matching[1]\n",
    "    else\n",
    "        return -1\n",
    "    end\n",
    "end"
   ]
  },
  {
   "cell_type": "code",
   "execution_count": 53,
   "metadata": {},
   "outputs": [
    {
     "ename": "LoadError",
     "evalue": "syntax: missing comma or ) in argument list",
     "output_type": "error",
     "traceback": [
      "syntax: missing comma or ) in argument list",
      ""
     ]
    }
   ],
   "source": [
    "function _2SUM(l)\n",
    "    \n",
    "    #Dic to store location, has a O(n) lookup\n",
    "    l_dic = Dict()\n",
    "    matching = []\n",
    "    \n",
    "    for (a,b) in enumerate(l)\n",
    "        l_dic[b]=a\n",
    "    end\n",
    "    \n",
    "    \n",
    "    for i in l\n",
    "        if haskey(l_dic,-i) && i != 0 \n",
    "            push!(matching,(l _dic[i],l_dic[-i]))\n",
    "        end\n",
    "    end\n",
    "    \n",
    "    if !isempty(matching) #if it's not empty\n",
    "        return matching[1]\n",
    "    else\n",
    "        return -1\n",
    "    end\n",
    "end"
   ]
  },
  {
   "cell_type": "code",
   "execution_count": 39,
   "metadata": {},
   "outputs": [
    {
     "data": {
      "text/plain": [
       "\"1 3\""
      ]
     },
     "execution_count": 39,
     "metadata": {},
     "output_type": "execute_result"
    }
   ],
   "source": [
    "join(_2SUM(arrays[4]),\" \")"
   ]
  },
  {
   "cell_type": "code",
   "execution_count": 45,
   "metadata": {},
   "outputs": [
    {
     "data": {
      "text/plain": [
       "124"
      ]
     },
     "execution_count": 45,
     "metadata": {},
     "output_type": "execute_result"
    }
   ],
   "source": [
    "results = [join(_2SUM(i),\" \") for i in arrays]\n",
    "write(\"results/2sum.txt\",join(results,\"\\n\"))"
   ]
  },
  {
   "cell_type": "code",
   "execution_count": 48,
   "metadata": {},
   "outputs": [
    {
     "data": {
      "text/plain": [
       "(6234,6234)"
      ]
     },
     "execution_count": 48,
     "metadata": {},
     "output_type": "execute_result"
    }
   ],
   "source": [
    "_2SUM(arrays[1])"
   ]
  },
  {
   "cell_type": "code",
   "execution_count": 49,
   "metadata": {},
   "outputs": [
    {
     "data": {
      "text/plain": [
       "1×9448 Array{Int64,2}:\n",
       " -7125  3801  -2491  -2393  -5746  -2603  …  -3513  -188  9744  -1679  -4780"
      ]
     },
     "execution_count": 49,
     "metadata": {},
     "output_type": "execute_result"
    }
   ],
   "source": [
    "arrays[1]"
   ]
  },
  {
   "cell_type": "code",
   "execution_count": 50,
   "metadata": {},
   "outputs": [
    {
     "data": {
      "text/plain": [
       "0"
      ]
     },
     "execution_count": 50,
     "metadata": {},
     "output_type": "execute_result"
    }
   ],
   "source": [
    "arrays[1][6234]"
   ]
  },
  {
   "cell_type": "code",
   "execution_count": 46,
   "metadata": {},
   "outputs": [
    {
     "data": {
      "text/plain": [
       "15-element Array{String,1}:\n",
       " \"6234 6234\"\n",
       " \"4959 4959\"\n",
       " \"2 1082\"   \n",
       " \"7078 7078\"\n",
       " \"5 6867\"   \n",
       " \"1 3598\"   \n",
       " \"2 5510\"   \n",
       " \"7450 7450\"\n",
       " \"-1\"       \n",
       " \"8503 8503\"\n",
       " \"5484 5376\"\n",
       " \"7981 7981\"\n",
       " \"1 3829\"   \n",
       " \"8271 8271\"\n",
       " \"1 3427\"   "
      ]
     },
     "execution_count": 46,
     "metadata": {},
     "output_type": "execute_result"
    }
   ],
   "source": [
    "results"
   ]
  },
  {
   "cell_type": "code",
   "execution_count": 10,
   "metadata": {},
   "outputs": [
    {
     "data": {
      "text/plain": [
       "true"
      ]
     },
     "execution_count": 10,
     "metadata": {},
     "output_type": "execute_result"
    }
   ],
   "source": [
    "haskey(dict, \"z\")"
   ]
  },
  {
   "cell_type": "code",
   "execution_count": 11,
   "metadata": {},
   "outputs": [
    {
     "data": {
      "text/plain": [
       "-5"
      ]
     },
     "execution_count": 11,
     "metadata": {},
     "output_type": "execute_result"
    }
   ],
   "source": [
    "x=5\n",
    "-x"
   ]
  }
 ],
 "metadata": {
  "kernelspec": {
   "display_name": "Julia 0.5.1",
   "language": "julia",
   "name": "julia-0.5"
  },
  "language_info": {
   "file_extension": ".jl",
   "mimetype": "application/julia",
   "name": "julia",
   "version": "0.5.1"
  }
 },
 "nbformat": 4,
 "nbformat_minor": 2
}
