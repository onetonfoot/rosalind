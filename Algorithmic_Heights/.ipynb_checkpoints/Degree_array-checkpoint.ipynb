{
 "cells": [
  {
   "cell_type": "markdown",
   "metadata": {},
   "source": [
    "The number of edges in this case is simply the amount of times the it occurs in the list edge matrix since the graph is unidirectional.\n"
   ]
  },
  {
   "cell_type": "code",
   "execution_count": 192,
   "metadata": {},
   "outputs": [
    {
     "name": "stderr",
     "output_type": "stream",
     "text": [
      "WARNING: Method definition degree_array(Any) in module Main at In[190]:4 overwritten at In[192]:4.\n"
     ]
    },
    {
     "data": {
      "text/plain": [
       "degree_array (generic function with 1 method)"
      ]
     },
     "execution_count": 192,
     "metadata": {},
     "output_type": "execute_result"
    }
   ],
   "source": [
    "function degree_array(M)\n",
    "    \n",
    "    \n",
    "    num_nodes, num_edges = M[1,:]\n",
    "    edge_matrix = M[2:end,:]\n",
    "    r,c = size(edge_matrix)\n",
    "    d_array = zeros(Int,num_nodes)\n",
    "    \n",
    "    for col in 1:c, row in 1:r\n",
    "        #Check if entry is in dict, if not add it\n",
    "        index = edge_matrix[row,col]\n",
    "        #Update d_array\n",
    "        d_array[index] += 1\n",
    "    end\n",
    "\n",
    "    return d_array\n",
    "end\n",
    "    \n",
    "    "
   ]
  },
  {
   "cell_type": "code",
   "execution_count": 193,
   "metadata": {},
   "outputs": [
    {
     "data": {
      "text/plain": [
       "6-element Array{Int64,1}:\n",
       " 2\n",
       " 4\n",
       " 2\n",
       " 2\n",
       " 2\n",
       " 2"
      ]
     },
     "execution_count": 193,
     "metadata": {},
     "output_type": "execute_result"
    }
   ],
   "source": [
    "M = readdlm(\"data/test.txt\",Int);\n",
    "degree_array(M)"
   ]
  },
  {
   "cell_type": "code",
   "execution_count": null,
   "metadata": {},
   "outputs": [],
   "source": [
    "function create_results()\n",
    "\n",
    "    M = readdlm(\"data/rosalind_deg.txt\",Int);\n",
    "    results = degree_array(M);\n",
    "    write(\"results/degree_array.txt\",join(results,\" \"))\n",
    "    \n",
    "end\n",
    "    "
   ]
  },
  {
   "cell_type": "code",
   "execution_count": 204,
   "metadata": {},
   "outputs": [
    {
     "data": {
      "text/plain": [
       "2995"
      ]
     },
     "execution_count": 204,
     "metadata": {},
     "output_type": "execute_result"
    }
   ],
   "source": [
    "M = readdlm(\"data/rosalind_deg.txt\",Int);\n",
    "results = degree_array(M);\n",
    "write(\"results/degree_array.txt\",join(results,\" \"))"
   ]
  },
  {
   "cell_type": "code",
   "execution_count": 203,
   "metadata": {},
   "outputs": [
    {
     "name": "stdout",
     "output_type": "stream",
     "text": [
      "9842240"
     ]
    }
   ],
   "source": [
    "print(sum(M))"
   ]
  },
  {
   "cell_type": "code",
   "execution_count": 201,
   "metadata": {},
   "outputs": [
    {
     "name": "stdout",
     "output_type": "stream",
     "text": [
      "9947150"
     ]
    }
   ],
   "source": [
    "print(sum(M))"
   ]
  },
  {
   "cell_type": "code",
   "execution_count": 133,
   "metadata": {},
   "outputs": [
    {
     "data": {
      "text/plain": [
       "degree_dict (generic function with 1 method)"
      ]
     },
     "execution_count": 133,
     "metadata": {},
     "output_type": "execute_result"
    }
   ],
   "source": [
    "function degree_dict(M)\n",
    "    \n",
    "    r,c = size(M)\n",
    "    #Degree array\n",
    "    degree_array = zeros(Int,)\n",
    "    \n",
    "    #Create a dict to count the degree for each node\n",
    "    node_degrees = Dict{Int,Int}()\n",
    "    #Iterate though in a col major way\n",
    "    for col in 1:c, row in 1:r\n",
    "        #Check if entry is in dict, if not add it\n",
    "        node =  M[row,col]\n",
    "        #\n",
    "        node in keys(node_degrees) ? node_degrees[node] += 1 :  node_degrees[node] = 1    \n",
    "    end\n",
    "        \n",
    "    return node_degrees\n",
    "\n",
    "end\n",
    "\n",
    "function degree_array(M)\n",
    "    \n",
    "    edge_dict = degree_dict(M)\n",
    "    sorted_pairs = sorted_pairs = sort(collect(edge_dict))\n",
    "    degree_array = [i[2] for i in sorted_pairs]\n",
    "\n",
    "    return degree_array\n",
    "end"
   ]
  }
 ],
 "metadata": {
  "kernelspec": {
   "display_name": "Julia 0.5.1",
   "language": "julia",
   "name": "julia-0.5"
  },
  "language_info": {
   "file_extension": ".jl",
   "mimetype": "application/julia",
   "name": "julia",
   "version": "0.5.1"
  }
 },
 "nbformat": 4,
 "nbformat_minor": 2
}
