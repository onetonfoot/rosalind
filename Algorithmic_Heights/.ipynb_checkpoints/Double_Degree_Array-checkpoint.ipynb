{
 "cells": [
  {
   "cell_type": "markdown",
   "metadata": {},
   "source": [
    "Function returns the degree of every node in the network"
   ]
  },
  {
   "cell_type": "code",
   "execution_count": 1,
   "metadata": {},
   "outputs": [
    {
     "data": {
      "text/plain": [
       "degree_array (generic function with 1 method)"
      ]
     },
     "execution_count": 1,
     "metadata": {},
     "output_type": "execute_result"
    }
   ],
   "source": [
    "function degree_array(M)\n",
    "    \n",
    "    num_nodes, num_edges = M[1,:]\n",
    "    edge_matrix = M[2:end,:]\n",
    "    r,c = size(edge_matrix)\n",
    "    d_array = zeros(Int,num_nodes)\n",
    "    \n",
    "    for col in 1:c, row in 1:r\n",
    "        #Check if entry is in dict, if not add it\n",
    "        index = edge_matrix[row,col]\n",
    "        #Update d_array\n",
    "        d_array[index] += 1\n",
    "    end\n",
    "\n",
    "    return d_array\n",
    "end"
   ]
  },
  {
   "cell_type": "markdown",
   "metadata": {},
   "source": [
    "We can represnt the structure of the network with an adjaceny matrix\n"
   ]
  },
  {
   "cell_type": "code",
   "execution_count": 27,
   "metadata": {},
   "outputs": [
    {
     "name": "stderr",
     "output_type": "stream",
     "text": [
      "WARNING: Method definition adjaceny_matrix(Any) in module Main at In[15]:3 overwritten at In[27]:3.\n"
     ]
    },
    {
     "data": {
      "text/plain": [
       "adjaceny_matrix (generic function with 1 method)"
      ]
     },
     "execution_count": 27,
     "metadata": {},
     "output_type": "execute_result"
    }
   ],
   "source": [
    "function adjaceny_matrix(M)\n",
    "        \n",
    "    num_nodes, num_edges = M[1,:]\n",
    "    edge_matrix = M[2:end,:]\n",
    "    r,c = size(edge_matrix)\n",
    "    a_matrix = zeros(Int8,num_nodes,num_nodes)\n",
    "    \n",
    "    for row in 1:r\n",
    "        i,j = edge_matrix[row,:]\n",
    "        a_matrix[i,j] += 1\n",
    "        a_matrix[j,i] += 1\n",
    "    end \n",
    "    \n",
    "    return a_matrix\n",
    "end\n",
    "\n",
    "    \n",
    "    \n",
    "    \n",
    "    "
   ]
  },
  {
   "cell_type": "markdown",
   "metadata": {},
   "source": [
    "Get the sum of the degree for every neibouring node"
   ]
  },
  {
   "cell_type": "code",
   "execution_count": 74,
   "metadata": {},
   "outputs": [
    {
     "data": {
      "text/plain": [
       "double_degree_array (generic function with 1 method)"
      ]
     },
     "execution_count": 74,
     "metadata": {},
     "output_type": "execute_result"
    }
   ],
   "source": [
    "function double_degree_array(M)\n",
    "    \n",
    "    D = degree_array(M)\n",
    "    A = adjaceny_matrix(M)\n",
    "    l = []\n",
    "    \n",
    "    for i in 1:size(A,1)\n",
    "        b = A[i,:] .== 1\n",
    "        push!(l,sum(D[b]))\n",
    "    end\n",
    "    \n",
    "    return l\n",
    "  \n",
    "end\n",
    "    "
   ]
  },
  {
   "cell_type": "code",
   "execution_count": 79,
   "metadata": {},
   "outputs": [
    {
     "data": {
      "text/plain": [
       "3999"
      ]
     },
     "execution_count": 79,
     "metadata": {},
     "output_type": "execute_result"
    }
   ],
   "source": [
    "M = readdlm(\"data/rosalind_ddeg.txt\",Int)\n",
    "result = double_degree_array(M)\n",
    "write(\"results/double_degree.txt\",join(result,\" \"))"
   ]
  }
 ],
 "metadata": {
  "kernelspec": {
   "display_name": "Julia 0.5.1",
   "language": "julia",
   "name": "julia-0.5"
  },
  "language_info": {
   "file_extension": ".jl",
   "mimetype": "application/julia",
   "name": "julia",
   "version": "0.5.1"
  }
 },
 "nbformat": 4,
 "nbformat_minor": 2
}
