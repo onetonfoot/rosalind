{
 "cells": [
  {
   "cell_type": "markdown",
   "metadata": {},
   "source": [
    "First attempt"
   ]
  },
  {
   "cell_type": "code",
   "execution_count": 16,
   "metadata": {},
   "outputs": [
    {
     "data": {
      "text/plain": [
       "majority_element (generic function with 1 method)"
      ]
     },
     "execution_count": 16,
     "metadata": {},
     "output_type": "execute_result"
    }
   ],
   "source": [
    "function majority_element(l)\n",
    "    \n",
    "    u = unique(l)\n",
    "    n = -1\n",
    "    \n",
    "    for i in u\n",
    "        c = count(x-> x == i,l)\n",
    "        if c > length(l)/2\n",
    "            n = i\n",
    "        end\n",
    "    end\n",
    "    \n",
    "    return n\n",
    "end\n",
    "    "
   ]
  },
  {
   "cell_type": "markdown",
   "metadata": {},
   "source": [
    "Second better moores voting algorithm"
   ]
  },
  {
   "cell_type": "code",
   "execution_count": 46,
   "metadata": {},
   "outputs": [
    {
     "name": "stderr",
     "output_type": "stream",
     "text": [
      "WARNING: Method definition moores(Any) in module Main at In[38]:3 overwritten at In[46]:3.\n"
     ]
    },
    {
     "data": {
      "text/plain": [
       "moores (generic function with 1 method)"
      ]
     },
     "execution_count": 46,
     "metadata": {},
     "output_type": "execute_result"
    }
   ],
   "source": [
    "function moores(l)\n",
    "    \n",
    "    m , c  = 0, 0\n",
    "    \n",
    "    for x in l\n",
    "        if c == 0\n",
    "            m = x\n",
    "            c = 1\n",
    "        elseif m == x\n",
    "            c +=1\n",
    "        else\n",
    "            c -=1\n",
    "        end\n",
    "    end\n",
    "    \n",
    "    #now we must check if it is over 50%\n",
    "    c = count(x-> x == m,l)\n",
    "    #Return m only if it over half, else -1\n",
    "    c > length(l)/2 ? m : -1\n",
    "    \n",
    "end\n",
    "            "
   ]
  },
  {
   "cell_type": "code",
   "execution_count": null,
   "metadata": {},
   "outputs": [],
   "source": [
    "lol = [readdlm(IOBuffer(i),Int) for i in readlines(\"data/rosalind_maj.txt\")]\n",
    "lol = lol[2:end]\n",
    "results1 = @time [ moores(i) for i in lol];"
   ]
  },
  {
   "cell_type": "code",
   "execution_count": 53,
   "metadata": {},
   "outputs": [
    {
     "data": {
      "text/plain": [
       "true"
      ]
     },
     "execution_count": 53,
     "metadata": {},
     "output_type": "execute_result"
    }
   ],
   "source": [
    "moores(lol[1]) == majority_element(lol[1])"
   ]
  },
  {
   "cell_type": "code",
   "execution_count": 34,
   "metadata": {},
   "outputs": [
    {
     "name": "stderr",
     "output_type": "stream",
     "text": [
      "\u001b[1m\u001b[34mINFO: Precompiling module ProfileView.\n",
      "\u001b[0m\u001b[1m\u001b[34mINFO: Precompiling module ProfileViewSVG.\n",
      "\u001b[0m"
     ]
    }
   ],
   "source": [
    "using BenchmarkTools,ProfileView"
   ]
  },
  {
   "cell_type": "code",
   "execution_count": 50,
   "metadata": {},
   "outputs": [
    {
     "data": {
      "text/plain": [
       "BenchmarkTools.Trial: \n",
       "  memory estimate:  601.86 KiB\n",
       "  allocs estimate:  38519\n",
       "  --------------\n",
       "  minimum time:     1.084 ms (0.00% GC)\n",
       "  median time:      1.130 ms (0.00% GC)\n",
       "  mean time:        1.211 ms (2.45% GC)\n",
       "  maximum time:     3.964 ms (64.14% GC)\n",
       "  --------------\n",
       "  samples:          4090\n",
       "  evals/sample:     1\n",
       "  time tolerance:   5.00%\n",
       "  memory tolerance: 1.00%"
      ]
     },
     "execution_count": 50,
     "metadata": {},
     "output_type": "execute_result"
    }
   ],
   "source": [
    "@benchmark moores(lol[1])"
   ]
  },
  {
   "cell_type": "code",
   "execution_count": 51,
   "metadata": {},
   "outputs": [
    {
     "data": {
      "text/plain": [
       "BenchmarkTools.Trial: \n",
       "  memory estimate:  32.01 MiB\n",
       "  allocs estimate:  2096601\n",
       "  --------------\n",
       "  minimum time:     103.466 ms (1.00% GC)\n",
       "  median time:      111.429 ms (1.35% GC)\n",
       "  mean time:        116.899 ms (1.55% GC)\n",
       "  maximum time:     144.822 ms (2.93% GC)\n",
       "  --------------\n",
       "  samples:          43\n",
       "  evals/sample:     1\n",
       "  time tolerance:   5.00%\n",
       "  memory tolerance: 1.00%"
      ]
     },
     "execution_count": 51,
     "metadata": {},
     "output_type": "execute_result"
    }
   ],
   "source": [
    "@benchmark majority_element(lol[1])"
   ]
  }
 ],
 "metadata": {
  "kernelspec": {
   "display_name": "Julia 0.5.1",
   "language": "julia",
   "name": "julia-0.5"
  },
  "language_info": {
   "file_extension": ".jl",
   "mimetype": "application/julia",
   "name": "julia",
   "version": "0.5.1"
  }
 },
 "nbformat": 4,
 "nbformat_minor": 2
}
