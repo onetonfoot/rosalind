{
 "cells": [
  {
   "cell_type": "code",
   "execution_count": 297,
   "metadata": {},
   "outputs": [
    {
     "data": {
      "text/plain": [
       "3-element Array{Int64,1}:\n",
       " -5\n",
       " 11\n",
       " 12"
      ]
     },
     "execution_count": 297,
     "metadata": {},
     "output_type": "execute_result"
    }
   ],
   "source": [
    "string_list = readlines(\"data/test.txt\")\n",
    "\n",
    "a_len = readdlm(IOBuffer(string_list[1]),Int)\n",
    "a = readdlm(IOBuffer(string_list[2]),Int)\n",
    "a = a[:]\n",
    "\n",
    "b_len = readdlm(IOBuffer(string_list[3]),Int)\n",
    "b = readdlm(IOBuffer(string_list[4]),Int)\n",
    "b = b[:]"
   ]
  },
  {
   "cell_type": "code",
   "execution_count": 298,
   "metadata": {},
   "outputs": [
    {
     "name": "stderr",
     "output_type": "stream",
     "text": [
      "WARNING: Method definition merge_sort(Any, Any) in module Main at In[281]:3 overwritten at In[298]:3.\n"
     ]
    },
    {
     "data": {
      "text/plain": [
       "merge_sort (generic function with 1 method)"
      ]
     },
     "execution_count": 298,
     "metadata": {},
     "output_type": "execute_result"
    }
   ],
   "source": [
    "function merge_sort(l1,l2)\n",
    "    \n",
    "    sorted = []\n",
    "    a = copy(l1)\n",
    "    b = copy(l2)\n",
    "    \n",
    "    \n",
    "    while  length(a) > 0 && length(b) > 0\n",
    "        if a[1] < b[1]\n",
    "            push!(sorted,shift!(a))\n",
    "        else\n",
    "            push!(sorted,shift!(b))\n",
    "        end\n",
    "    end\n",
    "    \n",
    "    return vcat(sorted,a,b)\n",
    "end"
   ]
  },
  {
   "cell_type": "code",
   "execution_count": 303,
   "metadata": {},
   "outputs": [
    {
     "data": {
      "text/plain": [
       "7-element Array{Any,1}:\n",
       " -5\n",
       "  2\n",
       "  4\n",
       " 10\n",
       " 11\n",
       " 12\n",
       " 18"
      ]
     },
     "execution_count": 303,
     "metadata": {},
     "output_type": "execute_result"
    }
   ],
   "source": [
    "merge_sort(a,b)"
   ]
  }
 ],
 "metadata": {
  "kernelspec": {
   "display_name": "Julia 0.5.1",
   "language": "julia",
   "name": "julia-0.5"
  },
  "language_info": {
   "file_extension": ".jl",
   "mimetype": "application/julia",
   "name": "julia",
   "version": "0.5.1"
  }
 },
 "nbformat": 4,
 "nbformat_minor": 2
}
