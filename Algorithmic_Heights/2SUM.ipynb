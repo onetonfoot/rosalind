{
 "cells": [
  {
   "cell_type": "code",
   "execution_count": 64,
   "metadata": {},
   "outputs": [
    {
     "data": {
      "text/plain": [
       "12-element Array{Array{Int64,2},1}:\n",
       " [7126 -6355 … -4535 4235]  \n",
       " [-1684 5610 … 146 284]     \n",
       " [6320 7629 … 1533 -2764]   \n",
       " [-5862 7874 … 2291 -7852]  \n",
       " [5254 3263 … 6506 2187]    \n",
       " [-1021 -7685 … -7286 -5641]\n",
       " [-4596 7664 … -4923 -1531] \n",
       " [-2421 -111 … 6111 -8259]  \n",
       " [5969 -4597 … -207 -5891]  \n",
       " [-177 -57 … -8619 6776]    \n",
       " [-2568 -7699 … 6195 231]   \n",
       " [9807 -580 … -4017 7301]   "
      ]
     },
     "execution_count": 64,
     "metadata": {},
     "output_type": "execute_result"
    }
   ],
   "source": [
    "str_list= readlines(\"data/rosalind_2sum.txt\")\n",
    "arrays = [readdlm(IOBuffer(i),Int) for i in drop(str_list,1)]"
   ]
  },
  {
   "cell_type": "code",
   "execution_count": 68,
   "metadata": {},
   "outputs": [
    {
     "name": "stderr",
     "output_type": "stream",
     "text": [
      "WARNING: Method definition _2SUM(Any) in module Main at In[65]:4 overwritten at In[68]:4.\n"
     ]
    },
    {
     "data": {
      "text/plain": [
       "_2SUM (generic function with 1 method)"
      ]
     },
     "execution_count": 68,
     "metadata": {},
     "output_type": "execute_result"
    }
   ],
   "source": [
    "function _2SUM(l)\n",
    "    \n",
    "    #Dic to store location, has a O(n) lookup\n",
    "    l_dic = Dict()\n",
    "    matching = []\n",
    "    \n",
    "    for (a,b) in enumerate(l)\n",
    "        l_dic[b] = a\n",
    "    end\n",
    "    \n",
    "    \n",
    "    for e in l \n",
    "        if haskey(l_dic, -e )      \n",
    "            n = l[end]\n",
    "            p = l_dic[e]\n",
    "            q = l_dic[-e]\n",
    "            if 1 <= p < q <= n \n",
    "            push!(matching,(l_dic[p],l_dic[-p]))\n",
    "            end\n",
    "        end\n",
    "    end\n",
    "    \n",
    "    if !isempty(matching) #if it's not empty\n",
    "        return matching[1]\n",
    "    else\n",
    "        return -1\n",
    "    end\n",
    "end"
   ]
  },
  {
   "cell_type": "code",
   "execution_count": 69,
   "metadata": {},
   "outputs": [
    {
     "ename": "LoadError",
     "evalue": "KeyError: key 220 not found",
     "output_type": "error",
     "traceback": [
      "KeyError: key 220 not found",
      "",
      " in getindex at ./dict.jl:697 [inlined]",
      " in _2SUM(::Array{Int64,2}) at ./In[68]:18",
      " in collect_to!(::Array{String,1}, ::Base.Generator{Array{Array{Int64,2},1},##39#40}, ::Int64, ::Int64) at ./array.jl:340",
      " in collect_to_with_first!(::Array{String,1}, ::String, ::Base.Generator{Array{Array{Int64,2},1},##39#40}, ::Int64) at ./array.jl:327",
      " in collect(::Base.Generator{Array{Array{Int64,2},1},##39#40}) at ./array.jl:308"
     ]
    }
   ],
   "source": [
    "results = [join(_2SUM(i),\" \") for i in arrays]\n",
    "write(\"results/2sum.txt\",join(results,\"\\n\"))"
   ]
  },
  {
   "cell_type": "code",
   "execution_count": 67,
   "metadata": {},
   "outputs": [
    {
     "data": {
      "text/plain": [
       "12-element Array{String,1}:\n",
       " \"-1\"       \n",
       " \"6378 1089\"\n",
       " \"-1\"       \n",
       " \"-1\"       \n",
       " \"18 9031\"  \n",
       " \"-1\"       \n",
       " \"-1\"       \n",
       " \"-1\"       \n",
       " \"-1\"       \n",
       " \"10 4002\"  \n",
       " \"-1\"       \n",
       " \"-1\"       "
      ]
     },
     "execution_count": 67,
     "metadata": {},
     "output_type": "execute_result"
    }
   ],
   "source": [
    "results"
   ]
  },
  {
   "cell_type": "code",
   "execution_count": 38,
   "metadata": {},
   "outputs": [
    {
     "data": {
      "text/plain": [
       "\"3258 6305\""
      ]
     },
     "execution_count": 38,
     "metadata": {},
     "output_type": "execute_result"
    }
   ],
   "source": [
    "results[3]"
   ]
  },
  {
   "cell_type": "code",
   "execution_count": 46,
   "metadata": {},
   "outputs": [
    {
     "data": {
      "text/plain": [
       "404"
      ]
     },
     "execution_count": 46,
     "metadata": {},
     "output_type": "execute_result"
    }
   ],
   "source": [
    "arrays[5][2]"
   ]
  },
  {
   "cell_type": "code",
   "execution_count": 47,
   "metadata": {},
   "outputs": [
    {
     "data": {
      "text/plain": [
       "-404"
      ]
     },
     "execution_count": 47,
     "metadata": {},
     "output_type": "execute_result"
    }
   ],
   "source": [
    "arrays[5][3884]"
   ]
  }
 ],
 "metadata": {
  "kernelspec": {
   "display_name": "Julia 0.5.1",
   "language": "julia",
   "name": "julia-0.5"
  },
  "language_info": {
   "file_extension": ".jl",
   "mimetype": "application/julia",
   "name": "julia",
   "version": "0.5.1"
  }
 },
 "nbformat": 4,
 "nbformat_minor": 2
}
