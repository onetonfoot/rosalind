{
 "cells": [
  {
   "cell_type": "code",
   "execution_count": 18,
   "metadata": {},
   "outputs": [
    {
     "name": "stderr",
     "output_type": "stream",
     "text": [
      "WARNING: Method definition binary_search(Any, Any) in module Main at In[14]:2 overwritten at In[18]:2.\n"
     ]
    },
    {
     "data": {
      "text/plain": [
       "binary_search (generic function with 1 method)"
      ]
     },
     "execution_count": 18,
     "metadata": {},
     "output_type": "execute_result"
    }
   ],
   "source": [
    "function binary_search(list, value)\n",
    "    low = 1\n",
    "    high = length(list)\n",
    "    \n",
    "    #Imaginary array bounds can't cross over\n",
    "    while low <= high\n",
    "        \n",
    "        #Index for middle of bounds\n",
    "        mid = round(Int, (low+high)/2)\n",
    "        #Move the top bound down\n",
    "        if list[mid] > value \n",
    "          high = mid-1 \n",
    "        #Moves the bottom bound up\n",
    "        elseif list[mid] < value \n",
    "          low = mid+1\n",
    "        #If it's not smaller or larger it must be equal\n",
    "        else \n",
    "          return mid\n",
    "        end\n",
    "    end     \n",
    "      return -1\n",
    "end"
   ]
  },
  {
   "cell_type": "code",
   "execution_count": 30,
   "metadata": {},
   "outputs": [
    {
     "data": {
      "text/plain": [
       "1×8344 Array{Int64,2}:\n",
       " -2982  -6081  5975  -3405  6514  1648  …  6785  7177  -2874  -1742  1962"
      ]
     },
     "execution_count": 30,
     "metadata": {},
     "output_type": "execute_result"
    }
   ],
   "source": [
    "string_list = readlines(\"data/rosalind_bins.txt\")\n",
    "l1 = readdlm(IOBuffer(string_list[3]),Int)\n",
    "l2 = readdlm(IOBuffer(string_list[4]),Int)"
   ]
  },
  {
   "cell_type": "code",
   "execution_count": 32,
   "metadata": {},
   "outputs": [
    {
     "data": {
      "text/plain": [
       "1×8344 Array{Int64,2}:\n",
       " 3038  1768  6952  2877  7216  5067  …  2473  7333  7517  3084  3586  5202"
      ]
     },
     "execution_count": 32,
     "metadata": {},
     "output_type": "execute_result"
    }
   ],
   "source": [
    "results = [binary_search(l1,i) for i in l2]"
   ]
  },
  {
   "cell_type": "code",
   "execution_count": 35,
   "metadata": {},
   "outputs": [
    {
     "data": {
      "text/plain": [
       "39661"
      ]
     },
     "execution_count": 35,
     "metadata": {},
     "output_type": "execute_result"
    }
   ],
   "source": [
    "#print(join(results,\" \"))\n",
    "write(\"results/binary_search.txt\",join(results,\" \"))"
   ]
  }
 ],
 "metadata": {
  "kernelspec": {
   "display_name": "Julia 0.5.1",
   "language": "julia",
   "name": "julia-0.5"
  },
  "language_info": {
   "file_extension": ".jl",
   "mimetype": "application/julia",
   "name": "julia",
   "version": "0.5.1"
  }
 },
 "nbformat": 4,
 "nbformat_minor": 2
}
