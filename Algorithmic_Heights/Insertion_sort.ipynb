{
 "cells": [
  {
   "cell_type": "code",
   "execution_count": 214,
   "metadata": {},
   "outputs": [
    {
     "name": "stderr",
     "output_type": "stream",
     "text": [
      "WARNING: Method definition insertion_sort(Any) in module Main at In[213]:3 overwritten at In[214]:3.\n"
     ]
    },
    {
     "data": {
      "text/plain": [
       "insertion_sort (generic function with 1 method)"
      ]
     },
     "execution_count": 214,
     "metadata": {},
     "output_type": "execute_result"
    }
   ],
   "source": [
    "function insertion_sort(l)\n",
    "     \n",
    "    A = copy(l)\n",
    "    n = 0\n",
    "  \n",
    "    for i in 2:length(A)\n",
    "        \n",
    "        valueToInsert = A[i] \n",
    "        insertPosition = i\n",
    "        \n",
    "        while insertPosition > 1  &&  A[insertPosition-1] > valueToInsert\n",
    "            #Swap the elements\n",
    "             n += 1       \n",
    "            A[insertPosition] = A[insertPosition-1]\n",
    "            insertPosition = insertPosition -1\n",
    "            #print(n,\" \")\n",
    "    \n",
    "    \n",
    "             \n",
    "        \n",
    "           \n",
    "        end\n",
    "        \n",
    "        A[insertPosition] = valueToInsert\n",
    "    end\n",
    "    \n",
    "    \n",
    "    \n",
    "    return  n\n",
    "end"
   ]
  },
  {
   "cell_type": "code",
   "execution_count": 222,
   "metadata": {},
   "outputs": [
    {
     "data": {
      "text/plain": [
       "1×959 Array{Int64,2}:\n",
       " -86870  72637  9984  27751  72529  53926  …  -88892  71875  -75620  -83977"
      ]
     },
     "execution_count": 222,
     "metadata": {},
     "output_type": "execute_result"
    }
   ],
   "source": [
    "str_list = readlines(\"data/rosalind_ins.txt\")\n",
    "list = readdlm(IOBuffer(str_list[2]),Int)"
   ]
  },
  {
   "cell_type": "code",
   "execution_count": 221,
   "metadata": {},
   "outputs": [
    {
     "data": {
      "text/plain": [
       "235207"
      ]
     },
     "execution_count": 221,
     "metadata": {},
     "output_type": "execute_result"
    }
   ],
   "source": [
    "insertion_sort(list)"
   ]
  },
  {
   "cell_type": "code",
   "execution_count": 217,
   "metadata": {},
   "outputs": [
    {
     "data": {
      "text/plain": [
       "1×6 Array{Int64,2}:\n",
       " 6  10  4  5  1  2"
      ]
     },
     "execution_count": 217,
     "metadata": {},
     "output_type": "execute_result"
    }
   ],
   "source": [
    "test = [6 10 4 5 1 2]"
   ]
  },
  {
   "cell_type": "code",
   "execution_count": 219,
   "metadata": {},
   "outputs": [
    {
     "data": {
      "text/plain": [
       "12"
      ]
     },
     "execution_count": 219,
     "metadata": {},
     "output_type": "execute_result"
    }
   ],
   "source": [
    "insertion_sort(test)"
   ]
  },
  {
   "cell_type": "code",
   "execution_count": 148,
   "metadata": {},
   "outputs": [
    {
     "data": {
      "text/plain": [
       "0"
      ]
     },
     "execution_count": 148,
     "metadata": {},
     "output_type": "execute_result"
    }
   ],
   "source": [
    "n"
   ]
  }
 ],
 "metadata": {
  "kernelspec": {
   "display_name": "Julia 0.5.1",
   "language": "julia",
   "name": "julia-0.5"
  },
  "language_info": {
   "file_extension": ".jl",
   "mimetype": "application/julia",
   "name": "julia",
   "version": "0.5.1"
  }
 },
 "nbformat": 4,
 "nbformat_minor": 2
}
