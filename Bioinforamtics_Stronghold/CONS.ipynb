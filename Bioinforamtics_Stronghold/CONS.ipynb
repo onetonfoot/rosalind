{
 "cells": [
  {
   "cell_type": "code",
   "execution_count": 2,
   "metadata": {
    "collapsed": true
   },
   "outputs": [],
   "source": [
    "run(`samtools faidx /home/dom/Julia/Rosalind/Files/test.fa`)"
   ]
  },
  {
   "cell_type": "code",
   "execution_count": 169,
   "metadata": {
    "collapsed": false
   },
   "outputs": [
    {
     "name": "stdout",
     "output_type": "stream",
     "text": [
      "Any[ATCCAGCT,GGGCAACT,ATGGATCT,AAGCAACC,TTGGAACT,ATGCCATT,ATGGCACT]"
     ]
    }
   ],
   "source": [
    "using Bio.Seq\n",
    "reader = open(FASTAReader,\"/home/dom/Julia/Rosalind/Files/test.fa\",index=\"/home/dom/Julia/Rosalind/Files/test.fa.fai\")\n",
    "seq_list = []\n",
    "for record in reader\n",
    "    push!(seq_list,sequence(record))\n",
    "end"
   ]
  },
  {
   "cell_type": "code",
   "execution_count": 41,
   "metadata": {
    "collapsed": false
   },
   "outputs": [],
   "source": [
    "# The number of lines of your final array\n",
    "numrows = length(seq_list[1])\n",
    "# Create an empty array of the same type that you want, with 3 rows and 0 columns:\n",
    "a = Array(Char, numrows, 0)\n",
    "#Use for loop to add to array\n",
    "for i in 1:length(seq_list)\n",
    "    #Create a char array\n",
    "    b = collect(convert(String,seq_list[i]))\n",
    "    # Create the array you want to concatenate with a\n",
    "    a = hcat(a, b)\n",
    "end"
   ]
  },
  {
   "cell_type": "code",
   "execution_count": 90,
   "metadata": {
    "collapsed": false
   },
   "outputs": [
    {
     "data": {
      "text/plain": [
       "8×7 Array{Char,2}:\n",
       " 'A'  'G'  'A'  'A'  'T'  'A'  'A'\n",
       " 'T'  'G'  'T'  'A'  'T'  'T'  'T'\n",
       " 'C'  'G'  'G'  'G'  'G'  'G'  'G'\n",
       " 'C'  'C'  'G'  'C'  'G'  'C'  'G'\n",
       " 'A'  'A'  'A'  'A'  'A'  'C'  'C'\n",
       " 'G'  'A'  'T'  'A'  'A'  'A'  'A'\n",
       " 'C'  'C'  'C'  'C'  'C'  'T'  'C'\n",
       " 'T'  'T'  'T'  'C'  'T'  'T'  'T'"
      ]
     },
     "execution_count": 90,
     "metadata": {},
     "output_type": "execute_result"
    }
   ],
   "source": [
    "#Note that individual seqeunces are in collums \n",
    "a"
   ]
  },
  {
   "cell_type": "code",
   "execution_count": 111,
   "metadata": {
    "collapsed": false
   },
   "outputs": [],
   "source": [
    "\n",
    "ACGT = Array(Int,4,length(a[:,1]))\n",
    "\n",
    "#each row count nuclotide number\n",
    "for i in 1:length(a[:,1])\n",
    "    ACGT[1,i] = count(a -> a == 'A',a[i,:])\n",
    "    ACGT[2,i] = count(b -> b == 'C',a[i,:])\n",
    "    ACGT[3,i] = count(c -> c == 'G',a[i,:])\n",
    "    ACGT[4,i] = count(d -> d == 'T',a[i,:])\n",
    "  \n",
    "end\n"
   ]
  },
  {
   "cell_type": "code",
   "execution_count": 129,
   "metadata": {
    "collapsed": false
   },
   "outputs": [],
   "source": [
    "con_array = []\n",
    "for i in 1:length(ACGT[1,:])\n",
    "    if indmax(ACGT[:,i]) == 1\n",
    "        push!(con_array,'A')\n",
    "    elseif indmax(ACGT[:,i]) == 2\n",
    "        push!(con_array,'C')\n",
    "    elseif indmax(ACGT[:,i]) == 3\n",
    "        push!(con_array,'G')\n",
    "     elseif indmax(ACGT[:,i]) == 4\n",
    "        push!(con_array,'T')\n",
    "    end         \n",
    "end\n"
   ]
  },
  {
   "cell_type": "code",
   "execution_count": 198,
   "metadata": {
    "collapsed": false
   },
   "outputs": [
    {
     "name": "stdout",
     "output_type": "stream",
     "text": [
      "ATGCAACT\n",
      "A: 5 1 0 0 5 5 0 0\n",
      "C: 0 0 1 4 2 0 6 1\n",
      "G: 1 1 6 3 0 1 0 0\n",
      "T: 1 5 0 0 0 1 1 6\n",
      "ATGCAACT\n",
      "A: 5 1 0 0 5 5 0 0\n",
      "C: 0 0 1 4 2 0 6 1\n",
      "G: 1 1 6 3 0 1 0 0\n",
      "T: 1 5 0 0 0 1 1 6\n"
     ]
    }
   ],
   "source": [
    "\n",
    "#Formating\n",
    "output = []\n",
    "\n",
    "print(join(con_array),\"\\n\")\n",
    "print(\"A: \",(join(ACGT[1,:],\" \")),\"\\n\")\n",
    "print(\"C: \",(join(ACGT[2,:],\" \")),\"\\n\")\n",
    "print(\"G: \",(join(ACGT[3,:],\" \")),\"\\n\")\n",
    "print(\"T: \",(join(ACGT[4,:],\" \")),\"\\n\")\n",
    "\n",
    "\n",
    "push!(output,join(con_array)\"\\n\",)\n",
    "push!(output,(\"A: \"*(join(ACGT[1,:],\" \")*\"\\n\")))\n",
    "push!(output,(\"C: \"*(join(ACGT[2,:],\" \")*\"\\n\")))\n",
    "push!(output,(\"G: \"*(join(ACGT[3,:],\" \")*\"\\n\")))\n",
    "push!(output,(\"T: \"*(join(ACGT[4,:],\" \")*\"\\n\")))\n",
    "\n",
    "final_str = join(output)"
   ]
  },
  {
   "cell_type": "code",
   "execution_count": 202,
   "metadata": {
    "collapsed": false
   },
   "outputs": [
    {
     "name": "stderr",
     "output_type": "stream",
     "text": [
      "WARNING: Method definition consensus(Any) in module Main at In[171]:2 overwritten at In[202]:2.\n"
     ]
    },
    {
     "data": {
      "text/plain": [
       "consensus (generic function with 1 method)"
      ]
     },
     "execution_count": 202,
     "metadata": {},
     "output_type": "execute_result"
    }
   ],
   "source": [
    "function consensus(seq_list)\n",
    "    numrows = length(seq_list[1])\n",
    "    # Create an empty array of\n",
    "    a = Array(Char, numrows, 0)\n",
    "    #Use for loop to add strings to array\n",
    "    for i in 1:length(seq_list)\n",
    "        #Create a char array\n",
    "        b = collect(convert(String,seq_list[i]))\n",
    "        # Create the array you want to concatenate with a\n",
    "        a = hcat(a, b)\n",
    "    end\n",
    "    \n",
    "    #Create our ACGT array\n",
    "    ACGT = Array(Int,4,length(a[:,1]))\n",
    "\n",
    "    #Each row sum nuclotide number and add to ACGT array\n",
    "    for i in 1:length(a[:,1])\n",
    "        ACGT[1,i] = count(a -> a == 'A',a[i,:])\n",
    "        ACGT[2,i] = count(b -> b == 'C',a[i,:])\n",
    "        ACGT[3,i] = count(c -> c == 'G',a[i,:])\n",
    "        ACGT[4,i] = count(d -> d == 'T',a[i,:])\n",
    "\n",
    "    end\n",
    "    \n",
    "    #Create out consensus array\n",
    "    con_array = []\n",
    "    for i in 1:length(ACGT[1,:])\n",
    "        if indmax(ACGT[:,i]) == 1\n",
    "            push!(con_array,'A')\n",
    "        elseif indmax(ACGT[:,i]) == 2\n",
    "            push!(con_array,'C')\n",
    "        elseif indmax(ACGT[:,i]) == 3\n",
    "            push!(con_array,'G')\n",
    "         elseif indmax(ACGT[:,i]) == 4\n",
    "            push!(con_array,'T')\n",
    "        end         \n",
    "    end\n",
    "\n",
    "    \n",
    "    \n",
    "    output = []\n",
    "    push!(output,join(con_array)\"\\n\",)\n",
    "    push!(output,(\"A: \"*(join(ACGT[1,:],\" \")*\"\\n\")))\n",
    "    push!(output,(\"C: \"*(join(ACGT[2,:],\" \")*\"\\n\")))\n",
    "    push!(output,(\"G: \"*(join(ACGT[3,:],\" \")*\"\\n\")))\n",
    "    push!(output,(\"T: \"*(join(ACGT[4,:],\" \")*\"\\n\")))\n",
    "\n",
    "    return final_str = join(output)\n",
    "end\n",
    "\n",
    "\n"
   ]
  },
  {
   "cell_type": "code",
   "execution_count": 206,
   "metadata": {
    "collapsed": false
   },
   "outputs": [
    {
     "name": "stdout",
     "output_type": "stream",
     "text": [
      "CCCCACAAAACCCCGAGCTCTCTCACGCCGCTGTTCAAGGTTTACTAACGAATGACGAGGCAGCAAAAGAGATATGGTCATAGTCAAACCATCCACCTAAGACAACTACTACACTTCGAAGGTGCCAAAAACAAACGGCAAACTGGCCTAATACGAGAAGACCATAATAAGCTTGAGCCTTCTCATGGACACTCTAAGCGCTTCTCCACTTTTCCCCAATAAGTAACGCACTCTCGTTTAGTTATCAAGACCAATTTGAGACCGAGGACATTCTATGCTCCATACTCGATGTCGGCAAGGGGAGACAACCCGCAATAAAGGGCCTGAGCTTGAACGACAACAAAACCAGACAGTAAACAACCACGAGTTATGGTATGCCAGTAATCTTCTCAATCGAAAGCGACGAGGTGAGCAGGTATAAAAAATTTACTTGGTAAATAGAGGACACCATCCACAGTAAGGCAAAGCCGAACAGGATAGACCGGCCTGACAAGAGCTCGGCTCCGGCGTTGGTCACGAAACGGAAGGATAAAAACGGCTGTCGTGGCAAGCGAGAAATTCGCAAAACAACAGTTCGCGACTGGCCGCACCTGATTACATGTGTAAAAGCGACGTTGAAGTACGCAATCCCCAGACCAGCAATAAAGACAGCAGTAGAGAAGAGGAGAATCTCAGGACAACACGACTGAAATGCGTGGCAAGAATGCATAATGGCTGGTTCAACATTTACAATTGATACTATCATTTATCACCTACATAGTATACGGTCTAGGACGTATACCGCGGCGCTCACCCGATAGAACATCAAACGCGGTAATACCAAATGCCTTGACTATATAGCGAAAGAATAAAAGGTCAACCGAAGCGATGGAGGCAGTAAAAGACCCATACTGAGGGGGC\n",
      "A: 2 1 0 2 3 1 4 4 4 4 3 2 1 2 2 7 2 2 3 1 0 2 1 2 5 1 3 1 3 3 1 1 0 2 1 3 4 3 2 1 2 3 3 5 3 2 6 4 1 2 5 3 0 2 4 2 2 3 1 2 1 4 2 1 4 4 4 3 2 3 2 5 1 4 1 2 2 0 0 4 3 3 1 1 0 4 5 4 3 1 5 1 0 1 5 2 2 0 4 3 1 3 1 4 4 3 4 4 1 1 3 2 5 2 2 3 2 2 4 5 3 2 2 2 2 1 4 3 4 4 3 1 3 3 4 3 0 3 1 4 3 4 1 2 1 2 0 2 2 5 4 2 4 2 3 3 0 3 5 2 5 1 2 3 0 4 5 2 4 3 1 1 3 2 1 5 2 1 2 2 1 3 2 2 4 1 1 2 3 2 6 1 3 1 2 3 4 2 2 3 0 3 1 2 1 1 1 3 3 2 2 3 2 0 2 1 1 4 3 1 3 3 2 3 3 4 2 2 3 4 0 1 1 3 2 1 3 3 1 4 2 1 3 4 1 2 4 5 2 3 2 3 4 4 1 3 0 3 3 2 4 1 1 2 5 2 2 4 2 3 0 2 0 2 4 2 3 3 2 0 3 3 3 3 2 2 2 0 4 2 4 2 3 2 1 2 4 3 3 1 0 1 4 3 4 2 5 4 1 0 2 1 3 4 3 3 4 6 4 1 1 2 1 3 1 0 4 2 2 2 2 2 5 5 2 1 4 2 6 4 1 3 3 4 3 2 1 3 2 5 2 5 3 0 4 3 4 3 3 3 1 1 4 1 2 3 2 1 1 3 2 2 3 1 3 3 1 3 2 3 3 1 3 7 0 2 2 1 1 0 2 4 3 2 2 1 4 5 3 2 1 2 3 2 0 5 2 1 2 3 3 3 2 4 2 2 1 4 2 4 4 4 3 5 5 3 1 3 4 2 3 2 2 2 4 3 4 3 1 3 1 4 1 2 4 2 4 0 2 4 3 2 1 4 4 5 3 1 5 4 2 3 0 3 4 4 3 2 2 2 3 4 3 4 3 1 4 0 3 1 4 2 1 1 2 3 1 2 2 3 2 3 3 3 5 2 1 2 2 1 2 1 3 1 2 2 2 1 0 1 2 2 1 3 3 3 2 0 3 4 5 1 2 2 4 5 1 2 3 3 3 3 6 6 3 2 2 1 2 1 2 2 4 0 2 2 1 2 3 4 0 3 2 3 0 4 4 4 2 0 4 3 1 5 4 3 4 2 4 7 3 3 3 1 0 2 1 1 2 3 1 2 3 1 1 2 2 1 5 3 2 0 3 5 2 2 4 2 4 2 2 3 3 1 5 3 5 5 3 1 2 4 2 1 3 1 2 3 4 3 1 3 2 2 2 3 5 2 1 1 1 1 3 2 6 2 3 4 2 1 6 3 3 4 5 6 3 4 0 3 1 1 4 1 3 4 3 3 2 3 4 1 4 1 2 4 1 4 5 1 3 2 3 4 3 2 3 1 4 3 1 4 2 4 4 2 3 2 5 3 4 3 2 2 2 2 4 2 2 3 4 3 4 3 2 3 3 5 1 5 5 3 2 1 2 2 2 3 1 0 1 4 5 2 3 3 2 2 3 2 4 3 2 2 0 3 1 3 0 1 3 2 1 4 2 3 2 5 2 1 3 1 2 1 5 2 5 3 3 3 0 4 3 4 1 1 1 2 2 2 4 3 1 5 2 0 3 4 3 3 2 1 3 2 2 1 1 1 2 2 2 5 1 1 1 2 3 1 3 2 4 4 1 4 3 2 3 5 5 2 1 1 3 2 3 5 3 2 3 0 1 4 5 4 0 1 3 2 1 1 1 4 3 2 3 2 3 3 4 1 2 2 4 3 6 2 4 4 3 4 4 4 3 0 1 1 2 4 5 3 2 3 4 6 2 3 3 4 1 2 1 3 1 3 2 4 3 1 4 5 4 4 1 5 1 2 1 4 3 4 0 3 2 3 2 1 0 2 2 3\n",
      "C: 4 3 4 4 3 5 2 2 1 2 4 5 3 5 0 0 3 3 1 3 4 3 4 4 2 5 1 5 4 0 4 2 2 1 2 5 1 2 3 3 2 2 3 2 4 1 3 2 3 0 1 2 2 1 2 3 2 1 3 2 4 1 3 5 1 1 2 2 0 2 1 2 0 4 1 2 2 2 4 2 1 2 1 2 5 2 3 2 5 4 1 3 4 3 0 3 5 1 1 3 2 3 4 1 2 4 1 2 5 0 2 4 1 4 2 1 3 2 4 2 1 3 2 3 4 6 3 2 3 3 3 4 2 3 3 4 1 1 5 1 2 3 3 2 3 1 5 4 2 1 1 3 2 5 3 3 2 3 1 2 2 4 5 2 2 1 1 2 1 2 2 3 2 2 0 2 1 4 4 1 2 4 2 4 2 1 1 2 1 5 1 3 0 3 2 3 2 3 3 1 5 1 3 3 2 4 4 3 5 1 2 1 2 4 4 4 3 2 3 1 3 3 2 2 3 2 3 1 4 2 4 2 4 2 3 1 1 2 2 2 2 3 0 1 3 6 2 3 2 2 5 4 2 1 0 2 0 1 2 0 0 5 3 0 1 1 1 1 4 1 3 1 7 2 1 2 1 4 1 4 4 2 1 3 5 1 5 3 2 1 1 1 5 2 1 4 1 2 2 2 2 2 3 2 3 4 2 1 3 4 3 3 4 1 2 2 2 2 2 1 1 2 5 4 1 2 1 2 3 3 3 1 2 0 4 1 1 4 1 2 4 2 3 3 3 4 4 2 2 1 4 3 2 3 1 3 4 5 3 2 3 5 2 6 3 3 2 2 3 3 1 0 1 2 2 0 3 5 3 2 1 2 2 1 3 4 3 4 4 2 4 2 2 1 4 1 4 1 2 2 4 2 3 4 3 3 1 1 2 1 2 2 4 2 1 2 2 2 2 4 2 1 3 2 0 1 2 2 2 3 2 2 1 2 0 3 2 2 2 2 4 3 2 0 1 3 4 4 5 2 1 5 3 0 5 3 2 2 2 4 1 0 5 2 2 2 0 4 4 1 2 3 4 2 0 2 2 3 1 3 4 3 5 2 3 4 4 3 2 3 3 3 1 0 1 2 4 1 5 1 1 5 2 4 3 2 2 5 3 3 2 2 2 1 4 3 3 4 2 3 1 4 1 2 3 3 2 0 2 1 3 3 1 0 3 3 3 3 5 1 3 2 5 2 3 2 3 3 2 2 2 5 3 2 3 2 3 1 3 2 5 0 4 0 0 2 2 3 3 1 4 2 2 1 1 3 1 3 2 2 5 2 0 3 7 4 3 3 0 4 4 2 2 3 1 1 3 4 3 1 2 1 2 2 1 3 3 1 0 4 0 1 3 0 1 2 2 2 3 1 3 3 4 0 6 3 2 1 3 4 5 5 3 1 0 5 4 1 1 5 1 1 1 2 3 0 1 2 6 3 4 7 2 0 1 2 1 1 3 2 2 2 1 1 1 2 1 1 3 3 6 3 4 4 1 3 3 5 1 1 5 4 3 0 2 3 2 2 2 3 3 0 2 6 3 2 1 2 4 2 3 0 2 1 0 1 4 1 0 1 0 1 1 1 3 2 2 0 2 3 6 2 0 4 2 2 1 1 1 4 0 3 1 2 3 2 2 1 5 3 3 1 5 4 2 1 2 3 3 5 3 4 4 2 2 4 2 0 3 1 3 2 2 4 4 3 3 2 3 1 1 2 2 0 4 1 3 0 2 3 4 4 1 3 2 1 5 3 4 2 3 3 4 7 3 2 2 4 3 2 4 1 4 0 1 6 3 1 1 3 3 3 2 2 0 1 2 3 3 4 3 2 3 3 1 0 5 4 3 3 3 2 6 1 3 2 2 1 4 2 5 1 2 3 2 1 1 1 2 1 3 1 3 2 2 2 4 2 4 4 5 2 0 2 2 4 2 3 3 2 1 3 2 1 6 1 2 0 4 1 2 3 1 3 5 4 3 4 2 3 4 1 2 2 1 2 2 2 3 4\n",
      "G: 0 3 3 1 3 2 1 2 3 1 2 2 3 2 4 2 4 2 2 3 1 2 0 0 1 1 4 1 2 5 1 2 6 1 1 0 3 3 4 4 2 0 0 1 1 3 0 2 3 6 2 2 2 4 2 3 4 3 4 4 3 4 5 2 4 2 2 3 4 2 4 2 4 0 2 4 3 2 4 2 2 3 4 3 1 2 1 3 1 2 1 2 4 3 3 2 2 4 4 1 4 2 1 2 1 2 0 2 3 4 3 3 4 2 1 2 3 3 1 2 4 4 2 4 4 3 1 2 3 1 3 2 3 2 1 1 5 4 0 3 3 0 3 1 4 5 2 1 2 1 3 1 1 2 4 2 5 1 3 3 1 2 3 2 3 2 2 2 1 3 4 3 1 2 6 1 4 1 3 2 1 1 1 3 2 3 5 5 3 1 2 3 3 3 2 2 2 4 2 5 3 2 2 3 1 2 1 3 2 3 2 2 2 2 3 3 3 3 2 3 2 1 4 1 3 3 2 5 1 4 3 3 3 0 2 4 2 1 3 1 4 1 2 3 2 1 1 1 3 2 1 1 2 3 2 1 4 6 3 4 3 1 3 4 2 4 6 3 1 3 3 3 1 2 2 2 5 0 2 3 3 3 2 1 1 3 1 4 2 3 5 2 1 5 5 3 2 2 4 4 6 4 1 4 3 2 1 3 3 3 3 4 2 3 2 0 1 1 3 4 5 3 1 3 3 4 4 4 3 1 1 4 1 3 2 4 3 0 3 1 3 2 3 1 2 2 2 3 5 2 3 0 4 3 4 2 1 1 1 2 3 1 3 2 4 2 3 3 2 2 2 4 4 3 2 2 5 0 3 2 4 3 2 1 1 3 1 0 4 3 1 2 2 3 1 5 1 3 3 6 3 3 2 2 5 1 4 4 1 5 2 4 1 2 4 3 3 2 1 0 1 2 2 2 2 2 1 1 3 2 1 2 4 5 1 3 2 3 3 3 5 3 4 4 2 3 1 3 1 1 1 1 3 3 0 0 4 3 3 2 5 4 2 3 2 2 5 3 3 4 3 3 2 0 4 4 3 2 3 4 0 2 2 5 4 2 1 1 3 1 2 2 3 4 2 3 3 3 3 5 4 2 1 2 2 3 4 2 4 2 2 3 4 2 2 2 2 5 3 2 1 3 6 3 1 2 5 6 2 2 1 1 2 2 2 2 4 5 1 2 4 1 1 4 1 3 4 2 2 2 6 0 4 3 5 4 1 2 1 3 0 4 3 2 3 2 1 3 1 1 2 3 5 3 2 2 4 3 3 2 3 2 4 4 1 2 5 3 3 1 3 3 5 1 1 2 2 3 1 2 5 1 4 3 0 3 2 1 4 3 5 3 2 5 2 3 3 3 1 5 1 3 3 4 2 3 2 2 3 4 4 1 2 4 0 3 3 2 4 1 1 3 2 3 2 1 4 2 2 3 5 2 3 7 0 0 5 3 4 2 3 4 2 5 6 3 6 3 0 2 1 1 2 0 4 5 1 4 4 3 0 2 2 5 3 2 1 3 2 2 0 2 5 2 4 2 5 5 1 2 1 5 1 3 3 4 3 3 1 1 3 2 5 5 3 2 3 4 2 3 1 0 2 2 3 1 1 3 3 2 2 3 3 2 6 3 3 3 2 2 2 3 2 1 2 2 1 1 1 2 2 2 4 1 2 0 0 3 2 4 1 3 0 0 1 4 5 1 2 3 2 4 4 4 1 6 0 2 1 3 3 3 4 3 4 4 2 4 3 1 3 0 3 0 3 5 2 0 2 3 0 3 4 2 2 2 2 0 3 3 4 3 4 3 3 2 2 0 1 3 3 0 0 2 4 6 1 1 2 2 4 2 1 3 2 1 2 1 1 4 1 5 0 3 1 4 4 3 1 1 1 1 1 6 5 2 3 1 1 1 2 4 3 1 4 1 4 2 1 5 5 3 6 5 2 2 4 1 0 0 3 1 4 2 3 0 3 1 1 1 2 1 3 2 4 4 5 3 4 3\n",
      "T: 4 3 3 3 1 2 3 2 2 3 1 1 3 1 4 1 1 3 4 3 5 3 5 4 2 3 2 3 1 2 4 5 2 6 6 2 2 2 1 2 4 5 4 2 2 4 1 2 3 2 2 3 6 3 2 2 2 3 2 2 2 1 0 2 1 3 2 2 4 3 3 1 5 2 6 2 3 6 2 2 4 2 4 4 4 2 1 1 1 3 3 4 2 3 2 3 1 5 1 3 3 2 4 3 3 1 5 2 1 5 2 1 0 2 5 4 2 3 1 1 2 1 4 1 0 0 2 3 0 2 1 3 2 2 2 2 4 2 4 2 2 3 3 5 2 2 3 3 4 3 2 4 3 1 0 2 3 3 1 3 2 3 0 3 5 3 2 4 4 2 3 3 4 4 3 2 3 4 1 5 6 2 5 1 2 5 3 1 3 2 1 3 4 3 4 2 2 1 3 1 2 4 4 2 6 3 4 1 0 4 4 4 4 4 1 2 3 1 2 5 2 3 2 4 1 1 3 2 2 0 3 4 2 5 3 4 4 4 4 3 2 5 5 2 4 1 3 1 3 3 2 2 2 2 7 4 6 0 2 4 3 3 3 4 2 3 1 2 3 3 4 4 2 4 3 4 1 3 5 3 0 2 4 3 2 4 2 3 2 4 0 5 1 1 3 1 3 3 1 3 2 3 2 1 0 2 2 2 3 3 2 2 1 2 3 5 3 1 1 4 3 3 3 0 5 4 1 2 2 4 4 3 2 2 2 4 2 4 0 3 2 3 1 2 2 2 3 2 1 2 1 2 1 4 1 2 1 1 3 3 3 3 1 1 1 2 3 4 4 2 5 4 2 4 3 5 1 2 2 3 2 4 3 1 6 1 4 5 1 5 3 2 3 4 3 3 1 1 2 0 2 3 2 2 2 1 3 4 5 1 3 1 3 2 3 3 4 2 5 2 3 3 2 1 3 4 6 4 1 3 4 4 3 1 5 1 2 2 4 2 0 0 3 4 3 2 1 3 2 3 5 2 3 3 1 2 1 4 0 0 2 3 3 2 2 2 2 1 1 3 2 0 1 4 3 3 1 5 3 2 2 3 2 2 1 1 4 4 3 3 3 2 3 3 2 3 2 4 0 3 3 2 4 3 3 3 2 2 3 4 4 3 3 4 1 2 3 1 2 1 3 2 1 3 2 0 2 2 3 4 3 3 1 2 2 3 1 1 2 6 1 5 0 4 4 3 2 3 3 2 2 2 1 2 2 0 2 3 4 5 1 3 2 3 3 3 3 2 2 1 1 2 0 5 7 3 4 3 3 3 1 4 3 2 1 2 0 3 2 2 1 5 0 1 6 5 1 1 2 5 1 5 1 4 4 1 0 3 3 2 3 2 3 4 4 4 3 2 2 1 5 1 1 4 0 1 1 5 3 1 0 3 2 3 4 0 0 3 3 3 2 3 4 1 0 3 2 2 2 1 0 0 1 2 6 4 1 3 1 3 1 3 3 3 1 1 2 2 2 4 0 4 1 2 2 0 3 0 1 3 4 0 3 1 1 3 4 3 1 2 3 5 1 0 1 4 0 1 3 3 2 2 3 3 5 2 0 1 8 3 2 4 2 3 2 4 3 3 5 4 2 4 3 2 2 4 6 4 3 2 4 1 4 4 1 2 4 3 3 4 2 4 2 1 4 4 5 1 4 2 2 3 0 6 1 4 3 4 2 2 6 1 5 2 4 2 1 5 3 4 3 1 3 1 3 3 4 4 4 1 1 2 2 2 2 4 2 2 1 5 2 2 2 2 3 1 3 5 2 3 2 2 1 4 4 0 2 4 1 2 2 3 1 3 4 2 3 5 3 3 3 4 2 1 5 3 1 3 4 4 2 2 0 4 2 5 3 5 1 3 2 2 4 1 1 3 1 2 4 4 2 4 3 2 2 5 1 3 0 2 1 1 3 1 2 2 1 1 5 1 3 1 1 1 0 3 1 8 2 4 1 2 4 0 1 4 3 1 4 2 4 5 3 3 3 3 3 3 1 0\n"
     ]
    },
    {
     "data": {
      "text/html": [
       "8113"
      ],
      "text/plain": [
       "8113"
      ]
     },
     "execution_count": 206,
     "metadata": {},
     "output_type": "execute_result"
    }
   ],
   "source": [
    "run(`samtools faidx /home/dom/Julia/Rosalind/Files/rosalind_cons.txt`)\n",
    "\n",
    "reader = open(FASTAReader,\"/home/dom/Julia/Rosalind/Files/rosalind_cons.txt\",index=\"/home/dom/Julia/Rosalind/Files/rosalind_cons.txt.fai\")\n",
    "seq_list = []\n",
    "for record in reader\n",
    "    push!(seq_list,sequence(record))\n",
    "end\n",
    "\n",
    "\n",
    "str = consensus(seq_list)\n",
    "print(str)\n",
    "write(\"/home/dom/Julia/Rosalind/Files/output.txt\", str)"
   ]
  }
 ],
 "metadata": {
  "anaconda-cloud": {},
  "kernelspec": {
   "display_name": "Julia 0.5.0",
   "language": "julia",
   "name": "julia-0.5"
  },
  "language_info": {
   "file_extension": ".jl",
   "mimetype": "application/julia",
   "name": "julia",
   "version": "0.5.0"
  }
 },
 "nbformat": 4,
 "nbformat_minor": 1
}
