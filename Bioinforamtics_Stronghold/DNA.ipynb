{
 "cells": [
  {
   "cell_type": "code",
   "execution_count": 1,
   "metadata": {
    "collapsed": false
   },
   "outputs": [
    {
     "name": "stdout",
     "output_type": "stream",
     "text": [
      "A,C,G,T\n",
      "242 260 246 252"
     ]
    }
   ],
   "source": [
    "#Counting nucleotides\n",
    "s = \"AGCTTTTCATTCTGACTGCAACGGGCAATATGTCTCTGTGTGGATTAAAAAAAGAGTGTCTGATAGCAGC\"\n",
    "#Read file\n",
    "str = readstring(\"/home/dom/Julia/Rosalind/Files/rosalind_dna.txt\")\n",
    "#Counter function\n",
    "function CountNucleotides(sequence)\n",
    "  a = count(a -> a == 'A',sequence)\n",
    "  b = count(b -> b == 'C',sequence)\n",
    "  c = count(c -> c == 'G',sequence)\n",
    "  d = count(d -> d == 'T',sequence)\n",
    "  print(\"A,C,G,T\\n\",\"$a $b $c $d\" )\n",
    "end\n",
    "#CountNucleotides(s)\n",
    "CountNucleotides(str)\n",
    "    \n"
   ]
  }
 ],
 "metadata": {
  "kernelspec": {
   "display_name": "Julia 0.5.0",
   "language": "julia",
   "name": "julia-0.5"
  },
  "language_info": {
   "file_extension": ".jl",
   "mimetype": "application/julia",
   "name": "julia",
   "version": "0.5.0"
  }
 },
 "nbformat": 4,
 "nbformat_minor": 1
}
