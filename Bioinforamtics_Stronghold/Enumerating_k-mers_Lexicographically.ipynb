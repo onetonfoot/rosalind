{
 "cells": [
  {
   "cell_type": "code",
   "execution_count": 3,
   "metadata": {},
   "outputs": [],
   "source": [
    "f = open(\"data/test.txt\")\n",
    "input = readlines(f)\n",
    "close(f)"
   ]
  },
  {
   "cell_type": "markdown",
   "metadata": {},
   "source": [
    "https://www.youtube.com/watch?v=goUlyp4rwiU"
   ]
  },
  {
   "cell_type": "code",
   "execution_count": 4,
   "metadata": {},
   "outputs": [
    {
     "data": {
      "text/plain": [
       "2-element Array{String,1}:\n",
       " \"A C G T\"\n",
       " \"2\"      "
      ]
     },
     "execution_count": 4,
     "metadata": {},
     "output_type": "execute_result"
    }
   ],
   "source": [
    "input"
   ]
  },
  {
   "cell_type": "code",
   "execution_count": 18,
   "metadata": {},
   "outputs": [],
   "source": [
    "symbols = split(input[1]) |> join\n",
    "n = parse(input[2]);\n"
   ]
  },
  {
   "cell_type": "code",
   "execution_count": 1,
   "metadata": {},
   "outputs": [
    {
     "data": {
      "text/plain": [
       "(1, 2)"
      ]
     },
     "execution_count": 1,
     "metadata": {},
     "output_type": "execute_result"
    }
   ],
   "source": [
    "a = [1,2,3]\n",
    "a[2],a[1] = a[1],a[2]"
   ]
  },
  {
   "cell_type": "markdown",
   "metadata": {},
   "source": [
    "https://www.quora.com/How-would-you-explain-an-algorithm-that-generates-permutations-using-lexicographic-ordering"
   ]
  },
  {
   "cell_type": "code",
   "execution_count": 21,
   "metadata": {},
   "outputs": [
    {
     "data": {
      "text/plain": [
       "f (generic function with 1 method)"
      ]
     },
     "execution_count": 21,
     "metadata": {},
     "output_type": "execute_result"
    }
   ],
   "source": [
    "function f(array)\n",
    "    \n",
    "    #step 1\n",
    "    largest_i = 1\n",
    "    for i in array\n",
    "        if i < i + 1 && i < length(array)\n",
    "            largest_i = i\n",
    "        end\n",
    "    end\n",
    "    \n",
    "    #step 2\n",
    "    largest_j = 1\n",
    "    for j in array\n",
    "        if largest_i <  j &&  j < length(array)\n",
    "            largest_j = j\n",
    "        end\n",
    "    end\n",
    "    \n",
    "    #step 3 swap\n",
    "    array[largest_i],array[largest_j] = array[largest_j],array[largest_i]\n",
    "    \n",
    "    #step 4 reverse from i + 1 to end\n",
    "    array[largest_i+1:end] = reverse(array[largest_i+1:end])\n",
    "    \n",
    "    return array\n",
    "end"
   ]
  },
  {
   "cell_type": "code",
   "execution_count": 27,
   "metadata": {},
   "outputs": [
    {
     "data": {
      "text/plain": [
       "4-element Array{Int64,1}:\n",
       " 4\n",
       " 1\n",
       " 2\n",
       " 5"
      ]
     },
     "execution_count": 27,
     "metadata": {},
     "output_type": "execute_result"
    }
   ],
   "source": [
    "f(f(a))"
   ]
  },
  {
   "cell_type": "code",
   "execution_count": 25,
   "metadata": {},
   "outputs": [
    {
     "data": {
      "text/plain": [
       "4-element Array{Int64,1}:\n",
       " 1\n",
       " 2\n",
       " 4\n",
       " 5"
      ]
     },
     "execution_count": 25,
     "metadata": {},
     "output_type": "execute_result"
    }
   ],
   "source": [
    "a = [1,2,4,5]\n"
   ]
  },
  {
   "cell_type": "code",
   "execution_count": 9,
   "metadata": {},
   "outputs": [
    {
     "data": {
      "text/plain": [
       "2-element Array{Int64,1}:\n",
       " 5\n",
       " 4"
      ]
     },
     "execution_count": 9,
     "metadata": {},
     "output_type": "execute_result"
    }
   ],
   "source": [
    "a[3:end] = reverse(a[3:end])"
   ]
  },
  {
   "cell_type": "code",
   "execution_count": 10,
   "metadata": {},
   "outputs": [
    {
     "data": {
      "text/plain": [
       "4-element Array{Int64,1}:\n",
       " 1\n",
       " 2\n",
       " 5\n",
       " 4"
      ]
     },
     "execution_count": 10,
     "metadata": {},
     "output_type": "execute_result"
    }
   ],
   "source": [
    "a"
   ]
  },
  {
   "cell_type": "markdown",
   "metadata": {},
   "source": [
    "This works however it losses the order"
   ]
  },
  {
   "cell_type": "code",
   "execution_count": 32,
   "metadata": {},
   "outputs": [
    {
     "data": {
      "text/plain": [
       "4×4 Array{Tuple{Char,Char},2}:\n",
       " ('A', 'A')  ('A', 'C')  ('A', 'G')  ('A', 'T')\n",
       " ('C', 'A')  ('C', 'C')  ('C', 'G')  ('C', 'T')\n",
       " ('G', 'A')  ('G', 'C')  ('G', 'G')  ('G', 'T')\n",
       " ('T', 'A')  ('T', 'C')  ('T', 'G')  ('T', 'T')"
      ]
     },
     "execution_count": 32,
     "metadata": {},
     "output_type": "execute_result"
    }
   ],
   "source": [
    "a = Iterators.product(fill(symbols,2)...) |> collect "
   ]
  },
  {
   "cell_type": "code",
   "execution_count": 36,
   "metadata": {},
   "outputs": [
    {
     "data": {
      "text/plain": [
       "Base.Iterators.Flatten{Array{Tuple{Char,Char},2}}(Tuple{Char,Char}[('A', 'A') ('A', 'C') ('A', 'G') ('A', 'T'); ('C', 'A') ('C', 'C') ('C', 'G') ('C', 'T'); ('G', 'A') ('G', 'C') ('G', 'G') ('G', 'T'); ('T', 'A') ('T', 'C') ('T', 'G') ('T', 'T')])"
      ]
     },
     "execution_count": 36,
     "metadata": {},
     "output_type": "execute_result"
    }
   ],
   "source": [
    "b = Iterators.flatten(a)"
   ]
  },
  {
   "cell_type": "code",
   "execution_count": 43,
   "metadata": {},
   "outputs": [
    {
     "data": {
      "text/plain": [
       "quote  # In[43], line 1:\n",
       "end"
      ]
     },
     "execution_count": 43,
     "metadata": {},
     "output_type": "execute_result"
    }
   ],
   "source": [
    "ex= quote end"
   ]
  },
  {
   "cell_type": "code",
   "execution_count": 44,
   "metadata": {},
   "outputs": [
    {
     "name": "stdout",
     "output_type": "stream",
     "text": [
      "Expr\n",
      "  head: Symbol block\n",
      "  args: Array{Any}((1,))\n",
      "    1: Expr\n",
      "      head: Symbol line\n",
      "      args: Array{Any}((2,))\n",
      "        1: Int64 1\n",
      "        2: Symbol In[43]\n",
      "      typ: Any\n",
      "  typ: Any\n"
     ]
    }
   ],
   "source": [
    "dump(ex)"
   ]
  },
  {
   "cell_type": "code",
   "execution_count": 49,
   "metadata": {},
   "outputs": [
    {
     "data": {
      "text/plain": [
       "quote  # In[49], line 3:\n",
       "    for i = 1:5 # In[49], line 4:\n",
       "        for j = 1:4 # In[49], line 5:\n",
       "            print(i)\n",
       "        end\n",
       "    end\n",
       "end"
      ]
     },
     "execution_count": 49,
     "metadata": {},
     "output_type": "execute_result"
    }
   ],
   "source": [
    "ex2 = quote\n",
    "    \n",
    "    for i in 1:5\n",
    "        for j in 1:4\n",
    "            print(i)\n",
    "        end\n",
    "    end\n",
    "    \n",
    "    \n",
    "    \n",
    "    \n",
    "end"
   ]
  },
  {
   "cell_type": "code",
   "execution_count": 50,
   "metadata": {},
   "outputs": [
    {
     "name": "stdout",
     "output_type": "stream",
     "text": [
      "Expr\n",
      "  head: Symbol block\n",
      "  args: Array{Any}((2,))\n",
      "    1: Expr\n",
      "      head: Symbol line\n",
      "      args: Array{Any}((2,))\n",
      "        1: Int64 3\n",
      "        2: Symbol In[49]\n",
      "      typ: Any\n",
      "    2: Expr\n",
      "      head: Symbol for\n",
      "      args: Array{Any}((2,))\n",
      "        1: Expr\n",
      "          head: Symbol =\n",
      "          args: Array{Any}((2,))\n",
      "            1: Symbol i\n",
      "            2: Expr\n",
      "              head: Symbol :\n",
      "              args: Array{Any}((2,))\n",
      "                1: Int64 1\n",
      "                2: Int64 5\n",
      "              typ: Any\n",
      "          typ: Any\n",
      "        2: Expr\n",
      "          head: Symbol block\n",
      "          args: Array{Any}((2,))\n",
      "            1: Expr\n",
      "              head: Symbol line\n",
      "              args: Array{Any}((2,))\n",
      "                1: Int64 4\n",
      "                2: Symbol In[49]\n",
      "              typ: Any\n",
      "            2: Expr\n",
      "              head: Symbol for\n",
      "              args: Array{Any}((2,))\n",
      "                1: Expr\n",
      "                2: Expr\n",
      "              typ: Any\n",
      "          typ: Any\n",
      "      typ: Any\n",
      "  typ: Any\n"
     ]
    }
   ],
   "source": [
    "dump(ex2)"
   ]
  },
  {
   "cell_type": "code",
   "execution_count": 45,
   "metadata": {},
   "outputs": [],
   "source": [
    "using MacroTools: prewalk, postwalk"
   ]
  },
  {
   "cell_type": "code",
   "execution_count": 46,
   "metadata": {},
   "outputs": [
    {
     "data": {
      "text/plain": [
       ":(3 + 4)"
      ]
     },
     "execution_count": 46,
     "metadata": {},
     "output_type": "execute_result"
    }
   ],
   "source": [
    "postwalk(x -> x isa Integer ? x + 1 : x, :(2+3))"
   ]
  },
  {
   "cell_type": "code",
   "execution_count": 48,
   "metadata": {},
   "outputs": [
    {
     "data": {
      "text/plain": [
       ":(2 + 3)"
      ]
     },
     "execution_count": 48,
     "metadata": {},
     "output_type": "execute_result"
    }
   ],
   "source": [
    ":(2+3)"
   ]
  },
  {
   "cell_type": "code",
   "execution_count": null,
   "metadata": {},
   "outputs": [],
   "source": [
    "for i in 1:3\n",
    "    \n",
    "    "
   ]
  }
 ],
 "metadata": {
  "kernelspec": {
   "display_name": "Julia 0.6.0",
   "language": "julia",
   "name": "julia-0.6"
  },
  "language_info": {
   "file_extension": ".jl",
   "mimetype": "application/julia",
   "name": "julia",
   "version": "0.6.0"
  }
 },
 "nbformat": 4,
 "nbformat_minor": 2
}
