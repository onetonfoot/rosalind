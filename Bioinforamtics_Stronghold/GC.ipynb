{
 "cells": [
  {
   "cell_type": "markdown",
   "metadata": {},
   "source": [
    "# Computing GC Content\n",
    "\n",
    "The GC content is the percentage of DNA that contains G and C. G and C form 3 hydrogen bounds as opposed to 2 like A and T. DNA with higher GC content has a number of properties including:\n",
    "\n",
    "* greater stabliity due to base stacking\n",
    "* higher melting point\n",
    "* more rigid\n",
    "\n",
    "The sample data is in a fasta format, instead of writing my own dogey parser I'll use one from biojulia.\n"
   ]
  },
  {
   "cell_type": "code",
   "execution_count": 2,
   "metadata": {},
   "outputs": [
    {
     "name": "stdout",
     "output_type": "stream",
     "text": [
      ">Rosalind_6404\n",
      "CCTGCGGAAGATCGGCACTAGAATAGCCAGAACCGTTTCTCTGAGGCTTCCGGCCTTCCC\n",
      "TCCCACTAATAATTCTGAGG\n",
      ">Rosalind_5959\n",
      "CCATCGGTAGCGCATCCTTAGTCCAATTAAGTCCCTATCCAGGCGCTCCGCCGAAGGTCT\n",
      "ATATCCATTTGTCAGCAGACACGC\n",
      ">Rosalind_0808\n",
      "CCACCCTCGTGGTATGGCTAGGCATTCAGGAACCGGAGAACGCTTCAGACCAGCCCGGAC\n",
      "TGGGAACCTGCGGGCAGTAGGTGGAAT\n"
     ]
    }
   ],
   "source": [
    "open(\"sample_data/gc.txt\") do f\n",
    "  s = readstring(f)\n",
    "  print(s)\n",
    "end"
   ]
  },
  {
   "cell_type": "code",
   "execution_count": 4,
   "metadata": {},
   "outputs": [
    {
     "name": "stderr",
     "output_type": "stream",
     "text": [
      "WARNING: Method definition require(Symbol) in module Base at loading.jl:345 overwritten in module Main at /home/dom/.julia/v0.5/Requires/src/require.jl:12.\n"
     ]
    }
   ],
   "source": [
    "using Bio.Seq"
   ]
  },
  {
   "cell_type": "code",
   "execution_count": null,
   "metadata": {
    "collapsed": true
   },
   "outputs": [],
   "source": [
    "FASTAReader"
   ]
  },
  {
   "cell_type": "code",
   "execution_count": 1,
   "metadata": {},
   "outputs": [
    {
     "data": {
      "text/plain": [
       "GC_content (generic function with 1 method)"
      ]
     },
     "execution_count": 1,
     "metadata": {},
     "output_type": "execute_result"
    }
   ],
   "source": [
    "#GC content fucntion\n",
    "function GC_content(seq)\n",
    "    G = count(c -> c == 'G', seq)\n",
    "    C = count(c -> c == 'C', seq)\n",
    "  content = 100*(G+C)/length(seq)\n",
    "  return content\n",
    "end"
   ]
  },
  {
   "cell_type": "code",
   "execution_count": 2,
   "metadata": {},
   "outputs": [],
   "source": [
    "#Make a dic to store the values in \n",
    "dic = Dict()\n",
    "\n",
    "#Using FastIO\n",
    "using FastaIO\n",
    "FastaReader(\"/home/dom/Julia/Rosalind/Files/rosalind_gc.txt\") do f\n",
    "  for (rec,seq) in f\n",
    "    dic[\"$rec\"] = GC_content(seq)\n",
    "  end\n",
    "end"
   ]
  },
  {
   "cell_type": "code",
   "execution_count": 3,
   "metadata": {},
   "outputs": [
    {
     "name": "stdout",
     "output_type": "stream",
     "text": [
      "Rosalind_0587\n",
      "51.60919540229885"
     ]
    }
   ],
   "source": [
    "#Gets the key for the value\n",
    "id = collect(keys(dic))[indmax(collect(values(dic)))]\n",
    "#Gets maxs value\n",
    "value = maximum(values(dic))\n",
    "#Print it in the right format\n",
    "print(\"$id\\n$value\")"
   ]
  }
 ],
 "metadata": {
  "anaconda-cloud": {},
  "kernelspec": {
   "display_name": "Julia 0.5.1",
   "language": "julia",
   "name": "julia-0.5"
  },
  "language_info": {
   "file_extension": ".jl",
   "mimetype": "application/julia",
   "name": "julia",
   "version": "0.5.2"
  }
 },
 "nbformat": 4,
 "nbformat_minor": 1
}
