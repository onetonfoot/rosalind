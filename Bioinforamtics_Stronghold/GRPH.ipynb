{
 "cells": [
  {
   "cell_type": "code",
   "execution_count": 230,
   "metadata": {
    "collapsed": false
   },
   "outputs": [],
   "source": [
    "#Index our fasta\n",
    "run(`samtools faidx /home/dom/Julia/Rosalind/Files/test.fa`)"
   ]
  },
  {
   "cell_type": "code",
   "execution_count": 297,
   "metadata": {
    "collapsed": false
   },
   "outputs": [
    {
     "name": "stdout",
     "output_type": "stream",
     "text": [
      "Rosalind_0498 AAATAAA\n",
      "Rosalind_2391 AAATTTT\n",
      "Rosalind_2323 TTTTCCC\n",
      "Rosalind_0442 AAATCCC\n",
      "Rosalind_5013 GGGTGGG\n"
     ]
    }
   ],
   "source": [
    "using Bio.Seq  # import FASTAReader\n",
    "reader = open(FASTAReader, \"/home/dom/Julia/Rosalind/Files/test.fa\",index=\"/home/dom/Julia/Rosalind/Files/test.fa.fai\")\n",
    "# seqname can be replaced with sequence, or metadata\n",
    "for a in reader\n",
    "    print(seqname(a),\" \",sequence(a),\"\\n\")\n",
    "end"
   ]
  },
  {
   "cell_type": "code",
   "execution_count": 240,
   "metadata": {
    "collapsed": false
   },
   "outputs": [
    {
     "data": {
      "text/plain": [
       "Bio.Seq.SeqRecord{Bio.Seq.BioSequence,Bio.Seq.FASTAMetadata}:\n",
       "  name: Rosalind_0498\n",
       "  sequence: AAATAAA\n",
       "  metadata: Bio.Seq.FASTAMetadata(\"\")"
      ]
     },
     "execution_count": 240,
     "metadata": {},
     "output_type": "execute_result"
    }
   ],
   "source": [
    "#Since we have given the reader a index we can access the sequences by name\n",
    "reader[\"Rosalind_0498\"]"
   ]
  },
  {
   "cell_type": "code",
   "execution_count": 335,
   "metadata": {
    "collapsed": false
   },
   "outputs": [
    {
     "name": "stdout",
     "output_type": "stream",
     "text": [
      "AB BA\n",
      "AC CA\n",
      "AD DA\n",
      "AE EA\n",
      "BC CB\n",
      "BD DB\n",
      "BE EB\n",
      "CD DC\n",
      "CE EC\n",
      "DE ED\n"
     ]
    }
   ],
   "source": [
    "# for a list of x strings the number of ways they could possible over lap is (x)(x-1)\n",
    "list = [\"A\",\"B\",\"C\",\"D\",\"E\"]\n",
    "for i in 1:length(list)\n",
    "    for j in i+1:length(list)\n",
    "        print(list[i],list[j], \" \",list[j],list[i]\"\\n\") \n",
    "        \n",
    "    end\n",
    "end\n",
    "#Hence this code output every possible combo"
   ]
  },
  {
   "cell_type": "code",
   "execution_count": 374,
   "metadata": {
    "collapsed": false
   },
   "outputs": [
    {
     "name": "stdout",
     "output_type": "stream",
     "text": [
      "AAATAAA AAATTTT"
     ]
    }
   ],
   "source": [
    "#This code will check if two strings over lap\n",
    "a = \"AAATAAA\"\n",
    "b = \"AAATTTT\"\n",
    "\n",
    "for i in 1:length(a) \n",
    "    if a[end-i] !== b[i] \n",
    "        #The amount of overlap needed to declare a match\n",
    "        if i > 1\n",
    "            print(a,\" \", b)\n",
    "        end\n",
    "        break\n",
    "    end\n",
    "end\n",
    "\n",
    "#Turns out we don't need this code "
   ]
  },
  {
   "cell_type": "code",
   "execution_count": 400,
   "metadata": {
    "collapsed": false,
    "scrolled": true
   },
   "outputs": [
    {
     "name": "stderr",
     "output_type": "stream",
     "text": [
      "WARNING: Method definition adjaceny_graph(Any) in module Main at In[396]:3 overwritten at In[400]:3.\n"
     ]
    },
    {
     "data": {
      "text/plain": [
       "adjaceny_graph (generic function with 1 method)"
      ]
     },
     "execution_count": 400,
     "metadata": {},
     "output_type": "execute_result"
    }
   ],
   "source": [
    "#Because it has 2 nested it's O(n^2)\n",
    "function adjaceny_graph(id_list)\n",
    "    str_list = []\n",
    "    for i in 1:length(id_list)\n",
    "        for j in i+1:length(id_list)\n",
    "        #Set sequence a\n",
    "        a = sequence(reader[id_list[i]])\n",
    "        #Set sequence b \n",
    "        b = sequence(reader[id_list[j]])\n",
    "            if a[end-2:end] == b[1:3]\n",
    "                push!(str_list,id_list[i],\" \",id_list[j],\"\\n\")\n",
    "            elseif b[end-2:end] == a[1:3]\n",
    "                push!(str_list, id_list[j],\" \",id_list[i],\"\\n\")\n",
    "            end\n",
    "        end\n",
    "        \n",
    "    end\n",
    "    return(join(str_list))\n",
    "end\n",
    "\n"
   ]
  },
  {
   "cell_type": "code",
   "execution_count": 409,
   "metadata": {
    "collapsed": false
   },
   "outputs": [
    {
     "data": {
      "text/html": [
       "4172"
      ],
      "text/plain": [
       "4172"
      ]
     },
     "execution_count": 409,
     "metadata": {},
     "output_type": "execute_result"
    }
   ],
   "source": [
    "#Make a index\n",
    "run(`samtools faidx /home/dom/Julia/Rosalind/Files/rosalind_grph.txt`)\n",
    "#Read in file\n",
    "reader = open(FASTAReader, \"/home/dom/Julia/Rosalind/Files/rosalind_grph.txt\",index=\"/home/dom/Julia/Rosalind/Files/rosalind_grph.txt.fai\")\n",
    "#Get our id list\n",
    "id_list = []\n",
    "for record in reader\n",
    "    push!(id_list,seqname(record))\n",
    "end\n",
    "#Output and write to file\n",
    "output = adjaceny_graph(id_list)\n",
    "write(\"/home/dom/Julia/Rosalind/Files/output.txt\", output)\n"
   ]
  }
 ],
 "metadata": {
  "anaconda-cloud": {},
  "kernelspec": {
   "display_name": "Julia 0.5.0",
   "language": "julia",
   "name": "julia-0.5"
  },
  "language_info": {
   "file_extension": ".jl",
   "mimetype": "application/julia",
   "name": "julia",
   "version": "0.5.0"
  }
 },
 "nbformat": 4,
 "nbformat_minor": 1
}
