{
 "cells": [
  {
   "cell_type": "code",
   "execution_count": 1,
   "metadata": {
    "collapsed": false
   },
   "outputs": [
    {
     "data": {
      "text/plain": [
       "\"CATCGTAATGACGGCCT\""
      ]
     },
     "execution_count": 1,
     "metadata": {},
     "output_type": "execute_result"
    }
   ],
   "source": [
    "#Test strings\n",
    "a = \"GAGCCTACTAACGGGAT\"\n",
    "b = \"CATCGTAATGACGGCCT\""
   ]
  },
  {
   "cell_type": "code",
   "execution_count": 8,
   "metadata": {
    "collapsed": false
   },
   "outputs": [
    {
     "data": {
      "text/plain": [
       "17-element Array{Char,1}:\n",
       " 'C'\n",
       " 'A'\n",
       " 'T'\n",
       " 'C'\n",
       " 'G'\n",
       " 'T'\n",
       " 'A'\n",
       " 'A'\n",
       " 'T'\n",
       " 'G'\n",
       " 'A'\n",
       " 'C'\n",
       " 'G'\n",
       " 'G'\n",
       " 'C'\n",
       " 'C'\n",
       " 'T'"
      ]
     },
     "execution_count": 8,
     "metadata": {},
     "output_type": "execute_result"
    }
   ],
   "source": [
    "a_array = collect(a)\n",
    "b_array = collect(b)"
   ]
  },
  {
   "cell_type": "code",
   "execution_count": 12,
   "metadata": {
    "collapsed": false
   },
   "outputs": [
    {
     "data": {
      "text/plain": [
       "7"
      ]
     },
     "execution_count": 12,
     "metadata": {},
     "output_type": "execute_result"
    }
   ],
   "source": [
    "#A package for calculating distances \n",
    "using(Distances)\n",
    "hamming(a_array,b_array)"
   ]
  },
  {
   "cell_type": "code",
   "execution_count": 27,
   "metadata": {
    "collapsed": false
   },
   "outputs": [
    {
     "data": {
      "text/plain": [
       "2-element Array{String,1}:\n",
       " \"TAGGGAACCGGGGACGCGTCAACTAGGGGAAAGGCCCTACACCACAGAACCTCCATACCCCCCCCCCCTTGACCGCACGCTAGGAGAAGGAGCTTAGAATCTGGTGCTAGGCTTTGCTCCAAGGGAAGTGGCCGGAATAGTGCAGTAGAGCTAGGAGACCCTAGAGGCAGGACGTTTAGTGTCGAGCCGTACACGAGCTAGTATAATACCCTGATTCCGAGGCCAGTTTGTATGTAGCGATCTGCCCCGTTTAATCAGTAGTAGCCTAGGTGGGCTTCGGTAGGCAGGGTAGTTGAAGCTTCACAGGGGTCCTGTAGATGGTCGGACCCTTTCGCACAGCAGCCCCGTACTACCATTCGCGGGTGCACTGTCCCTAGGCAGGAGTTTGTGACGACGGCTAGGTGAGCGAGACCTATTATTAGAGCATTGCGGCCGCTGCCGCTGATCGGCTATCAGCACGATACCAGACCCCTTCCTTCTCTAGCGTGGTCAAACTCGTCGAGTTTGACCGCCGATCGGGAGGGTCATGATGAGACAGGAACGAGTTACTGAGTGTGAGCTGCTTTCGGAAGCCGTCTAAGACGTGATGAAGGCCCATATATAAATGGGCGACAGTCTTGGTTAACCGCGTTTCGAGACGTAACCCGCCGTTAATCACGTTAGCCCACCGAGATTGTATCGGTTCGGATACCTTGCAAGCGCCCCCCGTACATCTGCCCTGGTGCTGTGTTCTCCATCGTGGAACTTGCGTGTTAATGCGAGGTAAGTTCTAGTCACTCGACAGTTGCGATCGACTTCTATTATGTTGAACCTCCGTACCTGCCCCCTGTCTTAACCCTCGTCATATCGGACCACTCACCCCAATATGGGGTCAGTGACAATAACAAGTATGGCACAATTCACTAGTGCTTGCGCTGAAGCCTGTGCCTCGTCACTTTCAAGCGTTCCTGACCGTATGCACTTAATGTATACGACCGGTTGTCCAGGGATGA\\n\"\n",
       " \"TAGGTGGCCGAGAGCGGCCACATTACGTCGAACATTCTACGCCACTGAGACGGCCTTCGCACCAACTCTAGGCCTCTGCATGGAAGAAGGGGCATGAGATCGCGTGCGGTACGTGGATCAAAGCGATCCGGAGGAATGAGCTCAGCAGAGCTCTCGGGCCACAACACGAGCGGGTTTGTTGTATGGACCGACAAGAATTTTTATGGCAGTCTGTTTCACGCGTCACGTCCTTTTGACGTATTTTAGCCAACTAGACATGCAGACCCCCGTTGAGCAGTGGTACACAGCGTCCCGGAAGCTCGTCATTGCCGGCGCAGCTTATAGGCCCGTTTCATCCAACTCTCAGGGGGTATCAGGTTCATGTGCCGAATCTGATGGCCTATGTCTGAGTGGCGGGAGAGGTGAGCCGGTTGTATTTTTAGCGTGTTCCGGTCCCTCGCTCTGAGCGGGTGTTAGCACGTTCAAATACCTCCCCACGCTGTGGCGTTCTCTCACTCGAGATCTCTCACATCCGTTTGGACGGCACAAAGTCTGAGAGTCATGTGTACCTGCAGGAACGTCATCGGAGGAGGCTGTATTAGTTCTAGTGAGGGCCCGGTTCGGTCTAGGCGGCACCCATGTCTATTCGGTTTTCACTTAGTTAAGCGGATTTAGTTGAGTTAGCGCACAGCGACAGGAAATGATCGCGTCACCTGCGACCTGCCCCCCCCAAACTTCTGAACTACTGGAGTGATTATACAGTAGATTGCTGGTTACAGTTCGGGTAGTTCTATTCGTTCGAAATTTGCTATTTAACGCGCGTCAGCTGAAACCTGGTTCGCCCTGAGAGTCGTACCCTTCTGATTACCCCACCGCCCCGATCACAGTATACGTTTGGACATGAACTGGTCTTGCATCACCGGTTAGGGATTACACTCACGTCGGTGCATAGTCATTTTCGGACGTGTCTTAGCCCATGATCACATGGTAGAACGCGACTACTCCAGTGTAGG\\n\""
      ]
     },
     "execution_count": 27,
     "metadata": {},
     "output_type": "execute_result"
    }
   ],
   "source": [
    "str = readlines(\"/home/dom/Julia/Rosalind/Files/rosalind_hamm.txt\")\n",
    "#str_array = split(str,'\\n')"
   ]
  },
  {
   "cell_type": "code",
   "execution_count": 28,
   "metadata": {
    "collapsed": false
   },
   "outputs": [
    {
     "data": {
      "text/plain": [
       "487"
      ]
     },
     "execution_count": 28,
     "metadata": {},
     "output_type": "execute_result"
    }
   ],
   "source": [
    "hamming(collect(str[1]),collect(str[2]))"
   ]
  },
  {
   "cell_type": "code",
   "execution_count": 23,
   "metadata": {
    "collapsed": false
   },
   "outputs": [
    {
     "data": {
      "text/plain": [
       "\"GAGTGCTCGTACAGCTCACGGCTCGGAATCGCGGATCGATTCAGCTCCACAGCTTGTCGCGCGCGTA\""
      ]
     },
     "execution_count": 23,
     "metadata": {},
     "output_type": "execute_result"
    }
   ],
   "source": []
  }
 ],
 "metadata": {
  "kernelspec": {
   "display_name": "Julia 0.5.0",
   "language": "julia",
   "name": "julia-0.5"
  },
  "language_info": {
   "file_extension": ".jl",
   "mimetype": "application/julia",
   "name": "julia",
   "version": "0.5.0"
  }
 },
 "nbformat": 4,
 "nbformat_minor": 1
}
