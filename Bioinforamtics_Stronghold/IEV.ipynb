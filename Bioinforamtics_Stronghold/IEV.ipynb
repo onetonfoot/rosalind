{
 "cells": [
  {
   "cell_type": "markdown",
   "metadata": {},
   "source": [
    "Given: Six positive integers, each of which does not exceed 20,000. The integers correspond to the number of couples in a population possessing each genotype pairing for a given factor. In order, the six given integers represent the number of couples having the following genotypes:\n",
    "\n",
    "\n",
    "AA-AA <br>\n",
    "AA-Aa <br>\n",
    "AA-aa <br>\n",
    "Aa-Aa <br>\n",
    "Aa-aa <br>\n",
    "aa-aa <br>\n",
    "\n",
    "Return: The expected number of offspring displaying the dominant phenotype in the next generation, under the assumption that every couple has exactly two offspring.\n",
    "\n"
   ]
  },
  {
   "cell_type": "code",
   "execution_count": 4,
   "metadata": {
    "collapsed": false
   },
   "outputs": [
    {
     "data": {
      "text/plain": [
       "3.5"
      ]
     },
     "execution_count": 4,
     "metadata": {},
     "output_type": "execute_result"
    }
   ],
   "source": [
    "#For the dice part\n",
    "list = []\n",
    "for i in 1:6\n",
    "    push!(list,(i*(1/6)))\n",
    "end\n",
    "sum(list)"
   ]
  },
  {
   "cell_type": "code",
   "execution_count": 5,
   "metadata": {
    "collapsed": false
   },
   "outputs": [
    {
     "data": {
      "text/plain": [
       "6-element Array{Int64,1}:\n",
       " 1\n",
       " 0\n",
       " 0\n",
       " 1\n",
       " 0\n",
       " 1"
      ]
     },
     "execution_count": 5,
     "metadata": {},
     "output_type": "execute_result"
    }
   ],
   "source": [
    "test = [1, 0, 0, 1, 0, 1]\n"
   ]
  },
  {
   "cell_type": "markdown",
   "metadata": {},
   "source": [
    "Whats the prob for each genotype having baby with a dominant phenotype? <br>\n",
    "\n",
    "AA-AA = 1<br>\n",
    "AA-Aa = 1 <br>\n",
    "AA-aa = 1 <br>\n",
    "Aa-Aa = 0.75<br>\n",
    "Aa-aa = 0.5<br>\n",
    "aa-aa = 0 <br>\n"
   ]
  },
  {
   "cell_type": "code",
   "execution_count": 41,
   "metadata": {
    "collapsed": false
   },
   "outputs": [
    {
     "data": {
      "text/plain": [
       "6-element Array{Float64,1}:\n",
       " 18493.0\n",
       " 16590.0\n",
       " 18998.0\n",
       " 16212.0\n",
       " 17009.0\n",
       " 16749.0"
      ]
     },
     "execution_count": 41,
     "metadata": {},
     "output_type": "execute_result"
    }
   ],
   "source": [
    "s = readstring(\"/home/dom/Julia/Rosalind/Files/rosalind_iev.txt\")\n",
    "s = replace(s,\"\\n\",\"\")\n",
    "s = split(s,\" \")\n",
    "s = map(x ->parse(Float64,x),s)"
   ]
  },
  {
   "cell_type": "code",
   "execution_count": 42,
   "metadata": {
    "collapsed": false
   },
   "outputs": [
    {
     "data": {
      "text/plain": [
       "149489.0"
      ]
     },
     "execution_count": 42,
     "metadata": {},
     "output_type": "execute_result"
    }
   ],
   "source": [
    "genotype_probs = [1,1,1,0.75,0.5,0]\n",
    "phenotype_probs = []\n",
    "for i in 1:(length(genotype_probs)) \n",
    "    push!(phenotype_probs,(genotype_probs[i]*s[i]))\n",
    "end \n",
    "\n",
    "2*sum(phenotype_probs)"
   ]
  }
 ],
 "metadata": {
  "anaconda-cloud": {},
  "kernelspec": {
   "display_name": "Julia 0.5.0",
   "language": "julia",
   "name": "julia-0.5"
  },
  "language_info": {
   "file_extension": ".jl",
   "mimetype": "application/julia",
   "name": "julia",
   "version": "0.5.0"
  }
 },
 "nbformat": 4,
 "nbformat_minor": 1
}
