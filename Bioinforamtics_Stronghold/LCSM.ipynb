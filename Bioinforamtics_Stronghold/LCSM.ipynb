{
 "cells": [
  {
   "cell_type": "markdown",
   "metadata": {},
   "source": [
    "I've use the clustralo command line tool to achieve this, thinks to note \n",
    "- It's important to sort the the strings so the shortest strings are at the top of the fasta file\n",
    "\n",
    "- We need to use the --pileup option to ensure that we get the longest straight alginment rather than best"
   ]
  },
  {
   "cell_type": "code",
   "execution_count": 46,
   "metadata": {
    "collapsed": false
   },
   "outputs": [
    {
     "name": "stdout",
     "output_type": "stream",
     "text": [
      "/home/dom/Julia/Rosalind/Files\n"
     ]
    }
   ],
   "source": [
    ";cd /home/dom/Julia/Rosalind/Files"
   ]
  },
  {
   "cell_type": "code",
   "execution_count": 148,
   "metadata": {
    "collapsed": false
   },
   "outputs": [],
   "source": [
    "#Open into reader\n",
    "reader = open(FASTAReader,\"/home/dom/Julia/Rosalind/Files/rosalind_lcsm.txt\")\n",
    "record_list = []\n",
    "\n",
    "\n",
    "#Push all records into a list\n",
    "for record in reader\n",
    "    push!(record_list,record)\n",
    "end\n",
    "\n"
   ]
  },
  {
   "cell_type": "code",
   "execution_count": 149,
   "metadata": {
    "collapsed": false
   },
   "outputs": [
    {
     "name": "stderr",
     "output_type": "stream",
     "text": [
      "WARNING: Method definition len_record_seq(Any) in module Main at In[144]:3 overwritten at In[149]:3.\n"
     ]
    }
   ],
   "source": [
    "#Quick function for len\n",
    "function len_record_seq(record)\n",
    "    len = length(sequence(record))\n",
    "    return len\n",
    "end\n",
    "\n",
    "#Sort that list by length\n",
    "record_list =  sort(by=len_record_seq ,record_list)\n",
    ";"
   ]
  },
  {
   "cell_type": "code",
   "execution_count": 150,
   "metadata": {
    "collapsed": false
   },
   "outputs": [],
   "source": [
    "#Write them to file in the new order\n",
    "writer = open(FASTAWriter, \"test.fa\")\n",
    "for i in record_list\n",
    "    write(writer, i)\n",
    "end\n",
    "close(writer)"
   ]
  },
  {
   "cell_type": "code",
   "execution_count": 70,
   "metadata": {
    "collapsed": false
   },
   "outputs": [
    {
     "name": "stdout",
     "output_type": "stream",
     "text": [
      ">Rosalind_5\n",
      "----GCA-------\n",
      ">Rosalind_3\n",
      "--ATACA-------\n",
      ">Rosalind_1\n",
      "GATTACA-------\n",
      ">Rosalind_2\n",
      "TAGACCA-------\n",
      ">Rosalind_4\n",
      "--ATACAGCGCGGG\n"
     ]
    }
   ],
   "source": [
    ";clustalo -i test.fa -t DNA --pileup"
   ]
  },
  {
   "cell_type": "code",
   "execution_count": 91,
   "metadata": {
    "collapsed": false
   },
   "outputs": [
    {
     "name": "stdout",
     "output_type": "stream",
     "text": [
      "GCA"
     ]
    }
   ],
   "source": [
    "reader = open(FASTAReader, \"algin.fa\") \n",
    "rec = first(reader)\n",
    "str = convert(String, sequence(rec))\n",
    "\n",
    "#Find the match\n",
    "m = match(r\"\\-*(\\w+)\",str)\n",
    "print(m[1])\n",
    "\n",
    "close(reader)"
   ]
  },
  {
   "cell_type": "markdown",
   "metadata": {},
   "source": [
    "The method seemed to work with less data but take too long with more fasta files, instead I'll try implement my own way in julia"
   ]
  },
  {
   "cell_type": "code",
   "execution_count": 142,
   "metadata": {
    "collapsed": false
   },
   "outputs": [
    {
     "data": {
      "text/plain": [
       "(\"GACGTGGCCCAGGGCCTCACTAAATCATGCGATTTTACGACCTCGCTGGAGCAGCTGCAATCTCAGTAGTGTTGATCTATTGCGTCTGATCCTGAGGCACGTGTTTGGATTTCCCGATAATTGAGACGCCACTACGTGGATGTAAATGAATTCCGTGGCGTAGGGTACGGCGAAAGCTTTTCATAGTTTCGACCACGGTATATTCGTCGTCTTCCTTAT\",163:381,78:296)"
      ]
     },
     "execution_count": 142,
     "metadata": {},
     "output_type": "execute_result"
    }
   ],
   "source": [
    "using Subsequences\n",
    "seq, a_range, b_range = longest_contiguous_subsequence(seq_list[1], seq_list[2])"
   ]
  },
  {
   "cell_type": "code",
   "execution_count": 151,
   "metadata": {
    "collapsed": true
   },
   "outputs": [],
   "source": [
    "seq_list = []\n",
    "\n",
    "for i in record_list\n",
    "    str = convert(String,sequence(i))\n",
    "    push!(seq_list,str)\n",
    "end"
   ]
  },
  {
   "cell_type": "code",
   "execution_count": 155,
   "metadata": {
    "collapsed": false
   },
   "outputs": [
    {
     "name": "stdout",
     "output_type": "stream",
     "text": [
      "  1.978040 seconds (804 allocations: 764.514 MB, 1.67% gc time)\n"
     ]
    }
   ],
   "source": [
    "longest_seq = seq_list[1]\n",
    "\n",
    "@time for i in 1:length(seq_list)\n",
    "    seq, a_range, b_range = longest_contiguous_subsequence(seq_list[1], seq_list[i])\n",
    "    if length(seq) < length(longest_seq)\n",
    "        longest_seq = seq\n",
    "    end\n",
    "end"
   ]
  },
  {
   "cell_type": "code",
   "execution_count": 153,
   "metadata": {
    "collapsed": false
   },
   "outputs": [
    {
     "data": {
      "text/html": [
       "111"
      ],
      "text/plain": [
       "111"
      ]
     },
     "execution_count": 153,
     "metadata": {},
     "output_type": "execute_result"
    }
   ],
   "source": [
    "length(longest_seq)"
   ]
  },
  {
   "cell_type": "code",
   "execution_count": 154,
   "metadata": {
    "collapsed": false
   },
   "outputs": [
    {
     "name": "stdout",
     "output_type": "stream",
     "text": [
      "CAGCTTCAGAGACCGCCCAGCCTATAACAGCGCCACATGCATCTTCATACCAGACGTAGAACCAGCGGAGAGTCTCCATGAAACGAGTAAGTTTCCGCTTACATCGTTTTT"
     ]
    }
   ],
   "source": [
    "print(longest_seq)"
   ]
  }
 ],
 "metadata": {
  "anaconda-cloud": {},
  "kernelspec": {
   "display_name": "Julia 0.5.0",
   "language": "julia",
   "name": "julia-0.5"
  },
  "language_info": {
   "file_extension": ".jl",
   "mimetype": "application/julia",
   "name": "julia",
   "version": "0.5.0"
  }
 },
 "nbformat": 4,
 "nbformat_minor": 1
}
