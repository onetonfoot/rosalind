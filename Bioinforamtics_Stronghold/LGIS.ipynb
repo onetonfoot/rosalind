{
 "cells": [
  {
   "cell_type": "code",
   "execution_count": 14,
   "metadata": {
    "collapsed": false
   },
   "outputs": [
    {
     "data": {
      "text/plain": [
       "\"5\\n5 1 4 2 3\\n\""
      ]
     },
     "execution_count": 14,
     "metadata": {},
     "output_type": "execute_result"
    }
   ],
   "source": [
    "file = readstring(\"/home/dom/Julia/Rosalind/Files/Test\")"
   ]
  },
  {
   "cell_type": "code",
   "execution_count": 48,
   "metadata": {
    "collapsed": false
   },
   "outputs": [
    {
     "data": {
      "text/plain": [
       "5-element Array{Int64,1}:\n",
       " 5\n",
       " 1\n",
       " 4\n",
       " 2\n",
       " 3"
      ]
     },
     "execution_count": 48,
     "metadata": {},
     "output_type": "execute_result"
    }
   ],
   "source": [
    "n , str = split(file,\"\\n\")[1:2]\n",
    "n = parse(n)\n",
    "str_array = split(str, \" \")\n",
    "num_array = map(x -> parse(x),str_array)"
   ]
  },
  {
   "cell_type": "code",
   "execution_count": 53,
   "metadata": {
    "collapsed": false
   },
   "outputs": [
    {
     "name": "stderr",
     "output_type": "stream",
     "text": [
      "WARNING: Method definition longest_increasing(Any) in module Main at In[51]:3 overwritten at In[53]:3.\n"
     ]
    },
    {
     "data": {
      "text/plain": [
       "longest_increasing (generic function with 1 method)"
      ]
     },
     "execution_count": 53,
     "metadata": {},
     "output_type": "execute_result"
    }
   ],
   "source": [
    "function longest_increasing(num_array)\n",
    "    \n",
    "    l = [num_array[1]]\n",
    "\n",
    "    \n",
    "    for i in num_array\n",
    "        \n",
    "        if i < l[end]\n",
    "            append!(l,i)\n",
    "        end\n",
    "    end\n",
    "    \n",
    "    return(l)\n",
    "end\n"
   ]
  },
  {
   "cell_type": "code",
   "execution_count": 54,
   "metadata": {
    "collapsed": false
   },
   "outputs": [
    {
     "data": {
      "text/plain": [
       "2-element Array{Int64,1}:\n",
       " 5\n",
       " 1"
      ]
     },
     "execution_count": 54,
     "metadata": {},
     "output_type": "execute_result"
    }
   ],
   "source": [
    "longest_increasing(num_array)"
   ]
  },
  {
   "cell_type": "code",
   "execution_count": 22,
   "metadata": {
    "collapsed": false
   },
   "outputs": [
    {
     "name": "stdout",
     "output_type": "stream",
     "text": [
      "search: \u001b[1ms\u001b[22m\u001b[1mp\u001b[22m\u001b[1ml\u001b[22m\u001b[1mi\u001b[22m\u001b[1mt\u001b[22m \u001b[1ms\u001b[22m\u001b[1mp\u001b[22m\u001b[1ml\u001b[22m\u001b[1mi\u001b[22m\u001b[1mt\u001b[22mext \u001b[1ms\u001b[22m\u001b[1mp\u001b[22m\u001b[1ml\u001b[22m\u001b[1mi\u001b[22m\u001b[1mt\u001b[22mdir \u001b[1ms\u001b[22m\u001b[1mp\u001b[22m\u001b[1ml\u001b[22m\u001b[1mi\u001b[22m\u001b[1mt\u001b[22mdrive r\u001b[1ms\u001b[22m\u001b[1mp\u001b[22m\u001b[1ml\u001b[22m\u001b[1mi\u001b[22m\u001b[1mt\u001b[22m \u001b[1ms\u001b[22m\u001b[1mp\u001b[22mecia\u001b[1ml\u001b[22m\u001b[1mi\u001b[22mzed_bi\u001b[1mt\u001b[22mwise_unary\n",
      "\n"
     ]
    },
    {
     "data": {
      "text/markdown": [
       "```\n",
       "split(string, [chars]; limit=0, keep=true)\n",
       "```\n",
       "\n",
       "Return an array of substrings by splitting the given string on occurrences of the given character delimiters, which may be specified in any of the formats allowed by `search`'s second argument (i.e. a single character, collection of characters, string, or regular expression). If `chars` is omitted, it defaults to the set of all space characters, and `keep` is taken to be `false`. The two keyword arguments are optional: they are a maximum size for the result and a flag determining whether empty fields should be kept in the result.\n"
      ],
      "text/plain": [
       "```\n",
       "split(string, [chars]; limit=0, keep=true)\n",
       "```\n",
       "\n",
       "Return an array of substrings by splitting the given string on occurrences of the given character delimiters, which may be specified in any of the formats allowed by `search`'s second argument (i.e. a single character, collection of characters, string, or regular expression). If `chars` is omitted, it defaults to the set of all space characters, and `keep` is taken to be `false`. The two keyword arguments are optional: they are a maximum size for the result and a flag determining whether empty fields should be kept in the result.\n"
      ]
     },
     "execution_count": 22,
     "metadata": {},
     "output_type": "execute_result"
    }
   ],
   "source": [
    "?split"
   ]
  }
 ],
 "metadata": {
  "kernelspec": {
   "display_name": "Julia 0.5.0",
   "language": "julia",
   "name": "julia-0.5"
  },
  "language_info": {
   "file_extension": ".jl",
   "mimetype": "application/julia",
   "name": "julia",
   "version": "0.5.0"
  }
 },
 "nbformat": 4,
 "nbformat_minor": 1
}
