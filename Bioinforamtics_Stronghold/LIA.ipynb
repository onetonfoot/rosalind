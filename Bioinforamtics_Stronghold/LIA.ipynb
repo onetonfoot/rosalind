{
 "cells": [
  {
   "cell_type": "markdown",
   "metadata": {},
   "source": [
    "We start with a individual of genotype AbBb which each generations produces 2 children. Each generation the children mate with another individual of AbBb to produce another child. Given k generations the probality that a N number of individuals will be AbBb\n",
    "\n",
    "\n",
    "Given two postive intergers k (k≤7) and N (N≤2ᵏ) . Return the probablity that a least N number of chidren in the k generation will belong to a given genotype."
   ]
  },
  {
   "cell_type": "markdown",
   "metadata": {},
   "source": [
    "# Dihybrid punnet square\n",
    "\n",
    "AaBb can produce the four following genotypes AB, Ab, aB, aa so a punnet sqaure for a cross between AaBb and AaBb would look like this.\n",
    "\n",
    "|    | AB   | Ab   | aB   | ab    |\n",
    "|----|------|------|------|-------|\n",
    "| **AB** | AABB | AABb | AaBB | AaBb  |\n",
    "| **Ab** | AABb | AAbb | AaBb | Aabb  |\n",
    "| **aB** | AaBB | AaBb | aaBB | aaBb  |\n",
    "| **ab** | AaBa | Aabb | aaBb |  aabb |\n",
    "\n",
    "$P(AbBb) =  0.25 $ as shown by this punnet square\n",
    "\n",
    "They work but are rather cumbersome.  "
   ]
  },
  {
   "cell_type": "markdown",
   "metadata": {},
   "source": [
    "# Indepentent probality\n",
    "\n",
    "Since the probabilitys are independent $ P(A \\> and \\> B)$  is the same as $ P(A) \\> \\cdot \\> P(B)$ \n",
    "\n",
    "|   | A  | a  |\n",
    "|---|----|----|\n",
    "| **A** | AA | Aa |\n",
    "| **a** | Aa | aa | \n",
    "\n",
    "\n",
    "\n",
    "|   | B  | b  |\n",
    "|---|----|----|\n",
    "| **B** | BB | Bb |\n",
    "| **b** | Bb | bb |\n",
    "\n",
    "$ 0.5 \\cdot 0.5 = 0.25 $\n",
    "\n",
    "So we can think about like a single problem and then sqaure it later"
   ]
  },
  {
   "cell_type": "markdown",
   "metadata": {},
   "source": [
    "## Key insight\n",
    "\n",
    "If any organism mates with a genotype of Aa the chance that they will produce offspring with a Aa genotype is always 0.5. Therefore extended to AaBb this it will always be $0.25$\n",
    "\n",
    "This makes is signficantly easier as we can model this as a bionomial distribution\n"
   ]
  },
  {
   "cell_type": "markdown",
   "metadata": {},
   "source": [
    "\n",
    "First case\n",
    "\n",
    "|       | A  | a  |\n",
    "|---    |----|----|\n",
    "| **A** | AA | Aa |\n",
    "| **a** | Aa | aa | \n",
    "\n",
    "Second case\n",
    "\n",
    "|       | A  | a  |\n",
    "|---    |----|----|\n",
    "| **A** | AA | Aa |\n",
    "| **A** | AA | Aa | \n",
    "\n",
    "Final case\n",
    "\n",
    "|       | A  | a  |\n",
    "|---    |----|----|\n",
    "| **a** | Aa | aa |\n",
    "| **a** | Aa | aa | \n",
    "\n"
   ]
  },
  {
   "cell_type": "markdown",
   "metadata": {},
   "source": [
    "In other words, in a population of $2^{k}$ individuals, first we find the probability that exactly $ n $ are of the desired genotype AaBb, then we find the probability that exactly $ n+1 $ are of that genotype and so on until all the individuals $2^{k}$   of that genotype."
   ]
  },
  {
   "cell_type": "markdown",
   "metadata": {},
   "source": [
    "# The bionmial distribution\n",
    "\n",
    "## $$ {\\binom {n}{x}}p^{x}(1-p)^{n-x} $$\n",
    "\n",
    "- $ n $ is the number of trails  \n",
    "- $ x $ is the number of times you encounter sucess\n",
    "- $ p $ is the probality of success\n",
    "\n",
    "Recall that \n",
    "\n",
    "## $$ {\\binom {n}{x}} =  \\frac{n!}{(n-x)!x!} $$  \n",
    "\n",
    "Where the random variable $x$ can take the values from $x$ up until  $n$. \n",
    "\n",
    "Since x must be a whole number the chance of \n",
    "\n",
    "## $$ \\sum_{i=x}^{n} \\dbinom{n}{i} p^{i} (1-p)^{n - i} $$"
   ]
  },
  {
   "cell_type": "markdown",
   "metadata": {},
   "source": [
    "# Applied to our problem\n",
    "\n",
    "## $$ \\dbinom{n}{x} 0.25^{x} 0.75^{n - x} $$\n",
    "\n",
    "\n",
    "## $$\\sum_{i=0}^{k} \\dbinom{n}{i} 0.25^{i} 0.75^{n - i} $$"
   ]
  },
  {
   "cell_type": "code",
   "execution_count": 17,
   "metadata": {
    "collapsed": false
   },
   "outputs": [],
   "source": [
    "using Primes, Distributions"
   ]
  },
  {
   "cell_type": "code",
   "execution_count": 53,
   "metadata": {
    "collapsed": false
   },
   "outputs": [
    {
     "data": {
      "text/plain": [
       "6"
      ]
     },
     "execution_count": 53,
     "metadata": {},
     "output_type": "execute_result"
    }
   ],
   "source": []
  },
  {
   "cell_type": "code",
   "execution_count": 61,
   "metadata": {
    "collapsed": false
   },
   "outputs": [
    {
     "name": "stderr",
     "output_type": "stream",
     "text": [
      "WARNING: Method definition binomial_success(Any, Any) in module Main at In[56]:5 overwritten at In[61]:5.\n"
     ]
    },
    {
     "data": {
      "text/plain": [
       "binomial_success (generic function with 1 method)"
      ]
     },
     "execution_count": 61,
     "metadata": {},
     "output_type": "execute_result"
    }
   ],
   "source": [
    "#In code\n",
    "function binomial_success(k,x)\n",
    "      \n",
    "    count = 0\n",
    "    #The number of individuals at any generation is given by\n",
    "    n = 2^k\n",
    "    p = 0.25\n",
    "    \n",
    "    #Find the sum for each distribution up until x\n",
    "    for i in x:n\n",
    "        count += binomial(n,i)*(p^i)*((1-p)^(n-i))\n",
    "    end\n",
    "    \n",
    "    return round(count,3)\n",
    "end"
   ]
  },
  {
   "cell_type": "code",
   "execution_count": 63,
   "metadata": {
    "collapsed": false
   },
   "outputs": [
    {
     "data": {
      "text/plain": [
       "0.406"
      ]
     },
     "execution_count": 63,
     "metadata": {},
     "output_type": "execute_result"
    }
   ],
   "source": [
    "binomial_success(5,9)"
   ]
  },
  {
   "cell_type": "markdown",
   "metadata": {},
   "source": [
    "The number of children in each generation can be given by $ 2^{k} $ where $ k $ is the generation"
   ]
  },
  {
   "cell_type": "markdown",
   "metadata": {
    "collapsed": false
   },
   "source": [
    "A markov chain could also be used to find out the probality of a each generation. This apporach is cool because it could be used with different genotype i think"
   ]
  },
  {
   "cell_type": "markdown",
   "metadata": {},
   "source": [
    "## First case\n",
    "\n",
    "|       | A  | a  |\n",
    "|---    |----|----|\n",
    "| **A** | AA | Aa |\n",
    "| **a** | Aa | aa | \n",
    "\n",
    "Second case\n",
    "\n",
    "|       | A  | a  |\n",
    "|---    |----|----|\n",
    "| **A** | AA | Aa |\n",
    "| **A** | AA | Aa | \n",
    "\n",
    "Final case\n",
    "\n",
    "|       | A  | a  |\n",
    "|---    |----|----|\n",
    "| **a** | Aa | aa |\n",
    "| **a** | Aa | aa | \n"
   ]
  },
  {
   "cell_type": "markdown",
   "metadata": {},
   "source": [
    "The leftside represents the current state. And the top represents the next state. So if our current state is AA and we breed with Aa what is the chance we will produce offspring of AA? Well from the punnet square it's clearly 0.5. This logic can be used to fill out the whole table or M\n",
    "\n",
    "\n",
    "\n",
    "|        | Aa   | AA    | aa    |\n",
    "|--------|------|-------|-------|\n",
    "| **Aa** | 0.50 | 0.25  | 0.25  |\n",
    "| **AA** | 0.50 | 0.50  | 0.00  |\n",
    "| **aa** | 0.50 | 0.00  | 0.50  |\n",
    "\n",
    "\n",
    " ## $$ a = [ \\overset{Aa}{1} \\>  \\overset{AA}{0} \\> \\overset{aa}{0} ] $$\n",
    " \n",
    " \n",
    "-  a x M = a1 is probability of being each of AA, Aa, and aa after one generation  \n",
    "-  a x M x M = a2 <- probability of being each of AA, Aa, and aa after two generations  \n",
    " and so on \n"
   ]
  }
 ],
 "metadata": {
  "kernelspec": {
   "display_name": "Julia 0.5.0",
   "language": "julia",
   "name": "julia-0.5"
  },
  "language_info": {
   "file_extension": ".jl",
   "mimetype": "application/julia",
   "name": "julia",
   "version": "0.5.0"
  }
 },
 "nbformat": 4,
 "nbformat_minor": 1
}
