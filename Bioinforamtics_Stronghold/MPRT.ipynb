{
 "cells": [
  {
   "cell_type": "markdown",
   "metadata": {},
   "source": [
    "Given: At most 15 UniProt Protein Database access IDs.\n",
    "\n",
    "Return: For each protein possessing the N-glycosylation motif, output its given access ID followed by a list of locations in the protein string where the motif can be found.\n",
    "\n",
    "N-glycosylation motif is N{P}[ST]{P}, where {P} means anything but P and [ST] means either S or T"
   ]
  },
  {
   "cell_type": "code",
   "execution_count": 143,
   "metadata": {
    "collapsed": false
   },
   "outputs": [
    {
     "data": {
      "text/plain": [
       "14-element Array{String,1}:\n",
       " \"P00743_FA10_BOVIN\"\n",
       " \"P07987_GUX2_TRIRE\"\n",
       " \"Q3B391\"           \n",
       " \"P10761_ZP3_MOUSE\" \n",
       " \"Q7TMB8\"           \n",
       " \"Q706D1\"           \n",
       " \"A4TEW1\"           \n",
       " \"P01044_KNH1_BOVIN\"\n",
       " \"P0A4Y7\"           \n",
       " \"P00744_PRTZ_BOVIN\"\n",
       " \"B4U0J5\"           \n",
       " \"P07925\"           \n",
       " \"P0AAM4\"           \n",
       " \"P36913_EBA3_FLAME\""
      ]
     },
     "execution_count": 143,
     "metadata": {},
     "output_type": "execute_result"
    }
   ],
   "source": [
    "#First lets read in our protein IDs\n",
    "protein_ids = readlines(\"/home/dom/Julia/Rosalind/Files/rosalind_mprt.txt\")\n",
    "protein_ids = map(x -> strip(x),protein_ids)\n"
   ]
  },
  {
   "cell_type": "code",
   "execution_count": 136,
   "metadata": {
    "collapsed": false
   },
   "outputs": [
    {
     "name": "stderr",
     "output_type": "stream",
     "text": [
      "WARNING: Method definition getProtein(Any) in module Main at In[90]:3 overwritten at In[136]:3.\n"
     ]
    },
    {
     "data": {
      "text/plain": [
       "getProtein (generic function with 1 method)"
      ]
     },
     "execution_count": 136,
     "metadata": {},
     "output_type": "execute_result"
    }
   ],
   "source": [
    "#Downloads the fasta file for a protein sequence given it's id\n",
    "function getProtein(id)\n",
    "    url = @sprintf(\"http://www.uniprot.org/uniprot/%s.fasta\",id)\n",
    "    file_location = @sprintf(\"/home/dom/Julia/Rosalind/Files/%s.fa\",id) \n",
    "    download(url, file_location)\n",
    "end"
   ]
  },
  {
   "cell_type": "code",
   "execution_count": 144,
   "metadata": {
    "collapsed": false
   },
   "outputs": [
    {
     "name": "stderr",
     "output_type": "stream",
     "text": [
      "  % Total    % Received % Xferd  Average Speed   Time    Time     Time  Current\n",
      "                                 Dload  Upload   Total   Spent    Left  Speed\n",
      "  0     0    0     0    0     0      0      0 --:--:-- --:--:-- --:--:--     0\n",
      "100   575  100   575    0     0   1515      0 --:--:-- --:--:-- --:--:--  1515\n",
      "  % Total    % Received % Xferd  Average Speed   Time    Time     Time  Current\n",
      "                                 Dload  Upload   Total   Spent    Left  Speed\n",
      "  0     0    0     0    0     0      0      0 --:--:-- --:--:-- --:--:--     0\n",
      "100   555  100   555    0     0   1027      0 --:--:-- --:--:-- --:--:--     0\n",
      "  % Total    % Received % Xferd  Average Speed   Time    Time     Time  Current\n",
      "                                 Dload  Upload   Total   Spent    Left  Speed\n",
      "100   481  100   481    0     0   1159      0 --:--:-- --:--:-- --:--:--  1448\n",
      "  % Total    % Received % Xferd  Average Speed   Time    Time     Time  Current\n",
      "                                 Dload  Upload   Total   Spent    Left  Speed\n",
      "  0     0    0     0    0     0      0      0 --:--:-- --:--:-- --:--:--     0\n",
      "100   525  100   525    0     0    795      0 --:--:-- --:--:-- --:--:--   795\n",
      "  % Total    % Received % Xferd  Average Speed   Time    Time     Time  Current\n",
      "                                 Dload  Upload   Total   Spent    Left  Speed\n",
      "100  1372  100  1372    0     0   2570      0 --:--:-- --:--:-- --:--:--  3338\n",
      "  % Total    % Received % Xferd  Average Speed   Time    Time     Time  Current\n",
      "                                 Dload  Upload   Total   Spent    Left  Speed\n",
      "100   233  100   233    0     0    453      0 --:--:-- --:--:-- --:--:--   669\n",
      "  % Total    % Received % Xferd  Average Speed   Time    Time     Time  Current\n",
      "                                 Dload  Upload   Total   Spent    Left  Speed\n",
      "100   468  100   468    0     0    865      0 --:--:-- --:--:-- --:--:--  1068\n",
      "  % Total    % Received % Xferd  Average Speed   Time    Time     Time  Current\n",
      "                                 Dload  Upload   Total   Spent    Left  Speed\n",
      "  0     0    0     0    0     0      0      0 --:--:--  0:00:01 --:--:--     0\n",
      "100   698  100   698    0     0    327      0  0:00:02  0:00:02 --:--:--   327\n",
      "  % Total    % Received % Xferd  Average Speed   Time    Time     Time  Current\n",
      "                                 Dload  Upload   Total   Spent    Left  Speed\n",
      "100   419  100   419    0     0   1147      0 --:--:-- --:--:-- --:--:--  1534\n",
      "  % Total    % Received % Xferd  Average Speed   Time    Time     Time  Current\n",
      "                                 Dload  Upload   Total   Spent    Left  Speed\n",
      "  0     0    0     0    0     0      0      0 --:--:-- --:--:-- --:--:--     0\n",
      "100   487  100   487    0     0    793      0 --:--:-- --:--:-- --:--:--   793\n",
      "  % Total    % Received % Xferd  Average Speed   Time    Time     Time  Current\n",
      "                                 Dload  Upload   Total   Spent    Left  Speed\n",
      "100   354  100   354    0     0    513      0 --:--:-- --:--:-- --:--:--   709\n",
      "  % Total    % Received % Xferd  Average Speed   Time    Time     Time  Current\n",
      "                                 Dload  Upload   Total   Spent    Left  Speed\n",
      "100   371  100   371    0     0    681      0 --:--:-- --:--:-- --:--:--  1010\n",
      "  % Total    % Received % Xferd  Average Speed   Time    Time     Time  Current\n",
      "                                 Dload  Upload   Total   Spent    Left  Speed\n",
      "100   241  100   241    0     0    486      0 --:--:-- --:--:-- --:--:--   663\n",
      "  % Total    % Received % Xferd  Average Speed   Time    Time     Time  Current\n",
      "                                 Dload  Upload   Total   Spent    Left  Speed\n",
      "  0     0    0     0    0     0      0      0 --:--:-- --:--:-- --:--:--     0\n",
      "100   448  100   448    0     0    695      0 --:--:-- --:--:-- --:--:--   695\n"
     ]
    },
    {
     "data": {
      "text/plain": [
       "14-element Array{String,1}:\n",
       " \"/home/dom/Julia/Rosalind/Files/P00743_FA10_BOVIN.fa\"\n",
       " \"/home/dom/Julia/Rosalind/Files/P07987_GUX2_TRIRE.fa\"\n",
       " \"/home/dom/Julia/Rosalind/Files/Q3B391.fa\"           \n",
       " \"/home/dom/Julia/Rosalind/Files/P10761_ZP3_MOUSE.fa\" \n",
       " \"/home/dom/Julia/Rosalind/Files/Q7TMB8.fa\"           \n",
       " \"/home/dom/Julia/Rosalind/Files/Q706D1.fa\"           \n",
       " \"/home/dom/Julia/Rosalind/Files/A4TEW1.fa\"           \n",
       " \"/home/dom/Julia/Rosalind/Files/P01044_KNH1_BOVIN.fa\"\n",
       " \"/home/dom/Julia/Rosalind/Files/P0A4Y7.fa\"           \n",
       " \"/home/dom/Julia/Rosalind/Files/P00744_PRTZ_BOVIN.fa\"\n",
       " \"/home/dom/Julia/Rosalind/Files/B4U0J5.fa\"           \n",
       " \"/home/dom/Julia/Rosalind/Files/P07925.fa\"           \n",
       " \"/home/dom/Julia/Rosalind/Files/P0AAM4.fa\"           \n",
       " \"/home/dom/Julia/Rosalind/Files/P36913_EBA3_FLAME.fa\""
      ]
     },
     "execution_count": 144,
     "metadata": {},
     "output_type": "execute_result"
    }
   ],
   "source": [
    "#Downloads the fasta files and returns a list with their locations\n",
    "protein_location = map(x -> getProtein(x),protein_ids)"
   ]
  },
  {
   "cell_type": "code",
   "execution_count": 145,
   "metadata": {
    "collapsed": false
   },
   "outputs": [],
   "source": [
    "#Push the sequences into a array that contains there strings\n",
    "\n",
    "using Bio.Seq\n",
    "\n",
    "ProteinSeq = []\n",
    "\n",
    "for location in protein_location\n",
    "    reader = open(FASTAReader,location)\n",
    "    for record in reader\n",
    "        seq = sequence(record)\n",
    "        seq = convert(String,seq)\n",
    "        push!(ProteinSeq,seq)\n",
    "    end\n",
    "    close(reader)\n",
    "end\n"
   ]
  },
  {
   "cell_type": "code",
   "execution_count": 109,
   "metadata": {
    "collapsed": false
   },
   "outputs": [
    {
     "name": "stdout",
     "output_type": "stream",
     "text": [
      "47 115 382 409"
     ]
    }
   ],
   "source": [
    "#This gets the index of the first match I don't really get the offset code however\n",
    "location = [x.offset for x in eachmatch(r\"N[^P](S|T)[^P]\",ProteinSeq[3])]\n",
    "print(join(location,\" \"))"
   ]
  },
  {
   "cell_type": "code",
   "execution_count": 146,
   "metadata": {
    "collapsed": false,
    "scrolled": true
   },
   "outputs": [
    {
     "name": "stdout",
     "output_type": "stream",
     "text": [
      "P00743_FA10_BOVIN\n",
      "218\n",
      "P07987_GUX2_TRIRE\n",
      "38 313 334\n",
      "Q3B391\n",
      "238\n",
      "P10761_ZP3_MOUSE\n",
      "146 273 304 327 330\n",
      "Q7TMB8\n",
      "209 291 328 442 607 672 831 858\n",
      "P01044_KNH1_BOVIN\n",
      "47 87 168 169 197 204\n",
      "P00744_PRTZ_BOVIN\n",
      "59 191 289\n",
      "P07925\n",
      "10 49 278\n",
      "P36913_EBA3_FLAME\n",
      "255 316\n"
     ]
    }
   ],
   "source": [
    "for i in 1:length(protein_ids)\n",
    "    location = [x.offset for x in eachmatch(r\"N[^P](S|T)[^P]\",ProteinSeq[i],true)]\n",
    "    if length(location) > 0 \n",
    "        print(protein_ids[i],\"\\n\",join(location,\" \"),\"\\n\")\n",
    "    end\n",
    "end"
   ]
  },
  {
   "cell_type": "code",
   "execution_count": 147,
   "metadata": {
    "collapsed": false
   },
   "outputs": [],
   "source": [
    "#Remove all them fasta file we downloaded\n",
    "# run(`rm /home/dom/Julia/Rosalind/Files/*.fa`) this don't work for some reason\n",
    "run(`rm $protein_location`)"
   ]
  },
  {
   "cell_type": "code",
   "execution_count": 139,
   "metadata": {
    "collapsed": false
   },
   "outputs": [],
   "source": [
    "\n"
   ]
  }
 ],
 "metadata": {
  "anaconda-cloud": {},
  "kernelspec": {
   "display_name": "Julia 0.5.0",
   "language": "julia",
   "name": "julia-0.5"
  },
  "language_info": {
   "file_extension": ".jl",
   "mimetype": "application/julia",
   "name": "julia",
   "version": "0.5.0"
  }
 },
 "nbformat": 4,
 "nbformat_minor": 1
}
