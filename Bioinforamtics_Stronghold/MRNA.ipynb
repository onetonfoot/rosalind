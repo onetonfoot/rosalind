{
 "cells": [
  {
   "cell_type": "markdown",
   "metadata": {},
   "source": [
    "# Modular arithmetic\n",
    "\n",
    "Moudlar arithmetic can be used to do maths with really large number but not having to worry about the whole number.\n",
    "Can kinda think taking the mod on something as counting in a circle, the clock bellow represents mod 12 <br>\n",
    "<img src=\"http://latex.artofproblemsolving.com/f/4/d/f4daa2601de14fddf3d8441e16cc322a25e85354.png\"\n",
    "style=\"width:30%;\">\n",
    "\n",
    "<br>\n",
    "\n",
    "To thake the mod start at 1 and count around the clock for the size of the number\n",
    "\n"
   ]
  },
  {
   "cell_type": "code",
   "execution_count": 6,
   "metadata": {
    "collapsed": false
   },
   "outputs": [
    {
     "data": {
      "text/plain": [
       "5"
      ]
     },
     "execution_count": 6,
     "metadata": {},
     "output_type": "execute_result"
    }
   ],
   "source": [
    "29%12"
   ]
  },
  {
   "cell_type": "code",
   "execution_count": 8,
   "metadata": {
    "collapsed": false
   },
   "outputs": [
    {
     "data": {
      "text/plain": [
       "5"
      ]
     },
     "execution_count": 8,
     "metadata": {},
     "output_type": "execute_result"
    }
   ],
   "source": [
    "17%12"
   ]
  },
  {
   "cell_type": "code",
   "execution_count": 170,
   "metadata": {
    "collapsed": false
   },
   "outputs": [
    {
     "data": {
      "text/html": [
       "0.77"
      ],
      "text/plain": [
       "0.77"
      ]
     },
     "execution_count": 170,
     "metadata": {},
     "output_type": "execute_result"
    }
   ],
   "source": [
    "0.77%1\n",
    "\n"
   ]
  },
  {
   "cell_type": "code",
   "execution_count": 22,
   "metadata": {
    "collapsed": false
   },
   "outputs": [
    {
     "data": {
      "text/plain": [
       "11"
      ]
     },
     "execution_count": 22,
     "metadata": {},
     "output_type": "execute_result"
    }
   ],
   "source": [
    "a = 29\n",
    "b = 73\n",
    "c = 10 \n",
    "d = 32\n",
    "n = 11"
   ]
  },
  {
   "cell_type": "markdown",
   "metadata": {},
   "source": [
    "Both 29 mod 12 and 17 mod 12 give 5 so we say they are congruent. In general if a - b is a multiple of the mod the numbers will be congruent"
   ]
  },
  {
   "cell_type": "markdown",
   "metadata": {},
   "source": [
    "# Codon table "
   ]
  },
  {
   "cell_type": "markdown",
   "metadata": {},
   "source": [
    "<table border=\"2\" cellpadding=\"1\" cellspacing=\"1\"><tbody><tr><td width=\"180\" bordercolordark=\"#000000\" bordercolor=\"#000000\"><p align=\"center\"><font face=\"Courier\"><strong>Amino Acid</strong></font></p></td>\n",
    "          <td width=\"48\" align=\"center\" bordercolordark=\"#000000\" bordercolor=\"#000000\"><font face=\"Courier\"><strong>SLC</strong></font></td>\n",
    "          <td align=\"center\" nowrap=\"NOWRAP\" bordercolordark=\"#000000\" bordercolor=\"#000000\" width=\"300\"><p align=\"center\"><font face=\"Courier\" size=\"3\"><strong>DNA codons</strong></font></p></td>\n",
    "        </tr>\n",
    "        <tr>\n",
    "          <td width=\"180\" align=\"center\"><p align=\"left\"><font face=\"Courier\" size=\"3\">Isoleucine\n",
    "          &nbsp; </font></p></td>\n",
    "          <td width=\"48\" align=\"center\"><p align=\"center\"><font face=\"Courier\" size=\"3\">I</font></p></td>\n",
    "          <td align=\"center\" nowrap=\"NOWRAP\" width=\"300\"><p align=\"left\"><font face=\"Courier\" size=\"3\">ATT,\n",
    "          ATC, ATA</font></p></td>\n",
    "        </tr>\n",
    "        <tr>\n",
    "          <td width=\"180\"><font face=\"Courier\" size=\"3\">Leucine&nbsp;&nbsp; </font></td>\n",
    "          <td width=\"48\"><p align=\"center\"><font face=\"Courier\" size=\"3\">L</font></p></td>\n",
    "          <td nowrap=\"NOWRAP\" width=\"300\"><font face=\"Courier\" size=\"3\">CTT, CTC, CTA, CTG, TTA, TTG</font></td>\n",
    "        </tr>\n",
    "        <tr>\n",
    "          <td width=\"180\"><font face=\"Courier\" size=\"3\">Valine </font></td>\n",
    "          <td width=\"48\"><p align=\"center\"><font face=\"Courier\" size=\"3\">V</font></p></td>\n",
    "          <td width=\"300\"><font face=\"Courier\" size=\"3\">GTT, GTC, GTA, GTG</font></td>\n",
    "        </tr>\n",
    "        <tr>\n",
    "          <td width=\"180\"><font face=\"Courier\" size=\"3\">Phenylalanine&nbsp;&nbsp; </font></td>\n",
    "          <td width=\"48\"><p align=\"center\"><font face=\"Courier\" size=\"3\">F</font></p></td>\n",
    "          <td width=\"300\"><font face=\"Courier\" size=\"3\">TTT, TTC</font></td>\n",
    "        </tr>\n",
    "        <tr>\n",
    "          <td width=\"180\"><font face=\"Courier\" size=\"3\">Methionine</font></td>\n",
    "          <td width=\"48\" align=\"center\"><font face=\"Courier\" size=\"3\">M</font></td>\n",
    "          <td width=\"300\"><font face=\"Courier\" size=\"3\">ATG</font></td>\n",
    "        </tr>\n",
    "        <tr>\n",
    "          <td width=\"180\"><font face=\"Courier\" size=\"3\">Cysteine&nbsp;</font></td>\n",
    "          <td width=\"48\" align=\"center\"><font face=\"Courier\">C</font></td>\n",
    "          <td width=\"300\"><p align=\"left\"><font face=\"Courier\" size=\"3\">TGT, TGC</font></p></td>\n",
    "        </tr>\n",
    "        <tr>\n",
    "          <td width=\"180\"><font face=\"Courier\" size=\"3\">Alanine &nbsp;&nbsp;&nbsp;&nbsp;&nbsp; </font></td>\n",
    "          <td width=\"48\"><p align=\"center\"><font face=\"Courier\" size=\"3\">A</font></p></td>\n",
    "          <td width=\"300\"><p align=\"left\"><font face=\"Courier\" size=\"3\">GCT, GCC,\n",
    "          GCA, GCG </font></p></td>\n",
    "        </tr>\n",
    "        <tr>\n",
    "          <td width=\"180\"><font face=\"Courier\" size=\"3\">Glycine&nbsp;&nbsp; </font></td>\n",
    "          <td width=\"48\"><p align=\"center\"><font face=\"Courier\" size=\"3\">G</font></p></td>\n",
    "          <td width=\"300\"><font face=\"Courier\" size=\"3\">GGT, GGC, GGA, GGG </font></td>\n",
    "        </tr>\n",
    "        <tr>\n",
    "          <td width=\"180\"><font face=\"Courier\" size=\"3\">Proline &nbsp;&nbsp;&nbsp;&nbsp;&nbsp; </font></td>\n",
    "          <td width=\"48\"><p align=\"center\"><font face=\"Courier\" size=\"3\">P</font></p></td>\n",
    "          <td width=\"300\"><font face=\"Courier\" size=\"3\">CCT, CCC, CCA, CCG</font></td>\n",
    "        </tr>\n",
    "        <tr>\n",
    "          <td width=\"180\"><font face=\"Courier\" size=\"3\">Threonine&nbsp;&nbsp; </font></td>\n",
    "          <td width=\"48\"><p align=\"center\"><font face=\"Courier\" size=\"3\">T</font></p></td>\n",
    "          <td width=\"300\"><font face=\"Courier\" size=\"3\">ACT, ACC, ACA, ACG</font></td>\n",
    "        </tr>\n",
    "        <tr>\n",
    "          <td width=\"180\"><font face=\"Courier\" size=\"3\">Serine &nbsp;&nbsp;&nbsp;&nbsp;&nbsp;&nbsp; </font></td>\n",
    "          <td width=\"48\" align=\"center\"><font face=\"Courier\" size=\"3\">S</font></td>\n",
    "          <td width=\"300\"><font face=\"Courier\" size=\"3\">TCT, TCC, TCA, TCG, AGT, AGC</font></td>\n",
    "        </tr>\n",
    "        <tr>\n",
    "          <td width=\"180\"><p align=\"left\"><font size=\"3\"><font face=\"Courier\">Tyrosine&nbsp;&nbsp; </font></font></p></td>\n",
    "          <td width=\"48\" align=\"center\"><font face=\"Courier\" size=\"3\">Y</font></td>\n",
    "          <td width=\"300\"><font face=\"Courier\" size=\"3\">TAT, TAC</font></td>\n",
    "        </tr>\n",
    "        <tr>\n",
    "          <td width=\"180\"><font face=\"Courier\" size=\"3\">Tryptophan&nbsp;&nbsp; </font></td>\n",
    "          <td width=\"48\" align=\"center\"><font face=\"Courier\" size=\"3\">W</font></td>\n",
    "          <td width=\"300\"><font face=\"Courier\" size=\"3\">TGG</font></td>\n",
    "        </tr>\n",
    "        <tr>\n",
    "          <td width=\"180\"><font face=\"Courier\" size=\"3\">Glutamine&nbsp;&nbsp; </font></td>\n",
    "          <td width=\"48\" align=\"center\"><font face=\"Courier\" size=\"3\">Q</font></td>\n",
    "          <td width=\"300\"><font face=\"Courier\" size=\"3\">CAA, CAG</font></td>\n",
    "        </tr>\n",
    "        <tr>\n",
    "          <td width=\"180\"><font face=\"Courier\" size=\"3\">Asparagine&nbsp;&nbsp; </font></td>\n",
    "          <td width=\"48\" align=\"center\"><font face=\"Courier\" size=\"3\">N</font></td>\n",
    "          <td width=\"300\"><font face=\"Courier\" size=\"3\">AAT, AAC</font></td>\n",
    "        </tr>\n",
    "        <tr>\n",
    "          <td width=\"180\"><font face=\"Courier\" size=\"3\">Histidine&nbsp;</font></td>\n",
    "          <td width=\"48\"><p align=\"center\"><font face=\"Courier\" size=\"3\">H</font></p></td>\n",
    "          <td width=\"300\"><font face=\"Courier\" size=\"3\">CAT, CAC</font></td>\n",
    "        </tr>\n",
    "        <tr>\n",
    "          <td width=\"180\"><font face=\"Courier\" size=\"3\">Glutamic acid&nbsp;&nbsp; </font></td>\n",
    "          <td width=\"48\"><p align=\"center\"><font face=\"Courier\" size=\"3\">E</font></p></td>\n",
    "          <td width=\"300\"><font face=\"Courier\" size=\"3\">GAA, GAG</font></td>\n",
    "        </tr>\n",
    "        <tr>\n",
    "          <td width=\"180\"><p align=\"left\"><font size=\"3\"><font face=\"Courier\">Aspartic acid&nbsp; </font></font></p></td>\n",
    "          <td width=\"48\"><p align=\"center\"><font face=\"Courier\" size=\"3\">D</font></p></td>\n",
    "          <td width=\"300\"><font face=\"Courier\" size=\"3\">GAT, GAC</font></td>\n",
    "        </tr>\n",
    "        <tr>\n",
    "          <td width=\"180\"><font face=\"Courier\" size=\"3\">Lysine &nbsp;&nbsp;&nbsp;&nbsp;&nbsp;&nbsp; </font></td>\n",
    "          <td width=\"48\"><p align=\"center\"><font face=\"Courier\" size=\"3\">K</font></p></td>\n",
    "          <td width=\"300\"><font face=\"Courier\" size=\"3\">AAA, AAG</font></td>\n",
    "        </tr>\n",
    "        <tr>\n",
    "          <td width=\"180\"><font face=\"Courier\" size=\"3\">Arginine&nbsp;&nbsp; </font></td>\n",
    "          <td width=\"48\"><p align=\"center\"><font face=\"Courier\" size=\"3\">R</font></p></td>\n",
    "          <td width=\"300\"><font face=\"Courier\" size=\"3\">CGT, CGC, CGA, CGG, AGA, AGG</font></td>\n",
    "        </tr>\n",
    "        <tr>\n",
    "          <td width=\"180\"><font face=\"Courier\" size=\"3\">Stop codons </font></td>\n",
    "          <td width=\"48\"><font face=\"Courier\" size=\"3\">Stop </font></td>\n",
    "          <td width=\"300\"><font face=\"Courier\" size=\"3\">TAA, TAG, TGA </font></td>\n",
    "        </tr>\n",
    "        <tr>\n",
    "      </tbody></table>"
   ]
  },
  {
   "cell_type": "markdown",
   "metadata": {},
   "source": [
    "The string **MA** could have been created by **12** diffent rna chains\n",
    "\n",
    "Looking at the codon table there is **1** methionine codon, **4** alanine codons and **3** stop codons."
   ]
  },
  {
   "cell_type": "code",
   "execution_count": 27,
   "metadata": {
    "collapsed": false
   },
   "outputs": [
    {
     "data": {
      "text/plain": [
       "12"
      ]
     },
     "execution_count": 27,
     "metadata": {},
     "output_type": "execute_result"
    }
   ],
   "source": [
    "1*4*3"
   ]
  },
  {
   "cell_type": "code",
   "execution_count": 322,
   "metadata": {
    "collapsed": false
   },
   "outputs": [],
   "source": [
    "codon_dict = Dict(\n",
    "'W' => 1,\n",
    "'M' => 1,\n",
    "'F' => 2,\n",
    "'C' => 2,\n",
    "'Y' => 2,\n",
    "'Q' => 2,\n",
    "'N' => 2,\n",
    "'H' => 2,\n",
    "'E' => 2,\n",
    "'D' => 2,\n",
    "'K' => 2,\n",
    "'I' => 3,\n",
    "'V' => 4,\n",
    "'A' => 4,\n",
    "'G' => 4,\n",
    "'P' => 4,\n",
    "'T' => 4,\n",
    "'L' => 6,\n",
    "'S' => 6,\n",
    "'R' => 6,\n",
    ")\n",
    ";"
   ]
  },
  {
   "cell_type": "code",
   "execution_count": 317,
   "metadata": {
    "collapsed": false
   },
   "outputs": [
    {
     "name": "stderr",
     "output_type": "stream",
     "text": [
      "WARNING: Method definition mod_protein(Any) in module Main at In[269]:3 overwritten at In[317]:3.\n"
     ]
    },
    {
     "data": {
      "text/plain": [
       "mod_protein (generic function with 1 method)"
      ]
     },
     "execution_count": 317,
     "metadata": {},
     "output_type": "execute_result"
    }
   ],
   "source": [
    "function mod_protein(str)\n",
    "    \n",
    "    #Convert aa to number of possible codons\n",
    "    number_array = [codon_dict[i] for i in str]\n",
    "    #Add the stop codon\n",
    "    append!(number_array,3)\n",
    " \n",
    "    total = 1\n",
    "    for i in number_array\n",
    "        total = (total * i)%10^6\n",
    "    end\n",
    "    \n",
    "    return total\n",
    "\n",
    "end"
   ]
  },
  {
   "cell_type": "code",
   "execution_count": 324,
   "metadata": {
    "collapsed": false
   },
   "outputs": [
    {
     "data": {
      "text/plain": [
       "\"MRWTRAFHENMAINNTQWRDSFLYQCMAKRENRGMYMCMYLRIHHRGYKATPQDNMQRCEVVKYHLNQWRKTQNKLDAARWCYMRLAGIVWGPKLYVTGMHKSSDRCVSWPYWDQDFTHPKGNIRICYRIGWTYLTWGMPALCMCTSITWWVAVEAMHKNRMNHEMDEDGRMSDMSHWQSFTVDSDNQFQIKEDAVLVWWDVWNDITQYFWGQGHEPIVIPRKNGCPIMHQNQFRQYQYCHCQNEIRMGAQIDRSMDRTLFRFNLLVMLYGETVIRHTSMAQDASFECTKCGKLFVAVFKYCDNQQLSLDPSTQIYIDQATSYFAQMGVQVNRIDYDADDTVRNVGLMQNTHYPNKHNPCSSLMVQPHHVYVVFQHECNLQMNMFTDNVYMRTTAHNHDVMNTDWAEPIIRTHQSKIDILQSCYPHYNGKNNHNANDGHTQPTFKNLFAHARNSYANMYKDCVIDFQDHHWLMHHRSWGEKYEAETDAWVAHVEDYLFSDFGQFEIHYARSHTCCEVWIAPPLRQLFHVHGNKSEMFFPCLVWLTPYQPWNVRRPRNHYCMLPDMVIKYSMDASMLRFMMNKSQALHWVHAYYDSIARADTWLAARNLQANQKNFACIADEPEITRSTIDQWKWCRIRGEKHAKISSCPYEGISGWQMWNPSTIKALTWWAWACMKDPILCFFSKGVSYMEDHITISLVCPSQAHQRDCGPKYQNGGRHCRAMFHYDLGCCAREYYWTGDSEHQFLQEMQCCIDASHTPYYLRQKENKRIIHFPWNAENANEISPTLMGCPPTWGHEYSRKIEQVNGVHGTMYYRMTLNEFWSWQQTQLTLAMYVIDFCELCRRGCDTVAIFNQGNQCMFCYARQGIWQLVKWMYQGYVYKYRFYEFWTIGYVMCDNKDVVGYSGKIVIFTKTVDHVVISMLVYIQLIWVDEMNGKYYGWVCIFKKLNQYWSNGLDMVYQYEKGDMLVNYPAQWIVDQNKIWKVWVYLVCDKDAPCHIAS\""
      ]
     },
     "execution_count": 324,
     "metadata": {},
     "output_type": "execute_result"
    }
   ],
   "source": [
    "s = strip(readline(\"/home/dom/Julia/Rosalind/Files/rosalind_mrna.txt\"))\n"
   ]
  },
  {
   "cell_type": "code",
   "execution_count": 325,
   "metadata": {
    "collapsed": false
   },
   "outputs": [
    {
     "data": {
      "text/plain": [
       "819072"
      ]
     },
     "execution_count": 325,
     "metadata": {},
     "output_type": "execute_result"
    }
   ],
   "source": [
    "mod_protein(s)"
   ]
  }
 ],
 "metadata": {
  "kernelspec": {
   "display_name": "Julia 0.5.0",
   "language": "julia",
   "name": "julia-0.5"
  },
  "language_info": {
   "file_extension": ".jl",
   "mimetype": "application/julia",
   "name": "julia",
   "version": "0.5.0"
  }
 },
 "nbformat": 4,
 "nbformat_minor": 1
}
