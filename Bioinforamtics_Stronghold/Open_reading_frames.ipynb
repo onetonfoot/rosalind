{
 "cells": [
  {
   "cell_type": "code",
   "execution_count": null,
   "metadata": {},
   "outputs": [],
   "source": [
    "using BioSequences"
   ]
  },
  {
   "cell_type": "markdown",
   "metadata": {},
   "source": [
    "* Start codon: ATG\n",
    "* Stop codons: TAG , TGA, and TAA."
   ]
  },
  {
   "cell_type": "code",
   "execution_count": 200,
   "metadata": {},
   "outputs": [],
   "source": [
    "function BioSequences.reverse_complement(seq::AbstractString)\n",
    "    \n",
    "    d = Dict('A'=>'T','T'=>'A','G'=>'C','C'=>'G')\n",
    "    rev_seq = Array{Char}(length(seq))\n",
    "    for (i,n) in enumerate(reverse(seq))\n",
    "        rev_seq[i] = d[n]\n",
    "    end\n",
    "    \n",
    "    return join(rev_seq)\n",
    "end\n",
    "        "
   ]
  },
  {
   "cell_type": "code",
   "execution_count": 201,
   "metadata": {},
   "outputs": [],
   "source": [
    "function BioSequences.translate(dna::DNASequence)\n",
    "    \n",
    "    #Convient method, issue one warning but then just do it for em\n",
    "    rna = convert(RNASequence,dna)\n",
    "    translate(rna)\n",
    "    \n",
    "end"
   ]
  },
  {
   "cell_type": "code",
   "execution_count": 198,
   "metadata": {},
   "outputs": [],
   "source": [
    "function BioSequences.translate(seq::AbstractString)\n",
    "    \n",
    "    #Check it only contains appropitate characters\n",
    "    #and it a multiple of 3\n",
    "    dna = convert(DNASequence,seq)\n",
    "    rna = convert(RNASequence,dna)\n",
    "    translate(rna) \n",
    "    \n",
    "end"
   ]
  },
  {
   "cell_type": "code",
   "execution_count": 213,
   "metadata": {},
   "outputs": [
    {
     "data": {
      "text/plain": [
       "\"GGAATCGACGTTTCAATCCTCTGTTCAGGGAACGCAAGGGAAGCGGTAGGGGCGACCTGAATTTCACGAAATAACCCGGCGGCGGCCTCGTGGCGTTAAATTGAAATCGCTTCACCTCGGCAACGAAGCCCGAGCATACGCAGGACCTGATTTTGTCAGTTCGATAGCCTGTACGGAATCATTAAGATCGCTTAGTTTCAGCGTACAACTGATCTGAACGTGGACTACGCCTTGGGTCGAGCCTGCCCCGGCCCAACATTCTTCGGGCTCCAAAGGAGATTTACCCACCGATATACACAGTTCGACCCGTGCATGAATGAAGACTATCGCCGAGCAGGTCTCGTCCCCCTGCCCGCTATAGGTCAAGGGGCCATGGACTTACTTGCGGGGTCGCACAGGCGGCGCACCATAGGCCTAGCTGGGATGCAGCGACCCTCATACTCCAAATCATGGATATAGCTATATCCATGATTTGGAGTATGAGGGTCGCTGCATTTGAGCTCGCTCGGAGTCACCCCCAGGAGGGCAACACTTCACTATAATCTAGCGCTGGACTTGGGACACCCTGCCGAACCTTCACACCAGCACCGCATAGGGCGATTGTCTATCCCAGGCGGTTGGCTTCGCAATAGTCATCATGGTCAAGTCTATGACAGCGATCTGTTCAAAAAAGCGGACCACTTCGAGCCGTTCAGAAACTAATACCAGCCCTTCCCGGTCGGCAGAGACCATCGCGAACTTCATCCCAGCCGTATGTGACGTCGCAAACTGCCTAGGTGATGACGGGGACCTCATACACACTCAAAATCGAAAGGGAAGTAGAGACCCGTACACTAGCAACCGGCGAGTGGGATGTTGTAGCGGCATAGAACACGGTAGACAGGGGCATACACGAAACTTTGAGGCCGGTGCCCCTAA\""
      ]
     },
     "execution_count": 213,
     "metadata": {},
     "output_type": "execute_result"
    }
   ],
   "source": [
    "r = FASTA.Reader(open(\"data/rosalind_orf.txt\", \"r\"))\n",
    "record = first(r)\n",
    "seq = String(sequence(record))\n",
    "rev_seq = reverse_complement(seq)"
   ]
  },
  {
   "cell_type": "code",
   "execution_count": 215,
   "metadata": {},
   "outputs": [],
   "source": [
    "re = r\"(?=(?=ATG)((?:.{3})+?)(T(?:AG|AA|GA)))\"\n",
    "forward = map(x -> x[1],eachmatch(re,seq))\n",
    "rev = map(x -> x[1],eachmatch(re,rev_seq))\n",
    "orfs = unique([forward ;rev]);"
   ]
  },
  {
   "cell_type": "code",
   "execution_count": 216,
   "metadata": {},
   "outputs": [
    {
     "data": {
      "text/plain": [
       "27-element Array{BioSequences.BioSequence{BioSequences.AminoAcidAlphabet},1}:\n",
       " MPLSTVFYAATTSHSPVASVRVSTSLSILSVYEVPVIT                                  \n",
       " MPLQHPTRRLLVYGSLLPFRF                                                   \n",
       " MRSPSSPRQFATSHTAGMKFAMVSADREGLVLVSERLEVVRFFEQIAVIDLTMMTIAKPTAWDRQSPYAVLV\n",
       " MKFAMVSADREGLVLVSERLEVVRFFEQIAVIDLTMMTIAKPTAWDRQSPYAVLV                 \n",
       " MVSADREGLVLVSERLEVVRFFEQIAVIDLTMMTIAKPTAWDRQSPYAVLV                     \n",
       " MMTIAKPTAWDRQSPYAVLV                                                    \n",
       " MTIAKPTAWDRQSPYAVLV                                                     \n",
       " MRCWCEGSAGCPKSSARL                                                      \n",
       " MQRPSYSKSWI                                                             \n",
       " MDIAISMIWSMRVAASQLGLWCAACATPQVSPWPLDL                                   \n",
       " MIWSMRVAASQLGLWCAACATPQVSPWPLDL                                         \n",
       " MRVAASQLGLWCAACATPQVSPWPLDL                                             \n",
       " MVRRLCDPASKSMAP                                                         \n",
       " ⋮                                                                       \n",
       " MLGRGRLDPRRSPRSDQLYAETKRS                                               \n",
       " MIPYRLSN                                                                \n",
       " MLGLRCRGEAISI                                                           \n",
       " MNEDYRRAGLVPLPAIGQGAMDLLAGSHRRRTIGLAGMQRPSYSKSWI                        \n",
       " MKTIAEQVSSPCPL                                                          \n",
       " MDLLAGSHRRRTIGLAGMQRPSYSKSWI                                            \n",
       " MDIAISMIWSMRVAAFELARSHPQEGNTSL                                          \n",
       " MIWSMRVAAFELARSHPQEGNTSL                                                \n",
       " MRVAAFELARSHPQEGNTSL                                                    \n",
       " M                                                                       \n",
       " MTGTSYTLKIEREVETRTLATGEWDVVAA                                           \n",
       " ML                                                                      "
      ]
     },
     "execution_count": 216,
     "metadata": {},
     "output_type": "execute_result"
    }
   ],
   "source": [
    "proteins = translate.(orfs)"
   ]
  },
  {
   "cell_type": "code",
   "execution_count": 217,
   "metadata": {},
   "outputs": [
    {
     "data": {
      "text/html": [
       "715"
      ],
      "text/plain": [
       "715"
      ]
     },
     "execution_count": 217,
     "metadata": {},
     "output_type": "execute_result"
    }
   ],
   "source": [
    "open(\"output/orf.txt\",\"w\") do f\n",
    "    write(f,join(proteins,\"\\n\"))\n",
    "end"
   ]
  }
 ],
 "metadata": {
  "kernelspec": {
   "display_name": "Julia 0.6.0",
   "language": "julia",
   "name": "julia-0.6"
  },
  "language_info": {
   "file_extension": ".jl",
   "mimetype": "application/julia",
   "name": "julia",
   "version": "0.6.0"
  }
 },
 "nbformat": 4,
 "nbformat_minor": 2
}
