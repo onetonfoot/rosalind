{
 "cells": [
  {
   "cell_type": "markdown",
   "metadata": {},
   "source": [
    "Convert a protein string into it mass in kDa"
   ]
  },
  {
   "cell_type": "code",
   "execution_count": 3,
   "metadata": {
    "collapsed": false
   },
   "outputs": [
    {
     "data": {
      "text/plain": [
       "Dict{Char,Float64} with 20 entries:\n",
       "  'M' => 131.04\n",
       "  'I' => 113.084\n",
       "  'Y' => 163.063\n",
       "  'L' => 113.084\n",
       "  'F' => 147.068\n",
       "  'Q' => 128.059\n",
       "  'D' => 115.027\n",
       "  'V' => 99.0684\n",
       "  'E' => 129.043\n",
       "  'T' => 101.048\n",
       "  'H' => 137.059\n",
       "  'P' => 97.0528\n",
       "  'G' => 57.0215\n",
       "  'N' => 114.043\n",
       "  'K' => 128.095\n",
       "  'C' => 103.009\n",
       "  'R' => 156.101\n",
       "  'W' => 186.079\n",
       "  'A' => 71.0371\n",
       "  'S' => 87.032"
      ]
     },
     "execution_count": 3,
     "metadata": {},
     "output_type": "execute_result"
    }
   ],
   "source": [
    "protein_dict = Dict(\n",
    "'A' =>  71.03711,\n",
    "'C' =>  103.00919,\n",
    "'D' =>  115.02694,\n",
    "'E' =>  129.04259,\n",
    "'F' =>  147.06841,\n",
    "'G' =>  57.02146,\n",
    "'H' =>  137.05891,\n",
    "'I' =>  113.08406,\n",
    "'K' =>  128.09496,\n",
    "'L' =>  113.08406,\n",
    "'M' =>  131.04049,\n",
    "'N' =>  114.04293,\n",
    "'P' =>  97.05276,\n",
    "'Q' =>  128.05858,\n",
    "'R' =>  156.10111,\n",
    "'S' =>  87.03203,\n",
    "'T' =>  101.04768,\n",
    "'V' =>  99.06841,\n",
    "'W' =>  186.07931,\n",
    "'Y' =>  163.06333 \n",
    ")\n"
   ]
  },
  {
   "cell_type": "code",
   "execution_count": 4,
   "metadata": {
    "collapsed": false
   },
   "outputs": [
    {
     "data": {
      "text/plain": [
       "\"SKADYEK\""
      ]
     },
     "execution_count": 4,
     "metadata": {},
     "output_type": "execute_result"
    }
   ],
   "source": [
    "str = \"SKADYEK\""
   ]
  },
  {
   "cell_type": "code",
   "execution_count": 12,
   "metadata": {
    "collapsed": false
   },
   "outputs": [
    {
     "name": "stderr",
     "output_type": "stream",
     "text": [
      "WARNING: Method definition kDa_protein(Any) in module Main at In[10]:2 overwritten at In[12]:2.\n"
     ]
    },
    {
     "data": {
      "text/plain": [
       "kDa_protein (generic function with 1 method)"
      ]
     },
     "execution_count": 12,
     "metadata": {},
     "output_type": "execute_result"
    }
   ],
   "source": [
    "function kDa_protein(string)\n",
    "    count = 0\n",
    "    for i in string\n",
    "        count += protein_dict[i]\n",
    "    end\n",
    "    \n",
    "    return round(count,3)\n",
    "end\n",
    "        "
   ]
  },
  {
   "cell_type": "code",
   "execution_count": 13,
   "metadata": {
    "collapsed": false
   },
   "outputs": [
    {
     "data": {
      "text/plain": [
       "821.392"
      ]
     },
     "execution_count": 13,
     "metadata": {},
     "output_type": "execute_result"
    }
   ],
   "source": [
    "kDa_protein(str)"
   ]
  },
  {
   "cell_type": "code",
   "execution_count": 15,
   "metadata": {
    "collapsed": false
   },
   "outputs": [
    {
     "data": {
      "text/plain": [
       "\"FYSEFNEDWWTWIHEHEEYYNAPNLGVQGRIIQEHCYCVQSKAHHIILEMSHGARLSYWFCCNANTISWEHIIQYSPNRTTIVGWWKHQEFNNYMLAVGCTTRAFSLSHVMCFVYKNNSFWFRPWIWTHESSYIDYKDCSFGNGSSKASQFHLQYDIDSVGTPQFQYPGSGLYCMPICCHCKSLEVTYKFLHPEKKKAVIHHCIMTCFATSSMMYTCNPLMTTDNKARYRSQDPYRDIIFHDRCFKTSHLMHVSMNAYNWWFGAEFLNGDFKLIQMNGFTEITTNHEMNSMTFPNGVYHPCSMVYSQQGILNDNGHYIHVEAKDKSWFCYKSYLERFSCRDPINIYLGQENPELCTFRWCPTRFTKEALHDCYTMQQKVMNPRQWWHWKGASFKDIKNREPNYEYQSNGVGIVMSHPRFDSSPHALEHRMPVWKYKEEALMIKHNAFFRCRHIDFHQSNASILITNLWHKQCGQIWVLCHFKPIKPFDESRPSSESFMTHAGEWTVNDTLSFSGFMRGCLQWYWVLDIHIGRCMWTHNTSRTVPPFYITHCKWEHEYGRNINQNPFYIHMFHKMQAYGQWEDSIKNNAVGRQGFQSFECYMPNDFSPLTNLYSPICLFVWDIGLLHCHYFGDSKTCHEFGWVMVGMKPFLLWHYIQVGCINYFSIQSFNGDPTRACAPKGNSSRHETQSNYCDYKGNLCARMAEPQHHILDGQPEYNNIAWIRYKPHVAWNVETAIVMQWAGNSWILWGFESKQQWQERWACFKAFWKDAYQGGLLDYDVRSPNQEAIGRPVYWRKLWTANHNTGSSQCTLTDCKFTIYDSHRWGRLESYKMPFPISVLYALAFETNTIANMCVDITMAHQGMYAPKDKWKCCGRYACRVFCCYQFCMCEMVVTRFEWEQCWSFRIKCIWEQFPVLRCPIRKHKFCNIYRIALPTNAWKPFVTQIKSAEYINNRVKTVSNCVAWWRHAFTAGDTYHARHPHMHTTERLVMPCVRAHWI\""
      ]
     },
     "execution_count": 15,
     "metadata": {},
     "output_type": "execute_result"
    }
   ],
   "source": [
    "str = readstring(\"/home/dom/Julia/Rosalind/Files/rosalind_prtm.txt\")\n",
    "str = strip(str)"
   ]
  },
  {
   "cell_type": "code",
   "execution_count": 16,
   "metadata": {
    "collapsed": false
   },
   "outputs": [
    {
     "data": {
      "text/plain": [
       "118559.867"
      ]
     },
     "execution_count": 16,
     "metadata": {},
     "output_type": "execute_result"
    }
   ],
   "source": [
    "kDa_protein(str)"
   ]
  }
 ],
 "metadata": {
  "kernelspec": {
   "display_name": "Julia 0.5.0",
   "language": "julia",
   "name": "julia-0.5"
  },
  "language_info": {
   "file_extension": ".jl",
   "mimetype": "application/julia",
   "name": "julia",
   "version": "0.5.0"
  }
 },
 "nbformat": 4,
 "nbformat_minor": 1
}
