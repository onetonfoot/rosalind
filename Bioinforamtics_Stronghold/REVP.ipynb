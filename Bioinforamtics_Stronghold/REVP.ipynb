{
 "cells": [
  {
   "cell_type": "code",
   "execution_count": 69,
   "metadata": {
    "collapsed": false
   },
   "outputs": [
    {
     "data": {
      "text/plain": [
       "6nt DNA Sequence:\n",
       "GCATGC"
      ]
     },
     "execution_count": 69,
     "metadata": {},
     "output_type": "execute_result"
    }
   ],
   "source": [
    "using Bio.Seq\n",
    "s = @dna_str \"GCATGC\"\n",
    "reverse_complement(s)"
   ]
  },
  {
   "cell_type": "markdown",
   "metadata": {},
   "source": [
    "Given a dna string return the position and length of the any palindromic sequences"
   ]
  },
  {
   "cell_type": "code",
   "execution_count": 70,
   "metadata": {
    "collapsed": false
   },
   "outputs": [
    {
     "data": {
      "text/plain": [
       "958nt DNA Sequence:\n",
       "GCGCAGTCTTTGGTCAGTTCATACCAGCTGGAGTTAGTA…CCGTTTGACCCGCCACCCCGTATCCGAAAATACTTGCGC"
      ]
     },
     "execution_count": 70,
     "metadata": {},
     "output_type": "execute_result"
    }
   ],
   "source": [
    "reader = open(FASTAReader,\"/home/dom/Julia/Rosalind/Files/rosalind_revp.txt\")\n",
    "record = first(reader)\n",
    "seq = sequence(record)\n",
    "\n",
    "\n"
   ]
  },
  {
   "cell_type": "markdown",
   "metadata": {
    "collapsed": false
   },
   "source": [
    "4 6 <br>\n",
    "5 4 <br>\n",
    "6 6  \n",
    "7 4  \n",
    "17 4  \n",
    "18 4  \n",
    "20 6  \n",
    "21 4  "
   ]
  },
  {
   "cell_type": "code",
   "execution_count": 67,
   "metadata": {
    "collapsed": false
   },
   "outputs": [
    {
     "name": "stdout",
     "output_type": "stream",
     "text": [
      "1 4\n",
      "26 4\n",
      "37 4\n",
      "44 4\n",
      "68 4\n",
      "74 4\n",
      "86 4\n",
      "110 4\n",
      "112 4\n",
      "177 4\n",
      "214 4\n",
      "222 4\n",
      "227 4\n",
      "243 4\n",
      "251 4\n",
      "257 4\n",
      "268 4\n",
      "275 4\n",
      "280 4\n",
      "299 4\n",
      "309 4\n",
      "311 4\n",
      "338 4\n",
      "343 4\n",
      "349 4\n",
      "350 4\n",
      "355 4\n",
      "381 4\n",
      "412 4\n",
      "418 4\n",
      "419 4\n",
      "425 4\n",
      "428 4\n",
      "449 4\n",
      "461 4\n",
      "463 4\n",
      "478 4\n",
      "490 4\n",
      "496 4\n",
      "499 4\n",
      "532 4\n",
      "541 4\n",
      "549 4\n",
      "556 4\n",
      "578 4\n",
      "596 4\n",
      "605 4\n",
      "609 4\n",
      "625 4\n",
      "630 4\n",
      "633 4\n",
      "649 4\n",
      "662 4\n",
      "670 4\n",
      "677 4\n",
      "678 4\n",
      "682 4\n",
      "689 4\n",
      "791 4\n",
      "807 4\n",
      "822 4\n",
      "836 4\n",
      "840 4\n",
      "847 4\n",
      "852 4\n",
      "876 4\n",
      "887 4\n",
      "905 4\n",
      "911 4\n",
      "918 4\n",
      "955 4\n",
      "25 6\n",
      "67 6\n",
      "176 6\n",
      "256 6\n",
      "342 6\n",
      "427 6\n",
      "460 6\n",
      "477 6\n",
      "495 6\n",
      "540 6\n",
      "555 6\n",
      "577 6\n",
      "790 6\n",
      "821 6\n",
      "846 6\n",
      "24 8\n",
      "175 8\n",
      "476 8\n",
      "539 8\n",
      "789 8\n",
      "475 10\n",
      "788 10\n",
      "474 12\n",
      "787 12\n"
     ]
    }
   ],
   "source": [
    "i = 3\n",
    "\n",
    "#While i is within range do\n",
    "while 3 <= i <= 11\n",
    "   \n",
    "    \n",
    "    \n",
    "    #run this for loop\n",
    "    for j in 1:length(seq)-i \n",
    "\n",
    "        if seq[j:j+i] == reverse_complement(seq[j: j+i])\n",
    "            #print(seq[j: j+i],\"\\n\")\n",
    "            pos, len = j, (i+1)\n",
    "            print(\"$pos $len\\n\" )\n",
    "        end\n",
    "        \n",
    "    end\n",
    "   \n",
    "    #Then add one to our counter i \n",
    "    i += 1\n",
    "\n",
    "end"
   ]
  }
 ],
 "metadata": {
  "kernelspec": {
   "display_name": "Julia 0.5.0",
   "language": "julia",
   "name": "julia-0.5"
  },
  "language_info": {
   "file_extension": ".jl",
   "mimetype": "application/julia",
   "name": "julia",
   "version": "0.5.0"
  }
 },
 "nbformat": 4,
 "nbformat_minor": 1
}
