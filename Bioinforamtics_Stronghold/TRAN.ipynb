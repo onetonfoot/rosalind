{
 "cells": [
  {
   "cell_type": "markdown",
   "metadata": {},
   "source": [
    "Given two strings of equal length return the transition vs transversion ratio."
   ]
  },
  {
   "cell_type": "markdown",
   "metadata": {},
   "source": [
    "<img src=http://rosalind.info/media/problems/tran/transitions-transversions.png style=\"width:480px\">"
   ]
  },
  {
   "cell_type": "code",
   "execution_count": 1,
   "metadata": {
    "collapsed": true
   },
   "outputs": [],
   "source": [
    "using Bio.Seq"
   ]
  },
  {
   "cell_type": "code",
   "execution_count": 39,
   "metadata": {
    "collapsed": false
   },
   "outputs": [],
   "source": [
    "reader = open(FASTAReader,\"/home/dom/Julia/Rosalind/Files/rosalind_tran.txt\")\n",
    "\n",
    "seq_list = [convert(String,sequence(record)) for record in reader]\n",
    "\n",
    "close(reader)"
   ]
  },
  {
   "cell_type": "code",
   "execution_count": 58,
   "metadata": {
    "collapsed": false
   },
   "outputs": [
    {
     "name": "stderr",
     "output_type": "stream",
     "text": [
      "WARNING: Method definition TvsT(Any, Any) in module Main at In[53]:2 overwritten at In[58]:3.\n"
     ]
    },
    {
     "data": {
      "text/plain": [
       "TvsT (generic function with 1 method)"
      ]
     },
     "execution_count": 58,
     "metadata": {},
     "output_type": "execute_result"
    }
   ],
   "source": [
    "function TvsT(seq_1 ,seq_2)\n",
    "    \n",
    "    transitions = 0\n",
    "    transversion = 0\n",
    "    len = length(seq_1)\n",
    "    \n",
    "    for i in 1:len\n",
    "        if seq_1[i] !== seq_2[i]\n",
    "            #Check if its a transition\n",
    "            if seq_1[i] == 'A' && seq_2[i] == 'G'\n",
    "                transitions += 1\n",
    "            elseif seq_1[i] == 'G' && seq_2[i] == 'A'\n",
    "                transitions += 1\n",
    "            elseif seq_1[i] == 'C' && seq_2[i] == 'T'\n",
    "                transitions += 1\n",
    "            elseif seq_1[i] == 'T' && seq_2[i] == 'C'\n",
    "                transitions += 1\n",
    "                #If not it must be a transversion\n",
    "            else\n",
    "                transversion +=1\n",
    "            end\n",
    "        end\n",
    "    end\n",
    "    \n",
    "    return(transitions/transversion)\n",
    "end\n",
    "    \n",
    "                \n",
    "            "
   ]
  },
  {
   "cell_type": "code",
   "execution_count": 67,
   "metadata": {
    "collapsed": false
   },
   "outputs": [
    {
     "name": "stderr",
     "output_type": "stream",
     "text": [
      "WARNING: Method definition TvsT(Any, Any) in module Main at In[65]:3 overwritten at In[67]:3.\n"
     ]
    },
    {
     "data": {
      "text/plain": [
       "TvsT (generic function with 1 method)"
      ]
     },
     "execution_count": 67,
     "metadata": {},
     "output_type": "execute_result"
    }
   ],
   "source": [
    "#SLightly nicer way\n",
    "function TvsT(s1,s2)\n",
    "    d = Dict( 'A' =>'G','G' => 'A','C'=>'T','T'=>'C')\n",
    "    \n",
    "    transition = 0\n",
    "    transversion = 0\n",
    "    \n",
    "    for (a,b) in zip(s1,s2)\n",
    "        if a !== b\n",
    "            if d[a] == b\n",
    "                transition += 1\n",
    "            else\n",
    "                transversion += 1\n",
    "            end\n",
    "        end\n",
    "    end\n",
    "    return(transition/transversion)\n",
    "end"
   ]
  },
  {
   "cell_type": "code",
   "execution_count": 68,
   "metadata": {
    "collapsed": false
   },
   "outputs": [
    {
     "data": {
      "text/html": [
       "2.295918367346939"
      ],
      "text/plain": [
       "2.295918367346939"
      ]
     },
     "execution_count": 68,
     "metadata": {},
     "output_type": "execute_result"
    }
   ],
   "source": [
    "TvsT(seq_list[1],seq_list[2])"
   ]
  }
 ],
 "metadata": {
  "kernelspec": {
   "display_name": "Julia 0.5.0",
   "language": "julia",
   "name": "julia-0.5"
  },
  "language_info": {
   "file_extension": ".jl",
   "mimetype": "application/julia",
   "name": "julia",
   "version": "0.5.0"
  }
 },
 "nbformat": 4,
 "nbformat_minor": 1
}
